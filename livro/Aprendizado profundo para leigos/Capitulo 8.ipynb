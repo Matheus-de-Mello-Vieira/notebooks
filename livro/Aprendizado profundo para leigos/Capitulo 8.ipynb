{
 "cells": [
  {
   "cell_type": "code",
   "execution_count": 1,
   "id": "9d94ca8d",
   "metadata": {},
   "outputs": [],
   "source": [
    "import numpy as np\n",
    "from sklearn.datasets import make_moons\n",
    "from sklearn.model_selection import train_test_split\n",
    "import matplotlib.pyplot as plt\n",
    "\n",
    "\n",
    "def init(inp, out):\n",
    "    return np.random.randn(inp, out) / np.sqrt(inp)\n",
    "\n",
    "def create_architecture(input_layer, first_layer, output_layer, random_seed=0):\n",
    "    np.random.seed(random_seed)\n",
    "    layers = X.shape[1], 3 , 1\n",
    "    arch = list(zip(layers[:-1], layers[1:]))\n",
    "    weights = [init(inp, out) for inp, out in arch]\n",
    "    return weights"
   ]
  },
  {
   "cell_type": "code",
   "execution_count": 2,
   "id": "1f806e85",
   "metadata": {},
   "outputs": [],
   "source": [
    "def sigmoid(z):\n",
    "    return 1/(1 + np.exp(-z))\n",
    "\n",
    "def sigmoid_prime(s):\n",
    "    return s * (1 - s)"
   ]
  },
  {
   "cell_type": "code",
   "execution_count": 3,
   "id": "240cd269",
   "metadata": {},
   "outputs": [],
   "source": [
    "def feed_forward(X, weights):\n",
    "    a = X.copy()\n",
    "    out = list()\n",
    "    for W in weights:\n",
    "        z = a @ W\n",
    "        a = sigmoid(z)\n",
    "        out.append(a)\n",
    "    return out"
   ]
  },
  {
   "cell_type": "code",
   "execution_count": 4,
   "id": "7446997f",
   "metadata": {},
   "outputs": [],
   "source": [
    "def accuracy(true_label, predicted):\n",
    "    correct_preds = np.ravel(predicted) == true_label\n",
    "    return np.sum(correct_preds) / len(true_label)"
   ]
  },
  {
   "cell_type": "markdown",
   "id": "12080477",
   "metadata": {},
   "source": [
    "Para corrigir, pega o erro de cada camada e multiplica pela derivada da função de ativiçaõ, afim de se obtem o gradiente (l2_delta). "
   ]
  },
  {
   "cell_type": "code",
   "execution_count": 5,
   "id": "147f6614",
   "metadata": {},
   "outputs": [],
   "source": [
    "def backpropagation(l1, l2, weights, y):\n",
    "    l2_error = y.reshape(-1, 1) - l2\n",
    "    l2_delta = l2_error * sigmoid_prime(l2)\n",
    "    l1_error = l2_delta.dot(weights[1].T)\n",
    "    l1_delta = l1_error * sigmoid_prime(l1)\n",
    "    return l2_error, l1_delta, l2_delta"
   ]
  },
  {
   "cell_type": "markdown",
   "id": "ea901a56",
   "metadata": {},
   "source": [
    "ajustando os pesoss, adcionando eles em cada camada a multiplicação da entrada para elas e as correções delta comom um todo. Executando assim uma descida de gradiente (atravez de pequenos e repetidos passos na direção correta). Alpha é uma contante de regulação (quando mais próximo de 1, mas efeito)."
   ]
  },
  {
   "cell_type": "code",
   "execution_count": 6,
   "id": "edfb8d08",
   "metadata": {},
   "outputs": [],
   "source": [
    "def update_weights(X, l1, l1_delta, l2_delta, weights, alpha=1.0):\n",
    "    weights[1] = weights[1] + (alpha * l1.T.dot(l2_delta))\n",
    "    weights[0] = weights[0] + (alpha * X.T.dot(l1_delta))\n",
    "    return weights"
   ]
  },
  {
   "cell_type": "code",
   "execution_count": 7,
   "id": "af5f6528",
   "metadata": {},
   "outputs": [],
   "source": [
    "def predict(X, weights):\n",
    "    _, l2 = feed_forward(X, weights)\n",
    "    preds = np.ravel((l2 > 0.5).astype(int))\n",
    "    return preds"
   ]
  },
  {
   "cell_type": "markdown",
   "id": "74894789",
   "metadata": {},
   "source": [
    "## exemplo de uso\n",
    "Separar esses dois cículos:"
   ]
  },
  {
   "cell_type": "code",
   "execution_count": 8,
   "id": "79e77f90",
   "metadata": {},
   "outputs": [
    {
     "data": {
      "image/png": "[encoded data removed]",
      "text/plain": [
       "<Figure size 432x288 with 1 Axes>"
      ]
     },
     "metadata": {
      "needs_background": "light"
     },
     "output_type": "display_data"
    }
   ],
   "source": [
    "np.random.seed(0)\n",
    "\n",
    "coord, cl = make_moons(300, noise=0.05)\n",
    "\n",
    "X, Xt, y, yt = train_test_split(coord, cl, test_size=0.30, random_state=0)\n",
    "plt.scatter(X[:,0], X[:,1], s=25, c=y, cmap=plt.cm.Set1)\n",
    "\n",
    "plt.show()"
   ]
  },
  {
   "cell_type": "code",
   "execution_count": 9,
   "id": "ce8e8c86",
   "metadata": {},
   "outputs": [
    {
     "name": "stdout",
     "output_type": "stream",
     "text": [
      "Epoch     0 - error: 0.5077 - acc: train 0.462 | test 0.656\n",
      "Epoch  5000 - error: 0.0991 - acc: train 0.952 | test 0.944\n",
      "Epoch 10000 - error: 0.0872 - acc: train 0.952 | test 0.944\n",
      "Epoch 15000 - error: 0.0810 - acc: train 0.957 | test 0.956\n",
      "Epoch 20000 - error: 0.0758 - acc: train 0.967 | test 0.956\n",
      "Epoch 25000 - error: 0.0730 - acc: train 0.967 | test 0.956\n",
      "Epoch 30000 - error: 0.0705 - acc: train 0.962 | test 0.956\n"
     ]
    }
   ],
   "source": [
    "weights = create_architecture(X, 3, 1)\n",
    "\n",
    "for j in range(30000 + 1):\n",
    "    # First, feed forward through the hidden layer\n",
    "    l1, l2 = feed_forward(X, weights)\n",
    "\n",
    "    # Then, error backpropagation from output to input\n",
    "    l2_error, l1_delta, l2_delta = backpropagation(l1, l2, weights, y)\n",
    "\n",
    "    # Finally, updating the weights of the network\n",
    "\n",
    "    weights = update_weights(X, l1, l1_delta, l2_delta, weights, alpha=0.05)\n",
    "\n",
    "    # From time to time, reporting the results\n",
    "\n",
    "    if (j % 5000) == 0:\n",
    "        train_error = np.mean(np.abs(l2_error))\n",
    "        print('Epoch {:5}'.format(j), end=' - ')\n",
    "        print('error: {:0.4f}'.format(train_error), end= ' - ')\n",
    "\n",
    "        train_accuracy = accuracy(true_label=y, predicted=(l2 > 0.5))\n",
    "        test_preds = predict(Xt, weights)\n",
    "        test_accuracy = accuracy(true_label=yt, predicted=test_preds)\n",
    "\n",
    "        print('acc: train {:0.3f}'.format(train_accuracy), end= ' | ')\n",
    "        print('test {:0.3f}'.format(test_accuracy))"
   ]
  },
  {
   "cell_type": "markdown",
   "id": "e8222561",
   "metadata": {},
   "source": [
    "Matheus, teste outros modelos depois em outro arquivo"
   ]
  }
 ],
 "metadata": {
  "kernelspec": {
   "display_name": "Python 3",
   "language": "python",
   "name": "python3"
  },
  "language_info": {
   "codemirror_mode": {
    "name": "ipython",
    "version": 3
   },
   "file_extension": ".py",
   "mimetype": "text/x-python",
   "name": "python",
   "nbconvert_exporter": "python",
   "pygments_lexer": "ipython3",
   "version": "3.9.4"
  }
 },
 "nbformat": 4,
 "nbformat_minor": 5
}
