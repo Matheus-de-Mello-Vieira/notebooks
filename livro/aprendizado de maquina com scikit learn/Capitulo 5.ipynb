{
 "cells": [
  {
   "cell_type": "code",
   "execution_count": 1,
   "id": "f0e6c394",
   "metadata": {},
   "outputs": [
    {
     "data": {
      "text/plain": [
       "Pipeline(steps=[('scaler', StandardScaler()),\n",
       "                ('linear_svc', LinearSVC(C=1, loss='hinge'))])"
      ]
     },
     "execution_count": 1,
     "metadata": {},
     "output_type": "execute_result"
    }
   ],
   "source": [
    "import numpy as np\n",
    "from sklearn import datasets\n",
    "from sklearn.pipeline import Pipeline\n",
    "from sklearn.preprocessing import StandardScaler\n",
    "from sklearn.svm import LinearSVC\n",
    "\n",
    "iris = datasets.load_iris()\n",
    "X = iris['data'][:, (2, 3)]\n",
    "y = (iris['target'] == 2).astype(np.float64)\n",
    "\n",
    "svm_clf = Pipeline([\n",
    "    ('scaler', StandardScaler()),\n",
    "    ('linear_svc', LinearSVC(C=1, loss='hinge'))\n",
    "])\n",
    "\n",
    "svm_clf.fit(X, y)"
   ]
  },
  {
   "cell_type": "code",
   "execution_count": 2,
   "id": "e5ab9bb8",
   "metadata": {},
   "outputs": [
    {
     "data": {
      "text/plain": [
       "array([1.])"
      ]
     },
     "execution_count": 2,
     "metadata": {},
     "output_type": "execute_result"
    }
   ],
   "source": [
    "svm_clf.predict([[5.5, 1.7]])"
   ]
  },
  {
   "cell_type": "markdown",
   "id": "347899a1",
   "metadata": {},
   "source": [
    "# Exercício 1\n",
    "Treine um LinearSVC em um conjunto de dados linearmente separável. Depois, treine o SVC e um SGDClassifies no mesmo conjunto de dados. Veja se você consegue fazer com que produzem aproxidamente o mesmo resultado"
   ]
  },
  {
   "cell_type": "code",
   "execution_count": 3,
   "id": "96a8f6c0",
   "metadata": {},
   "outputs": [],
   "source": [
    "import matplotlib.pyplot as plt\n",
    "from sklearn.svm import LinearSVC, SVC\n",
    "from sklearn.linear_model import SGDClassifier"
   ]
  },
  {
   "cell_type": "code",
   "execution_count": 4,
   "id": "9c22575e",
   "metadata": {},
   "outputs": [
    {
     "data": {
      "text/plain": [
       "['sepal length (cm)',\n",
       " 'sepal width (cm)',\n",
       " 'petal length (cm)',\n",
       " 'petal width (cm)']"
      ]
     },
     "execution_count": 4,
     "metadata": {},
     "output_type": "execute_result"
    }
   ],
   "source": [
    "iris.feature_names"
   ]
  },
  {
   "cell_type": "code",
   "execution_count": 5,
   "id": "c19cefad",
   "metadata": {},
   "outputs": [],
   "source": [
    "feature_index = [0, 1]\n",
    "X = iris.data[:,feature_index]\n",
    "y = iris.target"
   ]
  },
  {
   "cell_type": "code",
   "execution_count": 6,
   "id": "9143a0a8",
   "metadata": {},
   "outputs": [
    {
     "data": {
      "image/png": "[encoded data removed]",
      "text/plain": [
       "<Figure size 432x288 with 1 Axes>"
      ]
     },
     "metadata": {
      "needs_background": "light"
     },
     "output_type": "display_data"
    }
   ],
   "source": [
    "for target, target_names in zip(np.unique(y), iris.target_names):\n",
    "    plt.plot(*X[y == target].T, '.', label=target_names)\n",
    "plt.xlabel(iris.feature_names[feature_index[0]])\n",
    "plt.ylabel(iris.feature_names[feature_index[1]])\n",
    "plt.legend()\n",
    "plt.show()"
   ]
  },
  {
   "cell_type": "code",
   "execution_count": 7,
   "id": "3a88eadc",
   "metadata": {},
   "outputs": [
    {
     "data": {
      "image/png": "[encoded data removed]",
      "text/plain": [
       "<Figure size 432x288 with 1 Axes>"
      ]
     },
     "metadata": {
      "needs_background": "light"
     },
     "output_type": "display_data"
    }
   ],
   "source": [
    "y = (iris['target'] == 0).astype('i')\n",
    "\n",
    "plt.plot(*X[y == 1].T, '.', label='setosa')\n",
    "plt.plot(*X[y == 0].T, '.', label='não setosa')\n",
    "plt.xlabel(iris.feature_names[feature_index[0]])\n",
    "plt.ylabel(iris.feature_names[feature_index[1]])\n",
    "plt.legend()\n",
    "plt.show()"
   ]
  },
  {
   "cell_type": "code",
   "execution_count": 8,
   "id": "1d9271c7",
   "metadata": {},
   "outputs": [],
   "source": [
    "from sklearn.model_selection import cross_validate"
   ]
  },
  {
   "cell_type": "code",
   "execution_count": 9,
   "id": "1dce45f5",
   "metadata": {
    "scrolled": true
   },
   "outputs": [
    {
     "data": {
      "text/plain": [
       "{'fit_time': array([0.0022347 , 0.00136447, 0.00094676, 0.00113106, 0.0009079 ]),\n",
       " 'score_time': array([0.00055361, 0.00037241, 0.00033975, 0.00032997, 0.00028729]),\n",
       " 'test_score': array([1.        , 1.        , 1.        , 1.        , 0.96666667])}"
      ]
     },
     "execution_count": 9,
     "metadata": {},
     "output_type": "execute_result"
    }
   ],
   "source": [
    "linear_svc_clf = Pipeline([\n",
    "    ('scaler', StandardScaler()),\n",
    "    ('clf', LinearSVC(C=1, loss='hinge'))\n",
    "])\n",
    "cross_validate(linear_svc_clf, X, y)"
   ]
  },
  {
   "cell_type": "code",
   "execution_count": 10,
   "id": "1856cbba",
   "metadata": {},
   "outputs": [
    {
     "data": {
      "text/plain": [
       "{'fit_time': array([0.00206137, 0.00091004, 0.00076914, 0.00081182, 0.0008111 ]),\n",
       " 'score_time': array([0.00038147, 0.00043607, 0.00031233, 0.00031304, 0.00029707]),\n",
       " 'test_score': array([1.        , 1.        , 1.        , 1.        , 0.96666667])}"
      ]
     },
     "execution_count": 10,
     "metadata": {},
     "output_type": "execute_result"
    }
   ],
   "source": [
    "svc_clf = Pipeline([\n",
    "    ('scaler', StandardScaler()),\n",
    "    ('clf', SVC(C=1, kernel='linear'))\n",
    "])\n",
    "cross_validate(svc_clf, X, y)"
   ]
  },
  {
   "cell_type": "code",
   "execution_count": 11,
   "id": "f20bc02f",
   "metadata": {},
   "outputs": [
    {
     "data": {
      "text/plain": [
       "{'fit_time': array([0.00310159, 0.00135922, 0.00110722, 0.00085354, 0.00160217]),\n",
       " 'score_time': array([0.00089622, 0.00040984, 0.00030589, 0.00027204, 0.0007019 ]),\n",
       " 'test_score': array([1.        , 1.        , 1.        , 1.        , 0.96666667])}"
      ]
     },
     "execution_count": 11,
     "metadata": {},
     "output_type": "execute_result"
    }
   ],
   "source": [
    "sgd_clf = Pipeline([\n",
    "    ('scaler', StandardScaler()),\n",
    "    ('clf', SGDClassifier(loss='hinge', alpha=1/100)) # C * m = 1 * 100\n",
    "])\n",
    "cross_validate(sgd_clf, X, y)"
   ]
  },
  {
   "cell_type": "markdown",
   "id": "69d07609",
   "metadata": {},
   "source": [
    "# Exercício 2\n",
    "Treine um classificador SVM no conjunto de dados MNIST. Uma vez que os classificadores SVM são classificadores binários, você precisará utilziar um contra todos para classificar todos os 10 dígitos. Ajuste os hiperâmetros utilizndo pequenos conjuntos de validação para acelerar o processo. Qual acurácia você pode alcançar?"
   ]
  },
  {
   "cell_type": "code",
   "execution_count": 12,
   "id": "da5527ed",
   "metadata": {},
   "outputs": [],
   "source": [
    "from sklearn.datasets import fetch_openml\n",
    "\n",
    "mnist = fetch_openml('mnist_784', version=1, cache=True, as_frame=False)"
   ]
  },
  {
   "cell_type": "code",
   "execution_count": 13,
   "id": "2f806a83",
   "metadata": {},
   "outputs": [],
   "source": [
    "X, y = mnist[\"data\"], mnist[\"target\"]\n",
    "size_train = 10000\n",
    "size = 10000 + size_train\n",
    "X_train, X_test, y_train, y_test = X[:size_train], X[size_train:size], y[:size_train], y[size_train:size]"
   ]
  },
  {
   "cell_type": "code",
   "execution_count": 14,
   "id": "abef99d9",
   "metadata": {},
   "outputs": [
    {
     "data": {
      "text/plain": [
       "{'fit_time': array([9.40299296, 8.29959512, 7.83587074, 7.94044948, 7.6002202 ]),\n",
       " 'score_time': array([3.90930915, 3.61674452, 3.71229482, 3.58682394, 3.6653502 ]),\n",
       " 'test_score': array([0.957 , 0.9695, 0.9625, 0.957 , 0.9505])}"
      ]
     },
     "execution_count": 14,
     "metadata": {},
     "output_type": "execute_result"
    }
   ],
   "source": [
    "linear_svc_clf = SVC()\n",
    "cross_validate(linear_svc_clf, X_train, y_train)"
   ]
  },
  {
   "cell_type": "code",
   "execution_count": 15,
   "id": "fa2541ff",
   "metadata": {},
   "outputs": [
    {
     "ename": "NameError",
     "evalue": "name 'RandomizedSearchCV' is not defined",
     "output_type": "error",
     "traceback": [
      "\u001b[0;31m---------------------------------------------------------------------------\u001b[0m",
      "\u001b[0;31mNameError\u001b[0m                                 Traceback (most recent call last)",
      "\u001b[0;32m/tmp/ipykernel_8136/3554019438.py\u001b[0m in \u001b[0;36m<module>\u001b[0;34m\u001b[0m\n\u001b[1;32m     19\u001b[0m \u001b[0mlinear_svc_clf\u001b[0m \u001b[0;34m=\u001b[0m \u001b[0mSVC\u001b[0m\u001b[0;34m(\u001b[0m\u001b[0;34m)\u001b[0m\u001b[0;34m\u001b[0m\u001b[0;34m\u001b[0m\u001b[0m\n\u001b[1;32m     20\u001b[0m \u001b[0;34m\u001b[0m\u001b[0m\n\u001b[0;32m---> 21\u001b[0;31m \u001b[0mgrid_search\u001b[0m \u001b[0;34m=\u001b[0m \u001b[0mRandomizedSearchCV\u001b[0m\u001b[0;34m(\u001b[0m\u001b[0mlinear_svc_clf\u001b[0m\u001b[0;34m,\u001b[0m \u001b[0mparam_grid\u001b[0m\u001b[0;34m,\u001b[0m \u001b[0mcv\u001b[0m\u001b[0;34m=\u001b[0m\u001b[0;36m5\u001b[0m\u001b[0;34m,\u001b[0m \u001b[0mscoring\u001b[0m\u001b[0;34m=\u001b[0m\u001b[0;34m'balanced_accuracy'\u001b[0m\u001b[0;34m)\u001b[0m\u001b[0;34m\u001b[0m\u001b[0;34m\u001b[0m\u001b[0m\n\u001b[0m\u001b[1;32m     22\u001b[0m \u001b[0;34m\u001b[0m\u001b[0m\n\u001b[1;32m     23\u001b[0m \u001b[0mgrid_search\u001b[0m\u001b[0;34m.\u001b[0m\u001b[0mfit\u001b[0m\u001b[0;34m(\u001b[0m\u001b[0mX_train\u001b[0m\u001b[0;34m,\u001b[0m \u001b[0my_train\u001b[0m\u001b[0;34m)\u001b[0m\u001b[0;34m\u001b[0m\u001b[0;34m\u001b[0m\u001b[0m\n",
      "\u001b[0;31mNameError\u001b[0m: name 'RandomizedSearchCV' is not defined"
     ]
    }
   ],
   "source": [
    "from sklearn.model_selection import GridSearchCV\n",
    "from scipy.stats import norm, uniform\n",
    "param_grid = [\n",
    "    {\n",
    "        'C': uniform(loc=1, scale=150),\n",
    "        'kernel': ['linear']\n",
    "    },\n",
    "    {\n",
    "        'C': uniform(loc=1, scale=150),\n",
    "        'kernel': ['poly'],\n",
    "        'degree': np.arange(2, 8)\n",
    "    },\n",
    "    {\n",
    "        'kernel': ['rbf'],\n",
    "        'C': uniform(loc=1, scale=150)\n",
    "    }\n",
    "]\n",
    "\n",
    "linear_svc_clf = SVC()\n",
    "\n",
    "grid_search = RandomizedSearchCV(linear_svc_clf, param_grid, cv=5, scoring='balanced_accuracy')\n",
    "\n",
    "grid_search.fit(X_train, y_train)"
   ]
  },
  {
   "cell_type": "code",
   "execution_count": null,
   "id": "c1bac9df",
   "metadata": {},
   "outputs": [],
   "source": [
    "grid_search.best_estimator_.score(X_train, y_train)"
   ]
  },
  {
   "cell_type": "code",
   "execution_count": null,
   "id": "4f8c306e",
   "metadata": {},
   "outputs": [],
   "source": [
    "grid_search.best_params_"
   ]
  },
  {
   "cell_type": "code",
   "execution_count": null,
   "id": "22effab8",
   "metadata": {},
   "outputs": [],
   "source": [
    "grid_search.best_estimator_.score(X_test, y_test)"
   ]
  }
 ],
 "metadata": {
  "kernelspec": {
   "display_name": "Python 3 (ipykernel)",
   "language": "python",
   "name": "python3"
  },
  "language_info": {
   "codemirror_mode": {
    "name": "ipython",
    "version": 3
   },
   "file_extension": ".py",
   "mimetype": "text/x-python",
   "name": "python",
   "nbconvert_exporter": "python",
   "pygments_lexer": "ipython3",
   "version": "3.8.10"
  }
 },
 "nbformat": 4,
 "nbformat_minor": 5
}
