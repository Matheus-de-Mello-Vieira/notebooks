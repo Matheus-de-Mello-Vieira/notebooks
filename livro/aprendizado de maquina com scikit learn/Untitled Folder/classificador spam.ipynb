{
 "cells": [
  {
   "cell_type": "markdown",
   "id": "48cee807",
   "metadata": {},
   "source": [
    "# Obtendo dados"
   ]
  },
  {
   "cell_type": "code",
   "execution_count": 5,
   "id": "bde8f585",
   "metadata": {},
   "outputs": [],
   "source": [
    "from bs4 import BeautifulSoup\n",
    "import requests\n",
    "import tarfile\n",
    "import urllib.request\n",
    "import os"
   ]
  },
  {
   "cell_type": "code",
   "execution_count": 6,
   "id": "87aab753",
   "metadata": {},
   "outputs": [],
   "source": [
    "DOWNLOAD_ROOT = \"https://spamassassin.apache.org/old/publiccorpus/\"\n",
    "DATA_PATH = os.path.join(\"datasets\", \"spamassassin\")"
   ]
  },
  {
   "cell_type": "code",
   "execution_count": 59,
   "id": "83c58710",
   "metadata": {},
   "outputs": [],
   "source": [
    "html = requests.get(DOWNLOAD_ROOT).text\n",
    "soup = BeautifulSoup(html, 'html5lib')\n",
    "urls = [href for href in [link.get('href') for link in soup.find_all('a')] if href[-4:] == '.bz2']\n",
    "\n",
    "for url in urls:\n",
    "    full_url = DOWNLOAD_ROOT + url\n",
    "    os.makedirs(DATA_PATH, exist_ok=True)\n",
    "    tgz_path = os.path.join(DATA_PATH, url)\n",
    "    urllib.request.urlretrieve(full_url, tgz_path)\n",
    "\n",
    "    with tarfile.open(tgz_path) as spam_tgz:\n",
    "        spam_tgz.extractall(path=DATA_PATH)"
   ]
  },
  {
   "cell_type": "markdown",
   "id": "0283dfb5",
   "metadata": {},
   "source": [
    "# Carregando dados"
   ]
  },
  {
   "cell_type": "code",
   "execution_count": 9,
   "id": "3ad9b882",
   "metadata": {},
   "outputs": [],
   "source": [
    "from glob import glob\n",
    "import numpy as np\n",
    "import pandas as pd"
   ]
  },
  {
   "cell_type": "code",
   "execution_count": 13,
   "id": "a7396a9a",
   "metadata": {},
   "outputs": [],
   "source": [
    "def read_file(file_url):\n",
    "    with open(file_url, \"rb\") as file:\n",
    "        text = file.read()\n",
    "    \n",
    "    try:\n",
    "        return text.decode('utf-8', 'strict')\n",
    "    except:\n",
    "        return ''"
   ]
  },
  {
   "cell_type": "code",
   "execution_count": 14,
   "id": "c03cb3ca",
   "metadata": {},
   "outputs": [],
   "source": [
    "df = pd.Series(\n",
    "    glob(DATA_PATH + \"\\\\*\\\\*\")\n",
    ").apply(lambda file_url: pd.Series([read_file(file_url), \"ham\" not in file_url], index=['text','result']))"
   ]
  },
  {
   "cell_type": "markdown",
   "id": "6377b583",
   "metadata": {},
   "source": [
    "# Limpando os dados"
   ]
  },
  {
   "cell_type": "code",
   "execution_count": 17,
   "id": "c9bda06c",
   "metadata": {},
   "outputs": [],
   "source": [
    "df = df[df.text.str.match('.')]"
   ]
  },
  {
   "cell_type": "code",
   "execution_count": 24,
   "id": "fcea4cf8",
   "metadata": {},
   "outputs": [],
   "source": [
    "X, y = df.values.T"
   ]
  },
  {
   "cell_type": "code",
   "execution_count": 58,
   "id": "2336e096",
   "metadata": {},
   "outputs": [],
   "source": [
    "y = y.astype('i')"
   ]
  },
  {
   "cell_type": "markdown",
   "id": "c6b268d5",
   "metadata": {},
   "source": [
    "# Dividindo treino e teste"
   ]
  },
  {
   "cell_type": "code",
   "execution_count": 27,
   "id": "5c56c62c",
   "metadata": {},
   "outputs": [],
   "source": [
    "from sklearn.model_selection import train_test_split"
   ]
  },
  {
   "cell_type": "code",
   "execution_count": 59,
   "id": "983d71e4",
   "metadata": {},
   "outputs": [],
   "source": [
    "X_train, X_test, y_train, y_test = train_test_split(X, y, test_size=.2, random_state=42, shuffle=True, stratify=y)"
   ]
  },
  {
   "cell_type": "markdown",
   "id": "90810c65",
   "metadata": {},
   "source": [
    "# Criando modelo"
   ]
  },
  {
   "cell_type": "code",
   "execution_count": 35,
   "id": "ded14c31",
   "metadata": {},
   "outputs": [],
   "source": [
    "from sklearn.feature_extraction.text import TfidfVectorizer\n",
    "from sklearn.linear_model import SGDClassifier\n",
    "from sklearn.model_selection import GridSearchCV\n",
    "from sklearn.pipeline import Pipeline\n",
    "from sklearn.base import BaseEstimator, TransformerMixin\n",
    "\n",
    "import re"
   ]
  },
  {
   "cell_type": "code",
   "execution_count": 60,
   "id": "582a2460",
   "metadata": {},
   "outputs": [],
   "source": [
    "body_regex = re.compile('(.*?:| {2,}[^|]|\\t).*?\\n')\n",
    "subject_regex = re.compile(r'(?i)Subject: ?(.*?)\\n')"
   ]
  },
  {
   "cell_type": "code",
   "execution_count": 61,
   "id": "e503b103",
   "metadata": {},
   "outputs": [],
   "source": [
    "class Select_Part(BaseEstimator):\n",
    "    def __init__(self, part = 'all'): # no *args or **kwargs\n",
    "        self.part = part\n",
    "        \n",
    "    def fit(self, X, y=None):\n",
    "        return self  # nothing else to do\n",
    "    \n",
    "    def transform(self, X, y=None):\n",
    "        if self.part == 'all':\n",
    "            return X\n",
    "        elif self.part == 'body':\n",
    "            return [re.sub(body_regex, '', x) for x in X]\n",
    "        else:\n",
    "            raise ValueError(\"Use only 'all' or 'body\")"
   ]
  },
  {
   "cell_type": "code",
   "execution_count": 62,
   "id": "78e543d6",
   "metadata": {},
   "outputs": [],
   "source": [
    "clf = Pipeline([\n",
    "    ('selector', Select_Part()),\n",
    "    ('vectorizer', TfidfVectorizer()),\n",
    "    ('classifier', SGDClassifier(random_state=42))\n",
    "])"
   ]
  },
  {
   "cell_type": "code",
   "execution_count": 63,
   "id": "bce44adc",
   "metadata": {},
   "outputs": [
    {
     "data": {
      "text/plain": [
       "Pipeline(steps=[('selector', Select_Part()), ('vectorizer', TfidfVectorizer()),\n",
       "                ('classifier', SGDClassifier(random_state=42))])"
      ]
     },
     "execution_count": 63,
     "metadata": {},
     "output_type": "execute_result"
    }
   ],
   "source": [
    "clf.fit(X_train, y_train)"
   ]
  },
  {
   "cell_type": "code",
   "execution_count": 64,
   "id": "547a80be",
   "metadata": {},
   "outputs": [
    {
     "data": {
      "text/plain": [
       "array([0.98997384, 0.99040558, 0.99345835])"
      ]
     },
     "execution_count": 64,
     "metadata": {},
     "output_type": "execute_result"
    }
   ],
   "source": [
    "from sklearn.model_selection import cross_val_score\n",
    "cross_val_score(clf, X_train, y_train, cv=3, scoring='accuracy')"
   ]
  },
  {
   "cell_type": "code",
   "execution_count": 65,
   "id": "1cacf818",
   "metadata": {},
   "outputs": [
    {
     "data": {
      "text/plain": [
       "0.9947704822777454"
      ]
     },
     "execution_count": 65,
     "metadata": {},
     "output_type": "execute_result"
    }
   ],
   "source": [
    "clf.score(X_test, y_test)"
   ]
  },
  {
   "cell_type": "code",
   "execution_count": 67,
   "id": "af1e360b",
   "metadata": {},
   "outputs": [],
   "source": [
    "param_grid = [\n",
    "    {\n",
    "        \"selector__part\": ['all', 'body'],\n",
    "        \"vectorizer__binary\": [True],\n",
    "        \"vectorizer__use_idf\": [True, False],\n",
    "        \"vectorizer__sublinear_tf\": [False],\n",
    "    },\n",
    "    \n",
    "    {\n",
    "        \"selector__part\": ['all', 'body'],\n",
    "        \"vectorizer__binary\": [False],\n",
    "        \"vectorizer__use_idf\": [True, False],\n",
    "        \"vectorizer__sublinear_tf\": [True, False],\n",
    "    },\n",
    "]"
   ]
  },
  {
   "cell_type": "code",
   "execution_count": 68,
   "id": "376d914c",
   "metadata": {},
   "outputs": [],
   "source": [
    "grid_search = GridSearchCV(clf, param_grid,scoring='accuracy')"
   ]
  },
  {
   "cell_type": "code",
   "execution_count": 69,
   "id": "72860a17",
   "metadata": {},
   "outputs": [
    {
     "data": {
      "text/plain": [
       "GridSearchCV(estimator=Pipeline(steps=[('selector', Select_Part()),\n",
       "                                       ('vectorizer', TfidfVectorizer()),\n",
       "                                       ('classifier',\n",
       "                                        SGDClassifier(random_state=42))]),\n",
       "             param_grid=[{'selector__part': ['all', 'body'],\n",
       "                          'vectorizer__binary': [True],\n",
       "                          'vectorizer__sublinear_tf': [False],\n",
       "                          'vectorizer__use_idf': [True, False]},\n",
       "                         {'selector__part': ['all', 'body'],\n",
       "                          'vectorizer__binary': [False],\n",
       "                          'vectorizer__sublinear_tf': [True, False],\n",
       "                          'vectorizer__use_idf': [True, False]}],\n",
       "             scoring='accuracy')"
      ]
     },
     "execution_count": 69,
     "metadata": {},
     "output_type": "execute_result"
    }
   ],
   "source": [
    "grid_search.fit(X_train, y_train)"
   ]
  },
  {
   "cell_type": "code",
   "execution_count": 70,
   "id": "8f873c88",
   "metadata": {},
   "outputs": [
    {
     "data": {
      "text/plain": [
       "array([0.9956408 , 0.99520279, 0.99607501])"
      ]
     },
     "execution_count": 70,
     "metadata": {},
     "output_type": "execute_result"
    }
   ],
   "source": [
    "cross_val_score(grid_search.best_estimator_, X_train, y_train, cv=3, scoring='accuracy')"
   ]
  },
  {
   "cell_type": "markdown",
   "id": "0026a1b8",
   "metadata": {},
   "source": [
    "# Resultados"
   ]
  },
  {
   "cell_type": "code",
   "execution_count": 74,
   "id": "9532d904",
   "metadata": {},
   "outputs": [],
   "source": [
    "from sklearn.metrics import RocCurveDisplay, roc_auc_score"
   ]
  },
  {
   "cell_type": "code",
   "execution_count": 71,
   "id": "43188302",
   "metadata": {},
   "outputs": [
    {
     "data": {
      "text/plain": [
       "0.9982568274259151"
      ]
     },
     "execution_count": 71,
     "metadata": {},
     "output_type": "execute_result"
    }
   ],
   "source": [
    "grid_search.best_estimator_.score(X_test, y_test)"
   ]
  },
  {
   "cell_type": "code",
   "execution_count": 72,
   "id": "04ef2c1b",
   "metadata": {},
   "outputs": [
    {
     "data": {
      "text/plain": [
       "{'selector__part': 'all',\n",
       " 'vectorizer__binary': True,\n",
       " 'vectorizer__sublinear_tf': False,\n",
       " 'vectorizer__use_idf': True}"
      ]
     },
     "execution_count": 72,
     "metadata": {},
     "output_type": "execute_result"
    }
   ],
   "source": [
    "grid_search.best_params_"
   ]
  },
  {
   "cell_type": "code",
   "execution_count": 75,
   "id": "019c4b33",
   "metadata": {},
   "outputs": [
    {
     "data": {
      "text/plain": [
       "<sklearn.metrics._plot.roc_curve.RocCurveDisplay at 0x1b07f5a8d00>"
      ]
     },
     "execution_count": 75,
     "metadata": {},
     "output_type": "execute_result"
    },
    {
     "data": {
      "image/png": "[encoded data removed]",
      "text/plain": [
       "<Figure size 432x288 with 1 Axes>"
      ]
     },
     "metadata": {
      "needs_background": "light"
     },
     "output_type": "display_data"
    }
   ],
   "source": [
    "RocCurveDisplay.from_estimator(grid_search.best_estimator_, X_test, y_test, response_method='decision_function')"
   ]
  },
  {
   "cell_type": "code",
   "execution_count": null,
   "id": "80b93a2c",
   "metadata": {},
   "outputs": [],
   "source": []
  }
 ],
 "metadata": {
  "kernelspec": {
   "display_name": "Python 3 (ipykernel)",
   "language": "python",
   "name": "python3"
  },
  "language_info": {
   "codemirror_mode": {
    "name": "ipython",
    "version": 3
   },
   "file_extension": ".py",
   "mimetype": "text/x-python",
   "name": "python",
   "nbconvert_exporter": "python",
   "pygments_lexer": "ipython3",
   "version": "3.10.0"
  }
 },
 "nbformat": 4,
 "nbformat_minor": 5
}
