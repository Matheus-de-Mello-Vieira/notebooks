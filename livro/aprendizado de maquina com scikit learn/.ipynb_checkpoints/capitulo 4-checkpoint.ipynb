{
 "cells": [
  {
   "cell_type": "code",
   "execution_count": 1,
   "id": "b2b9bfee",
   "metadata": {},
   "outputs": [],
   "source": [
    "import numpy as np\n",
    "import matplotlib.pyplot as plt"
   ]
  },
  {
   "cell_type": "markdown",
   "id": "14139503",
   "metadata": {},
   "source": [
    "# Regressão linear\n",
    "## Método dos Mínimos Quadrados\n",
    "Gerando dados\n",
    "\n",
    "$y = 3x_1 + 4 + e$\n",
    "\n",
    "onde $e$ segue uma distribuição normal"
   ]
  },
  {
   "cell_type": "code",
   "execution_count": 2,
   "id": "b5e45f5d",
   "metadata": {},
   "outputs": [
    {
     "data": {
      "text/plain": [
       "[<matplotlib.lines.Line2D at 0x25cba0d78e0>]"
      ]
     },
     "execution_count": 2,
     "metadata": {},
     "output_type": "execute_result"
    },
    {
     "data": {
      "image/png": "[encoded data removed]",
      "text/plain": [
       "<Figure size 432x288 with 1 Axes>"
      ]
     },
     "metadata": {
      "needs_background": "light"
     },
     "output_type": "display_data"
    }
   ],
   "source": [
    "X = 2 * np.random.rand(100, 1)\n",
    "y = 4 + 3 * X + np.random.randn(100, 1)\n",
    "plt.plot(X, y, '.')"
   ]
  },
  {
   "cell_type": "code",
   "execution_count": 3,
   "id": "d03ca8f6",
   "metadata": {},
   "outputs": [],
   "source": [
    "X_b = np.c_[np.ones((100, 1)), X]\n",
    "theta_best = np.linalg.inv(X_b.T @ X_b) @ X_b.T @ y"
   ]
  },
  {
   "cell_type": "code",
   "execution_count": 4,
   "id": "49d79891",
   "metadata": {},
   "outputs": [
    {
     "data": {
      "text/plain": [
       "array([[4.19590552],\n",
       "       [2.86481251]])"
      ]
     },
     "execution_count": 4,
     "metadata": {},
     "output_type": "execute_result"
    }
   ],
   "source": [
    "theta_best"
   ]
  },
  {
   "cell_type": "code",
   "execution_count": 5,
   "id": "0ded5c25",
   "metadata": {},
   "outputs": [
    {
     "data": {
      "text/plain": [
       "array([[4.19590552],\n",
       "       [9.92553053]])"
      ]
     },
     "execution_count": 5,
     "metadata": {},
     "output_type": "execute_result"
    }
   ],
   "source": [
    "X_new = np.array([[0], [2]])\n",
    "X_new_b = np.c_[np.ones((2,1)), X_new]\n",
    "y_predict = X_new_b @ theta_best\n",
    "y_predict"
   ]
  },
  {
   "cell_type": "code",
   "execution_count": 6,
   "id": "91ed9b59",
   "metadata": {},
   "outputs": [
    {
     "data": {
      "image/png": "[encoded data removed]",
      "text/plain": [
       "<Figure size 432x288 with 1 Axes>"
      ]
     },
     "metadata": {
      "needs_background": "light"
     },
     "output_type": "display_data"
    }
   ],
   "source": [
    "plt.plot(X_new, y_predict, 'r-')\n",
    "plt.plot(X, y, 'b.')\n",
    "plt.axis([0, 2, 0, 15])\n",
    "plt.show()"
   ]
  },
  {
   "cell_type": "code",
   "execution_count": 7,
   "id": "a2617520",
   "metadata": {},
   "outputs": [
    {
     "data": {
      "text/plain": [
       "(array([4.19590552]), array([[2.86481251]]))"
      ]
     },
     "execution_count": 7,
     "metadata": {},
     "output_type": "execute_result"
    }
   ],
   "source": [
    "from sklearn.linear_model import LinearRegression\n",
    "lin_reg = LinearRegression()\n",
    "lin_reg.fit(X, y)\n",
    "lin_reg.intercept_, lin_reg.coef_"
   ]
  },
  {
   "cell_type": "markdown",
   "id": "c5518e2c",
   "metadata": {},
   "source": [
    "## Gradiente Descendente em Lote"
   ]
  },
  {
   "cell_type": "code",
   "execution_count": 8,
   "id": "343d697e",
   "metadata": {},
   "outputs": [],
   "source": [
    "eta = 0.1 # taxa de aprendizado\n",
    "n_iterations = 1000\n",
    "m = 100\n",
    "\n",
    "theta = np.random.randn(2,1) # inicialização aleatória\n",
    "\n",
    "for iteration in range(n_iterations):\n",
    "    gradients = 2 / m * X_b.T @ (X_b @ theta - y)\n",
    "    theta = theta - eta * gradients"
   ]
  },
  {
   "cell_type": "code",
   "execution_count": 9,
   "id": "0f121d3c",
   "metadata": {},
   "outputs": [
    {
     "data": {
      "text/plain": [
       "array([[4.19590552],\n",
       "       [2.86481251]])"
      ]
     },
     "execution_count": 9,
     "metadata": {},
     "output_type": "execute_result"
    }
   ],
   "source": [
    "theta"
   ]
  },
  {
   "cell_type": "markdown",
   "id": "4b13f8f6",
   "metadata": {},
   "source": [
    "## Gradiente Descendente Estocástico"
   ]
  },
  {
   "cell_type": "code",
   "execution_count": 10,
   "id": "f022d416",
   "metadata": {},
   "outputs": [],
   "source": [
    "n_epochs = 50\n",
    "t0, t1 = 5, 50\n",
    "\n",
    "def learning_schedule(t):\n",
    "    return t0 / (t + t1)\n",
    "\n",
    "theta = np.random.randn(2,1)\n",
    "\n",
    "for epoch in range(n_epochs):\n",
    "    for i in range(m):\n",
    "        random_index = np.random.randint(m)\n",
    "        xi = X_b[random_index:random_index+1]\n",
    "        yi = y[random_index:random_index+1]\n",
    "        gradients = 2 * xi.T @ (xi @ theta - yi)\n",
    "        eta = learning_schedule(epoch * m + i)\n",
    "        theta = theta - eta * gradients"
   ]
  },
  {
   "cell_type": "code",
   "execution_count": 11,
   "id": "c93d14b3",
   "metadata": {},
   "outputs": [
    {
     "data": {
      "text/plain": [
       "array([[4.18091284],\n",
       "       [2.86088873]])"
      ]
     },
     "execution_count": 11,
     "metadata": {},
     "output_type": "execute_result"
    }
   ],
   "source": [
    "theta"
   ]
  },
  {
   "cell_type": "code",
   "execution_count": 12,
   "id": "4ee1db17",
   "metadata": {},
   "outputs": [
    {
     "data": {
      "text/plain": [
       "SGDRegressor(alpha=0.2, eta0=50, learning_rate='optimal', penalty=None)"
      ]
     },
     "execution_count": 12,
     "metadata": {},
     "output_type": "execute_result"
    }
   ],
   "source": [
    "from sklearn.linear_model import SGDRegressor\n",
    "sgd_reg = SGDRegressor(alpha=.2, eta0=50, learning_rate='optimal', penalty=None)\n",
    "sgd_reg.fit(X,y.ravel())"
   ]
  },
  {
   "cell_type": "code",
   "execution_count": 13,
   "id": "d9b68884",
   "metadata": {},
   "outputs": [
    {
     "data": {
      "text/plain": [
       "(array([4.17591874]), array([2.89245586]))"
      ]
     },
     "execution_count": 13,
     "metadata": {},
     "output_type": "execute_result"
    }
   ],
   "source": [
    "sgd_reg.intercept_, sgd_reg.coef_"
   ]
  },
  {
   "cell_type": "markdown",
   "id": "86576e94",
   "metadata": {},
   "source": [
    "## Regressão polinomial"
   ]
  },
  {
   "cell_type": "code",
   "execution_count": 14,
   "id": "cb505bdc",
   "metadata": {},
   "outputs": [],
   "source": [
    "m = 100\n",
    "X = 6 * np.random.rand(m, 1) - 3\n",
    "y = 0.5 * X ** 2 + X + 2 + np.random.randn(m, 1)"
   ]
  },
  {
   "cell_type": "code",
   "execution_count": 15,
   "id": "a381f760",
   "metadata": {},
   "outputs": [
    {
     "data": {
      "image/png": "[encoded data removed]",
      "text/plain": [
       "<Figure size 432x288 with 1 Axes>"
      ]
     },
     "metadata": {
      "needs_background": "light"
     },
     "output_type": "display_data"
    }
   ],
   "source": [
    "plt.plot(X, y, '.')\n",
    "axis = plt.axis()"
   ]
  },
  {
   "cell_type": "code",
   "execution_count": 16,
   "id": "3425e0c0",
   "metadata": {},
   "outputs": [
    {
     "data": {
      "text/plain": [
       "array([1.44146138])"
      ]
     },
     "execution_count": 16,
     "metadata": {},
     "output_type": "execute_result"
    }
   ],
   "source": [
    "from sklearn.preprocessing import PolynomialFeatures\n",
    "poly_features = PolynomialFeatures(degree=2, include_bias=False)\n",
    "X_poly = poly_features.fit_transform(X)\n",
    "X[0]"
   ]
  },
  {
   "cell_type": "code",
   "execution_count": 17,
   "id": "eaef75fe",
   "metadata": {},
   "outputs": [
    {
     "data": {
      "text/plain": [
       "array([1.44146138, 2.07781092])"
      ]
     },
     "execution_count": 17,
     "metadata": {},
     "output_type": "execute_result"
    }
   ],
   "source": [
    "X_poly[0]"
   ]
  },
  {
   "cell_type": "code",
   "execution_count": 18,
   "id": "c9a1b587",
   "metadata": {},
   "outputs": [
    {
     "data": {
      "text/plain": [
       "(array([2.1950638]), array([[0.92982879, 0.47573974]]))"
      ]
     },
     "execution_count": 18,
     "metadata": {},
     "output_type": "execute_result"
    }
   ],
   "source": [
    "lin_reg = LinearRegression()\n",
    "lin_reg.fit(X_poly, y)\n",
    "lin_reg.intercept_, lin_reg.coef_"
   ]
  },
  {
   "cell_type": "code",
   "execution_count": 19,
   "id": "9b158bda",
   "metadata": {},
   "outputs": [],
   "source": [
    "X_model = np.arange(axis[0], axis[1], 0.01).reshape(-1,1)\n",
    "Y_model = lin_reg.predict(poly_features.transform(X_model))"
   ]
  },
  {
   "cell_type": "code",
   "execution_count": 20,
   "id": "78d692db",
   "metadata": {},
   "outputs": [
    {
     "data": {
      "image/png": "[encoded data removed]",
      "text/plain": [
       "<Figure size 432x288 with 1 Axes>"
      ]
     },
     "metadata": {
      "needs_background": "light"
     },
     "output_type": "display_data"
    }
   ],
   "source": [
    "plt.plot(X, y, '.')\n",
    "axis = plt.axis()\n",
    "plt.plot(X_model, Y_model, 'b')\n",
    "plt.axis(axis)\n",
    "plt.show()"
   ]
  },
  {
   "cell_type": "code",
   "execution_count": 21,
   "id": "5e10d333",
   "metadata": {},
   "outputs": [],
   "source": [
    "from sklearn.metrics import mean_squared_error\n",
    "from sklearn.model_selection import train_test_split\n",
    "\n",
    "def plot_learning_curves(model, X, y):\n",
    "    X_train, X_val, y_train, y_val = train_test_split(X, y, test_size=0.2)\n",
    "    train_errors, val_errors = [], []\n",
    "    for m in range(1, len(X_train)):\n",
    "        model.fit(X_train[:m], y_train[:m])\n",
    "        y_train_predict = model.predict(X_train[:m])\n",
    "        y_val_predict = model.predict(X_val)\n",
    "        train_errors.append(mean_squared_error(y_train_predict, y_train[:m]))\n",
    "        val_errors.append(mean_squared_error(y_val_predict, y_val))\n",
    "    plt.plot(np.sqrt(train_errors), 'r-+', linewidth=2, label='train')\n",
    "    plt.plot(np.sqrt(val_errors), 'b-', linewidth=3, label='val')\n",
    "    plt.legend(loc=\"upper right\", fontsize=14)\n",
    "    plt.xlabel(\"Tamanho do conjunto de treinamento\", fontsize=14)\n",
    "    plt.ylabel(\"RMSE\", fontsize=14)"
   ]
  },
  {
   "cell_type": "code",
   "execution_count": 22,
   "id": "bc27f972",
   "metadata": {},
   "outputs": [
    {
     "data": {
      "image/png": "[encoded data removed]",
      "text/plain": [
       "<Figure size 432x288 with 1 Axes>"
      ]
     },
     "metadata": {
      "needs_background": "light"
     },
     "output_type": "display_data"
    }
   ],
   "source": [
    "lin_reg = LinearRegression()\n",
    "plot_learning_curves(lin_reg, X, y)\n",
    "plt.axis([0, 80, 0, 3])\n",
    "plt.show()"
   ]
  },
  {
   "cell_type": "code",
   "execution_count": 23,
   "id": "f9e1bfe4",
   "metadata": {},
   "outputs": [],
   "source": [
    "from sklearn.model_selection import learning_curve"
   ]
  },
  {
   "cell_type": "code",
   "execution_count": 24,
   "id": "ab47f742",
   "metadata": {},
   "outputs": [],
   "source": [
    "def plot_improved_learning_curves(model, X, y, scoring=\"Pontuação\"):\n",
    "    train_sizes_abs, train_scores, val_scores = learning_curve(model, X, y,train_sizes=np.arange(3, X.size//5 * 4))\n",
    "    plt.fill_between(train_sizes_abs, train_scores.min(1), train_scores.max(1), alpha=.5)\n",
    "    plt.plot(train_sizes_abs, train_scores.mean(1), label='train')\n",
    "    plt.fill_between(train_sizes_abs, val_scores.min(1), val_scores.max(1), alpha=.5)\n",
    "    plt.plot(train_sizes_abs, val_scores.mean(1), label='val')\n",
    "    plt.title(\"Curva de aprendizado\")\n",
    "    plt.xlabel(\"Tamanho da amostra\")\n",
    "    plt.ylabel(scoring)\n",
    "    plt.legend()\n",
    "    plt.axis([0, 84, 0, 1])\n",
    "    plt.show()"
   ]
  },
  {
   "cell_type": "code",
   "execution_count": 25,
   "id": "5d5db2de",
   "metadata": {},
   "outputs": [
    {
     "data": {
      "image/png": "[encoded data removed]",
      "text/plain": [
       "<Figure size 432x288 with 1 Axes>"
      ]
     },
     "metadata": {
      "needs_background": "light"
     },
     "output_type": "display_data"
    }
   ],
   "source": [
    "plot_improved_learning_curves(lin_reg, X, y, \"$R^2$\")"
   ]
  },
  {
   "cell_type": "code",
   "execution_count": 26,
   "id": "73aac0b3",
   "metadata": {
    "scrolled": true
   },
   "outputs": [
    {
     "data": {
      "image/png": "[encoded data removed]",
      "text/plain": [
       "<Figure size 432x288 with 1 Axes>"
      ]
     },
     "metadata": {
      "needs_background": "light"
     },
     "output_type": "display_data"
    }
   ],
   "source": [
    "from sklearn.pipeline import Pipeline\n",
    "\n",
    "polynomial_regression = Pipeline([\n",
    "    ('poly_features', PolynomialFeatures(degree=10, include_bias=False)),\n",
    "    ('lin_reg', LinearRegression())\n",
    "])\n",
    "\n",
    "plot_learning_curves(polynomial_regression, X, y)\n",
    "plt.axis([0, 80, 0, 3])\n",
    "plt.show()"
   ]
  },
  {
   "cell_type": "code",
   "execution_count": 27,
   "id": "430c80ab",
   "metadata": {
    "scrolled": true
   },
   "outputs": [
    {
     "data": {
      "image/png": "[encoded data removed]",
      "text/plain": [
       "<Figure size 432x288 with 1 Axes>"
      ]
     },
     "metadata": {
      "needs_background": "light"
     },
     "output_type": "display_data"
    }
   ],
   "source": [
    "plot_improved_learning_curves(polynomial_regression, X, y, \"$R^2$\")"
   ]
  },
  {
   "cell_type": "code",
   "execution_count": 28,
   "id": "052ed71f",
   "metadata": {
    "scrolled": true
   },
   "outputs": [
    {
     "data": {
      "image/png": "[encoded data removed]",
      "text/plain": [
       "<Figure size 432x288 with 1 Axes>"
      ]
     },
     "metadata": {
      "needs_background": "light"
     },
     "output_type": "display_data"
    }
   ],
   "source": [
    "from sklearn.pipeline import Pipeline\n",
    "\n",
    "polynomial_regression = Pipeline([\n",
    "    ('poly_features', PolynomialFeatures(degree=2, include_bias=False)),\n",
    "    ('lin_reg', LinearRegression())\n",
    "])\n",
    "\n",
    "plot_learning_curves(polynomial_regression, X, y)\n",
    "plt.axis([0, 80, 0, 3])\n",
    "plt.show()"
   ]
  },
  {
   "cell_type": "code",
   "execution_count": 29,
   "id": "3778fb97",
   "metadata": {
    "scrolled": true
   },
   "outputs": [
    {
     "data": {
      "image/png": "[encoded data removed]",
      "text/plain": [
       "<Figure size 432x288 with 1 Axes>"
      ]
     },
     "metadata": {
      "needs_background": "light"
     },
     "output_type": "display_data"
    }
   ],
   "source": [
    "plot_improved_learning_curves(polynomial_regression, X, y, \"$R^2$\")"
   ]
  },
  {
   "cell_type": "markdown",
   "id": "6a770a57",
   "metadata": {},
   "source": [
    "## Regulação"
   ]
  },
  {
   "cell_type": "code",
   "execution_count": 30,
   "id": "cf011a1b",
   "metadata": {},
   "outputs": [
    {
     "data": {
      "text/plain": [
       "array([[4.85245763]])"
      ]
     },
     "execution_count": 30,
     "metadata": {},
     "output_type": "execute_result"
    }
   ],
   "source": [
    "from sklearn.linear_model import Ridge\n",
    "# Esse 'cholesky' só muda o custo computacional\n",
    "ridge_reg = Ridge(alpha=1, solver='cholesky')\n",
    "ridge_reg.fit(X, y)\n",
    "ridge_reg.predict([[1.5]])"
   ]
  },
  {
   "cell_type": "code",
   "execution_count": 31,
   "id": "2150812a",
   "metadata": {},
   "outputs": [
    {
     "data": {
      "text/plain": [
       "array([4.81606565])"
      ]
     },
     "execution_count": 31,
     "metadata": {},
     "output_type": "execute_result"
    }
   ],
   "source": [
    "sgd_reg = SGDRegressor(penalty='l2')\n",
    "sgd_reg.fit(X, y.ravel())\n",
    "sgd_reg.predict([[1.5]])"
   ]
  },
  {
   "cell_type": "code",
   "execution_count": 32,
   "id": "c098cea1",
   "metadata": {},
   "outputs": [
    {
     "data": {
      "text/plain": [
       "array([4.80090491])"
      ]
     },
     "execution_count": 32,
     "metadata": {},
     "output_type": "execute_result"
    }
   ],
   "source": [
    "from sklearn.linear_model import Lasso\n",
    "lasso_reg = Lasso(alpha=0.1)\n",
    "lasso_reg.fit(X, y)\n",
    "lasso_reg.predict([[1.5]])"
   ]
  },
  {
   "cell_type": "code",
   "execution_count": 33,
   "id": "728f1cac",
   "metadata": {},
   "outputs": [
    {
     "data": {
      "text/plain": [
       "array([4.80607426])"
      ]
     },
     "execution_count": 33,
     "metadata": {},
     "output_type": "execute_result"
    }
   ],
   "source": [
    "from sklearn.linear_model import ElasticNet\n",
    "# l1_ratio é a taxa de mixagem\n",
    "elastic_net = ElasticNet(alpha=.1, l1_ratio=.5)\n",
    "elastic_net.fit(X, y)\n",
    "elastic_net.predict([[1.5]])"
   ]
  },
  {
   "cell_type": "code",
   "execution_count": 34,
   "id": "1188b448",
   "metadata": {},
   "outputs": [],
   "source": [
    "from sklearn.base import clone\n",
    "from sklearn.preprocessing import StandardScaler\n",
    "\n",
    "X_train, X_val, y_train, y_val = train_test_split(X[:50], y[:50].ravel(), test_size=0.5, random_state=10)\n",
    "\n",
    "poly_scaler = Pipeline([\n",
    "    ('poly_features', PolynomialFeatures(degree=90, include_bias=False)),\n",
    "    ('std_scaler', StandardScaler())\n",
    "])\n",
    "X_train_poly_scaled = poly_scaler.fit_transform(X_train)\n",
    "X_val_poly_scaled = poly_scaler.transform(X_val)\n",
    "\n",
    "# warm_start: quando chama o fit(), ele continua o treinameto onde foi deixado em vez de recomeçar do início\n",
    "sgd_reg = SGDRegressor(max_iter=1,\n",
    "                       tol=-np.infty,\n",
    "                       penalty=None,\n",
    "                       eta0=0.0005,\n",
    "                       warm_start=True,\n",
    "                       learning_rate=\"constant\",\n",
    "                       random_state=42)\n",
    "\n",
    "minimun_val_error = float('inf')\n",
    "best_epoch = None\n",
    "best_model = None\n",
    "\n",
    "for epoch in range(1000):\n",
    "    sgd_reg.fit(X_train_poly_scaled, y_train)\n",
    "    y_val_predict = sgd_reg.predict(X_val_poly_scaled)\n",
    "    val_error = mean_squared_error(y_val_predict, y_val)\n",
    "    if val_error < minimun_val_error:\n",
    "        minimun_val_error = val_error\n",
    "        best_epoch = epoch\n",
    "        best_model = clone(sgd_reg)"
   ]
  },
  {
   "cell_type": "code",
   "execution_count": 35,
   "id": "8e73fccf",
   "metadata": {},
   "outputs": [
    {
     "data": {
      "text/plain": [
       "(69,\n",
       " SGDRegressor(eta0=0.0005, learning_rate='constant', max_iter=1, penalty=None,\n",
       "              random_state=42, tol=-inf, warm_start=True))"
      ]
     },
     "execution_count": 35,
     "metadata": {},
     "output_type": "execute_result"
    }
   ],
   "source": [
    "best_epoch, best_model"
   ]
  },
  {
   "cell_type": "markdown",
   "id": "45af6647",
   "metadata": {},
   "source": [
    "# Regressão logística"
   ]
  },
  {
   "cell_type": "code",
   "execution_count": 36,
   "id": "dfca6c0f",
   "metadata": {},
   "outputs": [
    {
     "data": {
      "text/plain": [
       "[<matplotlib.lines.Line2D at 0x25cc47e51b0>]"
      ]
     },
     "execution_count": 36,
     "metadata": {},
     "output_type": "execute_result"
    },
    {
     "data": {
      "image/png": "[encoded data removed]",
      "text/plain": [
       "<Figure size 432x288 with 1 Axes>"
      ]
     },
     "metadata": {
      "needs_background": "light"
     },
     "output_type": "display_data"
    }
   ],
   "source": [
    "X = np.arange(0, 1, 0.0001)[1:]\n",
    "y = -np.log(X)\n",
    "plt.xlabel('$\\hat p$')\n",
    "plt.ylabel('$-\\log(\\hat p)$')\n",
    "plt.title('Função de custo de uma instância')\n",
    "plt.plot(X, y)"
   ]
  },
  {
   "cell_type": "code",
   "execution_count": 37,
   "id": "aade276a",
   "metadata": {},
   "outputs": [
    {
     "data": {
      "text/plain": [
       "['data',\n",
       " 'target',\n",
       " 'frame',\n",
       " 'target_names',\n",
       " 'DESCR',\n",
       " 'feature_names',\n",
       " 'filename',\n",
       " 'data_module']"
      ]
     },
     "execution_count": 37,
     "metadata": {},
     "output_type": "execute_result"
    }
   ],
   "source": [
    "from sklearn import datasets\n",
    "iris = datasets.load_iris()\n",
    "list(iris.keys())"
   ]
  },
  {
   "cell_type": "code",
   "execution_count": 102,
   "id": "f3ebaaf0",
   "metadata": {},
   "outputs": [
    {
     "name": "stderr",
     "output_type": "stream",
     "text": [
      "C:\\Users\\mello\\AppData\\Local\\Temp/ipykernel_13576/2877987205.py:2: DeprecationWarning: `np.int` is a deprecated alias for the builtin `int`. To silence this warning, use `int` by itself. Doing this will not modify any behavior and is safe. When replacing `np.int`, you may wish to use e.g. `np.int64` or `np.int32` to specify the precision. If you wish to review your current use, check the release note link for additional information.\n",
      "Deprecated in NumPy 1.20; for more details and guidance: https://numpy.org/devdocs/release/1.20.0-notes.html#deprecations\n",
      "  y = (iris['target'] == 2).astype(np.int)\n"
     ]
    }
   ],
   "source": [
    "X = iris['data'][:, 3:]\n",
    "y = (iris['target'] == 2).astype(np.int)"
   ]
  },
  {
   "cell_type": "code",
   "execution_count": 39,
   "id": "9bc14698",
   "metadata": {},
   "outputs": [
    {
     "data": {
      "text/plain": [
       "LogisticRegression()"
      ]
     },
     "execution_count": 39,
     "metadata": {},
     "output_type": "execute_result"
    }
   ],
   "source": [
    "from sklearn.linear_model import LogisticRegression\n",
    "log_reg = LogisticRegression()\n",
    "log_reg.fit(X, y)"
   ]
  },
  {
   "cell_type": "code",
   "execution_count": 40,
   "id": "84314dfc",
   "metadata": {},
   "outputs": [],
   "source": [
    "X_new = np.linspace(0, 3, 1000).reshape(-1,1)"
   ]
  },
  {
   "cell_type": "code",
   "execution_count": 41,
   "id": "59c40023",
   "metadata": {},
   "outputs": [
    {
     "data": {
      "text/plain": [
       "[<matplotlib.lines.Line2D at 0x25cc4970be0>]"
      ]
     },
     "execution_count": 41,
     "metadata": {},
     "output_type": "execute_result"
    },
    {
     "data": {
      "image/png": "[encoded data removed]",
      "text/plain": [
       "<Figure size 432x288 with 1 Axes>"
      ]
     },
     "metadata": {
      "needs_background": "light"
     },
     "output_type": "display_data"
    }
   ],
   "source": [
    "y_proba = log_reg.predict_proba(X_new)\n",
    "plt.plot(X_new, y_proba[:, 1], 'g-', label='Iris-Virginica')\n",
    "plt.plot(X_new, y_proba[:, 0], 'b--', label='Not Iris-Virginica')"
   ]
  },
  {
   "cell_type": "code",
   "execution_count": 299,
   "id": "1df618bd",
   "metadata": {},
   "outputs": [
    {
     "data": {
      "text/plain": [
       "LogisticRegression(C=10, multi_class='multinomial')"
      ]
     },
     "execution_count": 299,
     "metadata": {},
     "output_type": "execute_result"
    }
   ],
   "source": [
    "X = iris['data'][:, (2,3)]\n",
    "y = iris['target']\n",
    "\n",
    "softmax_reg = LogisticRegression(multi_class='multinomial', solver='lbfgs', C=10)\n",
    "softmax_reg.fit(X, y)"
   ]
  },
  {
   "cell_type": "code",
   "execution_count": 104,
   "id": "55c6d5fd",
   "metadata": {},
   "outputs": [
    {
     "data": {
      "text/plain": [
       "array([2])"
      ]
     },
     "execution_count": 104,
     "metadata": {},
     "output_type": "execute_result"
    }
   ],
   "source": [
    "softmax_reg.predict([[5, 2]])"
   ]
  },
  {
   "cell_type": "code",
   "execution_count": 105,
   "id": "7e08a25e",
   "metadata": {},
   "outputs": [
    {
     "data": {
      "text/plain": [
       "array([[6.38014896e-07, 5.74929995e-02, 9.42506362e-01]])"
      ]
     },
     "execution_count": 105,
     "metadata": {},
     "output_type": "execute_result"
    }
   ],
   "source": [
    "softmax_reg.predict_proba([[5, 2]])"
   ]
  },
  {
   "cell_type": "markdown",
   "id": "7421aa11",
   "metadata": {},
   "source": [
    "# Exercicio 12\n",
    "Implemente o Gradiente Descendente em Lote em parada antecipada para a Regressão Softmax(sem utilizar o Scikit-Learn)"
   ]
  },
  {
   "cell_type": "markdown",
   "id": "ffb9e90f",
   "metadata": {},
   "source": [
    "## Softmax\n",
    "$s_k(x) = \\left ( \\theta^{(k)} \\right )^T \\cdot x$\n",
    "\n",
    "$\\hat p_k = \\frac{e^{s_k(x)}}{\\sum_{j=1}^K e^{s_j(x)}}$\n",
    "\n",
    "$\\triangledown_{\\theta^{(k)}} J(\\theta) = \\frac{1}{m} \\sum_{i=1}^m \\left ( \\hat p_k^{(i)} - y_k^{(i)} \\right ) x^{(i)}$\n",
    "\n",
    "$y_k^{(i)}$ é igual a 1 se a classe-alvo para a instância i-éstima for k, caso contrário é 0\n",
    "\n",
    "Matrix $\\theta$: cada linha é para uma classe, (no caso, 3) e cada coluna é um atributo\n",
    "\n",
    "vetor $s(x)$: cada linha k tem o seu valor igual a $s_k(x)$\n",
    "\n",
    "vetor $\\hat p$: cada linha k tem o seu valor igual a $\\hat p_k$\n",
    "\n",
    "\n",
    "\n",
    "$c = \\eta^{-1}$"
   ]
  },
  {
   "cell_type": "code",
   "execution_count": 491,
   "id": "58a8e442",
   "metadata": {},
   "outputs": [],
   "source": [
    "def soft_max(X, θ):\n",
    "    s = θ @ X.T\n",
    "    s_exp = np.exp(s - s.max(0))\n",
    "    return s_exp / s_exp.sum(0)"
   ]
  },
  {
   "cell_type": "code",
   "execution_count": 509,
   "id": "abf170c5",
   "metadata": {},
   "outputs": [],
   "source": [
    "def cross_entropy_bash_gradient(X_train, y_train, X_val, y_val, c=100, iter_no_change=100):\n",
    "    θ = np.random.randn(np.unique(y).size, X_train.shape[1])\n",
    "    \n",
    "    max_acertos = 0\n",
    "    max_θ = None\n",
    "    counts_with_max = iter_no_change\n",
    "\n",
    "    m_train = y_train.size\n",
    "    m_val = y_val.size\n",
    "\n",
    "    y_train_dummy = np.stack([y_train == i for i in np.unique(y_train)]).astype('i')\n",
    "    y_val_dummy = np.stack([y_val == i for i in np.unique(y_val)]).astype('i')\n",
    "\n",
    "    while counts_with_max and max_acertos < y_val.size:\n",
    "        hat_p = soft_max(X_train, θ)\n",
    "        del_theta = (hat_p - y_train_dummy) @ X_train / m_train\n",
    "        θ = θ - del_theta / c\n",
    "        hat_p_val = soft_max(X_val, θ)\n",
    "\n",
    "        acertos = (hat_p_val.argmax(0) == y_val).sum()\n",
    "        \n",
    "        if acertos < max_acertos and max_acertos < y_val.size:\n",
    "            counts_with_max -= 1\n",
    "        else:\n",
    "            max_θ = θ\n",
    "            max_acertos = acertos\n",
    "            counts_with_max = iter_no_change\n",
    "\n",
    "    return max_θ, max_acertos / y_val.size"
   ]
  },
  {
   "cell_type": "code",
   "execution_count": 493,
   "id": "111d4bc0",
   "metadata": {},
   "outputs": [],
   "source": [
    "def get_accuracy(X, y, θ):\n",
    "    return (soft_max(X, θ).argmax(0) == y).sum() / y.size"
   ]
  },
  {
   "cell_type": "code",
   "execution_count": 503,
   "id": "98b5f2a5",
   "metadata": {},
   "outputs": [],
   "source": [
    "def fit_x(X, mean, std):\n",
    "    return np.c_[\n",
    "        (X - mean)/std,\n",
    "        np.ones(X.shape[0])\n",
    "    ]"
   ]
  },
  {
   "cell_type": "code",
   "execution_count": 515,
   "id": "7e79a2a2",
   "metadata": {},
   "outputs": [],
   "source": [
    "def fit_and_get_accuracy(X_train, X_val, y_train, y_val, c=100, iter_no_change=1):\n",
    "    mean = X_train.mean(0)\n",
    "    std = X_train.std(0)\n",
    "    X_train_padronizado = fit_x(X_train, mean, std)\n",
    "    X_val_padronizado = fit_x(X_val, mean, std)\n",
    "\n",
    "    #return cross_entropy_bash_gradient(X_train_padronizado, y_train, X_val_padronizado, y_val, c=100, iter_no_change=1)\n",
    "    # cross_entropy_bash_gradient(X_train, y_train, X_val, y_val, c=100, iter_no_change=100)\n",
    "    \n",
    "    θ = np.random.randn(np.unique(y).size, X_train_padronizado.shape[1])\n",
    "\n",
    "    max_acertos = 0\n",
    "    max_θ = None\n",
    "    counts_with_max = iter_no_change\n",
    "\n",
    "    m_train = y_train.size\n",
    "    m_val = y_val.size\n",
    "\n",
    "    y_train_dummy = np.stack([y_train == i for i in np.unique(y_train)]).astype('i')\n",
    "    y_val_dummy = np.stack([y_val == i for i in np.unique(y_val)]).astype('i')\n",
    "\n",
    "    while counts_with_max and max_acertos < y_val.size:\n",
    "        hat_p = soft_max(X_train_padronizado, θ)\n",
    "        del_theta = (hat_p - y_train_dummy) @ X_train_padronizado / m_train\n",
    "        θ = θ - del_theta / c\n",
    "        hat_p_val = soft_max(X_val_padronizado, θ)\n",
    "\n",
    "        acertos = (hat_p_val.argmax(0) == y_val).sum()\n",
    "\n",
    "        if acertos < max_acertos and max_acertos < y_val.size:\n",
    "            counts_with_max -= 1\n",
    "        else:\n",
    "            max_θ = θ\n",
    "            max_acertos = acertos\n",
    "            counts_with_max = iter_no_change\n",
    "\n",
    "    return max_θ, max_acertos / y_val.size"
   ]
  },
  {
   "cell_type": "code",
   "execution_count": 497,
   "id": "8d6ecc69",
   "metadata": {},
   "outputs": [],
   "source": [
    "def cross_validation(X, y, cv=3):\n",
    "    split_index = [[] for _ in range(cv)]\n",
    "    for i in np.unique(y):\n",
    "        current_X = X[y == i]\n",
    "        current_y = y[y == i]\n",
    "        current_index = np.arange(y.size)[y == i]\n",
    "        group_size = current_index.shape[0]\n",
    "\n",
    "        for j in range(cv):\n",
    "            split_index[j].append(current_index[group_size // cv * j : group_size // cv * (j+1)])\n",
    "    split_index = np.array(split_index).reshape(cv,-1)\n",
    "    \n",
    "    X_in_groups = X[split_index]\n",
    "    y_in_groups = y[split_index]\n",
    "    \n",
    "    best_score = 0\n",
    "    best_theta = None\n",
    "    \n",
    "    all_index = np.arange(cv)\n",
    "    for i in all_index:\n",
    "        theta, score = fit_and_get_accuracy(X_in_groups[all_index != i].reshape(-1,2),\n",
    "                                            X_in_groups[i],\n",
    "                                            y_in_groups[all_index != i].flatten(),\n",
    "                                            y_in_groups[i])\n",
    "        if best_score < score:\n",
    "            best_score = score\n",
    "            best_theta = theta\n",
    "            \n",
    "    return best_theta, X.mean(0), X.std(0)"
   ]
  },
  {
   "cell_type": "code",
   "execution_count": 498,
   "id": "e644bc13",
   "metadata": {},
   "outputs": [],
   "source": [
    "X_train, X_test, y_train, y_test = train_test_split(X, y, test_size=.2, stratify=y)"
   ]
  },
  {
   "cell_type": "code",
   "execution_count": 516,
   "id": "24e33cb6",
   "metadata": {},
   "outputs": [
    {
     "ename": "ValueError",
     "evalue": "matmul: Input operand 1 has a mismatch in its core dimension 0, with gufunc signature (n?,k),(k,m?)->(n?,m?) (size 3 is different from 2)",
     "output_type": "error",
     "traceback": [
      "\u001b[1;31m---------------------------------------------------------------------------\u001b[0m",
      "\u001b[1;31mValueError\u001b[0m                                Traceback (most recent call last)",
      "\u001b[1;32m~\\AppData\\Local\\Temp/ipykernel_13576/513230761.py\u001b[0m in \u001b[0;36m<module>\u001b[1;34m\u001b[0m\n\u001b[1;32m----> 1\u001b[1;33m \u001b[0mtheta\u001b[0m\u001b[1;33m,\u001b[0m \u001b[0mmean\u001b[0m\u001b[1;33m,\u001b[0m \u001b[0mstd\u001b[0m \u001b[1;33m=\u001b[0m \u001b[0mcross_validation\u001b[0m\u001b[1;33m(\u001b[0m\u001b[0mX_train\u001b[0m\u001b[1;33m,\u001b[0m \u001b[0my_train\u001b[0m\u001b[1;33m)\u001b[0m\u001b[1;33m\u001b[0m\u001b[1;33m\u001b[0m\u001b[0m\n\u001b[0m",
      "\u001b[1;32m~\\AppData\\Local\\Temp/ipykernel_13576/2185313754.py\u001b[0m in \u001b[0;36mcross_validation\u001b[1;34m(X, y, cv)\u001b[0m\n\u001b[0;32m     19\u001b[0m     \u001b[0mall_index\u001b[0m \u001b[1;33m=\u001b[0m \u001b[0mnp\u001b[0m\u001b[1;33m.\u001b[0m\u001b[0marange\u001b[0m\u001b[1;33m(\u001b[0m\u001b[0mcv\u001b[0m\u001b[1;33m)\u001b[0m\u001b[1;33m\u001b[0m\u001b[1;33m\u001b[0m\u001b[0m\n\u001b[0;32m     20\u001b[0m     \u001b[1;32mfor\u001b[0m \u001b[0mi\u001b[0m \u001b[1;32min\u001b[0m \u001b[0mall_index\u001b[0m\u001b[1;33m:\u001b[0m\u001b[1;33m\u001b[0m\u001b[1;33m\u001b[0m\u001b[0m\n\u001b[1;32m---> 21\u001b[1;33m         theta, score = fit_and_get_accuracy(X_in_groups[all_index != i].reshape(-1,2),\n\u001b[0m\u001b[0;32m     22\u001b[0m                                             \u001b[0mX_in_groups\u001b[0m\u001b[1;33m[\u001b[0m\u001b[0mi\u001b[0m\u001b[1;33m]\u001b[0m\u001b[1;33m,\u001b[0m\u001b[1;33m\u001b[0m\u001b[1;33m\u001b[0m\u001b[0m\n\u001b[0;32m     23\u001b[0m                                             \u001b[0my_in_groups\u001b[0m\u001b[1;33m[\u001b[0m\u001b[0mall_index\u001b[0m \u001b[1;33m!=\u001b[0m \u001b[0mi\u001b[0m\u001b[1;33m]\u001b[0m\u001b[1;33m.\u001b[0m\u001b[0mflatten\u001b[0m\u001b[1;33m(\u001b[0m\u001b[1;33m)\u001b[0m\u001b[1;33m,\u001b[0m\u001b[1;33m\u001b[0m\u001b[1;33m\u001b[0m\u001b[0m\n",
      "\u001b[1;32m~\\AppData\\Local\\Temp/ipykernel_13576/3763954797.py\u001b[0m in \u001b[0;36mfit_and_get_accuracy\u001b[1;34m(X_train, X_val, y_train, y_val, c, iter_no_change)\u001b[0m\n\u001b[0;32m     21\u001b[0m \u001b[1;33m\u001b[0m\u001b[0m\n\u001b[0;32m     22\u001b[0m     \u001b[1;32mwhile\u001b[0m \u001b[0mcounts_with_max\u001b[0m \u001b[1;32mand\u001b[0m \u001b[0mmax_acertos\u001b[0m \u001b[1;33m<\u001b[0m \u001b[0my_val\u001b[0m\u001b[1;33m.\u001b[0m\u001b[0msize\u001b[0m\u001b[1;33m:\u001b[0m\u001b[1;33m\u001b[0m\u001b[1;33m\u001b[0m\u001b[0m\n\u001b[1;32m---> 23\u001b[1;33m         \u001b[0mhat_p\u001b[0m \u001b[1;33m=\u001b[0m \u001b[0msoft_max\u001b[0m\u001b[1;33m(\u001b[0m\u001b[0mX_train_padronizado\u001b[0m\u001b[1;33m,\u001b[0m \u001b[0mθ\u001b[0m\u001b[1;33m)\u001b[0m\u001b[1;33m\u001b[0m\u001b[1;33m\u001b[0m\u001b[0m\n\u001b[0m\u001b[0;32m     24\u001b[0m         \u001b[0mdel_theta\u001b[0m \u001b[1;33m=\u001b[0m \u001b[1;33m(\u001b[0m\u001b[0mhat_p\u001b[0m \u001b[1;33m-\u001b[0m \u001b[0my_train_dummy\u001b[0m\u001b[1;33m)\u001b[0m \u001b[1;33m@\u001b[0m \u001b[0mX_train_padronizado\u001b[0m \u001b[1;33m/\u001b[0m \u001b[0mm_train\u001b[0m\u001b[1;33m\u001b[0m\u001b[1;33m\u001b[0m\u001b[0m\n\u001b[0;32m     25\u001b[0m         \u001b[0mθ\u001b[0m \u001b[1;33m=\u001b[0m \u001b[0mθ\u001b[0m \u001b[1;33m-\u001b[0m \u001b[0mdel_theta\u001b[0m \u001b[1;33m/\u001b[0m \u001b[0mc\u001b[0m\u001b[1;33m\u001b[0m\u001b[1;33m\u001b[0m\u001b[0m\n",
      "\u001b[1;32m~\\AppData\\Local\\Temp/ipykernel_13576/1354496826.py\u001b[0m in \u001b[0;36msoft_max\u001b[1;34m(X, θ)\u001b[0m\n\u001b[0;32m      1\u001b[0m \u001b[1;32mdef\u001b[0m \u001b[0msoft_max\u001b[0m\u001b[1;33m(\u001b[0m\u001b[0mX\u001b[0m\u001b[1;33m,\u001b[0m \u001b[0mθ\u001b[0m\u001b[1;33m)\u001b[0m\u001b[1;33m:\u001b[0m\u001b[1;33m\u001b[0m\u001b[1;33m\u001b[0m\u001b[0m\n\u001b[1;32m----> 2\u001b[1;33m     \u001b[0ms\u001b[0m \u001b[1;33m=\u001b[0m \u001b[0mθ\u001b[0m \u001b[1;33m@\u001b[0m \u001b[0mX\u001b[0m\u001b[1;33m.\u001b[0m\u001b[0mT\u001b[0m\u001b[1;33m\u001b[0m\u001b[1;33m\u001b[0m\u001b[0m\n\u001b[0m\u001b[0;32m      3\u001b[0m     \u001b[0ms_exp\u001b[0m \u001b[1;33m=\u001b[0m \u001b[0mnp\u001b[0m\u001b[1;33m.\u001b[0m\u001b[0mexp\u001b[0m\u001b[1;33m(\u001b[0m\u001b[0ms\u001b[0m \u001b[1;33m-\u001b[0m \u001b[0ms\u001b[0m\u001b[1;33m.\u001b[0m\u001b[0mmax\u001b[0m\u001b[1;33m(\u001b[0m\u001b[1;36m0\u001b[0m\u001b[1;33m)\u001b[0m\u001b[1;33m)\u001b[0m\u001b[1;33m\u001b[0m\u001b[1;33m\u001b[0m\u001b[0m\n\u001b[0;32m      4\u001b[0m     \u001b[1;32mreturn\u001b[0m \u001b[0ms_exp\u001b[0m \u001b[1;33m/\u001b[0m \u001b[0ms_exp\u001b[0m\u001b[1;33m.\u001b[0m\u001b[0msum\u001b[0m\u001b[1;33m(\u001b[0m\u001b[1;36m0\u001b[0m\u001b[1;33m)\u001b[0m\u001b[1;33m\u001b[0m\u001b[1;33m\u001b[0m\u001b[0m\n",
      "\u001b[1;31mValueError\u001b[0m: matmul: Input operand 1 has a mismatch in its core dimension 0, with gufunc signature (n?,k),(k,m?)->(n?,m?) (size 3 is different from 2)"
     ]
    }
   ],
   "source": [
    "theta, mean, std = cross_validation(X_train, y_train)"
   ]
  },
  {
   "cell_type": "code",
   "execution_count": 512,
   "id": "470ff403",
   "metadata": {},
   "outputs": [
    {
     "data": {
      "text/plain": [
       "0.9333333333333333"
      ]
     },
     "execution_count": 512,
     "metadata": {},
     "output_type": "execute_result"
    }
   ],
   "source": [
    "get_accuracy(fit_x(X_test, mean, std), y_test, theta)"
   ]
  },
  {
   "cell_type": "code",
   "execution_count": null,
   "id": "3c4ebe62",
   "metadata": {},
   "outputs": [],
   "source": []
  }
 ],
 "metadata": {
  "kernelspec": {
   "display_name": "Python 3 (ipykernel)",
   "language": "python",
   "name": "python3"
  },
  "language_info": {
   "codemirror_mode": {
    "name": "ipython",
    "version": 3
   },
   "file_extension": ".py",
   "mimetype": "text/x-python",
   "name": "python",
   "nbconvert_exporter": "python",
   "pygments_lexer": "ipython3",
   "version": "3.10.0"
  }
 },
 "nbformat": 4,
 "nbformat_minor": 5
}
