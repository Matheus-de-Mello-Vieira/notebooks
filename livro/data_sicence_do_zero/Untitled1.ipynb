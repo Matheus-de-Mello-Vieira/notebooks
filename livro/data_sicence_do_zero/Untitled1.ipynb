{
 "cells": [
  {
   "cell_type": "code",
   "execution_count": 10,
   "id": "29e34f02",
   "metadata": {},
   "outputs": [],
   "source": [
    "def funcao(x):\n",
    "    return x**3 + 2 * x** 2 + x\n",
    "\n",
    "def derivada(x):\n",
    "    return 3 * x ** 2 + 4 * x + 1"
   ]
  },
  {
   "cell_type": "code",
   "execution_count": 32,
   "id": "512bffdb",
   "metadata": {},
   "outputs": [],
   "source": [
    "def rapin_newtow(inicial,decimais=8,decimais_resultado=2):\n",
    "    atual = inicial\n",
    "    anterior = float('inf')\n",
    "    while round(atual,decimais) != round(anterior,decimais):\n",
    "        anterior = atual\n",
    "        atual = atual - funcao(atual)/derivada(atual)\n",
    "    return round(atual,decimais_resultado)"
   ]
  },
  {
   "cell_type": "code",
   "execution_count": 12,
   "id": "bffef16e",
   "metadata": {},
   "outputs": [
    {
     "data": {
      "text/plain": [
       "100"
      ]
     },
     "execution_count": 12,
     "metadata": {},
     "output_type": "execute_result"
    }
   ],
   "source": [
    "funcao(4)"
   ]
  },
  {
   "cell_type": "code",
   "execution_count": 13,
   "id": "caa67cb8",
   "metadata": {},
   "outputs": [
    {
     "data": {
      "text/plain": [
       "65"
      ]
     },
     "execution_count": 13,
     "metadata": {},
     "output_type": "execute_result"
    }
   ],
   "source": [
    "derivada(4)"
   ]
  },
  {
   "cell_type": "code",
   "execution_count": 33,
   "id": "97e7a749",
   "metadata": {},
   "outputs": [
    {
     "data": {
      "text/plain": [
       "-1.0"
      ]
     },
     "execution_count": 33,
     "metadata": {},
     "output_type": "execute_result"
    }
   ],
   "source": [
    "rapin_newtow(-1.2)"
   ]
  },
  {
   "cell_type": "code",
   "execution_count": null,
   "id": "6497d7eb",
   "metadata": {},
   "outputs": [],
   "source": []
  }
 ],
 "metadata": {
  "kernelspec": {
   "display_name": "Python 3",
   "language": "python",
   "name": "python3"
  },
  "language_info": {
   "codemirror_mode": {
    "name": "ipython",
    "version": 3
   },
   "file_extension": ".py",
   "mimetype": "text/x-python",
   "name": "python",
   "nbconvert_exporter": "python",
   "pygments_lexer": "ipython3",
   "version": "3.9.4"
  }
 },
 "nbformat": 4,
 "nbformat_minor": 5
}
