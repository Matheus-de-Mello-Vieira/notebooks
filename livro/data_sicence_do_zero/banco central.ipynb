{
 "cells": [
  {
   "cell_type": "code",
   "execution_count": 1,
   "id": "a8342c93",
   "metadata": {},
   "outputs": [],
   "source": [
    "from bs4 import BeautifulSoup\n",
    "import requests"
   ]
  },
  {
   "cell_type": "code",
   "execution_count": 2,
   "id": "77645852",
   "metadata": {},
   "outputs": [],
   "source": [
    "import requests\n",
    "html = requests.get(\"http://Investing.com\").text\n",
    "soup = BeautifulSoup(html, 'html5lib')"
   ]
  },
  {
   "cell_type": "code",
   "execution_count": 3,
   "id": "92c0f8e5",
   "metadata": {},
   "outputs": [
    {
     "data": {
      "text/plain": [
       "<!--?xml version=\"1.0\" encoding=\"utf-8\"?--><!DOCTYPE html PUBLIC \"-//W3C//DTD XHTML 1.0 Strict//EN\" \"http://www.w3.org/TR/xhtml1/DTD/xhtml1-strict.dtd\">\n",
       "<html><head>\n",
       "<title>403 You are banned from this site.  Please contact via a different client configuration if you believe that this is a mistake.</title>\n",
       "<script async=\"\" src=\"/cdn-cgi/bm/cv/669835187/api.js\"></script></head>\n",
       "<body>\n",
       "<h1>Error 403 You are banned from this site. Please contact via a different client configuration if you believe that this is a mistake.</h1>\n",
       "<p>You are banned from this site. Please contact via a different client configuration if you believe that this is a mistake.</p>\n",
       "<h3>Guru Meditation:</h3>\n",
       "<p>XID: 1205849905</p>\n",
       "<hr/>\n",
       "<p>Varnish cache server</p>\n",
       "<script type=\"text/javascript\">(function(){window['__CF$cv$params']={r:'68a42ad778e33565',m:'cMxC5Fpqd_5kA56tmif2NFhRsBvWXlBie4wk0X9Zk2w-1630894294-0-AUWIdBP1yWCcjJb/i6+uvvL3sfMHm7rpygMX4TfjeOoUUEdQBQKdkvoInWSUdteKGC3mmYg+o7SCY6IZ5S2P4xqbqH7FD5ym5kmFuqKd6pZi9mCnyr/2ZvBDLY7wpKh5sA==',s:[0xa8d1706312,0xba7229716c],}})();</script><script data-cf-beacon='{\"rayId\":\"68a42ad778e33565\",\"token\":\"00ab903b5e184b1a9d53b0a7a5085300\",\"version\":\"2021.8.1\",\"si\":10}' defer=\"\" src=\"https://static.cloudflareinsights.com/beacon.min.js\"></script>\n",
       "\n",
       "\n",
       "</body></html>"
      ]
     },
     "execution_count": 3,
     "metadata": {},
     "output_type": "execute_result"
    }
   ],
   "source": [
    "soup"
   ]
  }
 ],
 "metadata": {
  "kernelspec": {
   "display_name": "Python 3",
   "language": "python",
   "name": "python3"
  },
  "language_info": {
   "codemirror_mode": {
    "name": "ipython",
    "version": 3
   },
   "file_extension": ".py",
   "mimetype": "text/x-python",
   "name": "python",
   "nbconvert_exporter": "python",
   "pygments_lexer": "ipython3",
   "version": "3.9.4"
  }
 },
 "nbformat": 4,
 "nbformat_minor": 5
}
