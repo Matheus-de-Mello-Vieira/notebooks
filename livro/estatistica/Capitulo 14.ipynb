{
 "cells": [
  {
   "cell_type": "code",
   "execution_count": 2,
   "id": "2a21f341",
   "metadata": {},
   "outputs": [],
   "source": [
    "import numpy as np\n",
    "from scipy import stats, optimize\n",
    "from tabulate import tabulate"
   ]
  },
  {
   "cell_type": "code",
   "execution_count": 10,
   "id": "1034418c",
   "metadata": {},
   "outputs": [],
   "source": [
    "def teste_qualidade_ajuste_cateogias_completamente_especificadas(freq,n,prob):\n",
    "    npi0 = prob * n\n",
    "    return((freq - npi0) ** 2 / npi0).sum()"
   ]
  },
  {
   "cell_type": "code",
   "execution_count": 173,
   "id": "ed7263f7",
   "metadata": {},
   "outputs": [],
   "source": [
    "def correlacao_ryaner_joiner(X):\n",
    "    n = len(X)\n",
    "    Y = stats.norm.ppf((np.arange(n) + .626)/(n + .25))\n",
    "    Sxy = (X*Y).sum() - X.sum() * Y.sum() / n\n",
    "    Sxx = (X**2).sum() - X.sum() ** 2 / n\n",
    "    Syy = (Y**2).sum() - Y.sum() ** 2 / n\n",
    "    return Sxy / np.sqrt(Sxx * Syy)"
   ]
  },
  {
   "cell_type": "code",
   "execution_count": 5,
   "id": "d64013b3",
   "metadata": {},
   "outputs": [],
   "source": [
    "def contruicao_chi_quadrado(dados,colunas=None,linhas=None):\n",
    "    if colunas == None:\n",
    "        colunas = list((np.arange(dados.shape[1]) + 1).astype('U'))\n",
    "    \n",
    "    if linhas == None:\n",
    "        linhas = list((np.arange(dados.shape[1]) + 1).astype('U'))\n",
    "    \n",
    "    soma_i = dados.sum(axis=0)\n",
    "    soma_j = dados.sum(axis=1)\n",
    "    \n",
    "    eij = (np.zeros(dados.shape) + 1) * soma_i * soma_j.reshape(-1,1) / dados.sum()\n",
    "    \n",
    "    contrib = (dados - eij)**2/eij\n",
    "    chi2 = contrib.sum()\n",
    "    \n",
    "    tabela = [[''] + colunas + ['total']]\n",
    "\n",
    "    for i in range(dados.shape[0]):\n",
    "        tabela += [\n",
    "            [linhas[i]] + list(dados[i]) + [soma_j[i]],\n",
    "            [''] + list(eij.round(2)[i]) + [''],\n",
    "            [''] + list(contrib.round(3)[i]) + [''],\n",
    "            []\n",
    "        ]\n",
    "    tabela += [['Total'] + list(soma_i) + [dados.sum()]]\n",
    "    \n",
    "    df = (len(soma_i) - 1) * (len(soma_j) - 1)\n",
    "    \n",
    "    \n",
    "    print(tabulate(tabela))\n",
    "    print(f'Chi-Sq = {chi2.sum().round(3)}',end=', ')\n",
    "    print(f'DF = {df}',end=', ')\n",
    "    print(f'P-Value = {stats.chi2.sf(chi2,df=df).round(3)}')"
   ]
  },
  {
   "cell_type": "code",
   "execution_count": 332,
   "id": "8301e06a",
   "metadata": {},
   "outputs": [],
   "source": [
    "dados = np.array([\n",
    "[31, 68, 17, 21, 13],\n",
    "[19, 47, 30, 19, 10],\n",
    "[33, 26, 16, 14, 11],\n",
    "])\n",
    "colunas = ['Blemish','Crack','Location','Missing','Other']"
   ]
  },
  {
   "cell_type": "code",
   "execution_count": 321,
   "id": "25044d45",
   "metadata": {},
   "outputs": [],
   "source": [
    "dados = np.array([\n",
    "    [422, 433, 429, 414],\n",
    "    [1493, 1655, 1556, 1605],\n",
    "    [1239,1276,1243,1179],\n",
    "    [61,110,73,74]\n",
    "])\n",
    "title=['Q1','Q2','Q3','Q4']"
   ]
  },
  {
   "cell_type": "code",
   "execution_count": 333,
   "id": "e3ddfdc8",
   "metadata": {},
   "outputs": [],
   "source": [
    "dados = np.array([\n",
    "    [25,10],\n",
    "    [24,32],\n",
    "    [28,17],\n",
    "    [19,34]\n",
    "])\n",
    "colunas = ['Masculino','Feminino']\n",
    "linhas = ['<16','16-17','18-20','>20']"
   ]
  },
  {
   "cell_type": "code",
   "execution_count": 6,
   "id": "2920ce15",
   "metadata": {},
   "outputs": [
    {
     "name": "stdout",
     "output_type": "stream",
     "text": [
      "------  ---------------  -----------------  -------------  -----\n",
      "        Face preference  Mobile preference  No preference  total\n",
      "Male    11               19                 14             44\n",
      "        13.8             12.51              17.69\n",
      "        0.57             3.367              0.768\n",
      "\n",
      "Female  21               10                 27             58\n",
      "        18.2             16.49              23.31\n",
      "        0.432            2.554              0.583\n",
      "\n",
      "Total   32               29                 41             102\n",
      "------  ---------------  -----------------  -------------  -----\n",
      "Chi-Sq = 8.274, DF = 2, P-Value = 0.016\n"
     ]
    }
   ],
   "source": [
    "contruicao_chi_quadrado(dados,colunas,linhas)"
   ]
  },
  {
   "cell_type": "code",
   "execution_count": 3,
   "id": "3f869898",
   "metadata": {},
   "outputs": [],
   "source": [
    "dados = np.array([\n",
    "    [11, 19, 14],\n",
    "    [21, 10, 27]\n",
    "])\n",
    "colunas = ['Face preference', 'Mobile preference', 'No preference']\n",
    "linhas = ['Male', 'Female']"
   ]
  },
  {
   "cell_type": "code",
   "execution_count": 4,
   "id": "1a07e771",
   "metadata": {},
   "outputs": [
    {
     "ename": "NameError",
     "evalue": "name 'contruicao_chi_quadrado' is not defined",
     "output_type": "error",
     "traceback": [
      "\u001b[1;31m---------------------------------------------------------------------------\u001b[0m",
      "\u001b[1;31mNameError\u001b[0m                                 Traceback (most recent call last)",
      "\u001b[1;32m<ipython-input-4-fac0639e120a>\u001b[0m in \u001b[0;36m<module>\u001b[1;34m\u001b[0m\n\u001b[1;32m----> 1\u001b[1;33m \u001b[0mcontruicao_chi_quadrado\u001b[0m\u001b[1;33m(\u001b[0m\u001b[0mdados\u001b[0m\u001b[1;33m,\u001b[0m\u001b[0mcolunas\u001b[0m\u001b[1;33m,\u001b[0m\u001b[0mlinhas\u001b[0m\u001b[1;33m)\u001b[0m\u001b[1;33m\u001b[0m\u001b[1;33m\u001b[0m\u001b[0m\n\u001b[0m",
      "\u001b[1;31mNameError\u001b[0m: name 'contruicao_chi_quadrado' is not defined"
     ]
    }
   ],
   "source": [
    "contruicao_chi_quadrado(dados,colunas,linhas)"
   ]
  },
  {
   "cell_type": "code",
   "execution_count": null,
   "id": "5be36e9b",
   "metadata": {},
   "outputs": [],
   "source": []
  }
 ],
 "metadata": {
  "kernelspec": {
   "display_name": "Python 3",
   "language": "python",
   "name": "python3"
  },
  "language_info": {
   "codemirror_mode": {
    "name": "ipython",
    "version": 3
   },
   "file_extension": ".py",
   "mimetype": "text/x-python",
   "name": "python",
   "nbconvert_exporter": "python",
   "pygments_lexer": "ipython3",
   "version": "3.9.4"
  }
 },
 "nbformat": 4,
 "nbformat_minor": 5
}
