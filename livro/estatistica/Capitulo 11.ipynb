{
 "cells": [
  {
   "cell_type": "markdown",
   "id": "79f94183",
   "metadata": {},
   "source": [
    "# Seção 1"
   ]
  },
  {
   "cell_type": "code",
   "execution_count": 1,
   "id": "1dd0eec2",
   "metadata": {},
   "outputs": [],
   "source": [
    "import numpy as np\n",
    "from tabulate import tabulate\n",
    "import matplotlib.pyplot as plt\n",
    "from scipy.stats import f, studentized_range, norm"
   ]
  },
  {
   "cell_type": "code",
   "execution_count": 2,
   "id": "dac70784",
   "metadata": {},
   "outputs": [],
   "source": [
    "def anova_dois_fatores_k1(dados):\n",
    "    I, J = dados.shape\n",
    "    SQT = ((dados - dados.mean()) ** 2).sum()\n",
    "    SQA = J * ((dados.mean(axis=1) - dados.mean())**2).sum()\n",
    "    SQB = I * ((dados.mean(axis=0) - dados.mean())**2).sum()\n",
    "    SQE = SQT - SQA - SQB\n",
    "    \n",
    "    QME = SQE / ((I-1)*(J-1))\n",
    "    QMA = SQA / (I - 1)\n",
    "    QMB = SQB / (J - 1)\n",
    "    \n",
    "    fa = QMA/QME\n",
    "    fb = QMB/QME\n",
    "    \n",
    "    cabecalho = ['Fonte de variação','gl','Soma de quadrados','Quadrado médio','f','valor-p']\n",
    "    tabela = [\n",
    "        ['fator A',I - 1, SQA.round(2), QMA.round(2), fa.round(2),f.sf(fa,I-1, (I-1)*(J-1)).round(3)],\n",
    "        ['fator B',J - 1, SQB.round(2), QMB.round(2), fb.round(2),f.sf(fb,J-1, (I-1)*(J-1)).round(3)],\n",
    "        ['Erro',(I-1)*(J-1),SQE.round(2),QME.round(2),\"\",\"\"],\n",
    "        ['total',I * J - 1,SQT.round(2),\"\",\"\"]\n",
    "    ]\n",
    "    \n",
    "    print(tabulate(tabela,cabecalho,tablefmt='fancy_grid'))"
   ]
  },
  {
   "cell_type": "code",
   "execution_count": 3,
   "id": "4ab1ddf3",
   "metadata": {},
   "outputs": [],
   "source": [
    "dados = np.array([\n",
    "    [.97, .48, .48, .46],\n",
    "    [.77, .14, .22, .25],\n",
    "    [.67, .39, .57, .19]\n",
    "])"
   ]
  },
  {
   "cell_type": "code",
   "execution_count": 107,
   "id": "abfd0931",
   "metadata": {},
   "outputs": [],
   "source": [
    "dados = np.array([\n",
    "    [64, 49, 50],\n",
    "    [53, 51, 48],\n",
    "    [47, 45, 50],\n",
    "    [51, 43, 52]\n",
    "])"
   ]
  },
  {
   "cell_type": "code",
   "execution_count": 123,
   "id": "40eb3c51",
   "metadata": {},
   "outputs": [],
   "source": [
    "dados = np.array([\n",
    "    [.2433, 0.383, .5625, .7258],\n",
    "    [.159, .2649, .3609, .4773]\n",
    "])"
   ]
  },
  {
   "cell_type": "code",
   "execution_count": 124,
   "id": "bd174aba",
   "metadata": {},
   "outputs": [],
   "source": [
    "dados = np.array([\n",
    "    [54, 46, 51],\n",
    "    [46, 44, 47],\n",
    "    [39, 42, 44],\n",
    "    [44, 37, 43]\n",
    "])"
   ]
  },
  {
   "cell_type": "code",
   "execution_count": 126,
   "id": "97645396",
   "metadata": {},
   "outputs": [],
   "source": [
    "dados = np.array([\n",
    "    [105.7, 116.6, 106.6, 113.9, 119.4, 123.5],\n",
    "    [113.3, 119.9, 120.5, 119.3, 122.5, 124.0],\n",
    "    [117.2, 124.4, 122.3, 120.0, 115.1, 127.9],\n",
    "    [110.0, 106.8, 110.0, 115.3, 122.6, 128.3]\n",
    "])"
   ]
  },
  {
   "cell_type": "code",
   "execution_count": 4,
   "id": "576f3d90",
   "metadata": {},
   "outputs": [
    {
     "name": "stdout",
     "output_type": "stream",
     "text": [
      "╒═════════════════════╤══════╤═════════════════════╤══════════════════╤═══════╤═══════════╕\n",
      "│ Fonte de variação   │   gl │   Soma de quadrados │ Quadrado médio   │ f     │ valor-p   │\n",
      "╞═════════════════════╪══════╪═════════════════════╪══════════════════╪═══════╪═══════════╡\n",
      "│ fator A             │    2 │                0.13 │ 0.06             │ 4.43  │ 0.066     │\n",
      "├─────────────────────┼──────┼─────────────────────┼──────────────────┼───────┼───────────┤\n",
      "│ fator B             │    3 │                0.48 │ 0.16             │ 11.05 │ 0.007     │\n",
      "├─────────────────────┼──────┼─────────────────────┼──────────────────┼───────┼───────────┤\n",
      "│ Erro                │    6 │                0.09 │ 0.01             │       │           │\n",
      "├─────────────────────┼──────┼─────────────────────┼──────────────────┼───────┼───────────┤\n",
      "│ total               │   11 │                0.69 │                  │       │           │\n",
      "╘═════════════════════╧══════╧═════════════════════╧══════════════════╧═══════╧═══════════╛\n"
     ]
    }
   ],
   "source": [
    "anova_dois_fatores_k1(dados)"
   ]
  },
  {
   "cell_type": "code",
   "execution_count": 9,
   "id": "4349d24e",
   "metadata": {},
   "outputs": [],
   "source": [
    "def graficos_avaliativos_k1(dados):\n",
    "    dominio = np.arange(dados.shape[1]) + 1\n",
    "    for i, amostra in enumerate(dados):\n",
    "        plt.plot(dominio, amostra, label=i+1)\n",
    "    plt.title(\"Gráficos e interação\")\n",
    "    plt.xlabel(\"Níveis de B\")\n",
    "    plt.ylabel(\"Resposta média\")\n",
    "    plt.legend()\n",
    "    plt.show()\n",
    "    \n",
    "    dados_ajustados = (np.zeros(dados.shape) + dados.mean(axis=0) + dados.mean(axis=1).reshape(-1,1) - dados.mean()).reshape(-1)\n",
    "    residuos = (dados - dados.mean(axis=0) - dados.mean(axis=1).reshape(-1,1) + dados.mean()).reshape(-1)\n",
    "    plt.plot(dados_ajustados, residuos, 'o')\n",
    "    plt.title(\"Gráfico de variância\")\n",
    "    plt.xlabel(\"Valor ajustado\")\n",
    "    plt.ylabel(\"Resíduo\")\n",
    "    antigo = plt.axis()\n",
    "    plt.plot(antigo[0:2],[0,0],color=\"black\")\n",
    "    plt.axis(antigo)\n",
    "    plt.show()\n",
    "    residuos.sort()\n",
    "    \n",
    "    plt.plot(norm.ppf((np.arange(len(residuos)) + 0.5)/len(residuos)).round(2),residuos, 'o')\n",
    "    plt.title(\"Gráfico de normalidade dos residuos\")\n",
    "    plt.xlabel(\"Resíduo\")\n",
    "    plt.ylabel(\"Percentagem\")\n",
    "    plt.show()"
   ]
  },
  {
   "cell_type": "code",
   "execution_count": 10,
   "id": "01713b1e",
   "metadata": {},
   "outputs": [
    {
     "data": {
      "image/png": "[encoded data removed]",
      "text/plain": [
       "<Figure size 432x288 with 1 Axes>"
      ]
     },
     "metadata": {
      "needs_background": "light"
     },
     "output_type": "display_data"
    },
    {
     "data": {
      "image/png": "[encoded data removed]",
      "text/plain": [
       "<Figure size 432x288 with 1 Axes>"
      ]
     },
     "metadata": {
      "needs_background": "light"
     },
     "output_type": "display_data"
    },
    {
     "data": {
      "image/png": "[encoded data removed]",
      "text/plain": [
       "<Figure size 432x288 with 1 Axes>"
      ]
     },
     "metadata": {
      "needs_background": "light"
     },
     "output_type": "display_data"
    }
   ],
   "source": [
    "graficos_avaliativos_k1(dados)"
   ]
  },
  {
   "cell_type": "code",
   "execution_count": 120,
   "id": "20bc8c7b",
   "metadata": {},
   "outputs": [
    {
     "data": {
      "text/plain": [
       "0.02"
      ]
     },
     "execution_count": 120,
     "metadata": {},
     "output_type": "execute_result"
    }
   ],
   "source": [
    "f.sf(20.62, 3, 3).round(2)"
   ]
  },
  {
   "cell_type": "code",
   "execution_count": null,
   "id": "ba6d7a3d",
   "metadata": {},
   "outputs": [],
   "source": [
    "def graficos_avaliativos_kg1(dados):\n",
    "    dominio = np.arange(dados.shape[1]) + 1\n",
    "    for i, amostra in enumerate(dados):\n",
    "        plt.plot(dominio, amostra.mean(axis=1), label=i+1, ms = 5, marker = 'o')\n",
    "    plt.title(\"Gráficos e interação\")\n",
    "    plt.xlabel(\"Níveis de B\")\n",
    "    plt.ylabel(\"Resposta média\")\n",
    "    plt.legend()\n",
    "    plt.show()\n",
    "    \n",
    "        dados_ajustados = dados.mean(axis=2).repeat(2).reshape(-1)\n",
    "    residuos = dados.reshape(-1) - dados_ajustados\n",
    "    plt.plot(dados_ajustados, residuos, 'o')\n",
    "    plt.title(\"Gráfico de variância\")\n",
    "    plt.xlabel(\"Valor ajustado\")\n",
    "    plt.ylabel(\"Resíduo\")\n",
    "    plt.show()\n",
    "    residuos.sort()\n",
    "\n",
    "    plt.plot(norm.ppf((np.arange(len(residuos)) + 0.5)/len(residuos)).round(2),residuos, 'o')\n",
    "    plt.title(\"Gráfico de normalidade dos residuos\")\n",
    "    plt.xlabel(\"Resíduo\")\n",
    "    plt.ylabel(\"Percentagem\")\n",
    "    plt.show()"
   ]
  },
  {
   "cell_type": "code",
   "execution_count": 66,
   "id": "203a9ce5",
   "metadata": {},
   "outputs": [],
   "source": [
    "dados = np.array([\n",
    "    [\n",
    "        [.835, .845],\n",
    "        [.822, .826],\n",
    "        [.785, .795]\n",
    "    ],\n",
    "    [\n",
    "        [.855, .865],\n",
    "        [.832, .836],\n",
    "        [.790, .800]\n",
    "    ],\n",
    "    [\n",
    "        [.815, .825],\n",
    "        [.800, .820],\n",
    "        [.770, .790]\n",
    "    ]\n",
    "])"
   ]
  },
  {
   "cell_type": "code",
   "execution_count": 3,
   "id": "646bba22",
   "metadata": {},
   "outputs": [],
   "source": [
    "dados = np.array([\n",
    "    [\n",
    "        [1, 3],\n",
    "        [9, 9],\n",
    "        [7, 9]\n",
    "    ],\n",
    "    [\n",
    "        [7, 9],\n",
    "        [9, 14],\n",
    "        [9, 14]\n",
    "    ],\n",
    "    [\n",
    "        [5, 14],\n",
    "        [14, 12],\n",
    "        [14, 14]\n",
    "    ]\n",
    "])\n",
    "\n",
    "areia = [0,15,30]\n",
    "carbono = [0, 0.25, 0.5]\n",
    "for i, fibra_caborno in enumerate(dados.mean(axis=2).T):\n",
    "    plt.plot(areia, fibra_caborno, label=carbono[i])\n",
    "plt.title(\"Dureza da fundação\")\n",
    "plt.xlabel(\"Acréscimo de areia\")\n",
    "plt.ylabel(\"Dureza média amostral\")\n",
    "plt.legend()\n",
    "plt.show()"
   ]
  },
  {
   "cell_type": "code",
   "execution_count": 4,
   "id": "f49c0b70",
   "metadata": {},
   "outputs": [],
   "source": [
    "def anova_dois_fatores_kg1(dados):\n",
    "    (I,J,K) = dados.shape\n",
    "    SQT = ((dados - dados.mean()) ** 2).sum()\n",
    "    SQE = ((dados - dados.mean(axis=2).repeat(2).reshape(I,J,K)) ** 2).sum()\n",
    "    SQA = J * K * ((dados.mean(axis=(1,2)) - dados.mean())**2).sum()\n",
    "    SQB = I * K * ((dados.mean(axis=(0,2)) - dados.mean())**2).sum()\n",
    "    SQAB = SQT - SQA - SQB - SQE\n",
    "    \n",
    "    QMT = SQT/(I * J * K - 1)\n",
    "    QME = SQE/(I  * J * (K - 1))\n",
    "    QMA = SQA/(I - 1)\n",
    "    QMB = SQB/(J - 1)\n",
    "    QMAB = SQAB/((I-1) * (J-1))\n",
    "    \n",
    "    fab = QMAB/QME\n",
    "    fa = QMA/QME\n",
    "    fb = QMB/QME\n",
    "    \n",
    "    cabecalho = ['Fonte','gl','SQ','QM','f','valor-p']\n",
    "    tabela = [\n",
    "        ['fator A',I - 1, SQA.round(7), QMA.round(7), fa.round(2),f.sf(fa,I-1, I * J * (K-1)).round(3)],\n",
    "        ['fator B',J - 1, SQB.round(7), QMB.round(7), fb.round(2),f.sf(fa,J-1, I * J * (K-1)).round(3)],\n",
    "        ['interação', (I-1)*(J-1), SQAB.round(7), QMAB.round(7), fab.round(2),f.sf(fab,(I-1)*(J-1), I * J * (K-1)).round(3)],\n",
    "        ['erro',(I*J*(K-1)),SQE.round(7),QME.round(7),\"\",\"\"],\n",
    "        ['total',I*J*K-1,SQT.round(7),\"\",\"\"]\n",
    "    ]\n",
    "    \n",
    "    print(tabulate(tabela,cabecalho,tablefmt='fancy_grid'))"
   ]
  },
  {
   "cell_type": "code",
   "execution_count": 5,
   "id": "52c743f9",
   "metadata": {},
   "outputs": [
    {
     "name": "stdout",
     "output_type": "stream",
     "text": [
      "╒═══════════╤══════╤═══════════╤════════════╤══════╤═══════════╕\n",
      "│ Fonte     │   gl │        SQ │ QM         │ f    │ valor-p   │\n",
      "╞═══════════╪══════╪═══════════╪════════════╪══════╪═══════════╡\n",
      "│ fator A   │    2 │ 106.778   │ 53.3888889 │ 6.54 │ 0.018     │\n",
      "├───────────┼──────┼───────────┼────────────┼──────┼───────────┤\n",
      "│ fator B   │    2 │  87.1111  │ 43.5555556 │ 5.33 │ 0.018     │\n",
      "├───────────┼──────┼───────────┼────────────┼──────┼───────────┤\n",
      "│ interação │    4 │   8.88889 │ 2.2222222  │ 0.27 │ 0.889     │\n",
      "├───────────┼──────┼───────────┼────────────┼──────┼───────────┤\n",
      "│ erro      │    9 │  73.5     │ 8.1666667  │      │           │\n",
      "├───────────┼──────┼───────────┼────────────┼──────┼───────────┤\n",
      "│ total     │   17 │ 276.278   │            │      │           │\n",
      "╘═══════════╧══════╧═══════════╧════════════╧══════╧═══════════╛\n"
     ]
    }
   ],
   "source": [
    "anova_dois_fatores_kg1(dados)"
   ]
  },
  {
   "cell_type": "code",
   "execution_count": 61,
   "id": "8af1a750",
   "metadata": {},
   "outputs": [
    {
     "data": {
      "text/plain": [
       "4.454915058145453"
      ]
     },
     "execution_count": 61,
     "metadata": {},
     "output_type": "execute_result"
    }
   ],
   "source": [
    "studentized_range.isf(0.01, 3, 30)"
   ]
  },
  {
   "cell_type": "code",
   "execution_count": 19,
   "id": "43cf4fbc",
   "metadata": {},
   "outputs": [
    {
     "name": "stdout",
     "output_type": "stream",
     "text": [
      "╒═══════════╤══════╤══════════╤═══════════╤═══════╤═══════════╕\n",
      "│ Fonte     │   gl │       SQ │ QM        │ f     │ valor-p   │\n",
      "╞═══════════╪══════╪══════════╪═══════════╪═══════╪═══════════╡\n",
      "│ fator A   │    2 │ 22941.8  │ 11470.9   │ 11.28 │ 0.001     │\n",
      "├───────────┼──────┼──────────┼───────────┼───────┼───────────┤\n",
      "│ fator B   │    4 │ 22765.5  │ 5691.3825 │ 5.6   │ 0.0       │\n",
      "├───────────┼──────┼──────────┼───────────┼───────┼───────────┤\n",
      "│ interação │    8 │  3993.87 │ 499.23375 │ 0.49  │ 0.844     │\n",
      "├───────────┼──────┼──────────┼───────────┼───────┼───────────┤\n",
      "│ erro      │   15 │ 15253.5  │ 1016.9    │       │           │\n",
      "├───────────┼──────┼──────────┼───────────┼───────┼───────────┤\n",
      "│ total     │   29 │ 64954.7  │           │       │           │\n",
      "╘═══════════╧══════╧══════════╧═══════════╧═══════╧═══════════╛\n"
     ]
    }
   ],
   "source": [
    "(I,J,K) = 3, 5, 2\n",
    "SQT = np.array(64954.7)\n",
    "SQE = np.array(15253.5)\n",
    "SQA = np.array(22941.8)\n",
    "SQB = np.array(22765.53)\n",
    "SQAB = SQT - SQA - SQB - SQE\n",
    "\n",
    "QMT = SQT/(I * J * K - 1)\n",
    "QME = SQE/(I  * J * (K - 1))\n",
    "QMA = SQA/(I - 1)\n",
    "QMB = SQB/(J - 1)\n",
    "QMAB = SQAB/((I-1) * (J-1))\n",
    "\n",
    "fab = QMAB/QME\n",
    "fa = QMA/QME\n",
    "fb = QMB/QME\n",
    "\n",
    "cabecalho = ['Fonte','gl','SQ','QM','f','valor-p']\n",
    "tabela = [\n",
    "    ['fator A',I - 1, SQA.round(7), str(QMA.round(7)), fa.round(2),f.sf(fa,I-1, I * J * (K-1)).round(3)],\n",
    "    ['fator B',J - 1, SQB.round(7), QMB.round(7), fb.round(2),f.sf(fa,J-1, I * J * (K-1)).round(3)],\n",
    "    ['interação', (I-1)*(J-1), SQAB.round(7), QMAB.round(7), fab.round(2),f.sf(fab,(I-1)*(J-1), I * J * (K-1)).round(3)],\n",
    "    ['erro',(I*J*(K-1)),SQE.round(7),QME.round(7),\"\",\"\"],\n",
    "    ['total',I*J*K-1,SQT.round(7),\"\",\"\"]\n",
    "]\n",
    "\n",
    "print(tabulate(tabela,cabecalho,tablefmt='fancy_grid'))"
   ]
  },
  {
   "cell_type": "code",
   "execution_count": null,
   "id": "80dc49ad",
   "metadata": {},
   "outputs": [],
   "source": [
    "for i, amostra in enumerate(dados):\n",
    "        plt.plot(dominio, amostra, label=i+1)\n",
    "    plt.title(\"Gráficos e interação\")\n",
    "    plt.xlabel(\"Níveis de B\")\n",
    "    plt.ylabel(\"Resposta média\")\n",
    "    plt.legend()"
   ]
  }
 ],
 "metadata": {
  "kernelspec": {
   "display_name": "Python 3",
   "language": "python",
   "name": "python3"
  },
  "language_info": {
   "codemirror_mode": {
    "name": "ipython",
    "version": 3
   },
   "file_extension": ".py",
   "mimetype": "text/x-python",
   "name": "python",
   "nbconvert_exporter": "python",
   "pygments_lexer": "ipython3",
   "version": "3.9.4"
  }
 },
 "nbformat": 4,
 "nbformat_minor": 5
}
