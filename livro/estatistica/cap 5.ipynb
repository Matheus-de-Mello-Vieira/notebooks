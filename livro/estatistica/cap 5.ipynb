{
 "cells": [
  {
   "cell_type": "code",
   "execution_count": 2,
   "id": "f0a71300",
   "metadata": {},
   "outputs": [],
   "source": [
    "import matplotlib.pyplot as plt\n",
    "import numpy as np\n",
    "import seaborn as sns\n",
    "from math import exp"
   ]
  },
  {
   "cell_type": "code",
   "execution_count": 10,
   "id": "26c8c259",
   "metadata": {},
   "outputs": [],
   "source": [
    "def weibull(x, alpha, beta):\n",
    "    return alpha / beta ** alpha * x ** (alpha - 1) * exp(-(x/beta)**alpha)"
   ]
  },
  {
   "cell_type": "code",
   "execution_count": 11,
   "id": "cce778ae",
   "metadata": {},
   "outputs": [
    {
     "data": {
      "text/plain": [
       "0.07686315513218586"
      ]
     },
     "execution_count": 11,
     "metadata": {},
     "output_type": "execute_result"
    }
   ],
   "source": [
    "weibull(1,2,5)"
   ]
  },
  {
   "cell_type": "code",
   "execution_count": 74,
   "id": "fefd9ded",
   "metadata": {},
   "outputs": [
    {
     "data": {
      "text/plain": [
       "[<matplotlib.lines.Line2D at 0x18b574889a0>]"
      ]
     },
     "execution_count": 74,
     "metadata": {},
     "output_type": "execute_result"
    },
    {
     "data": {
      "image/png": "[encoded data removed]",
      "text/plain": [
       "<Figure size 432x288 with 1 Axes>"
      ]
     },
     "metadata": {
      "needs_background": "light"
     },
     "output_type": "display_data"
    }
   ],
   "source": [
    "inicio = 0\n",
    "fim = 15\n",
    "resolucao = 1000000.0\n",
    "alpha = 2\n",
    "beta = 5\n",
    "\n",
    "\n",
    "delta = (fim - inicio) / resolucao\n",
    "atual = inicio\n",
    "xs = [inicio]\n",
    "\n",
    "for _ in range(round(resolucao)):\n",
    "    atual += delta\n",
    "    xs.append(atual)\n",
    "    \n",
    "ys = []\n",
    "\n",
    "for x in xs:\n",
    "    ys.append(weibull(x,alpha,beta))\n",
    "    \n",
    "plt.plot(xs,ys)"
   ]
  },
  {
   "cell_type": "code",
   "execution_count": null,
   "id": "03da637b",
   "metadata": {},
   "outputs": [],
   "source": [
    "inicio = 0\n",
    "fim = 15\n",
    "resolucao = 1000000.0\n",
    "alpha = 2\n",
    "beta = 5"
   ]
  },
  {
   "cell_type": "code",
   "execution_count": 71,
   "id": "d62c930e",
   "metadata": {},
   "outputs": [
    {
     "data": {
      "image/png": "[encoded data removed]",
      "text/plain": [
       "<Figure size 432x288 with 4 Axes>"
      ]
     },
     "metadata": {
      "needs_background": "light"
     },
     "output_type": "display_data"
    }
   ],
   "source": [
    "tamanhos = [5, 10, 20, 30]\n",
    "plt.figure(constrained_layout=True)\n",
    "\n",
    "for i,n in enumerate(tamanhos):\n",
    "    x = []\n",
    "    \n",
    "    for _ in range(1000):\n",
    "        x.append(np.random.uniform(low=200,high=250,size=n).mean())\n",
    "        \n",
    "    plt.subplot(2, 2, i + 1)\n",
    "    plt.hist(x)\n",
    "    plt.title(f\"n = {n}\")\n",
    "\n",
    "plt.suptitle(\"Amostra aleatórias da distribuição uniforme (200, 250)\")\n",
    "plt.show()"
   ]
  },
  {
   "cell_type": "code",
   "execution_count": 98,
   "id": "8a4aa59f",
   "metadata": {},
   "outputs": [
    {
     "ename": "ValueError",
     "evalue": "probabilities do not sum to 1",
     "output_type": "error",
     "traceback": [
      "\u001b[1;31m---------------------------------------------------------------------------\u001b[0m",
      "\u001b[1;31mValueError\u001b[0m                                Traceback (most recent call last)",
      "\u001b[1;32m<ipython-input-98-711d731b0085>\u001b[0m in \u001b[0;36m<module>\u001b[1;34m\u001b[0m\n\u001b[0;32m      6\u001b[0m \u001b[1;33m\u001b[0m\u001b[0m\n\u001b[0;32m      7\u001b[0m     \u001b[1;32mfor\u001b[0m \u001b[0m_\u001b[0m \u001b[1;32min\u001b[0m \u001b[0mrange\u001b[0m\u001b[1;33m(\u001b[0m\u001b[1;36m1000\u001b[0m\u001b[1;33m)\u001b[0m\u001b[1;33m:\u001b[0m\u001b[1;33m\u001b[0m\u001b[1;33m\u001b[0m\u001b[0m\n\u001b[1;32m----> 8\u001b[1;33m         \u001b[0mx\u001b[0m\u001b[1;33m.\u001b[0m\u001b[0mappend\u001b[0m\u001b[1;33m(\u001b[0m\u001b[0mnp\u001b[0m\u001b[1;33m.\u001b[0m\u001b[0mrandom\u001b[0m\u001b[1;33m.\u001b[0m\u001b[0mchoice\u001b[0m\u001b[1;33m(\u001b[0m\u001b[0mxs\u001b[0m\u001b[1;33m,\u001b[0m \u001b[0mp\u001b[0m\u001b[1;33m=\u001b[0m\u001b[0mys\u001b[0m\u001b[1;33m,\u001b[0m \u001b[0msize\u001b[0m\u001b[1;33m=\u001b[0m\u001b[0mn\u001b[0m\u001b[1;33m)\u001b[0m\u001b[1;33m.\u001b[0m\u001b[0mmean\u001b[0m\u001b[1;33m(\u001b[0m\u001b[1;33m)\u001b[0m\u001b[1;33m)\u001b[0m\u001b[1;33m\u001b[0m\u001b[1;33m\u001b[0m\u001b[0m\n\u001b[0m\u001b[0;32m      9\u001b[0m \u001b[1;33m\u001b[0m\u001b[0m\n\u001b[0;32m     10\u001b[0m     \u001b[0mplt\u001b[0m\u001b[1;33m.\u001b[0m\u001b[0msubplot\u001b[0m\u001b[1;33m(\u001b[0m\u001b[1;36m2\u001b[0m\u001b[1;33m,\u001b[0m \u001b[1;36m2\u001b[0m\u001b[1;33m,\u001b[0m \u001b[0mi\u001b[0m \u001b[1;33m+\u001b[0m \u001b[1;36m1\u001b[0m\u001b[1;33m)\u001b[0m\u001b[1;33m\u001b[0m\u001b[1;33m\u001b[0m\u001b[0m\n",
      "\u001b[1;32mmtrand.pyx\u001b[0m in \u001b[0;36mnumpy.random.mtrand.RandomState.choice\u001b[1;34m()\u001b[0m\n",
      "\u001b[1;31mValueError\u001b[0m: probabilities do not sum to 1"
     ]
    },
    {
     "data": {
      "text/plain": [
       "<Figure size 360x360 with 0 Axes>"
      ]
     },
     "metadata": {},
     "output_type": "display_data"
    }
   ],
   "source": [
    "tamanhos = [5, 10, 20, 30]\n",
    "plt.figure(figsize=(5,5),constrained_layout=True)\n",
    "\n",
    "for i,n in enumerate(tamanhos):\n",
    "    x = []\n",
    "    \n",
    "   \n",
    "        \n",
    "    plt.subplot(2, 2, i + 1)\n",
    "    plt.hist(x)\n",
    "    plt.title(f\"n = {n}\")\n",
    "\n",
    "plt.suptitle(\"Amostra aleatórias da distribuição Weibull alpha = 200, beta = 250\")\n",
    "plt.show()"
   ]
  },
  {
   "cell_type": "code",
   "execution_count": 3,
   "id": "ef13addb",
   "metadata": {},
   "outputs": [],
   "source": [
    "x = np.array([0,1,2,3,4,5])\n",
    "px = np.array([0.05,0.1,0.25,0.3,0.2,0.1])"
   ]
  },
  {
   "cell_type": "code",
   "execution_count": 6,
   "id": "b832f05c",
   "metadata": {},
   "outputs": [
    {
     "data": {
      "text/plain": [
       "9.5"
      ]
     },
     "execution_count": 6,
     "metadata": {},
     "output_type": "execute_result"
    }
   ],
   "source": [
    "(x ** 2 * px).sum()"
   ]
  },
  {
   "cell_type": "code",
   "execution_count": 10,
   "id": "76ffb138",
   "metadata": {},
   "outputs": [],
   "source": [
    "y = np.array([0,1,2])\n",
    "py = np.array([0.05,0.3,0.2])"
   ]
  },
  {
   "cell_type": "code",
   "execution_count": 12,
   "id": "5692917f",
   "metadata": {},
   "outputs": [
    {
     "data": {
      "text/plain": [
       "0.7"
      ]
     },
     "execution_count": 12,
     "metadata": {},
     "output_type": "execute_result"
    }
   ],
   "source": [
    "(y * py).sum()"
   ]
  },
  {
   "cell_type": "code",
   "execution_count": 16,
   "id": "964a95e1",
   "metadata": {},
   "outputs": [],
   "source": [
    "tabela = np.array([[0.08, 0.06, 0.05, 0.00, 0.00],\n",
    "[0.07, 0.15, 0.04, 0.03, 0.01],\n",
    "[0.04, 0.05, 0.10, 0.04, 0.05],\n",
    "[0.00, 0.04, 0.06, 0.07, 0.06]])"
   ]
  },
  {
   "cell_type": "code",
   "execution_count": 18,
   "id": "791e6b38",
   "metadata": {},
   "outputs": [
    {
     "data": {
      "text/plain": [
       "array([0.19, 0.3 , 0.28, 0.23])"
      ]
     },
     "execution_count": 18,
     "metadata": {},
     "output_type": "execute_result"
    }
   ],
   "source": [
    "tabela.sum(axis=1)"
   ]
  },
  {
   "cell_type": "code",
   "execution_count": null,
   "id": "7f6ea45a",
   "metadata": {},
   "outputs": [],
   "source": []
  }
 ],
 "metadata": {
  "kernelspec": {
   "display_name": "Python 3",
   "language": "python",
   "name": "python3"
  },
  "language_info": {
   "codemirror_mode": {
    "name": "ipython",
    "version": 3
   },
   "file_extension": ".py",
   "mimetype": "text/x-python",
   "name": "python",
   "nbconvert_exporter": "python",
   "pygments_lexer": "ipython3",
   "version": "3.9.4"
  }
 },
 "nbformat": 4,
 "nbformat_minor": 5
}
