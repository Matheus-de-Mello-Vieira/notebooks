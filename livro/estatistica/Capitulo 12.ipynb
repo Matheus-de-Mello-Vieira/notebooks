{
 "cells": [
  {
   "cell_type": "code",
   "execution_count": 1,
   "id": "24a063fd",
   "metadata": {},
   "outputs": [],
   "source": [
    "import numpy as np\n",
    "from scipy import stats\n",
    "from tabulate import tabulate\n",
    "import matplotlib.pyplot as plt"
   ]
  },
  {
   "cell_type": "code",
   "execution_count": null,
   "id": "15cc5f0c",
   "metadata": {},
   "outputs": [],
   "source": [
    "def plot_regrecao_linear_min_quad(X,Y):\n",
    "    Sxy = (X * Y).sum() - X.sum() * Y.sum()/len(X)\n",
    "    Sxx = (X**2).sum() - (X.sum() ** 2)/len(X)\n",
    "    Syy = (Y**2).sum() - (Y.sum() ** 2)/len(X)\n",
    "    b1 = Sxy/Sxx\n",
    "    b0 = Y.mean() - b1 * X.mean()\n",
    "    x_reta = np.array(plt.axis()[0:2])\n",
    "    y_reta = b0 + b1 * x_reta\n",
    "    plt.plot(x_reta,y_reta,\"r\",linewidth = '2')"
   ]
  },
  {
   "cell_type": "code",
   "execution_count": null,
   "id": "fc422f3a",
   "metadata": {},
   "outputs": [],
   "source": [
    "exe12 = np.array([\n",
    "    [0.40, 1.02],[0.42, 1.21],[0.48, 0.88],[0.51, 0.98],[0.57, 1.52],[0.60, 1.83],\n",
    "    [0.70, 1.50],[0.75, 1.80],[0.75, 1.74],[0.78, 1.63],[0.84, 2.00],[0.95, 2.80],\n",
    "    [0.99, 2.48],[1.03, 2.47],[1.12, 3.05],[1.15, 3.18],[1.20, 3.76],[1.25, 3.68],\n",
    "    [1.25, 3.82],[1.28, 3.21],[1.30, 4.27],[1.34, 3.12],[1.37, 3.99],[1.40, 3.75],\n",
    "    [1.43, 4.10],[1.46, 4.18],[1.49, 3.77],[1.55, 4.34],[1.58, 4.21],[1.60, 4.92]\n",
    "])"
   ]
  },
  {
   "cell_type": "code",
   "execution_count": null,
   "id": "7a88f45e",
   "metadata": {},
   "outputs": [],
   "source": [
    "ex1 = np.array([\n",
    "    [170,0.84],[172,1.31],[173,1.42],[174,1.03],\n",
    "    [174,1.07],[175,1.08],[176,1.04],[177,1.80],\n",
    "    [180,1.45],[180,1.60],[180,1.61],[180,2.13],\n",
    "    [180,2.15],[181,0.84],[181,1.43],[182,0.90],\n",
    "    [182,1.81],[182,1.94],[182,2.68],[184,1.49],\n",
    "    [184,2.52],[185,3.00],[186,1.87],[199,3.08]])"
   ]
  },
  {
   "cell_type": "code",
   "execution_count": null,
   "id": "ad2384d5",
   "metadata": {},
   "outputs": [],
   "source": [
    "ex2 = np.array([\n",
    "    [ 0,1.72,1.88],\n",
    "    [ 0,4.38,5.93],\n",
    "    [ 2,4.06,5.54],\n",
    "    [11,1.26,2.67],\n",
    "    [ 7,5.31,6.53],\n",
    "    [16,0.57,0.74],\n",
    "    [ 9,3.37,4.94],\n",
    "    [ 0,3.44,4.89],\n",
    "    [12,0.74,0.69],\n",
    "    [ 4,1.24,1.42]\n",
    "])"
   ]
  },
  {
   "cell_type": "code",
   "execution_count": null,
   "id": "94701e4a",
   "metadata": {},
   "outputs": [],
   "source": [
    "ex3 = np.array([[47, 62, 65, 70, 70, 78, 95, 100, 114, 118, 124, 127, 140, 140, 140, 150, 152, 164, 198, 221],\n",
    "[38, 62, 53, 67, 84, 79, 93, 106, 117, 116, 127, 114, 134, 139, 142, 170, 149, 154, 200, 215]])"
   ]
  },
  {
   "cell_type": "code",
   "execution_count": null,
   "id": "02138cb3",
   "metadata": {},
   "outputs": [],
   "source": [
    "ex4 = np.array([[5.8, 8.8, 11, 13.6, 18.5, 21.0, 23.7, 26.0, 28.3, 31.9, 36.5, 38.2, 40.4],[\n",
    "7.8, 8.2, 6.9, 5.3, 4.7, 4.9, 4.3, 2.7, 2.8, 1.8, 1.9, 1.1, 0.4]])"
   ]
  },
  {
   "cell_type": "code",
   "execution_count": null,
   "id": "650235a7",
   "metadata": {},
   "outputs": [],
   "source": [
    "ex5 = [[59, 63, 68, 72, 74, 78, 83],\n",
    "[118, 182, 247, 208, 197, 135, 132]]"
   ]
  },
  {
   "cell_type": "code",
   "execution_count": null,
   "id": "fa824b0a",
   "metadata": {},
   "outputs": [],
   "source": [
    "ex17 = np.array([[99.0, 101.1, 102.7, 103.0, 105.4, 107.0, 108.7, 110.8, 112.1, 112.4, 113.6, 113.8, 115.1, 115.4, 120.0],[28.8, 27.9, 27.0, 25.2, 22.8, 21.5, 20.9, 19.6, 17.1, 18.9, 16.0, 16.7, 13.0, 13.6, 10.8]])"
   ]
  },
  {
   "cell_type": "code",
   "execution_count": null,
   "id": "47390250",
   "metadata": {},
   "outputs": [],
   "source": [
    "plt.plot(*ex5,'o')\n",
    "plt.plot([0, 20, 40, 60, 80, 100],[0, 50, 100, 150, 200, 250], 'o')\n",
    "plt.show()"
   ]
  },
  {
   "cell_type": "code",
   "execution_count": null,
   "id": "a75845e1",
   "metadata": {},
   "outputs": [],
   "source": [
    "plt.plot(*ex5,'o')\n",
    "plt.axis(xmin=55,ymin=100)\n",
    "plt.title(\"comportamento do queijo muçarela verdadeiro\")\n",
    "plt.xlabel(\"temperatura\")\n",
    "plt.ylabel(\"aumento (%)\")\n",
    "plt.show()"
   ]
  },
  {
   "cell_type": "code",
   "execution_count": null,
   "id": "24f140a9",
   "metadata": {},
   "outputs": [],
   "source": [
    "plt.plot(*exe12.T,'o')\n",
    "plt.show()"
   ]
  },
  {
   "cell_type": "code",
   "execution_count": null,
   "id": "040f5ee1",
   "metadata": {},
   "outputs": [],
   "source": [
    "plt.plot(*ex17,'o')\n",
    "plot_regrecao_linear_min_quad(*ex17)\n",
    "plt.show()"
   ]
  },
  {
   "cell_type": "code",
   "execution_count": null,
   "id": "f1181206",
   "metadata": {},
   "outputs": [],
   "source": [
    "(ex17[1] ** 2).sum()"
   ]
  },
  {
   "cell_type": "code",
   "execution_count": null,
   "id": "cad37c2a",
   "metadata": {},
   "outputs": [],
   "source": [
    "dados = np.array([[635, 644, 711, 708, 836, 820, 810, 870, 856, 923, 878, 937, 948],\n",
    "[100, 93, 88, 84, 77, 75, 74, 63, 57, 55, 47, 43, 38]])"
   ]
  },
  {
   "cell_type": "code",
   "execution_count": null,
   "id": "84640994",
   "metadata": {},
   "outputs": [],
   "source": [
    "X, Y = dados"
   ]
  },
  {
   "cell_type": "code",
   "execution_count": null,
   "id": "04e1d4ee",
   "metadata": {},
   "outputs": [],
   "source": [
    "(X*Y).sum() - X.sum() * Y.sum()/len(X)"
   ]
  },
  {
   "cell_type": "code",
   "execution_count": null,
   "id": "d824e1d8",
   "metadata": {},
   "outputs": [],
   "source": [
    "plt.plot(*dados,'o')\n",
    "plot_regrecao_linear_min_quad(*dados)\n",
    "plt.show()"
   ]
  },
  {
   "cell_type": "code",
   "execution_count": null,
   "id": "1b4dd857",
   "metadata": {},
   "outputs": [],
   "source": [
    "Sxy = 2759.6 - 222.1 * 193/17\n",
    "Sxx = 3056.69 - (222.1 ** 2)/17\n",
    "Syy = 2975 - (193 ** 2)/17\n",
    "b1 = Sxy/Sxx\n",
    "b0 = Y.mean() - b1 * X.mean()\n",
    "x_reta = np.array(plt.axis()[0:2])\n",
    "y_reta = b0 + b1 * x_reta\n",
    "print(f\"y = {b1}x + {b0}\")\n",
    "print(\"r^2=\",b1 * Sxy/Syy)"
   ]
  },
  {
   "cell_type": "code",
   "execution_count": null,
   "id": "18ec72a4",
   "metadata": {},
   "outputs": [],
   "source": [
    "(Syy - b1 * Sxy)/15"
   ]
  },
  {
   "cell_type": "code",
   "execution_count": null,
   "id": "83254cac",
   "metadata": {},
   "outputs": [],
   "source": [
    "dados = np.array([\n",
    "    [0.60,0.82,0.85,0.89,0.95,1.01,1.01,1.05,1.08,1.11,1.18,1.17,1.22,1.29,1.28,1.32,1.37,1.53,1.55,1.85,1.93,1.93,2.14],\n",
    "    [0.50,0.68,0.76,0.64,0.68,0.86,0.79,1.03,0.75,0.90,0.79,0.86,0.99,0.80,1.10,1.15,1.04,1.16,1.28,1.39,1.57,1.39,1.32]\n",
    "])"
   ]
  },
  {
   "cell_type": "code",
   "execution_count": null,
   "id": "2c3037ac",
   "metadata": {},
   "outputs": [],
   "source": [
    "dados = np.array([\n",
    "    [42.2,42.6,43.3,43.5,43.7,44.1,44.9,45.3,45.7,45.7,45.9,46.0,46.2,46.2,46.8,46.8,47.1,47.2],\n",
    "    [ 44 , 44 , 44 , 45 , 45 , 46 , 46 , 46 , 47 , 48 , 48 , 48 , 47 , 48 , 48 , 49 , 49 , 49]\n",
    "])"
   ]
  },
  {
   "cell_type": "code",
   "execution_count": null,
   "id": "ffefa788",
   "metadata": {},
   "outputs": [],
   "source": [
    "dados = np.array([\n",
    "    [ 8.0,15.0,16.5,20.0,20.0,27.5,30.0,30.0,35.0,38.0,40.0,45.0,50.0,50.0,55.0,55.0,59.0,65.0],\n",
    "    [22.8,27.2,23.7,17.1,21.5,18.6,16.1,23.4,13.4,19.5,12.4,13.2,11.4,10.3,14.1, 9.7,12.0,6.8]\n",
    "])"
   ]
  },
  {
   "cell_type": "code",
   "execution_count": 2,
   "id": "99e1d786",
   "metadata": {},
   "outputs": [],
   "source": [
    "def regressao_linear(X,Y):\n",
    "    n = len(X)\n",
    "    Sxx = (X**2).sum() - (X.sum()**2)/n\n",
    "    Sxy = (Y*X).sum()-X.sum()*Y.sum()/n\n",
    "    Syy = (Y**2).sum() - (Y.sum()**2)/n\n",
    "    b1 = Sxy/Sxx\n",
    "    b0 = Y.mean() - b1 * X.mean()\n",
    "    SQE = Syy - b1 * Sxy\n",
    "    SQR = b1 * Sxy\n",
    "    s2 = SQE/(n-2)\n",
    "    s = s2**0.5\n",
    "    r2 = 1 - SQE/Syy\n",
    "    sb1 = (s2/Sxx)**0.5\n",
    "    tb1 = b1/sb1\n",
    "    sb0 = s * (1/n +X.mean()**2/Sxx)**0.5\n",
    "    tb0 = b0/sb0\n",
    "\n",
    "    tabela1 = [\n",
    "        [\"Predictor\",\"Coef\",\"Se Coef\",\"T\",\"P\"],\n",
    "        [\"Constant\",b0.round(3),sb0.round(5),tb0.round(2),(2 * stats.t.sf(np.abs(tb0),n-2)).round(3)],\n",
    "        [\"Depedente\",b1.round(5),sb1.round(5),tb1.round(2),(2 * stats.t.sf(np.abs(tb1),n-2)).round(3)],\n",
    "    ]\n",
    "\n",
    "    tabela2 = [\n",
    "        [\"Source\",\"DF\",\"SS\",\"MS\",\"F\",\"P\"],\n",
    "        [\"Regression\",1,SQR.round(3),SQR.round(3),(SQR/s2).round(3),stats.f.sf(192.654,1,n-2).round(4)],\n",
    "        [\"Erro\",n-2,SQE.round(3),s2.round(3),\"\",\"\"],\n",
    "        [\"Total\",n-1,Syy.round(3),\"\",\"\",\"\"],\n",
    "    ]\n",
    "    print(tabulate(tabela1,tablefmt='fancy_grid'))\n",
    "    print(f\"s={s.round(2)}\\tr={(r2*100).round(1)}%\\tr(adj)={(((n-1)*r2-1)/(n-2) * 100).round(1)}%\")\n",
    "    print(tabulate(tabela2,tablefmt='fancy_grid'))\n",
    "\n",
    "    plt.plot(X,Y,\"o\")\n",
    "    x_tamanho = plt.axis()[0:2]\n",
    "    x_reta = np.array(x_tamanho)\n",
    "    y_reta = b0 + b1 * x_reta\n",
    "    plt.plot(x_reta,y_reta,\"r\",linewidth = '2',label=\"Regressão\")\n",
    "\n",
    "    resolucao = 100\n",
    "\n",
    "    X_intervalos = np.arange(x_tamanho[0],x_tamanho[1],(x_tamanho[1] - x_tamanho[0]) / resolucao)\n",
    "    sy = s * (1/n + (X_intervalos - X.mean())**2/Sxx)**0.5\n",
    "    plt.plot(X_intervalos,b1 * X_intervalos + b0 - stats.t.isf(0.025,n-2) * sy,\"--\",color = 'orange',label=\"IC 95%\")\n",
    "    plt.plot(X_intervalos,b1 * X_intervalos + b0 + stats.t.isf(0.025,n-2) * sy,\"--\",color = 'orange')\n",
    "    plt.plot(X_intervalos,b1 * X_intervalos + b0 - stats.t.isf(0.025,n-2) * (s**2 + sy**2)*0.5,\"-.\",color = 'darkorange',label=\"IP 95%\")\n",
    "    plt.plot(X_intervalos,b1 * X_intervalos + b0 + stats.t.isf(0.025,n-2) * (s**2 + sy**2)*0.5,\"-.\",color = 'darkorange')\n",
    "    plt.legend()"
   ]
  },
  {
   "cell_type": "code",
   "execution_count": null,
   "id": "c83740b6",
   "metadata": {},
   "outputs": [],
   "source": [
    "regressao_linear(*dados)"
   ]
  },
  {
   "cell_type": "code",
   "execution_count": null,
   "id": "3bec10c9",
   "metadata": {},
   "outputs": [],
   "source": [
    "X = np.array([.246,.25,.251,.251,.254,.262,.264,.27,.272,.277,.281,.289,.29,.292,.293])\n",
    "Y = np.array([16.0,11.0,15.0,10.5,13.5,7.5,6.1,1.7,3.6,0.7,0.9,1.0,0.7,3.0,3.1])\n",
    "regressao_linear(X,Y)"
   ]
  },
  {
   "cell_type": "markdown",
   "id": "e2fc5235",
   "metadata": {},
   "source": [
    "# Testando modelos"
   ]
  },
  {
   "cell_type": "code",
   "execution_count": null,
   "id": "d7ef1c98",
   "metadata": {},
   "outputs": [],
   "source": [
    "from sklearn.linear_model import LinearRegression\n",
    "import statsmodels.api as sm"
   ]
  },
  {
   "cell_type": "code",
   "execution_count": null,
   "id": "a2e23d96",
   "metadata": {},
   "outputs": [],
   "source": [
    "X,Y = np.array([\n",
    "    [0.60,0.82,0.85,0.89,0.95,1.01,1.01,1.05,1.08,1.11,1.18,1.17,1.22,1.29,1.28,1.32,1.37,1.53,1.55,1.85,1.93,1.93,2.14],\n",
    "    [0.50,0.68,0.76,0.64,0.68,0.86,0.79,1.03,0.75,0.90,0.79,0.86,0.99,0.80,1.10,1.15,1.04,1.16,1.28,1.39,1.57,1.39,1.32]\n",
    "])"
   ]
  },
  {
   "cell_type": "code",
   "execution_count": null,
   "id": "038fb99c",
   "metadata": {},
   "outputs": [],
   "source": [
    "regressao_linear(X,Y)"
   ]
  },
  {
   "cell_type": "code",
   "execution_count": null,
   "id": "2cb977fe",
   "metadata": {},
   "outputs": [],
   "source": [
    "X = X.reshape(-1, 1)\n",
    "modelo = LinearRegression()\n",
    "modelo.fit(X,Y)"
   ]
  },
  {
   "cell_type": "code",
   "execution_count": null,
   "id": "281119c7",
   "metadata": {},
   "outputs": [],
   "source": [
    "modelo.intercept_"
   ]
  },
  {
   "cell_type": "code",
   "execution_count": null,
   "id": "df2111ec",
   "metadata": {},
   "outputs": [],
   "source": [
    "modelo.coef_"
   ]
  },
  {
   "cell_type": "code",
   "execution_count": null,
   "id": "ab9a89cf",
   "metadata": {},
   "outputs": [],
   "source": [
    "modelo._residues"
   ]
  },
  {
   "cell_type": "code",
   "execution_count": null,
   "id": "9b117d78",
   "metadata": {},
   "outputs": [],
   "source": [
    "plt.scatter(X,Y)\n",
    "plt.plot(X, modelo.predict(X), color='red')"
   ]
  },
  {
   "cell_type": "code",
   "execution_count": null,
   "id": "e52b1289",
   "metadata": {},
   "outputs": [],
   "source": [
    "modelo.score(X,Y)"
   ]
  },
  {
   "cell_type": "code",
   "execution_count": null,
   "id": "4e3cd85e",
   "metadata": {},
   "outputs": [],
   "source": [
    "model = sm.OLS(X,Y)\n",
    "result = model.fit()\n",
    "print(result.summary())"
   ]
  },
  {
   "cell_type": "code",
   "execution_count": 3,
   "id": "bb96ed55",
   "metadata": {},
   "outputs": [],
   "source": [
    "X = np.array([\n",
    "    .93,1.11,.93,1.11,.93,1.11,.93,1.11,1.02,1.02,1.02,1.02\n",
    "])\n",
    "Y = np.array([\n",
    "    32.95,38.72,35.2,38.72,32.27,39.71,33.67,38.72,35.2,33.67,36.02,32.27\n",
    "])"
   ]
  },
  {
   "cell_type": "code",
   "execution_count": 8,
   "id": "58f86674",
   "metadata": {},
   "outputs": [
    {
     "name": "stdout",
     "output_type": "stream",
     "text": [
      "╒═══════════╤══════════╤══════════╤══════╤═══════╕\n",
      "│ Predictor │ Coef     │ Se Coef  │ T    │ P     │\n",
      "├───────────┼──────────┼──────────┼──────┼───────┤\n",
      "│ Constant  │ 35.07    │ 0.47134  │ 74.4 │ 0.0   │\n",
      "├───────────┼──────────┼──────────┼──────┼───────┤\n",
      "│ Depedente │ 70.06664 │ 14.61226 │ 4.8  │ 0.001 │\n",
      "╘═══════════╧══════════╧══════════╧══════╧═══════╛\n",
      "s=1.59\tr=69.7%\tr(adj)=66.7%\n",
      "╒════════════╤════╤════════╤════════╤════════╤═════╕\n",
      "│ Source     │ DF │ SS     │ MS     │ F      │ P   │\n",
      "├────────────┼────┼────────┼────────┼────────┼─────┤\n",
      "│ Regression │ 1  │ 58.011 │ 58.011 │ 22.993 │ 0.0 │\n",
      "├────────────┼────┼────────┼────────┼────────┼─────┤\n",
      "│ Erro       │ 10 │ 25.23  │ 2.523  │        │     │\n",
      "├────────────┼────┼────────┼────────┼────────┼─────┤\n",
      "│ Total      │ 11 │ 83.241 │        │        │     │\n",
      "╘════════════╧════╧════════╧════════╧════════╧═════╛\n"
     ]
    },
    {
     "data": {
      "image/png": "[encoded data removed]",
      "text/plain": [
       "<Figure size 432x288 with 1 Axes>"
      ]
     },
     "metadata": {
      "needs_background": "light"
     },
     "output_type": "display_data"
    }
   ],
   "source": [
    "regressao_linear(np.log10(X),Y)"
   ]
  },
  {
   "cell_type": "code",
   "execution_count": 9,
   "id": "c617ec41",
   "metadata": {},
   "outputs": [
    {
     "data": {
      "text/plain": [
       "array([-0.03151705,  0.04532298, -0.03151705,  0.04532298, -0.03151705,\n",
       "        0.04532298, -0.03151705,  0.04532298,  0.00860017,  0.00860017,\n",
       "        0.00860017,  0.00860017])"
      ]
     },
     "execution_count": 9,
     "metadata": {},
     "output_type": "execute_result"
    }
   ],
   "source": [
    "np.log10(X)"
   ]
  },
  {
   "cell_type": "code",
   "execution_count": 11,
   "id": "a0203c7f",
   "metadata": {},
   "outputs": [
    {
     "data": {
      "text/plain": [
       "0.011816461866481408"
      ]
     },
     "execution_count": 11,
     "metadata": {},
     "output_type": "execute_result"
    }
   ],
   "source": [
    "(np.log10(X)**2).sum() - np.log10(X).sum() ** 2 / len(X)"
   ]
  },
  {
   "cell_type": "code",
   "execution_count": 12,
   "id": "8251637d",
   "metadata": {},
   "outputs": [],
   "source": [
    "X = np.log10(X)"
   ]
  },
  {
   "cell_type": "code",
   "execution_count": 13,
   "id": "20cb7dde",
   "metadata": {},
   "outputs": [],
   "source": [
    "n = len(X)\n",
    "Sxx = (X**2).sum() - (X.sum()**2)/n\n",
    "Sxy = (Y*X).sum()-X.sum()*Y.sum()/n\n",
    "Syy = (Y**2).sum() - (Y.sum()**2)/n\n",
    "b1 = Sxy/Sxx\n",
    "b0 = Y.mean() - b1 * X.mean()\n",
    "SQE = Syy - b1 * Sxy\n",
    "SQR = b1 * Sxy\n",
    "s2 = SQE/(n-2)\n",
    "s = s2**0.5\n",
    "r2 = 1 - SQE/Syy\n",
    "sb1 = (s2/Sxx)**0.5\n",
    "tb1 = b1/sb1\n",
    "sb0 = s * (1/n +X.mean()**2/Sxx)**0.5\n",
    "tb0 = b0/sb0"
   ]
  },
  {
   "cell_type": "code",
   "execution_count": 17,
   "id": "baa147ab",
   "metadata": {},
   "outputs": [
    {
     "data": {
      "text/plain": [
       "70.06664321959418"
      ]
     },
     "execution_count": 17,
     "metadata": {},
     "output_type": "execute_result"
    }
   ],
   "source": [
    "Sxy/Sxx"
   ]
  },
  {
   "cell_type": "code",
   "execution_count": 18,
   "id": "b5d882a0",
   "metadata": {},
   "outputs": [
    {
     "data": {
      "text/plain": [
       "2.523030285141644"
      ]
     },
     "execution_count": 18,
     "metadata": {},
     "output_type": "execute_result"
    }
   ],
   "source": [
    "s2"
   ]
  },
  {
   "cell_type": "code",
   "execution_count": 3,
   "id": "721104a4",
   "metadata": {},
   "outputs": [],
   "source": [
    "X = np.array([100,125,125,150,150,200,200,250,250,300,300,350,400,400])\n",
    "Y = np.array([150,140,180,210,190,320,280,400,430,440,390,600,610,670])\n"
   ]
  },
  {
   "cell_type": "code",
   "execution_count": 4,
   "id": "d0e151c2",
   "metadata": {},
   "outputs": [
    {
     "name": "stdout",
     "output_type": "stream",
     "text": [
      "╒═══════════╤═════════╤══════════╤═══════╤═══════╕\n",
      "│ Predictor │ Coef    │ Se Coef  │ T     │ P     │\n",
      "├───────────┼─────────┼──────────┼───────┼───────┤\n",
      "│ Constant  │ -45.552 │ 25.46779 │ -1.79 │ 0.099 │\n",
      "├───────────┼─────────┼──────────┼───────┼───────┤\n",
      "│ Depedente │ 1.71143 │ 0.09969  │ 17.17 │ 0.0   │\n",
      "╘═══════════╧═════════╧══════════╧═══════╧═══════╛\n",
      "s=36.75\tr=96.1%\tr(adj)=95.8%\n",
      "╒════════════╤════╤════════════╤════════════╤═════════╤═════╕\n",
      "│ Source     │ DF │ SS         │ MS         │ F       │ P   │\n",
      "├────────────┼────┼────────────┼────────────┼─────────┼─────┤\n",
      "│ Regression │ 1  │ 398030.261 │ 398030.261 │ 294.738 │ 0.0 │\n",
      "├────────────┼────┼────────────┼────────────┼─────────┼─────┤\n",
      "│ Erro       │ 12 │ 16205.453  │ 1350.454   │         │     │\n",
      "├────────────┼────┼────────────┼────────────┼─────────┼─────┤\n",
      "│ Total      │ 13 │ 414235.714 │            │         │     │\n",
      "╘════════════╧════╧════════════╧════════════╧═════════╧═════╛\n"
     ]
    },
    {
     "data": {
      "image/png": "[encoded data removed]",
      "text/plain": [
       "<Figure size 432x288 with 1 Axes>"
      ]
     },
     "metadata": {
      "needs_background": "light"
     },
     "output_type": "display_data"
    }
   ],
   "source": [
    "regressao_linear(X,Y)"
   ]
  },
  {
   "cell_type": "code",
   "execution_count": null,
   "id": "7899ba1f",
   "metadata": {},
   "outputs": [],
   "source": []
  }
 ],
 "metadata": {
  "kernelspec": {
   "display_name": "Python 3",
   "language": "python",
   "name": "python3"
  },
  "language_info": {
   "codemirror_mode": {
    "name": "ipython",
    "version": 3
   },
   "file_extension": ".py",
   "mimetype": "text/x-python",
   "name": "python",
   "nbconvert_exporter": "python",
   "pygments_lexer": "ipython3",
   "version": "3.9.4"
  }
 },
 "nbformat": 4,
 "nbformat_minor": 5
}
