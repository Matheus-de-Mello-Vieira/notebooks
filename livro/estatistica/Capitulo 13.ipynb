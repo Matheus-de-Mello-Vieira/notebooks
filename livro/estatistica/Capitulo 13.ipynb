{
 "cells": [
  {
   "cell_type": "code",
   "execution_count": 1,
   "id": "64a11f1a",
   "metadata": {},
   "outputs": [],
   "source": [
    "import numpy as np\n",
    "from scipy import stats\n",
    "from tabulate import tabulate\n",
    "import matplotlib.pyplot as plt\n",
    "from sklearn.preprocessing import PolynomialFeatures"
   ]
  },
  {
   "cell_type": "code",
   "execution_count": null,
   "id": "43484a2f",
   "metadata": {},
   "outputs": [],
   "source": [
    "np.set_printoptions(suppress=True)"
   ]
  },
  {
   "cell_type": "code",
   "execution_count": null,
   "id": "a104a80c",
   "metadata": {},
   "outputs": [],
   "source": [
    "def regrecao_linear(X,Y):\n",
    "    Sxy = (X * Y).sum() - X.sum() * Y.sum()/len(X)\n",
    "    Sxx = (X**2).sum() - (X.sum() ** 2)/len(X)\n",
    "    b1 = Sxy/Sxx\n",
    "    b0 = Y.mean() - b1 * X.mean()\n",
    "    return lambda x: b1 * x + b0"
   ]
  },
  {
   "cell_type": "code",
   "execution_count": null,
   "id": "64daacfa",
   "metadata": {},
   "outputs": [],
   "source": [
    "def grafico_resumo(X,Y):\n",
    "    n = len(X)\n",
    "    Sxx = (X**2).sum() - (X.sum()**2)/n\n",
    "    Sxy = (Y*X).sum()-X.sum()*Y.sum()/n\n",
    "    Syy = (Y**2).sum() - (Y.sum()**2)/n\n",
    "    b1 = Sxy/Sxx\n",
    "    b0 = Y.mean() - b1 * X.mean()\n",
    "    SQE = Syy - b1 * Sxy\n",
    "    SQR = b1 * Sxy\n",
    "    s2 = SQE/(n-2)\n",
    "    s = s2**0.5\n",
    "    r2 = 1 - SQE/Syy\n",
    "    sb1 = (s2/Sxx)**0.5\n",
    "    tb1 = b1/sb1\n",
    "    sb0 = s * (1/n +X.mean()**2/Sxx)**0.5\n",
    "    tb0 = b0/sb0\n",
    "\n",
    "    Yh = b1 * X + b0\n",
    "    e = Y - Yh\n",
    "    ea = e/(s * (1 - 1/n - ((X.mean() - X)**2)/Sxx)**0.5)\n",
    "\n",
    "    plt.plot(X,ea,\"o\")\n",
    "    plt.suptitle(\"em relação a variável indepedente\")\n",
    "    plt.xlabel(\"variável indepedente\")\n",
    "    plt.ylabel(\"resíduos padronizados\")\n",
    "    plt.plot(plt.axis()[0:2],[0,0],color=\"black\")\n",
    "    plt.plot(plt.axis()[0:2],[2,2],\"--\",color=\"black\")\n",
    "    plt.plot(plt.axis()[0:2],[-2,-2],\"--\",color=\"black\")\n",
    "    plt.show()\n",
    "    \n",
    "    plt.plot(X,Y,\"o\")\n",
    "    plt.show()"
   ]
  },
  {
   "cell_type": "code",
   "execution_count": null,
   "id": "e095fe48",
   "metadata": {},
   "outputs": [],
   "source": [
    "def graficos_diagnotico(X,Y):\n",
    "    n = len(X)\n",
    "    Sxx = (X**2).sum() - (X.sum()**2)/n\n",
    "    Sxy = (Y*X).sum()-X.sum()*Y.sum()/n\n",
    "    Syy = (Y**2).sum() - (Y.sum()**2)/n\n",
    "    b1 = Sxy/Sxx\n",
    "    b0 = Y.mean() - b1 * X.mean()\n",
    "    SQE = Syy - b1 * Sxy\n",
    "    SQR = b1 * Sxy\n",
    "    s2 = SQE/(n-2)\n",
    "    s = s2**0.5\n",
    "    r2 = 1 - SQE/Syy\n",
    "    sb1 = (s2/Sxx)**0.5\n",
    "    tb1 = b1/sb1\n",
    "    sb0 = s * (1/n +X.mean()**2/Sxx)**0.5\n",
    "    tb0 = b0/sb0\n",
    "\n",
    "    Yh = b1 * X + b0\n",
    "    e = Y - Yh\n",
    "    ea = e/(s * (1 - 1/n - ((X.mean() - X)**2)/Sxx)**0.5)\n",
    "    \n",
    "    tabela1 = [\n",
    "        [\"Predictor\",\"Coef\",\"Se Coef\",\"T\",\"P\"],\n",
    "        [\"Constant\",b0.round(3),sb0.round(5),tb0.round(2),(2 * stats.t.sf(np.abs(tb0),n-2)).round(3)],\n",
    "        [\"Depedente\",b1.round(5),sb1.round(5),tb1.round(2),(2 * stats.t.sf(np.abs(tb1),n-2)).round(3)],\n",
    "    ]\n",
    "\n",
    "    tabela2 = [\n",
    "        [\"Source\",\"DF\",\"SS\",\"MS\",\"F\",\"P\"],\n",
    "        [\"Regression\",1,SQR.round(3),SQR.round(3),(SQR/s2).round(3),stats.f.sf(192.654,1,n-2).round(4)],\n",
    "        [\"Erro\",n-2,SQE.round(3),s2.round(3),\"\",\"\"],\n",
    "        [\"Total\",n-1,Syy.round(3),\"\",\"\",\"\"],\n",
    "    ]\n",
    "    \n",
    "    print(tabulate(tabela1,tablefmt='fancy_grid'))\n",
    "    print(f\"s={s.round(6)}\\tr-Sq={(r2*100).round(1)}%\")\n",
    "    print(tabulate(tabela2,tablefmt='fancy_grid'))\n",
    "    \n",
    "    plt.subplot(1, 2,1)\n",
    "    plt.plot(X,e,\"o\")\n",
    "    plt.suptitle(\"em relação a variável indepedente\")\n",
    "    plt.xlabel(\"variável indepedente\")\n",
    "    plt.ylabel(\"resíduos\")\n",
    "    plt.plot(plt.axis()[0:2],[0,0],color=\"black\") \n",
    "    \n",
    "    plt.subplot(1, 2,2)\n",
    "    plt.plot(Yh,e,\"o\")\n",
    "    plt.suptitle(\"em relação a variável depedente\")\n",
    "    plt.xlabel(\"variável depedente\")\n",
    "    plt.ylabel(\"resíduos\")\n",
    "    plt.plot(plt.axis()[0:2],[0,0],color=\"black\")\n",
    "    \n",
    "    plt.tight_layout()\n",
    "    plt.show()\n",
    "    \n",
    "    plt.subplot(1, 2,1)\n",
    "    plt.plot(X,ea,\"o\")\n",
    "    plt.suptitle(\"em relação a variável indepedente\")\n",
    "    plt.xlabel(\"variável indepedente\")\n",
    "    plt.ylabel(\"resíduos padronizados\")\n",
    "    plt.plot(plt.axis()[0:2],[0,0],color=\"black\")\n",
    "    plt.plot(plt.axis()[0:2],[2,2],\"--\",color=\"black\")\n",
    "    plt.plot(plt.axis()[0:2],[-2,-2],\"--\",color=\"black\")\n",
    "\n",
    "    plt.subplot(1, 2,2)\n",
    "    plt.plot(Yh,ea,\"o\")\n",
    "    plt.suptitle(\"em relação a variável depedente\")\n",
    "    plt.xlabel(\"variável depedente\")\n",
    "    plt.ylabel(\"resíduos padronizados\")\n",
    "    plt.plot(plt.axis()[0:2],[0,0],color=\"black\")\n",
    "    plt.plot(plt.axis()[0:2],[2,2],\"--\",color=\"black\")\n",
    "    plt.plot(plt.axis()[0:2],[-2,-2],\"--\",color=\"black\")\n",
    "\n",
    "    plt.tight_layout()\n",
    "    plt.show()\n",
    "\n",
    "    plt.plot(Y,Yh,\"o\")\n",
    "    plt.title(\"Yh vs Y\")\n",
    "    plt.show()\n",
    "\n",
    "    plt.plot(stats.norm.ppf((np.arange(n) + 0.5)/n),np.sort(ea),'o')\n",
    "    plt.title(\"Gráfico de probabilidade dos resíduos\")\n",
    "    plt.show()\n",
    "    \n",
    "    plt.plot(X,Y,\"o\")\n",
    "    x_tamanho = plt.axis()[0:2]\n",
    "    x_reta = np.array(x_tamanho)\n",
    "    y_reta = b0 + b1 * x_reta\n",
    "    plt.plot(x_reta,y_reta,\"r\",linewidth = '2',label=\"Regressão\")\n",
    "    plt.title(\"Regressão\")\n",
    "    plt.show()"
   ]
  },
  {
   "cell_type": "code",
   "execution_count": null,
   "id": "a28630da",
   "metadata": {},
   "outputs": [],
   "source": [
    "X = np.array([100,125,125,150,150,200,200,250,250,300,300,350,400,400])\n",
    "Y = np.array([150,140,180,210,190,320,280,400,430,440,390,600,610,670])"
   ]
  },
  {
   "cell_type": "code",
   "execution_count": 57,
   "id": "64a8cb64",
   "metadata": {},
   "outputs": [],
   "source": [
    "X = np.array([125.3,98.2,201.4,147.3,145.9,124.7,112.2,120.2,161.2,178.9,159.5,145.8,75.1,151.4,144.2,125.0,198.8,132.5,159.6,110.7])\n",
    "Y = np.array([ 77.9,76.8, 81.5, 79.8, 78.2, 78.3, 77.5, 77.0, 80.1, 80.2, 79.9, 79.0,76.7, 78.2, 79.2, 78.1, 81.5, 77.0, 79.0, 78.6])"
   ]
  },
  {
   "cell_type": "code",
   "execution_count": null,
   "id": "71d3a780",
   "metadata": {},
   "outputs": [],
   "source": [
    "X = np.array([ 2761.0,19764.0,25713.0,3980.0,12782.0,19008.0,20782.0,19028.0,14397.0, 9606.0, 3905.0,25731.0])\n",
    "Y = np.array([ 1553.0,14999.0,32813.0,1667.0, 8741.0,16526.0,26770.0,16526.0, 9868.0, 6640.0, 1220.0,30730.0])"
   ]
  },
  {
   "cell_type": "code",
   "execution_count": null,
   "id": "9d0178ef",
   "metadata": {},
   "outputs": [],
   "source": [
    "X = np.array([0.50,1.25,1.50,2.75,3.50,4.75,5.75,5.60,7.00,8.00,8.25,9.50,10.50,11.00,10.75,12.50,12.25,13.25,15.50,15.00,15.25,16.25,17.25,18.00,18.25,18.15,20.25,19.50,20.00,20.50,20.60,20.50,19.80])\n",
    "Y = np.array([-1.03,-0.92,-1.35,-0.78,-0.68,-0.11,0.21,-0.59,0.13,0.45,0.06,0.62,0.94,0.80,-0.14,0.93,0.04,0.36,1.92,0.78,0.35,0.67,1.02,1.09,0.66,-0.09,1.33,-0.1,-0.24,-0.43,-1.01,-1.75,-3.14])"
   ]
  },
  {
   "cell_type": "code",
   "execution_count": 61,
   "id": "ca9dbe07",
   "metadata": {},
   "outputs": [],
   "source": [
    "X = np.array([.246,.25,.251,.251,.254,.262,.264,.27,.272,.277,.281,.289,.29,.292,.293])\n",
    "Y = np.array([16.0,11.0,15.0,10.5,13.5,7.5,6.1,1.7,3.6,0.7,0.9,1.0,0.7,3.0,3.1])"
   ]
  },
  {
   "cell_type": "code",
   "execution_count": null,
   "id": "65353394",
   "metadata": {},
   "outputs": [],
   "source": [
    "X = np.array([1.7,2.2,2.3,2.6,2.7,3.0,3.2,3.3,4.1,4.3,4.6,5.7,6.1])\n",
    "Y = np.array([1.3,1.8,1.6,2.0,2.1,2.2,3.0,2.6,4.1,3.7,5.0,5.8,5.3])"
   ]
  },
  {
   "cell_type": "code",
   "execution_count": null,
   "id": "64dcab05",
   "metadata": {},
   "outputs": [],
   "source": [
    "X1 = np.array([10,8,13,9,11,14,6,4,12,7,5])\n",
    "X2 = np.array([8,8,8,8,8,8,8,19,8,8,8])\n",
    "Y1 = np.array([8.04,6.95,7.58,8.81,8.33,9.96,7.24,4.26,10.84,4.82,5.68])\n",
    "Y2 = np.array([9.14,8.14,8.74,8.77,9.26,8.10,6.13,3.1,9.13,7.26,4.74])\n",
    "Y3 = np.array([7.46,6.77,12.74,7.11,7.81,8.84,6.08,5.39,8.15,6.42,5.73])\n",
    "Y4 = np.array([6.58,5.76,7.71,8.84,8.87,7.04,5.25,12.5,5.56,7.91,6.89])"
   ]
  },
  {
   "cell_type": "code",
   "execution_count": null,
   "id": "fb44db5f",
   "metadata": {},
   "outputs": [],
   "source": [
    "X = np.array([200,200,200,200,200,200,220,220,220,220,220,220,240,240,240,240,240,240])\n",
    "Y = np.array([5933,5404,4947,4963,3358,3878,1561,1494,747,768,609,777,258,299,209,144,180,184])"
   ]
  },
  {
   "cell_type": "code",
   "execution_count": 59,
   "id": "bc32c38e",
   "metadata": {},
   "outputs": [],
   "source": [
    "X = np.array([25.5, 31.5, 37.5, 43.5, 49.5, 55.5, 61.5, 67.5, 73.5, 79.5, 85.5, 91.5, 97.5, 103.5, 109.5, 115.5, 121.5, 127.5, 133.5, 139.5, 145.5, 151.5, 157.5])\n",
    "Y = np.array([26.4, 40.1, 50.2, 57.4, 62.7, 67.3, 71.4, 74.7, 77.8, 80.3, 82.3, 84.1, 85.5, 86.6, 87.9, 89.0, 89.9, 90.6, 91.2, 91.8, 92.3, 92.8, 93.3])"
   ]
  },
  {
   "cell_type": "code",
   "execution_count": null,
   "id": "e7a394f5",
   "metadata": {},
   "outputs": [],
   "source": [
    "X = np.array([.01495,.0147,.011,.0119,.00873,.01819,.0081,.00801,.006,.00575,.00576,.0058,.01212,.00782,.00596,.006,.0088,.00883,.00676])\n",
    "Y = np.array([1326.0,1593.0,4414.0,5673.0,29516.0,26.0,843.0,1016.0,3410.0,7101.0,7356.0,7904.0,79.0,4175.0,34676.0,114789.0,2672.0,7532.0,30220.0])"
   ]
  },
  {
   "cell_type": "code",
   "execution_count": null,
   "id": "477af963",
   "metadata": {},
   "outputs": [],
   "source": [
    "sem_outlier = ((Y - Y.mean())/Y.std(ddof=1) < 0.5) & ((X - X.mean())/X.std(ddof=1) < 1.5)\n",
    "Y = Y[sem_outlier]"
   ]
  },
  {
   "cell_type": "code",
   "execution_count": null,
   "id": "fc29793d",
   "metadata": {},
   "outputs": [],
   "source": [
    "X = np.array([.01495,.0147,.011,.0119,.00873,.01819,.0081,.00801,.006,.00575,.00576,.0058,.01212,.00782,.00596,.006,.0088,.00883,.00676])\n",
    "Y = np.array([1326.0,1593.0,4414.0,5673.0,29516.0,26.0,843.0,1016.0,3410.0,7101.0,7356.0,7904.0,79.0,4175.0,34676.0,114789.0,2672.0,7532.0,30220.0])\n",
    "\n",
    "filtro_outlier = ((X - X.mean())/X.std(ddof=1) < 1.5) & ((Y - Y.mean())/Y.std(ddof=1) < 1.5)\n",
    "\n",
    "X = X[filtro_outlier]\n",
    "Y = Y[filtro_outlier]\n",
    "\n",
    "X = (X - X.mean())/X.std(ddof=1)\n",
    "Y = (Y - Y.mean())/Y.std(ddof=1)\n",
    "\n",
    "plt.plot(X,'o',label=\"x\")\n",
    "plt.plot(Y,'o',label='y')\n",
    "plt.legend()"
   ]
  },
  {
   "cell_type": "markdown",
   "id": "6320e840",
   "metadata": {},
   "source": [
    "# Seção 3"
   ]
  },
  {
   "cell_type": "code",
   "execution_count": 55,
   "id": "ca21fcbc",
   "metadata": {},
   "outputs": [],
   "source": [
    "X = np.array([351,367,373,400,402])\n",
    "Y = np.array([81,83,79,75,70])"
   ]
  },
  {
   "cell_type": "code",
   "execution_count": 79,
   "id": "f9d4e684",
   "metadata": {},
   "outputs": [],
   "source": [
    "X,Y = np.array([[99.0, 101.1, 102.7, 103.0, 105.4, 107.0, 108.7, 110.8, 112.1, 112.4, 113.6, 113.8, 115.1, 115.4, 120.0],[28.8, 27.9, 27.0, 25.2, 22.8, 21.5, 20.9, 19.6, 17.1, 18.9, 16.0, 16.7, 13.0, 13.6, 10.8]])"
   ]
  },
  {
   "cell_type": "code",
   "execution_count": 17,
   "id": "81dba6aa",
   "metadata": {},
   "outputs": [
    {
     "data": {
      "text/plain": [
       "(array([  1.71143233, -45.55190539]),\n",
       " array([16205.45335085]),\n",
       " 2,\n",
       " array([1.38659597, 0.27812158]),\n",
       " 3.1086244689504383e-15)"
      ]
     },
     "execution_count": 17,
     "metadata": {},
     "output_type": "execute_result"
    }
   ],
   "source": [
    "np.polyfit(X,Y,deg=1,full=True)"
   ]
  },
  {
   "cell_type": "code",
   "execution_count": 49,
   "id": "c22fe227",
   "metadata": {},
   "outputs": [],
   "source": [
    "def plotar_curva_polinomial(coeficientes,xmin,xmax):\n",
    "    X = np.arange(xmin,xmax,0.01).round(2)\n",
    "    Y = np.zeros(len(X))\n",
    "    for i in coeficientes:\n",
    "        Y = i + X * Y\n",
    "    plt.plot(X,Y)"
   ]
  },
  {
   "cell_type": "code",
   "execution_count": 80,
   "id": "18033a64",
   "metadata": {},
   "outputs": [
    {
     "data": {
      "text/plain": [
       "(97.95, 121.05, 9.9, 29.7)"
      ]
     },
     "execution_count": 80,
     "metadata": {},
     "output_type": "execute_result"
    },
    {
     "data": {
      "image/png": "[encoded data removed]",
      "text/plain": [
       "<Figure size 432x288 with 1 Axes>"
      ]
     },
     "metadata": {
      "needs_background": "light"
     },
     "output_type": "display_data"
    }
   ],
   "source": [
    "plt.plot(X,Y,'o')\n",
    "antigo_axis = plt.axis()\n",
    "plotar_curva_polinomial(np.polyfit(X,Y,deg=2,full=True)[0],*antigo_axis[0:2])\n",
    "plt.axis(antigo_axis)"
   ]
  },
  {
   "cell_type": "code",
   "execution_count": 2,
   "id": "d5430a5f",
   "metadata": {},
   "outputs": [],
   "source": [
    "espessura = np.array([220, 220, 220, 220, 370, 370, 370, 370, 440, 440, 440, 440, 680, 680, 680, 680, 860, 860, 860, 860])\n",
    "forca = np.array([24.0, 22.0, 19.1, 15.5, 26.3, 24.6, 23.1, 21.2, 25.2, 24.0, 21.7, 19.2, 17.0, 14.9, 13.0, 11.8, 12.2, 11.2, 6.6, 2.8])"
   ]
  },
  {
   "cell_type": "code",
   "execution_count": 66,
   "id": "851df577",
   "metadata": {},
   "outputs": [
    {
     "ename": "TypeError",
     "evalue": "only integer scalar arrays can be converted to a scalar index",
     "output_type": "error",
     "traceback": [
      "\u001b[1;31m---------------------------------------------------------------------------\u001b[0m",
      "\u001b[1;31mTypeError\u001b[0m                                 Traceback (most recent call last)",
      "\u001b[1;32m<ipython-input-66-b0db3b6f95b6>\u001b[0m in \u001b[0;36m<module>\u001b[1;34m\u001b[0m\n\u001b[1;32m----> 1\u001b[1;33m np.stack(np.stack([np.zeros(len(espessura)) + 1,\n\u001b[0m\u001b[0;32m      2\u001b[0m         espessura]), espessura ** 2)\n",
      "\u001b[1;32m<__array_function__ internals>\u001b[0m in \u001b[0;36mstack\u001b[1;34m(*args, **kwargs)\u001b[0m\n",
      "\u001b[1;32mc:\\users\\mello\\appdata\\local\\programs\\python\\python39\\lib\\site-packages\\numpy\\core\\shape_base.py\u001b[0m in \u001b[0;36mstack\u001b[1;34m(arrays, axis, out)\u001b[0m\n\u001b[0;32m    428\u001b[0m \u001b[1;33m\u001b[0m\u001b[0m\n\u001b[0;32m    429\u001b[0m     \u001b[0mresult_ndim\u001b[0m \u001b[1;33m=\u001b[0m \u001b[0marrays\u001b[0m\u001b[1;33m[\u001b[0m\u001b[1;36m0\u001b[0m\u001b[1;33m]\u001b[0m\u001b[1;33m.\u001b[0m\u001b[0mndim\u001b[0m \u001b[1;33m+\u001b[0m \u001b[1;36m1\u001b[0m\u001b[1;33m\u001b[0m\u001b[1;33m\u001b[0m\u001b[0m\n\u001b[1;32m--> 430\u001b[1;33m     \u001b[0maxis\u001b[0m \u001b[1;33m=\u001b[0m \u001b[0mnormalize_axis_index\u001b[0m\u001b[1;33m(\u001b[0m\u001b[0maxis\u001b[0m\u001b[1;33m,\u001b[0m \u001b[0mresult_ndim\u001b[0m\u001b[1;33m)\u001b[0m\u001b[1;33m\u001b[0m\u001b[1;33m\u001b[0m\u001b[0m\n\u001b[0m\u001b[0;32m    431\u001b[0m \u001b[1;33m\u001b[0m\u001b[0m\n\u001b[0;32m    432\u001b[0m     \u001b[0msl\u001b[0m \u001b[1;33m=\u001b[0m \u001b[1;33m(\u001b[0m\u001b[0mslice\u001b[0m\u001b[1;33m(\u001b[0m\u001b[1;32mNone\u001b[0m\u001b[1;33m)\u001b[0m\u001b[1;33m,\u001b[0m\u001b[1;33m)\u001b[0m \u001b[1;33m*\u001b[0m \u001b[0maxis\u001b[0m \u001b[1;33m+\u001b[0m \u001b[1;33m(\u001b[0m\u001b[0m_nx\u001b[0m\u001b[1;33m.\u001b[0m\u001b[0mnewaxis\u001b[0m\u001b[1;33m,\u001b[0m\u001b[1;33m)\u001b[0m\u001b[1;33m\u001b[0m\u001b[1;33m\u001b[0m\u001b[0m\n",
      "\u001b[1;31mTypeError\u001b[0m: only integer scalar arrays can be converted to a scalar index"
     ]
    }
   ],
   "source": [
    "np.stack(np.stack([np.zeros(len(espessura)) + 1,\n",
    "        espessura]), espessura ** 2)"
   ]
  },
  {
   "cell_type": "code",
   "execution_count": 43,
   "id": "32e333f5",
   "metadata": {},
   "outputs": [],
   "source": [
    "import random"
   ]
  },
  {
   "cell_type": "code",
   "execution_count": 78,
   "id": "61dda70c",
   "metadata": {},
   "outputs": [],
   "source": [
    "def regrecao(x1,x2,y):\n",
    "    A = np.stack([np.zeros(len(espessura)) + 1,x1,x2]).T\n",
    "    return np.matmul(np.linalg.pinv(A),y)"
   ]
  },
  {
   "cell_type": "code",
   "execution_count": 80,
   "id": "6f48eded",
   "metadata": {},
   "outputs": [
    {
     "data": {
      "text/plain": [
       "array([14.52072258,  0.04323341, -0.00006001])"
      ]
     },
     "execution_count": 80,
     "metadata": {},
     "output_type": "execute_result"
    }
   ],
   "source": [
    "regrecao(espessura, espessura ** 2, forca)"
   ]
  },
  {
   "cell_type": "code",
   "execution_count": 51,
   "id": "1a97609a",
   "metadata": {},
   "outputs": [],
   "source": [
    "def bootstrap_sample(data):\n",
    "    \"\"\"amostra aleatoriamente len(dados) elementos com substituição\"\"\"\n",
    "    return np.array(list(random.choice(data) for _ in data))\n",
    "\n",
    "def bootstrap_statistic(data, stats_fn, num_samples):\n",
    "    \"\"\"avalia stats_fn em num_samples amostra de inicialização a partir dos dados\"\"\"\n",
    "    return np.array(stats_fn(bootstrap_sample(data))\n",
    "           for _ in range(num_samples))"
   ]
  },
  {
   "cell_type": "code",
   "execution_count": 108,
   "id": "787231f3",
   "metadata": {},
   "outputs": [],
   "source": [
    "estimativas_beta = []\n",
    "for _ in range(1000):\n",
    "    antes = bootstrap_sample(np.stack([np.zeros(len(espessura)) + 1,\n",
    "                            espessura,\n",
    "                            espessura ** 2,\n",
    "                             forca]).T)\n",
    "    estimativas_beta.append(regrecao(antes[:,1],antes[:,2],antes[:,3]))\n",
    "estimativas_beta = np.array(estimativas_beta)"
   ]
  },
  {
   "cell_type": "code",
   "execution_count": 109,
   "id": "00cbb64c",
   "metadata": {},
   "outputs": [
    {
     "data": {
      "text/plain": [
       "array([10.26109343,  0.04274793,  0.0000387 ])"
      ]
     },
     "execution_count": 109,
     "metadata": {},
     "output_type": "execute_result"
    }
   ],
   "source": [
    "estimativas_beta.std(axis=0,ddof=1)"
   ]
  },
  {
   "cell_type": "code",
   "execution_count": 110,
   "id": "ce10b549",
   "metadata": {},
   "outputs": [
    {
     "data": {
      "text/plain": [
       "array([17.37489511,  0.0013589 , -0.00000099])"
      ]
     },
     "execution_count": 110,
     "metadata": {},
     "output_type": "execute_result"
    }
   ],
   "source": [
    "estimativas_beta.mean(axis=0)"
   ]
  },
  {
   "cell_type": "code",
   "execution_count": null,
   "id": "249e7ad9",
   "metadata": {},
   "outputs": [],
   "source": []
  }
 ],
 "metadata": {
  "kernelspec": {
   "display_name": "Python 3",
   "language": "python",
   "name": "python3"
  },
  "language_info": {
   "codemirror_mode": {
    "name": "ipython",
    "version": 3
   },
   "file_extension": ".py",
   "mimetype": "text/x-python",
   "name": "python",
   "nbconvert_exporter": "python",
   "pygments_lexer": "ipython3",
   "version": "3.9.4"
  }
 },
 "nbformat": 4,
 "nbformat_minor": 5
}
