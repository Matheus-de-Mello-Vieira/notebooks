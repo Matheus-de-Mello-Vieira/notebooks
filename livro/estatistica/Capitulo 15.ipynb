{
 "cells": [
  {
   "cell_type": "code",
   "execution_count": 37,
   "id": "7b89d6c6",
   "metadata": {},
   "outputs": [],
   "source": [
    "import numpy as np\n",
    "import matplotlib.pyplot as plt"
   ]
  },
  {
   "cell_type": "code",
   "execution_count": 29,
   "id": "54fe6b61",
   "metadata": {},
   "outputs": [],
   "source": [
    "def wilcoxon(dados):\n",
    "    S = (np.vectorize(lambda x: 0 if x <= 0 else 1)(np.array(sorted(dados, key=abs))) * (np.arange(len(dados)) + 1)).sum()\n",
    "    print(\"n: \", len(dados))\n",
    "    print(\"S++: \",S)"
   ]
  },
  {
   "cell_type": "code",
   "execution_count": 236,
   "id": "2029a920",
   "metadata": {},
   "outputs": [],
   "source": [
    "def MannWhitney(X, Y):\n",
    "    m = len(X)\n",
    "    n = len(Y)\n",
    "    X1 =np.stack([X, np.zeros(m) + 1],axis=1)\n",
    "    Y0 = np.stack([Y, np.zeros(n)],axis=1)\n",
    "    junto = np.r_[X1,Y0]\n",
    "    return (junto[np.argsort(junto[:,0])][:,1] * (np.arange(m+n) + 1)).sum()"
   ]
  },
  {
   "cell_type": "code",
   "execution_count": 277,
   "id": "567e01bf",
   "metadata": {},
   "outputs": [],
   "source": [
    "X = np.array([229, 286, 245, 299, 250])\n",
    "Y = np.array([213, 179, 163, 247, 225])"
   ]
  },
  {
   "cell_type": "code",
   "execution_count": 230,
   "id": "ddc7a44f",
   "metadata": {},
   "outputs": [],
   "source": [
    "X = np.array([8,11,12,14,20,43,111])\n",
    "Y = np.array([35,56,83,92,128,150,176,208])"
   ]
  },
  {
   "cell_type": "code",
   "execution_count": 227,
   "id": "fa5bf215",
   "metadata": {},
   "outputs": [
    {
     "data": {
      "image/png": "[encoded data removed]",
      "text/plain": [
       "<Figure size 432x288 with 1 Axes>"
      ]
     },
     "metadata": {
      "needs_background": "light"
     },
     "output_type": "display_data"
    }
   ],
   "source": [
    "plt.boxplot([X, Y])\n",
    "plt.show()"
   ]
  },
  {
   "cell_type": "code",
   "execution_count": 237,
   "id": "04d8fb5b",
   "metadata": {},
   "outputs": [
    {
     "data": {
      "text/plain": [
       "33.0"
      ]
     },
     "execution_count": 237,
     "metadata": {},
     "output_type": "execute_result"
    }
   ],
   "source": [
    "MannWhitney(X,Y)"
   ]
  },
  {
   "cell_type": "code",
   "execution_count": 268,
   "id": "b8bc846c",
   "metadata": {},
   "outputs": [],
   "source": [
    "X = np.array([3.92, 3.79, 3.7, 4.08, 3.87, 3.95, 3.55, 3.76])\n",
    "Y = np.array([4.25, 4.2, 4.41, 3.89, 4.39, 3.75, 4.2, 3.9])"
   ]
  },
  {
   "cell_type": "code",
   "execution_count": 278,
   "id": "c9eca5fc",
   "metadata": {},
   "outputs": [],
   "source": [
    "dados = X - Y"
   ]
  },
  {
   "cell_type": "code",
   "execution_count": 279,
   "id": "16ac7abd",
   "metadata": {},
   "outputs": [],
   "source": [
    "medias = []\n",
    "for i in range(len(dados)):\n",
    "    for j in range(i+1):\n",
    "        medias.append(round((dados[i] + dados[j])/2,3))\n",
    "medias.sort()"
   ]
  },
  {
   "cell_type": "code",
   "execution_count": 282,
   "id": "2fb0c6bd",
   "metadata": {},
   "outputs": [
    {
     "data": {
      "text/plain": [
       "(16.0, 107.0)"
      ]
     },
     "execution_count": 282,
     "metadata": {},
     "output_type": "execute_result"
    }
   ],
   "source": [
    "(medias[0],medias[14])"
   ]
  },
  {
   "cell_type": "code",
   "execution_count": 281,
   "id": "ff3f6117",
   "metadata": {},
   "outputs": [
    {
     "data": {
      "text/plain": [
       "5"
      ]
     },
     "execution_count": 281,
     "metadata": {},
     "output_type": "execute_result"
    }
   ],
   "source": [
    "len(dados)"
   ]
  },
  {
   "cell_type": "code",
   "execution_count": null,
   "id": "56f7893f",
   "metadata": {},
   "outputs": [],
   "source": []
  }
 ],
 "metadata": {
  "kernelspec": {
   "display_name": "Python 3",
   "language": "python",
   "name": "python3"
  },
  "language_info": {
   "codemirror_mode": {
    "name": "ipython",
    "version": 3
   },
   "file_extension": ".py",
   "mimetype": "text/x-python",
   "name": "python",
   "nbconvert_exporter": "python",
   "pygments_lexer": "ipython3",
   "version": "3.9.4"
  }
 },
 "nbformat": 4,
 "nbformat_minor": 5
}
