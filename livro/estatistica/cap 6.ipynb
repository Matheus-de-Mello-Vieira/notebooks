{
 "cells": [
  {
   "cell_type": "code",
   "execution_count": 1,
   "id": "175ee465",
   "metadata": {},
   "outputs": [],
   "source": [
    "import numpy as np"
   ]
  },
  {
   "cell_type": "code",
   "execution_count": 9,
   "id": "b67200d4",
   "metadata": {},
   "outputs": [],
   "source": [
    "x = np.fromfunction(lambda x:x, shape=(8,), dtype='i')\n",
    "f = np.array([18,37,42,30,13,7,2,1])"
   ]
  },
  {
   "cell_type": "code",
   "execution_count": 10,
   "id": "acf52b01",
   "metadata": {},
   "outputs": [
    {
     "data": {
      "text/plain": [
       "2.1133333333333333"
      ]
     },
     "execution_count": 10,
     "metadata": {},
     "output_type": "execute_result"
    }
   ],
   "source": [
    "(x*f).sum()/f.sum()"
   ]
  },
  {
   "cell_type": "code",
   "execution_count": null,
   "id": "e2386eb3",
   "metadata": {},
   "outputs": [],
   "source": []
  }
 ],
 "metadata": {
  "kernelspec": {
   "display_name": "Python 3",
   "language": "python",
   "name": "python3"
  },
  "language_info": {
   "codemirror_mode": {
    "name": "ipython",
    "version": 3
   },
   "file_extension": ".py",
   "mimetype": "text/x-python",
   "name": "python",
   "nbconvert_exporter": "python",
   "pygments_lexer": "ipython3",
   "version": "3.9.4"
  }
 },
 "nbformat": 4,
 "nbformat_minor": 5
}
