{
 "cells": [
  {
   "cell_type": "code",
   "execution_count": 2,
   "id": "fd1723e9",
   "metadata": {},
   "outputs": [],
   "source": [
    "import seaborn as sns\n",
    "from random import normalvariate, randint, random\n",
    "import numpy as np\n",
    "from math import e, sqrt, pi\n",
    "import pandas as pd\n",
    "import matplotlib.pyplot as plt"
   ]
  },
  {
   "cell_type": "code",
   "execution_count": 3,
   "id": "0baed2a8",
   "metadata": {},
   "outputs": [],
   "source": [
    "lista = []"
   ]
  },
  {
   "cell_type": "code",
   "execution_count": 4,
   "id": "b80fb1c0",
   "metadata": {},
   "outputs": [],
   "source": [
    "for _ in range(100000):\n",
    "    x = randint(0, 1000)\n",
    "    while(x > 800):\n",
    "        x = randint(0, 1000)\n",
    "    lista.append(x)"
   ]
  },
  {
   "cell_type": "code",
   "execution_count": 9,
   "id": "ce694fac",
   "metadata": {
    "scrolled": false
   },
   "outputs": [
    {
     "data": {
      "text/plain": [
       "<AxesSubplot:>"
      ]
     },
     "execution_count": 9,
     "metadata": {},
     "output_type": "execute_result"
    },
    {
     "data": {
      "image/png": "[encoded data removed]",
      "text/plain": [
       "<Figure size 432x288 with 1 Axes>"
      ]
     },
     "metadata": {
      "needs_background": "light"
     },
     "output_type": "display_data"
    }
   ],
   "source": [
    "srn.distplot(lista, hist=True, kde=False)"
   ]
  },
  {
   "cell_type": "code",
   "execution_count": 23,
   "id": "435d46ce",
   "metadata": {},
   "outputs": [],
   "source": [
    "for _ in range(100000):\n",
    "    lista.append(normalvariate(mu=0,sigma=10))"
   ]
  },
  {
   "cell_type": "code",
   "execution_count": 27,
   "id": "cbd1633c",
   "metadata": {
    "collapsed": true
   },
   "outputs": [
    {
     "name": "stdout",
     "output_type": "stream",
     "text": [
      "z\t0.0\t0.1\t0.2\t0.3\t0.4\t0.5\t0.6\t0.7\t0.8\t0.9\t\n",
      "0.0\t0.3989\t0.3989\t0.3989\t0.3988\t0.3986\t0.3984\t0.3982\t0.398\t0.3977\t0.3973\t\n",
      "0.1\t0.397\t0.3965\t0.3961\t0.3956\t0.3951\t0.3945\t0.3939\t0.3932\t0.3925\t0.3918\t\n",
      "0.2\t0.391\t0.3902\t0.3894\t0.3885\t0.3876\t0.3867\t0.3857\t0.3847\t0.3836\t0.3825\t\n",
      "0.3\t0.3814\t0.3802\t0.379\t0.3778\t0.3765\t0.3752\t0.3739\t0.3725\t0.3712\t0.3697\t\n",
      "0.4\t0.3683\t0.3668\t0.3653\t0.3637\t0.3621\t0.3605\t0.3589\t0.3572\t0.3555\t0.3538\t\n",
      "0.5\t0.3521\t0.3503\t0.3485\t0.3467\t0.3448\t0.3429\t0.341\t0.3391\t0.3372\t0.3352\t\n",
      "0.6\t0.3332\t0.3312\t0.3292\t0.3271\t0.3251\t0.323\t0.3209\t0.3187\t0.3166\t0.3144\t\n",
      "0.7\t0.3123\t0.3101\t0.3079\t0.3056\t0.3034\t0.3011\t0.2989\t0.2966\t0.2943\t0.292\t\n",
      "0.8\t0.2897\t0.2874\t0.285\t0.2827\t0.2803\t0.278\t0.2756\t0.2732\t0.2709\t0.2685\t\n",
      "0.9\t0.2661\t0.2637\t0.2613\t0.2589\t0.2565\t0.2541\t0.2516\t0.2492\t0.2468\t0.2444\t\n",
      "1.0\t0.242\t0.2396\t0.2371\t0.2347\t0.2323\t0.2299\t0.2275\t0.2251\t0.2227\t0.2203\t\n",
      "1.1\t0.2179\t0.2155\t0.2131\t0.2107\t0.2083\t0.2059\t0.2036\t0.2012\t0.1989\t0.1965\t\n",
      "1.2\t0.1942\t0.1919\t0.1895\t0.1872\t0.1849\t0.1826\t0.1804\t0.1781\t0.1758\t0.1736\t\n",
      "1.3\t0.1714\t0.1691\t0.1669\t0.1647\t0.1626\t0.1604\t0.1582\t0.1561\t0.1539\t0.1518\t\n",
      "1.4\t0.1497\t0.1476\t0.1456\t0.1435\t0.1415\t0.1394\t0.1374\t0.1354\t0.1334\t0.1315\t\n",
      "1.5\t0.1295\t0.1276\t0.1257\t0.1238\t0.1219\t0.12\t0.1182\t0.1163\t0.1145\t0.1127\t\n",
      "1.6\t0.1109\t0.1092\t0.1074\t0.1057\t0.104\t0.1023\t0.1006\t0.0989\t0.0973\t0.0957\t\n",
      "1.7\t0.094\t0.0925\t0.0909\t0.0893\t0.0878\t0.0863\t0.0848\t0.0833\t0.0818\t0.0804\t\n",
      "1.8\t0.079\t0.0775\t0.0761\t0.0748\t0.0734\t0.0721\t0.0707\t0.0694\t0.0681\t0.0669\t\n",
      "1.9\t0.0656\t0.0644\t0.0632\t0.062\t0.0608\t0.0596\t0.0584\t0.0573\t0.0562\t0.0551\t\n",
      "2.0\t0.054\t0.0529\t0.0519\t0.0508\t0.0498\t0.0488\t0.0478\t0.0468\t0.0459\t0.0449\t\n",
      "2.1\t0.044\t0.0431\t0.0422\t0.0413\t0.0404\t0.0396\t0.0387\t0.0379\t0.0371\t0.0363\t\n",
      "2.2\t0.0355\t0.0347\t0.0339\t0.0332\t0.0325\t0.0317\t0.031\t0.0303\t0.0297\t0.029\t\n",
      "2.3\t0.0283\t0.0277\t0.027\t0.0264\t0.0258\t0.0252\t0.0246\t0.0241\t0.0235\t0.0229\t\n",
      "2.4\t0.0224\t0.0219\t0.0213\t0.0208\t0.0203\t0.0198\t0.0194\t0.0189\t0.0184\t0.018\t\n",
      "2.5\t0.0175\t0.0171\t0.0167\t0.0163\t0.0158\t0.0154\t0.0151\t0.0147\t0.0143\t0.0139\t\n",
      "2.6\t0.0136\t0.0132\t0.0129\t0.0126\t0.0122\t0.0119\t0.0116\t0.0113\t0.011\t0.0107\t\n",
      "2.7\t0.0104\t0.0101\t0.0099\t0.0096\t0.0093\t0.0091\t0.0088\t0.0086\t0.0084\t0.0081\t\n",
      "2.8\t0.0079\t0.0077\t0.0075\t0.0073\t0.0071\t0.0069\t0.0067\t0.0065\t0.0063\t0.0061\t\n",
      "2.9\t0.006\t0.0058\t0.0056\t0.0055\t0.0053\t0.0051\t0.005\t0.0048\t0.0047\t0.0046\t\n"
     ]
    }
   ],
   "source": [
    "print(\"z\", end=\"\\t\")\n",
    "for centesimo in range(10):\n",
    "        print(centesimo/10.0, end='\\t')\n",
    "print()\n",
    "\n",
    "for base in range(3):\n",
    "    for decimal in range(10):\n",
    "        print(base + decimal/10.0, end=\"\\t\")\n",
    "        for centesimo in range(10):\n",
    "            x = base + decimal/10.0 + centesimo/100.0\n",
    "            x = round(x,2)\n",
    "            print(round(e ** (-0.5 * x * x)/sqrt(2 * pi), 4), end=\"\\t\")\n",
    "        print()"
   ]
  },
  {
   "cell_type": "code",
   "execution_count": 6,
   "id": "e7dfdd89",
   "metadata": {},
   "outputs": [],
   "source": [
    "amostras = np.random.choice(a = [\"a\", \"b\"], size=150, replace=True, p=[0.5, 0.5])"
   ]
  },
  {
   "cell_type": "code",
   "execution_count": 7,
   "id": "8ebdc920",
   "metadata": {},
   "outputs": [
    {
     "name": "stdout",
     "output_type": "stream",
     "text": [
      "    valor\n",
      "0       b\n",
      "1       a\n",
      "2       b\n",
      "3       a\n",
      "4       b\n",
      "..    ...\n",
      "145     b\n",
      "146     a\n",
      "147     b\n",
      "148     b\n",
      "149     a\n",
      "\n",
      "[150 rows x 1 columns]\n"
     ]
    }
   ],
   "source": [
    "data = {\"valor\": amostras}\n",
    "\n",
    "df = pd.DataFrame(data)\n",
    "\n",
    "print(df)"
   ]
  },
  {
   "cell_type": "code",
   "execution_count": 19,
   "id": "95d77352",
   "metadata": {},
   "outputs": [
    {
     "data": {
      "text/plain": [
       "valor\n",
       "a    72\n",
       "b    78\n",
       "dtype: int64"
      ]
     },
     "execution_count": 19,
     "metadata": {},
     "output_type": "execute_result"
    }
   ],
   "source": [
    "df.groupby(\"valor\").size()"
   ]
  },
  {
   "cell_type": "code",
   "execution_count": 9,
   "id": "412a35fa",
   "metadata": {},
   "outputs": [
    {
     "data": {
      "text/plain": [
       "<AxesSubplot:xlabel='valor'>"
      ]
     },
     "execution_count": 9,
     "metadata": {},
     "output_type": "execute_result"
    },
    {
     "data": {
      "image/png": "[encoded data removed]",
      "text/plain": [
       "<Figure size 432x288 with 1 Axes>"
      ]
     },
     "metadata": {
      "needs_background": "light"
     },
     "output_type": "display_data"
    }
   ],
   "source": [
    "df.groupby(\"valor\").size().plot.bar()"
   ]
  },
  {
   "cell_type": "code",
   "execution_count": 23,
   "id": "7788a87c",
   "metadata": {},
   "outputs": [
    {
     "data": {
      "text/plain": [
       "<AxesSubplot:xlabel='valor', ylabel='Count'>"
      ]
     },
     "execution_count": 23,
     "metadata": {},
     "output_type": "execute_result"
    },
    {
     "data": {
      "image/png": "[encoded data removed]",
      "text/plain": [
       "<Figure size 432x288 with 1 Axes>"
      ]
     },
     "metadata": {
      "needs_background": "light"
     },
     "output_type": "display_data"
    }
   ],
   "source": [
    "sns.histplot(data=data,x=\"valor\",hue=\"valor\",alpha=.8, shrink=.8)"
   ]
  },
  {
   "cell_type": "code",
   "execution_count": 37,
   "id": "602d01ef",
   "metadata": {},
   "outputs": [],
   "source": [
    "agrupamento = df.groupby(\"valor\").size()"
   ]
  },
  {
   "cell_type": "code",
   "execution_count": 43,
   "id": "69f88d22",
   "metadata": {},
   "outputs": [
    {
     "data": {
      "text/plain": [
       "Index(['a', 'b'], dtype='object', name='valor')"
      ]
     },
     "execution_count": 43,
     "metadata": {},
     "output_type": "execute_result"
    }
   ],
   "source": [
    "agrupamento.index"
   ]
  },
  {
   "cell_type": "code",
   "execution_count": 44,
   "id": "5373694f",
   "metadata": {},
   "outputs": [
    {
     "data": {
      "text/plain": [
       "<BarContainer object of 2 artists>"
      ]
     },
     "execution_count": 44,
     "metadata": {},
     "output_type": "execute_result"
    },
    {
     "data": {
      "image/png": "[encoded data removed]",
      "text/plain": [
       "<Figure size 432x288 with 1 Axes>"
      ]
     },
     "metadata": {
      "needs_background": "light"
     },
     "output_type": "display_data"
    }
   ],
   "source": [
    "plt.bar(agrupamento.index, agrupamento)"
   ]
  },
  {
   "cell_type": "code",
   "execution_count": null,
   "id": "17c63970",
   "metadata": {},
   "outputs": [],
   "source": []
  }
 ],
 "metadata": {
  "kernelspec": {
   "display_name": "Python 3",
   "language": "python",
   "name": "python3"
  },
  "language_info": {
   "codemirror_mode": {
    "name": "ipython",
    "version": 3
   },
   "file_extension": ".py",
   "mimetype": "text/x-python",
   "name": "python",
   "nbconvert_exporter": "python",
   "pygments_lexer": "ipython3",
   "version": "3.9.4"
  }
 },
 "nbformat": 4,
 "nbformat_minor": 5
}
