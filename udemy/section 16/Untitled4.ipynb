{
 "cells": [
  {
   "cell_type": "code",
   "execution_count": 2,
   "id": "b0052afd",
   "metadata": {},
   "outputs": [],
   "source": [
    "from scipy import stats\n",
    "import numpy as np\n",
    "from scipy.stats import norm, skewnorm\n",
    "import matplotlib.pyplot as plt"
   ]
  },
  {
   "cell_type": "code",
   "execution_count": 2,
   "id": "7494aca7",
   "metadata": {},
   "outputs": [
    {
     "data": {
      "text/plain": [
       "0.15865525393145707"
      ]
     },
     "execution_count": 2,
     "metadata": {},
     "output_type": "execute_result"
    }
   ],
   "source": [
    "# Conjunto de objetos em uma certa, a média é 8 e o desvio padrão é 2\n",
    "# Qual é a probabilidade de tirar um objeto que o peso é menor que 6 quilos?\n",
    "norm.cdf(6,8,2)"
   ]
  },
  {
   "cell_type": "code",
   "execution_count": 3,
   "id": "0ff7a78e",
   "metadata": {},
   "outputs": [
    {
     "data": {
      "text/plain": [
       "0.8413447460685429"
      ]
     },
     "execution_count": 3,
     "metadata": {},
     "output_type": "execute_result"
    }
   ],
   "source": [
    "# Qual é a probaiblidade de tirar um objeto que o peso é maior que 6 quilos?\n",
    "norm.sf(6, 8 , 2)"
   ]
  },
  {
   "cell_type": "code",
   "execution_count": 4,
   "id": "b2673df3",
   "metadata": {},
   "outputs": [
    {
     "data": {
      "text/plain": [
       "0.8413447460685429"
      ]
     },
     "execution_count": 4,
     "metadata": {},
     "output_type": "execute_result"
    }
   ],
   "source": [
    "1 - norm.cdf(6,8,2)"
   ]
  },
  {
   "cell_type": "code",
   "execution_count": 5,
   "id": "d3a36ff6",
   "metadata": {},
   "outputs": [
    {
     "data": {
      "text/plain": [
       "0.31731050786291415"
      ]
     },
     "execution_count": 5,
     "metadata": {},
     "output_type": "execute_result"
    }
   ],
   "source": [
    "# Qual é a probabilidade de tirar um objeto que o peso é menor que 6 ou maior que 10?\n",
    "norm.cdf(6,8,2) + norm.sf(10, 8 , 2)"
   ]
  },
  {
   "cell_type": "code",
   "execution_count": 6,
   "id": "265710a4",
   "metadata": {},
   "outputs": [
    {
     "data": {
      "text/plain": [
       "0.3413447460685429"
      ]
     },
     "execution_count": 6,
     "metadata": {},
     "output_type": "execute_result"
    }
   ],
   "source": [
    "# Qual é a probailidade de tirar um objeto que o peso é menor que 10 e maior que 8 quilos?\n",
    "norm.cdf(10, 8, 2) - norm.cdf(8,8,2)"
   ]
  },
  {
   "cell_type": "markdown",
   "id": "bd1dffb8",
   "metadata": {},
   "source": [
    "# Teste de normalidade"
   ]
  },
  {
   "cell_type": "code",
   "execution_count": 7,
   "id": "556a1905",
   "metadata": {},
   "outputs": [
    {
     "data": {
      "text/plain": [
       "array([-3.85881874e-01,  4.91510068e-02, -7.43358463e-01,  6.56178023e-01,\n",
       "       -1.37196631e-01,  3.14635236e-01, -1.67692135e-01,  1.19463761e+00,\n",
       "       -4.12534436e-01,  1.42283027e+00, -9.24355067e-01,  1.24588101e+00,\n",
       "       -3.39211595e-01,  6.94204266e-01, -1.49812408e+00,  1.23871289e+00,\n",
       "        1.01073542e+00,  4.30128462e-01, -8.09738996e-01, -2.57858995e+00,\n",
       "        2.48689865e-01, -1.40495482e+00,  7.48100998e-01,  7.26039171e-01,\n",
       "        3.58783595e-01, -1.12471319e+00,  8.41760112e-01, -1.00931168e+00,\n",
       "        9.00350860e-01, -1.25171603e-02, -1.53960775e-01, -1.61489447e+00,\n",
       "        8.87998354e-02,  2.35204347e+00,  2.23731276e-01, -9.90489531e-01,\n",
       "        5.56128675e-01, -2.83798101e-02,  1.54593948e+00, -5.79577983e-01,\n",
       "        3.76559716e-01,  1.44866590e+00,  6.22044788e-01,  5.98827173e-01,\n",
       "       -2.00933224e+00, -2.88374290e-01,  5.70330767e-01,  1.86915887e+00,\n",
       "        5.16423589e-01, -5.09744748e-01, -1.18315292e+00,  7.68138002e-01,\n",
       "        9.06765102e-02,  4.35570345e-01,  2.67524328e-01, -1.09401650e+00,\n",
       "       -7.42948364e-01,  8.80598442e-01, -1.35432167e+00,  4.02391943e-01,\n",
       "       -1.99261086e-01,  1.65625664e+00, -4.85375661e-01, -4.74723140e-02,\n",
       "        3.97910195e-01,  7.00174908e-01,  1.61944735e-01,  7.65734791e-01,\n",
       "        1.77076990e-01,  4.21376719e-01,  9.39920901e-01, -1.63621090e+00,\n",
       "       -4.28221661e-01, -1.31444714e+00, -4.41472423e-01, -5.12713071e-01,\n",
       "       -4.03170982e-01,  4.82288854e-01, -3.04439112e-01, -1.00733053e+00,\n",
       "        5.04043852e-01, -4.53936977e-01,  5.57893982e-01, -9.77741407e-01,\n",
       "       -2.23734904e-01, -2.88459193e-01, -1.02976650e+00, -7.14253176e-02,\n",
       "        1.36743521e+00, -7.88196621e-01, -4.55106599e-01,  9.74705598e-01,\n",
       "       -3.83784139e-02, -1.09031824e+00, -6.83195511e-01, -2.74576578e+00,\n",
       "        1.83897208e+00, -6.18209241e-01, -9.36658250e-01, -2.49230271e-01,\n",
       "        7.97944565e-01,  1.69893731e+00, -7.47904631e-01,  1.11273701e+00,\n",
       "       -1.22951531e+00, -3.91694607e-01, -9.05936831e-01,  2.69879163e-02,\n",
       "       -1.37104220e-01, -8.88743531e-01,  1.12367132e+00,  3.87537001e-01,\n",
       "       -3.78668049e-02, -4.77875064e-01,  4.74078215e-01, -4.45531685e-01,\n",
       "        1.27536730e-01, -1.52723184e+00, -1.97558196e+00, -1.76797780e-01,\n",
       "        1.53460236e+00, -8.87170796e-01, -6.64350924e-01,  7.85102547e-02,\n",
       "       -1.83417777e+00, -5.62414421e-01,  1.97811874e+00, -2.23384580e-01,\n",
       "        1.42764723e+00,  3.28215315e-01, -9.59657990e-01,  5.68647250e-01,\n",
       "       -6.24269988e-01, -1.34123626e+00, -1.27827872e+00,  3.29647753e-01,\n",
       "       -7.49014682e-01, -1.34145627e+00, -2.78132457e-01, -1.29950238e+00,\n",
       "       -1.17891633e+00, -5.64254169e-01, -1.41098282e-01, -9.35621903e-01,\n",
       "       -2.27562821e-02,  8.13897997e-01,  6.57920479e-01,  1.90679470e-01,\n",
       "       -6.78411740e-01, -1.24577607e+00, -1.03678820e+00, -8.15826875e-01,\n",
       "        8.56265183e-01,  5.11209814e-01, -5.51784813e-01, -1.63735193e+00,\n",
       "        8.13737346e-01,  1.68983513e+00,  1.53914518e-01,  8.43050452e-01,\n",
       "       -1.15819423e+00, -4.05523226e-01, -3.03175142e-01,  1.18662372e-01,\n",
       "        9.15205134e-01, -1.41319594e+00, -3.62646137e-01,  1.60553020e+00,\n",
       "        4.35424429e-02, -1.74159297e+00, -2.50212810e-01,  7.55201235e-01,\n",
       "        9.30005584e-02,  2.87091371e-01,  1.69730051e+00,  9.98654705e-01,\n",
       "       -6.51879988e-01,  9.92517195e-01, -6.58349214e-01,  7.15977473e-01,\n",
       "       -2.78058485e-01, -2.07309321e+00,  7.09824939e-01, -8.69727026e-03,\n",
       "        2.01898786e+00, -1.05672297e+00, -7.23238321e-01, -9.82023531e-01,\n",
       "       -3.72693420e-01, -1.20591325e-01,  7.21604803e-01,  8.31972242e-01,\n",
       "        3.66532272e-01, -6.50509352e-01,  1.27005604e+00, -1.11577713e+00,\n",
       "        3.97591012e-01,  8.36456729e-02,  3.27847443e-01,  1.98643756e-01,\n",
       "       -1.56972090e-01, -9.95481073e-01,  8.66210013e-01,  2.80603048e-01,\n",
       "        2.34953781e-01, -6.84647779e-01,  6.24038264e-01,  2.64633144e+00,\n",
       "       -1.15166249e+00, -3.87698563e-01, -4.24377628e-01, -1.71658578e-01,\n",
       "        3.52192994e-01, -1.54248858e+00, -9.91861669e-01,  7.11533833e-01,\n",
       "       -4.19200360e-01,  4.67381429e-01,  6.11363390e-01, -7.09417735e-01,\n",
       "       -3.36900733e-01,  9.39633750e-02,  1.27023857e-02, -7.35348325e-01,\n",
       "       -2.86874523e-01, -4.03743401e-01,  4.18327509e-02,  1.19812738e-01,\n",
       "        1.24171458e+00, -3.43329121e-01,  3.49507978e-01, -6.04717891e-01,\n",
       "        8.08252393e-01, -2.49808559e+00, -5.92633127e-01,  4.02353593e-01,\n",
       "        1.22577344e+00, -4.74269076e-01,  1.61798854e+00, -2.96335224e-01,\n",
       "       -6.25651539e-01, -1.39677364e+00,  2.66708546e-01, -1.06311669e+00,\n",
       "        4.31741895e-01, -6.01431902e-01, -1.89233471e+00, -5.50202915e-01,\n",
       "        1.24175801e+00,  4.76162805e-01,  1.19223186e+00, -1.61668862e+00,\n",
       "       -9.88465731e-01,  1.08874022e+00, -9.79910014e-01,  2.09810330e+00,\n",
       "        1.18893271e+00, -6.07655433e-01, -6.36544531e-01,  1.92850832e+00,\n",
       "        2.86324277e-01, -2.05729034e+00,  8.71622055e-01, -1.27796857e+00,\n",
       "        8.17083948e-01,  9.38135569e-01,  1.42017617e+00,  4.18197747e-01,\n",
       "        7.50038447e-01,  1.85642032e+00,  5.85519285e-02, -4.67693966e-03,\n",
       "        8.99954659e-01,  2.77126183e-01,  3.39150938e-01, -1.48057535e+00,\n",
       "        1.14511987e+00,  1.36928194e-02,  1.19933030e+00, -1.82755484e+00,\n",
       "        3.51394120e-01, -2.83211061e-01, -3.05957837e-01,  1.00821023e-01,\n",
       "       -2.49019239e-01, -3.31306411e-03, -4.96586562e-01, -2.32948335e-01,\n",
       "        5.77538309e-01,  9.17542147e-01,  7.47439941e-01, -4.37361482e-01,\n",
       "        1.40330524e+00, -2.54597006e-01, -5.99335997e-01, -9.97293077e-01,\n",
       "        1.07565741e+00,  6.13234141e-01, -3.69229266e-01, -8.13571123e-01,\n",
       "        3.29637628e-01,  1.06920986e+00, -1.06289632e-01, -6.75349245e-01,\n",
       "        1.10733495e-01, -3.44235706e-01,  9.56105622e-01, -1.10272442e-01,\n",
       "        7.91600747e-01, -4.52964786e-01,  8.54944355e-01, -1.15952869e+00,\n",
       "        4.78314486e-01, -2.80047746e-02,  8.26699809e-02, -9.28530929e-01,\n",
       "       -1.47814763e+00, -1.00648653e-01,  4.10931426e-01, -9.99661941e-01,\n",
       "        1.16435971e+00, -2.04720618e+00,  3.42514572e-01, -2.44422346e+00,\n",
       "        7.15802282e-01,  3.98793087e-01, -6.99929273e-01, -2.39234828e+00,\n",
       "        9.22003038e-01,  1.01583336e+00,  2.98854322e-01, -6.62096502e-01,\n",
       "        8.90106736e-01, -9.71192460e-02,  2.12669407e-01,  9.09217080e-01,\n",
       "        5.77665929e-01,  1.15323349e-01, -1.35741278e-01, -8.00905128e-01,\n",
       "       -1.08132136e+00,  1.31447959e+00,  7.89870311e-01, -6.44691673e-01,\n",
       "       -4.90742270e-01,  1.01708601e+00,  2.60883231e+00,  7.98865553e-02,\n",
       "        2.28618952e+00,  1.46988845e+00, -4.14271167e-02,  1.19572889e+00,\n",
       "       -7.20063326e-01,  5.31871055e-01,  3.42166328e-01,  1.64283447e+00,\n",
       "       -7.77664440e-01,  5.78823362e-01,  5.77605506e-01, -5.28826647e-01,\n",
       "       -5.65542454e-01, -4.76247040e-01,  1.27662558e+00, -9.64281219e-01,\n",
       "        5.53878671e-01, -3.40475887e-01,  5.25395671e-01, -7.99306809e-01,\n",
       "       -1.10155318e+00,  9.16367127e-02, -1.47194763e+00,  1.92480686e+00,\n",
       "       -1.42084275e+00,  6.51407395e-01, -7.56644207e-01,  6.72364414e-01,\n",
       "        5.93249086e-01, -6.12484621e-02,  4.02358681e-01,  1.52189247e+00,\n",
       "        3.31378747e-01,  7.92585499e-01, -4.41683879e-01,  7.89390201e-01,\n",
       "        1.25805503e+00, -3.31674077e-01, -1.60071715e+00,  6.29711721e-01,\n",
       "        5.25549148e-01,  1.46485453e+00, -1.16406794e+00,  1.20627242e+00,\n",
       "        9.33823526e-02,  1.84001820e+00,  8.25760340e-01, -2.07266637e+00,\n",
       "        1.27368214e+00, -6.76440418e-01, -4.89642660e-01,  8.35717960e-01,\n",
       "        6.37079711e-01,  5.75908703e-01, -1.63977491e-01,  4.83616477e-02,\n",
       "       -2.53789123e-01, -1.35993522e-02,  4.91036035e-02, -1.62711489e+00,\n",
       "        6.97119782e-01,  3.14660768e-01,  5.06209747e-01, -4.08504929e-01,\n",
       "       -3.25764471e-01,  1.31543967e+00,  2.99581019e-01,  6.00714981e-01,\n",
       "       -7.05709308e-01, -5.11544986e-02,  1.74249656e-01,  1.07554685e+00,\n",
       "        8.63704792e-01, -4.74723076e-01,  1.16378307e+00, -4.31900095e-01,\n",
       "        6.38256320e-01, -3.73563537e-01,  1.76352109e+00, -1.58743594e+00,\n",
       "       -1.25842947e+00, -8.65100396e-02,  1.71634024e-01, -4.00608590e-01,\n",
       "       -2.33152307e-01, -5.73543703e-01, -2.61860646e-01,  4.63242833e-02,\n",
       "        1.50932568e+00,  2.22244146e+00,  7.73744654e-01,  3.20922102e-01,\n",
       "       -7.05299878e-01, -1.19229404e+00, -5.94026286e-02, -2.91995350e-01,\n",
       "        1.19763498e+00, -1.13626776e+00, -1.76699946e+00, -5.70528826e-01,\n",
       "        1.77112323e-02, -8.33927731e-01, -1.50019422e+00,  7.62982232e-01,\n",
       "        5.87103457e-01,  1.63869270e-01,  6.77098411e-01, -3.34077582e-01,\n",
       "        5.40512683e-01, -2.20276809e-01,  1.06832478e+00, -9.18575695e-01,\n",
       "        1.20995650e+00,  3.31087973e-01,  5.08561728e-02,  1.69035896e+00,\n",
       "        6.71803720e-01, -6.81554741e-01,  4.88632567e-01,  2.13110156e-01,\n",
       "       -1.25366275e+00, -1.50978069e+00, -8.56239864e-01,  1.06404463e-01,\n",
       "        9.33393903e-01, -1.33286266e+00, -4.24755814e-01,  1.42234538e-01,\n",
       "       -7.12587063e-02,  9.97552351e-01, -2.92901917e+00, -4.50934154e-01,\n",
       "        9.76089739e-01, -8.55025068e-01, -1.08619897e+00,  2.00439141e+00,\n",
       "        6.42127450e-01, -1.31983904e+00, -3.29927891e-01,  5.70785951e-01,\n",
       "        7.62048621e-01, -6.58765060e-01,  4.94394949e-01, -2.80187066e-01,\n",
       "        1.76343643e-01, -1.84050215e+00,  9.60904102e-01, -2.53327736e-01,\n",
       "       -1.02572724e+00,  8.70886811e-01,  1.15567700e+00, -4.81064893e-02,\n",
       "       -1.68303061e+00, -1.45463185e+00,  8.19245865e-01, -5.06289798e-01,\n",
       "        5.35624533e-01, -6.89530467e-01, -1.93256175e+00, -6.20410153e-01,\n",
       "       -1.12896846e+00, -4.79563385e-01, -1.06133236e+00, -1.53226727e+00,\n",
       "        1.35353824e-01, -5.62871174e-01, -2.76436305e-01,  4.21157133e-01,\n",
       "       -6.43151677e-01, -4.18499170e-02, -6.22793242e-02, -8.17747942e-01,\n",
       "        7.83271492e-02,  1.01583796e+00,  5.15612368e-01, -1.45409089e+00,\n",
       "       -3.17868854e-01, -1.80984887e-02, -1.54953015e-01,  3.87520077e-01,\n",
       "       -4.27003723e-01,  5.84039208e-01,  6.83380066e-01,  6.21555754e-01,\n",
       "       -2.74445005e-01,  5.91341970e-02,  8.44984503e-01, -1.35116778e+00,\n",
       "       -1.34333794e+00,  9.45050966e-01, -2.17495426e-01, -6.25765627e-01,\n",
       "       -3.63514069e-01,  3.74999547e-01, -2.06551198e+00, -1.17670469e+00,\n",
       "        2.57950045e-01, -5.88578365e-01,  3.12734255e-01,  1.78278705e+00,\n",
       "       -6.15803388e-01,  1.56800642e+00, -1.75374411e-01,  5.92867761e-01,\n",
       "       -2.71756382e+00, -1.32091699e-01, -5.31248583e-01,  8.76052712e-01,\n",
       "        9.13413465e-01, -4.03464116e-01, -7.32833654e-01, -8.24479447e-01,\n",
       "       -1.04588775e+00, -3.34785549e-01, -7.39667028e-02,  7.14911088e-01,\n",
       "       -9.07260440e-01,  2.75870717e-01,  1.30936168e+00, -9.43673220e-01,\n",
       "       -7.40488237e-01, -7.31734694e-01, -4.79699978e-01, -6.64036882e-02,\n",
       "        1.57662593e+00, -1.91298959e+00,  3.02703317e-01,  2.72686168e-01,\n",
       "        8.90842348e-01,  7.18911378e-01,  1.57364973e+00,  1.12910912e+00,\n",
       "        1.04993608e+00, -6.07394500e-01, -1.08943317e+00,  8.98779546e-01,\n",
       "        1.33928563e+00, -3.30466608e-01,  8.03312200e-01,  4.28461809e-01,\n",
       "        1.78690706e-02, -7.89360154e-01, -4.99019242e-01, -2.71813549e-02,\n",
       "       -8.33493217e-02, -1.21715783e+00, -9.02028033e-01,  2.22505062e-01,\n",
       "       -7.23386026e-01,  5.09321377e-01,  6.43186996e-01,  2.76072716e-01,\n",
       "        3.32280904e-01,  4.97167501e-01,  2.16321348e-01,  1.21363637e-01,\n",
       "        3.69683779e-01, -9.57138460e-02, -7.77412025e-01,  1.83185556e+00,\n",
       "        2.16022949e+00,  4.97738154e-01,  2.08137579e+00, -1.18302771e-01,\n",
       "       -2.29831736e+00,  1.57246123e-01, -4.93410997e-01,  4.18676891e-01,\n",
       "       -1.09436208e+00, -3.82105833e-01,  9.68140089e-02,  6.13623063e-02,\n",
       "        1.56971992e+00,  1.26790794e+00,  4.46803330e-02, -6.22090523e-01,\n",
       "        9.58974801e-01, -1.17433752e+00, -8.12186736e-01,  5.27116562e-01,\n",
       "        1.01502607e+00,  1.41201168e+00,  2.49735794e-02,  1.75889865e-01,\n",
       "        6.07147232e-02, -3.94153217e-01,  4.28702708e-01,  1.14744315e+00,\n",
       "       -1.41202706e+00, -1.55234110e+00,  1.04302545e+00, -2.43459309e+00,\n",
       "       -3.63499612e-01, -7.72326134e-01, -8.75308505e-01,  3.82735205e-01,\n",
       "       -1.53442259e-01, -1.34871106e+00,  1.95445822e+00, -3.03103977e-01,\n",
       "        7.68103581e-01,  7.05691748e-01, -1.33321847e-02,  2.29250861e-01,\n",
       "       -5.97616080e-01, -9.16277672e-01, -8.14826311e-01,  8.69018355e-04,\n",
       "        1.02603272e+00, -8.67040129e-01,  7.06231461e-01, -1.23453502e+00,\n",
       "        3.22748919e+00,  7.22804374e-01, -1.84068936e+00,  2.77057537e+00,\n",
       "       -1.46776748e+00, -1.34340536e+00, -2.44119732e+00, -1.22262258e+00,\n",
       "       -4.62714981e-01, -1.21322579e+00, -8.88866571e-01, -3.09094675e-01,\n",
       "        4.84200784e-01,  1.01698915e+00,  1.75615141e-01, -3.67552466e-01,\n",
       "        5.63730545e-02,  6.09575380e-01, -1.80248298e+00, -8.51050037e-01,\n",
       "       -1.48025064e+00,  1.44722510e+00,  7.39439991e-02,  1.41774197e-01,\n",
       "        1.23201342e-01,  5.23554102e-01,  3.40857420e-01, -1.09022301e+00,\n",
       "        1.02194177e-01, -1.34685641e-01, -9.20576403e-01, -7.01760842e-02,\n",
       "       -6.06624696e-01,  1.92328991e+00,  7.80049922e-01, -7.51901561e-01,\n",
       "        8.01151292e-01,  9.37303996e-01,  1.24686021e+00, -2.01872591e+00,\n",
       "       -1.98192262e-01, -2.14934637e-01, -3.24699067e-01,  1.45831734e+00,\n",
       "        5.36806785e-01, -5.56708721e-01, -1.12793537e+00,  5.12315443e-01,\n",
       "        1.40033428e+00,  3.61265334e-01, -1.66967579e+00,  1.59691774e+00,\n",
       "       -6.15192854e-01,  7.96437923e-01,  1.43990845e+00,  5.84987411e-01,\n",
       "        8.56946565e-01, -7.27538808e-01,  5.01860571e-01,  9.34950914e-01,\n",
       "        3.47874657e-02, -3.00902905e-01, -9.21635241e-01,  1.44826264e-01,\n",
       "        1.13661137e-01,  2.20341245e+00, -4.80327903e-01,  1.62967831e-01,\n",
       "       -2.07446165e-04, -2.35675640e+00, -7.25353165e-01,  1.44025184e+00,\n",
       "       -2.95794830e-01,  5.79197601e-01, -1.56001307e-01,  2.79750658e-01,\n",
       "        7.29751213e-01, -9.91838042e-01, -2.84126663e-01, -1.89350201e+00,\n",
       "       -1.03075082e-01,  6.42952107e-01,  4.17128994e-01,  1.51736847e+00,\n",
       "        7.36207178e-01, -1.93273472e+00,  9.07847322e-01,  1.93724719e-01,\n",
       "        1.90517602e+00, -5.33396873e-01,  3.75359310e-01,  2.24946078e+00,\n",
       "       -1.18306748e-01,  1.05208318e+00,  3.19077059e-01, -2.62904923e+00,\n",
       "        9.72579047e-01, -2.94176317e-01, -2.80104397e-01,  4.92207257e-01,\n",
       "       -1.57477907e+00,  6.92722032e-01,  3.58405871e-01,  1.61637598e-01,\n",
       "       -5.47136435e-01, -2.15330879e-01,  1.69556710e+00,  4.06484774e-01,\n",
       "        3.04661762e-01, -2.26032706e-01,  2.34648401e-01,  4.64381210e-01,\n",
       "       -1.00821064e+00,  4.83509335e-01,  5.87658627e-01, -1.13541808e+00,\n",
       "        2.11393203e+00, -1.72637037e+00,  9.81096095e-01, -1.11585683e+00,\n",
       "        1.47965936e+00,  5.77082197e-01,  6.42323470e-01,  1.76875129e-01,\n",
       "        1.01807385e+00, -9.12453453e-01,  7.76867110e-01, -1.14419369e+00,\n",
       "        5.00217519e-01, -6.18107632e-01,  1.03062031e+00, -7.00153182e-01,\n",
       "        3.64968367e-01, -6.00086137e-01,  8.48648947e-01, -1.94334036e+00,\n",
       "        4.48677919e-01, -1.38304638e+00,  4.81449403e-01, -1.15002279e+00,\n",
       "        1.65832729e+00, -3.30891046e-01, -1.68367086e+00, -7.81441856e-01,\n",
       "        5.79579786e-01,  3.73036815e-01, -1.41687566e+00,  4.58759304e-01,\n",
       "        3.89603264e-02, -5.76699066e-01, -1.86596457e+00,  1.45462378e-01,\n",
       "        3.58482237e-01,  4.29334062e-01, -1.23804495e-01,  1.44354504e-01,\n",
       "        3.71237446e-01, -1.17672662e+00,  2.53948263e-01,  1.56726711e+00,\n",
       "       -2.81208085e-01, -7.33504356e-02,  2.79967272e-02,  5.14761864e-01,\n",
       "        3.20817467e-01, -4.04094867e-01,  7.62502573e-01, -4.91961455e-01,\n",
       "        4.39978880e-01, -6.99412581e-01, -6.83787177e-01, -2.12816176e+00,\n",
       "        3.84335066e-01,  7.39434492e-01,  1.01900054e+00, -2.16017886e+00,\n",
       "        8.87006727e-01,  8.15700018e-01,  2.36069273e+00,  1.14256913e+00,\n",
       "       -1.48317347e+00,  5.61009810e-01, -2.96098087e-01, -1.34272377e+00,\n",
       "       -8.13906929e-01,  3.82851548e-01,  8.88955420e-01,  4.55148724e-01,\n",
       "        1.07348385e+00,  6.15386687e-01, -7.48260335e-01,  7.60050134e-01,\n",
       "       -9.74875136e-01,  1.70315850e+00,  4.99347412e-01,  9.19764400e-01,\n",
       "        6.60818251e-02,  1.25006093e+00, -1.30426834e+00, -1.35210840e-01,\n",
       "       -6.92218555e-01,  1.32476915e+00, -1.03658877e-01,  8.58549837e-01,\n",
       "        3.85075206e-01,  3.38605220e-01,  9.26321178e-01, -2.98736144e-01,\n",
       "        1.69105817e+00, -1.24680172e-01,  5.44484103e-01,  5.86443833e-01,\n",
       "        3.77967450e-01,  1.39798822e-01, -7.16722376e-01, -1.59635895e+00,\n",
       "       -9.55363701e-01,  6.54957334e-01,  2.54837351e-01, -1.92436577e+00,\n",
       "        7.91606562e-01, -4.99526977e-02,  2.29328703e-01,  7.48845070e-01,\n",
       "       -1.55399423e+00,  4.51397002e-01, -2.31190705e-01, -1.30011147e+00,\n",
       "        4.89391963e-01,  1.45819552e-01, -5.31554922e-01, -2.99168716e-02,\n",
       "       -2.45345112e-01, -1.27834931e-01, -1.33173469e+00, -1.12617273e+00,\n",
       "        2.11084768e-01,  8.95685230e-01, -8.32425215e-01,  3.48677624e-01,\n",
       "       -1.17949079e+00,  6.14309675e-01, -1.13416619e+00, -8.09353921e-01,\n",
       "        4.17965308e-01,  1.85344487e+00, -1.60544349e+00, -1.04959580e+00,\n",
       "        1.21890841e+00,  6.14953144e-01, -1.77383457e-01, -9.25560363e-01,\n",
       "        6.60334474e-01, -1.33266411e+00, -6.64771382e-01,  1.47508429e+00,\n",
       "        7.52144572e-01, -2.65949130e-01,  5.44928010e-01,  9.97127283e-01,\n",
       "       -3.42470345e-01,  8.67651272e-01,  1.93085337e-01,  1.24677941e+00,\n",
       "        8.34931708e-02,  1.13171419e+00, -7.73495139e-01,  7.59938833e-02,\n",
       "        1.26769288e+00,  4.22104192e-01, -2.62783541e-01, -1.17285889e+00,\n",
       "       -2.55732501e+00, -7.26676410e-01,  1.90619766e+00,  3.30345747e-01,\n",
       "       -8.96344492e-01, -1.50644272e+00, -1.38448438e-01, -1.21200853e+00,\n",
       "        2.58039687e-01,  8.13120247e-01, -9.83268988e-01,  4.88599028e-01,\n",
       "        1.16975271e-01, -1.53149575e+00, -1.38980370e+00,  2.80555489e-01,\n",
       "        1.59819510e+00,  5.12461549e-01, -1.17808648e+00,  1.08991965e-01,\n",
       "       -6.54416664e-01, -9.08720946e-01, -4.33533333e-02,  2.29070988e-01,\n",
       "       -1.91968567e+00, -1.24060312e+00, -9.21239077e-01,  1.51700435e+00,\n",
       "       -2.31800589e-01,  1.08056782e+00, -4.92827710e-02,  1.62144841e-01,\n",
       "       -1.67809977e+00,  1.39992444e+00, -1.32799263e+00,  2.69697187e-01,\n",
       "       -6.89840127e-01,  2.66414416e-02,  1.32628282e+00,  7.86198550e-01,\n",
       "        3.33142723e-01,  1.81352038e+00,  1.45622624e+00,  1.05377095e+00,\n",
       "        9.54518202e-01, -3.65562631e-01, -3.57648350e-01, -6.71054235e-01,\n",
       "        2.54324087e-01, -3.22328116e-01,  2.02125326e+00, -4.56931238e-01,\n",
       "       -1.29200726e+00,  3.61357903e-01,  9.66334477e-01,  1.09973203e+00,\n",
       "        1.18257490e+00,  2.17606602e+00, -8.16130031e-01, -4.70974299e-01,\n",
       "       -7.55280064e-01,  3.29635850e-01,  6.74624326e-01,  2.10569907e+00,\n",
       "       -5.26764887e-01,  1.61956928e-02,  6.84567379e-01,  7.81876704e-01])"
      ]
     },
     "execution_count": 7,
     "metadata": {},
     "output_type": "execute_result"
    }
   ],
   "source": [
    "# Criação de uma variável com dados em uma distruibuição normal com a função rvs (1000 elementos)\n",
    "dados = norm.rvs(size = 1000)\n",
    "dados"
   ]
  },
  {
   "cell_type": "code",
   "execution_count": 8,
   "id": "17a05f6d",
   "metadata": {},
   "outputs": [
    {
     "data": {
      "text/plain": [
       "Text(0.5, 1.0, 'Dados')"
      ]
     },
     "execution_count": 8,
     "metadata": {},
     "output_type": "execute_result"
    },
    {
     "data": {
      "image/png": "[encoded data removed]",
      "text/plain": [
       "<Figure size 432x288 with 1 Axes>"
      ]
     },
     "metadata": {
      "needs_background": "light"
     },
     "output_type": "display_data"
    }
   ],
   "source": [
    "plt.hist(dados, bins=20)\n",
    "plt.title('Dados')"
   ]
  },
  {
   "cell_type": "code",
   "execution_count": 18,
   "id": "e752d527",
   "metadata": {},
   "outputs": [
    {
     "data": {
      "image/png": "[encoded data removed]",
      "text/plain": [
       "<Figure size 432x288 with 1 Axes>"
      ]
     },
     "metadata": {
      "needs_background": "light"
     },
     "output_type": "display_data"
    }
   ],
   "source": [
    "fig, ax = plt.subplots()\n",
    "stats.probplot(dados, fit=True, plot=ax)\n",
    "plt.show()"
   ]
  },
  {
   "cell_type": "code",
   "execution_count": 10,
   "id": "e81c33a8",
   "metadata": {},
   "outputs": [
    {
     "data": {
      "text/plain": [
       "ShapiroResult(statistic=0.9984242916107178, pvalue=0.5061799883842468)"
      ]
     },
     "execution_count": 10,
     "metadata": {},
     "output_type": "execute_result"
    }
   ],
   "source": [
    "# Execução do teste de Shapiro\n",
    "# Segundo argumento é o valor de p, não há como rejeitar a hipótese nula\n",
    "stats.shapiro(dados)"
   ]
  },
  {
   "cell_type": "markdown",
   "id": "91c93d76",
   "metadata": {},
   "source": [
    "## Dados não normais"
   ]
  },
  {
   "cell_type": "code",
   "execution_count": 28,
   "id": "acaf4022",
   "metadata": {},
   "outputs": [],
   "source": [
    "dados2 = skewnorm.rvs(4, size=1000)"
   ]
  },
  {
   "cell_type": "code",
   "execution_count": 29,
   "id": "4aba7f88",
   "metadata": {},
   "outputs": [
    {
     "data": {
      "text/plain": [
       "Text(0.5, 1.0, 'Dados')"
      ]
     },
     "execution_count": 29,
     "metadata": {},
     "output_type": "execute_result"
    },
    {
     "data": {
      "image/png": "[encoded data removed]",
      "text/plain": [
       "<Figure size 432x288 with 1 Axes>"
      ]
     },
     "metadata": {
      "needs_background": "light"
     },
     "output_type": "display_data"
    }
   ],
   "source": [
    "plt.hist(dados2, bins=20)\n",
    "plt.title('Dados')"
   ]
  },
  {
   "cell_type": "code",
   "execution_count": 30,
   "id": "c7b39cce",
   "metadata": {},
   "outputs": [
    {
     "data": {
      "image/png": "[encoded data removed]",
      "text/plain": [
       "<Figure size 432x288 with 1 Axes>"
      ]
     },
     "metadata": {
      "needs_background": "light"
     },
     "output_type": "display_data"
    }
   ],
   "source": [
    "fig, ax = plt.subplots()\n",
    "stats.probplot(dados2, fit=True, plot=ax)\n",
    "plt.show()"
   ]
  },
  {
   "cell_type": "code",
   "execution_count": 27,
   "id": "4c2d63ad",
   "metadata": {},
   "outputs": [
    {
     "data": {
      "text/plain": [
       "ShapiroResult(statistic=0.9324470162391663, pvalue=7.6101949214264e-21)"
      ]
     },
     "execution_count": 27,
     "metadata": {},
     "output_type": "execute_result"
    }
   ],
   "source": [
    "stats.shapiro(dados2)"
   ]
  },
  {
   "cell_type": "code",
   "execution_count": 51,
   "id": "2ad6b8f6",
   "metadata": {},
   "outputs": [],
   "source": [
    "medias = []"
   ]
  },
  {
   "cell_type": "code",
   "execution_count": 52,
   "id": "1d40fb20",
   "metadata": {},
   "outputs": [],
   "source": [
    "for _ in range(10000):\n",
    "    medias.append(np.mean(skewnorm.rvs(8, size=1000)))"
   ]
  },
  {
   "cell_type": "code",
   "execution_count": 53,
   "id": "a7c05ded",
   "metadata": {},
   "outputs": [
    {
     "data": {
      "text/plain": [
       "Text(0.5, 1.0, 'medias')"
      ]
     },
     "execution_count": 53,
     "metadata": {},
     "output_type": "execute_result"
    },
    {
     "data": {
      "image/png": "[encoded data removed]",
      "text/plain": [
       "<Figure size 432x288 with 1 Axes>"
      ]
     },
     "metadata": {
      "needs_background": "light"
     },
     "output_type": "display_data"
    }
   ],
   "source": [
    "plt.hist(medias, bins=20)\n",
    "plt.title('medias')"
   ]
  },
  {
   "cell_type": "code",
   "execution_count": 54,
   "id": "33615442",
   "metadata": {},
   "outputs": [
    {
     "data": {
      "image/png": "[encoded data removed]",
      "text/plain": [
       "<Figure size 432x288 with 1 Axes>"
      ]
     },
     "metadata": {
      "needs_background": "light"
     },
     "output_type": "display_data"
    }
   ],
   "source": [
    "fig, ax = plt.subplots()\n",
    "stats.probplot(medias, fit=True, plot=ax)\n",
    "plt.show()"
   ]
  },
  {
   "cell_type": "code",
   "execution_count": 55,
   "id": "29eea90f",
   "metadata": {},
   "outputs": [
    {
     "name": "stderr",
     "output_type": "stream",
     "text": [
      "c:\\users\\mello\\appdata\\local\\programs\\python\\python39\\lib\\site-packages\\scipy\\stats\\morestats.py:1681: UserWarning: p-value may not be accurate for N > 5000.\n",
      "  warnings.warn(\"p-value may not be accurate for N > 5000.\")\n"
     ]
    },
    {
     "data": {
      "text/plain": [
       "0.12179066240787506"
      ]
     },
     "execution_count": 55,
     "metadata": {},
     "output_type": "execute_result"
    }
   ],
   "source": [
    "stats.shapiro(medias).pvalue"
   ]
  },
  {
   "cell_type": "markdown",
   "id": "3e874793",
   "metadata": {},
   "source": [
    "O resultados do texto de QI tem uma distribuição normal com média 100 e desvio padrão 15, qual é a porcentagem de pessoas que são mais inteligentes que eu (137)?"
   ]
  },
  {
   "cell_type": "code",
   "execution_count": 10,
   "id": "4f987756",
   "metadata": {},
   "outputs": [
    {
     "name": "stdout",
     "output_type": "stream",
     "text": [
      "0.68%\n"
     ]
    }
   ],
   "source": [
    "print(round(norm.sf(137, scale=15, loc=100) * 100, 2), \"%\",sep=\"\")"
   ]
  },
  {
   "cell_type": "code",
   "execution_count": null,
   "id": "80e81d6c",
   "metadata": {},
   "outputs": [],
   "source": []
  }
 ],
 "metadata": {
  "kernelspec": {
   "display_name": "Python 3 (ipykernel)",
   "language": "python",
   "name": "python3"
  },
  "language_info": {
   "codemirror_mode": {
    "name": "ipython",
    "version": 3
   },
   "file_extension": ".py",
   "mimetype": "text/x-python",
   "name": "python",
   "nbconvert_exporter": "python",
   "pygments_lexer": "ipython3",
   "version": "3.10.0"
  }
 },
 "nbformat": 4,
 "nbformat_minor": 5
}
