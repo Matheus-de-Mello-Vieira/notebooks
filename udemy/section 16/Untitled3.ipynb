{
 "cells": [
  {
   "cell_type": "code",
   "execution_count": 2,
   "id": "3429eccf",
   "metadata": {},
   "outputs": [],
   "source": [
    "import numpy as np\n",
    "from scipy import stats\n",
    "from random import randint"
   ]
  },
  {
   "cell_type": "code",
   "execution_count": 7,
   "id": "65cc8365",
   "metadata": {},
   "outputs": [],
   "source": [
    "populacao = [randint(1, 10000) for _ in range(10000)]"
   ]
  },
  {
   "cell_type": "code",
   "execution_count": 8,
   "id": "7e0b2939",
   "metadata": {},
   "outputs": [
    {
     "data": {
      "text/plain": [
       "5020.4866"
      ]
     },
     "execution_count": 8,
     "metadata": {},
     "output_type": "execute_result"
    }
   ],
   "source": [
    "np.mean(populacao)"
   ]
  },
  {
   "cell_type": "code",
   "execution_count": 9,
   "id": "5eabd7bc",
   "metadata": {},
   "outputs": [
    {
     "data": {
      "text/plain": [
       "5065.5"
      ]
     },
     "execution_count": 9,
     "metadata": {},
     "output_type": "execute_result"
    }
   ],
   "source": [
    "np.median(populacao)"
   ]
  },
  {
   "cell_type": "code",
   "execution_count": 11,
   "id": "ff147a8b",
   "metadata": {},
   "outputs": [
    {
     "data": {
      "text/plain": [
       "array([1.0000e+00, 2.5290e+03, 5.0655e+03, 7.5025e+03, 1.0000e+04])"
      ]
     },
     "execution_count": 11,
     "metadata": {},
     "output_type": "execute_result"
    }
   ],
   "source": [
    "quartis = np.quantile(populacao, [0, 0.25, 0.5, 0.75, 1])\n",
    "quartis"
   ]
  },
  {
   "cell_type": "code",
   "execution_count": 12,
   "id": "2487edeb",
   "metadata": {},
   "outputs": [
    {
     "data": {
      "text/plain": [
       "2875.8083965495694"
      ]
     },
     "execution_count": 12,
     "metadata": {},
     "output_type": "execute_result"
    }
   ],
   "source": [
    "np.std(jogadores, ddof=1)"
   ]
  },
  {
   "cell_type": "code",
   "execution_count": 13,
   "id": "9c4e80c1",
   "metadata": {},
   "outputs": [
    {
     "data": {
      "text/plain": [
       "DescribeResult(nobs=10000, minmax=(1, 10000), mean=5020.4866, variance=8296882.896710112, skewness=-0.022302694541924697, kurtosis=-1.1902525397082508)"
      ]
     },
     "execution_count": 13,
     "metadata": {},
     "output_type": "execute_result"
    }
   ],
   "source": [
    "stats.describe(populacao)"
   ]
  },
  {
   "cell_type": "markdown",
   "id": "2d68ebcf",
   "metadata": {},
   "source": [
    "# Usando formas melhores:"
   ]
  },
  {
   "cell_type": "code",
   "execution_count": 10,
   "id": "6e5d79d3",
   "metadata": {},
   "outputs": [],
   "source": [
    "populacao = np.random.randint(1, 10000, size=(10000))"
   ]
  },
  {
   "cell_type": "code",
   "execution_count": 11,
   "id": "bb702dc1",
   "metadata": {},
   "outputs": [
    {
     "data": {
      "text/plain": [
       "5024.3508"
      ]
     },
     "execution_count": 11,
     "metadata": {},
     "output_type": "execute_result"
    }
   ],
   "source": [
    "populacao.mean()"
   ]
  },
  {
   "cell_type": "code",
   "execution_count": 15,
   "id": "337920fb",
   "metadata": {},
   "outputs": [
    {
     "data": {
      "text/plain": [
       "5010.0"
      ]
     },
     "execution_count": 15,
     "metadata": {},
     "output_type": "execute_result"
    }
   ],
   "source": [
    "np.median(populacao)"
   ]
  },
  {
   "cell_type": "code",
   "execution_count": 16,
   "id": "aced2904",
   "metadata": {},
   "outputs": [
    {
     "data": {
      "text/plain": [
       "array([1.00000e+00, 2.50375e+03, 5.01000e+03, 7.61900e+03, 9.99900e+03])"
      ]
     },
     "execution_count": 16,
     "metadata": {},
     "output_type": "execute_result"
    }
   ],
   "source": [
    "quartis = np.quantile(populacao, [0, 0.25, 0.5, 0.75, 1])\n",
    "quartis"
   ]
  }
 ],
 "metadata": {
  "kernelspec": {
   "display_name": "Python 3",
   "language": "python",
   "name": "python3"
  },
  "language_info": {
   "codemirror_mode": {
    "name": "ipython",
    "version": 3
   },
   "file_extension": ".py",
   "mimetype": "text/x-python",
   "name": "python",
   "nbconvert_exporter": "python",
   "pygments_lexer": "ipython3",
   "version": "3.9.4"
  }
 },
 "nbformat": 4,
 "nbformat_minor": 5
}
