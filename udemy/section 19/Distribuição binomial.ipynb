{
 "cells": [
  {
   "cell_type": "markdown",
   "id": "391e60b8",
   "metadata": {},
   "source": [
    "# Distribuição binomial\n",
    "Importando"
   ]
  },
  {
   "cell_type": "code",
   "execution_count": 1,
   "id": "9b61f140",
   "metadata": {},
   "outputs": [],
   "source": [
    "from scipy.stats import binom"
   ]
  },
  {
   "cell_type": "markdown",
   "id": "2056367f",
   "metadata": {},
   "source": [
    "Jogar uma moedad 5 vezes, qual a probabilidade de dar cara 3 vezes?\n",
    "\n",
    "eventos, experimentos, probabilidade"
   ]
  },
  {
   "cell_type": "code",
   "execution_count": 2,
   "id": "a525084a",
   "metadata": {},
   "outputs": [
    {
     "data": {
      "text/plain": [
       "0.3125"
      ]
     },
     "execution_count": 2,
     "metadata": {},
     "output_type": "execute_result"
    }
   ],
   "source": [
    "prop = binom.pmf(3, 5, 0.5)\n",
    "prop"
   ]
  },
  {
   "cell_type": "markdown",
   "id": "08d6776f",
   "metadata": {},
   "source": [
    "Passar por 4 sinais de 4 tempos, qual a probabilidade de pegar sinal verde\n",
    "\n",
    "nenhum, 1, 2, 3 ou 4 vezes seguidas?"
   ]
  },
  {
   "cell_type": "code",
   "execution_count": 3,
   "id": "77e18f1f",
   "metadata": {},
   "outputs": [
    {
     "data": {
      "text/plain": [
       "1.0000000000000002"
      ]
     },
     "execution_count": 3,
     "metadata": {},
     "output_type": "execute_result"
    }
   ],
   "source": [
    "sum = 0\n",
    "\n",
    "for i in range(5):\n",
    "    sum = sum + binom.pmf(i, 4, 0.25)\n",
    "    \n",
    "sum"
   ]
  },
  {
   "cell_type": "markdown",
   "id": "e5bceffa",
   "metadata": {},
   "source": [
    "E se fosem finais de dois tempos?"
   ]
  },
  {
   "cell_type": "code",
   "execution_count": 4,
   "id": "04312dfe",
   "metadata": {},
   "outputs": [
    {
     "data": {
      "text/plain": [
       "0.0625"
      ]
     },
     "execution_count": 4,
     "metadata": {},
     "output_type": "execute_result"
    }
   ],
   "source": [
    "binom.pmf(4, 4, 0.5)"
   ]
  },
  {
   "cell_type": "markdown",
   "id": "f9c16e69",
   "metadata": {},
   "source": [
    "probabilidade acumulativa"
   ]
  },
  {
   "cell_type": "code",
   "execution_count": 5,
   "id": "6a52031d",
   "metadata": {},
   "outputs": [
    {
     "data": {
      "text/plain": [
       "1.0"
      ]
     },
     "execution_count": 5,
     "metadata": {},
     "output_type": "execute_result"
    }
   ],
   "source": [
    "binom.cdf(4,4,0.25)"
   ]
  },
  {
   "cell_type": "markdown",
   "id": "340e5ff9",
   "metadata": {},
   "source": [
    "Concuso de 12 questão, qual é a probabilidade de acertar 7 questões considerando que cada questão tem 4 alternativas?"
   ]
  },
  {
   "cell_type": "code",
   "execution_count": 6,
   "id": "caeb9fc6",
   "metadata": {},
   "outputs": [
    {
     "data": {
      "text/plain": [
       "1.1471271514892574"
      ]
     },
     "execution_count": 6,
     "metadata": {},
     "output_type": "execute_result"
    }
   ],
   "source": [
    "binom.pmf(7,12,0.25) * 100"
   ]
  },
  {
   "cell_type": "markdown",
   "id": "64856687",
   "metadata": {},
   "source": [
    "Probabilidade dde acertar as 12 questões"
   ]
  },
  {
   "cell_type": "code",
   "execution_count": 7,
   "id": "548c7a77",
   "metadata": {},
   "outputs": [
    {
     "data": {
      "text/plain": [
       "5.960464477539072e-06"
      ]
     },
     "execution_count": 7,
     "metadata": {},
     "output_type": "execute_result"
    }
   ],
   "source": [
    "binom.pmf(12,12,0.25) * 100"
   ]
  }
 ],
 "metadata": {
  "kernelspec": {
   "display_name": "Python 3",
   "language": "python",
   "name": "python3"
  },
  "language_info": {
   "codemirror_mode": {
    "name": "ipython",
    "version": 3
   },
   "file_extension": ".py",
   "mimetype": "text/x-python",
   "name": "python",
   "nbconvert_exporter": "python",
   "pygments_lexer": "ipython3",
   "version": "3.9.4"
  }
 },
 "nbformat": 4,
 "nbformat_minor": 5
}
