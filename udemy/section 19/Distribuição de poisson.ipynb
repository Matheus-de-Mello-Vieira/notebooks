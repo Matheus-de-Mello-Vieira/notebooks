{
 "cells": [
  {
   "cell_type": "markdown",
   "id": "c0e621fc",
   "metadata": {},
   "source": [
    "# Distribuição de poisson\n",
    "Importação"
   ]
  },
  {
   "cell_type": "code",
   "execution_count": 1,
   "id": "37b7e201",
   "metadata": {},
   "outputs": [],
   "source": [
    "from scipy.stats import poisson"
   ]
  },
  {
   "cell_type": "markdown",
   "id": "e3f606cf",
   "metadata": {},
   "source": [
    "O média é 2 acidentes por dia\n",
    "\n",
    "Qual a probabilidade de ocorrerem 3 acidentes no dia?"
   ]
  },
  {
   "cell_type": "code",
   "execution_count": 2,
   "id": "84ff8da3",
   "metadata": {},
   "outputs": [
    {
     "data": {
      "text/plain": [
       "0.18044704431548356"
      ]
     },
     "execution_count": 2,
     "metadata": {},
     "output_type": "execute_result"
    }
   ],
   "source": [
    "poisson.pmf(3,2)"
   ]
  },
  {
   "cell_type": "markdown",
   "id": "b015c07e",
   "metadata": {},
   "source": [
    "Qual a probabilidade de ocorrerem 3 ou menos acidentes no dia?"
   ]
  },
  {
   "cell_type": "code",
   "execution_count": 3,
   "id": "ee7221d1",
   "metadata": {},
   "outputs": [
    {
     "data": {
      "text/plain": [
       "0.857123460498547"
      ]
     },
     "execution_count": 3,
     "metadata": {},
     "output_type": "execute_result"
    }
   ],
   "source": [
    "poisson.cdf(3,2)"
   ]
  },
  {
   "cell_type": "markdown",
   "id": "4e25ffe8",
   "metadata": {},
   "source": [
    "Qual a probabilidade de ocorrerem mais de 3 acidentes no dia?"
   ]
  },
  {
   "cell_type": "code",
   "execution_count": 4,
   "id": "6f3d49d0",
   "metadata": {},
   "outputs": [
    {
     "data": {
      "text/plain": [
       "0.14287653950145296"
      ]
     },
     "execution_count": 4,
     "metadata": {},
     "output_type": "execute_result"
    }
   ],
   "source": [
    "poisson.sf(3,2)"
   ]
  },
  {
   "cell_type": "code",
   "execution_count": null,
   "id": "5c04a9fa",
   "metadata": {},
   "outputs": [],
   "source": []
  }
 ],
 "metadata": {
  "kernelspec": {
   "display_name": "Python 3",
   "language": "python",
   "name": "python3"
  },
  "language_info": {
   "codemirror_mode": {
    "name": "ipython",
    "version": 3
   },
   "file_extension": ".py",
   "mimetype": "text/x-python",
   "name": "python",
   "nbconvert_exporter": "python",
   "pygments_lexer": "ipython3",
   "version": "3.9.4"
  }
 },
 "nbformat": 4,
 "nbformat_minor": 5
}
