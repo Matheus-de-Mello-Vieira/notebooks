{
 "cells": [
  {
   "cell_type": "code",
   "execution_count": 11,
   "id": "3f82388e",
   "metadata": {},
   "outputs": [],
   "source": [
    "from scipy.stats import t\n",
    "import numpy as np\n",
    "import seaborn as sns"
   ]
  },
  {
   "cell_type": "markdown",
   "id": "9ddda19c",
   "metadata": {},
   "source": [
    "# Distribuição T Student\n",
    "\n",
    "## Teória\n",
    "\n",
    "Utilizada quando a amostra é pequena (n < 30)\n",
    "\n",
    "Não se conhece o desvio padrão da população\n",
    "\n",
    "Caldas maiores\n",
    "\n",
    "Quando n > 30, se assemelha a uma distribuição normal\n",
    "\n",
    "Grau de liberdade: n - 1\n",
    "\n"
   ]
  },
  {
   "cell_type": "markdown",
   "id": "c4b20e3f",
   "metadata": {},
   "source": [
    "## Prática"
   ]
  },
  {
   "cell_type": "markdown",
   "id": "97992283",
   "metadata": {},
   "source": [
    "Média de salário dos cientistas de dados = R$ 75.00\n",
    "\n",
    "Amostra: 9 funcionários\n",
    "\n",
    "desvio padrão: 10"
   ]
  },
  {
   "cell_type": "markdown",
   "id": "90120718",
   "metadata": {},
   "source": [
    "Qual é a probabilidade de selecionar um cientista de dados  e o salário ser menor que R$ 80 por hora?"
   ]
  },
  {
   "cell_type": "code",
   "execution_count": 2,
   "id": "7ea5222d",
   "metadata": {},
   "outputs": [
    {
     "data": {
      "text/plain": [
       "0.9139983540240443"
      ]
     },
     "execution_count": 2,
     "metadata": {},
     "output_type": "execute_result"
    }
   ],
   "source": [
    "t.cdf(1.5, 8)"
   ]
  },
  {
   "cell_type": "markdown",
   "id": "ac3b2e13",
   "metadata": {},
   "source": [
    "Qual é a probabilidade do salário ser maior que 80?"
   ]
  },
  {
   "cell_type": "code",
   "execution_count": 3,
   "id": "5cc8e488",
   "metadata": {},
   "outputs": [
    {
     "data": {
      "text/plain": [
       "0.08600164597595565"
      ]
     },
     "execution_count": 3,
     "metadata": {},
     "output_type": "execute_result"
    }
   ],
   "source": [
    "t.sf(1.5, 8)"
   ]
  },
  {
   "cell_type": "markdown",
   "id": "8aedb413",
   "metadata": {},
   "source": [
    "Somatório da execução dos dois códigos acima"
   ]
  },
  {
   "cell_type": "code",
   "execution_count": 4,
   "id": "f1dcef75",
   "metadata": {},
   "outputs": [
    {
     "data": {
      "text/plain": [
       "0.9999999999999999"
      ]
     },
     "execution_count": 4,
     "metadata": {},
     "output_type": "execute_result"
    }
   ],
   "source": [
    "t.cdf(1.5, 8) + t.sf(1.5, 8)"
   ]
  },
  {
   "cell_type": "code",
   "execution_count": null,
   "id": "ffb5b942",
   "metadata": {},
   "outputs": [],
   "source": []
  }
 ],
 "metadata": {
  "kernelspec": {
   "display_name": "Python 3",
   "language": "python",
   "name": "python3"
  },
  "language_info": {
   "codemirror_mode": {
    "name": "ipython",
    "version": 3
   },
   "file_extension": ".py",
   "mimetype": "text/x-python",
   "name": "python",
   "nbconvert_exporter": "python",
   "pygments_lexer": "ipython3",
   "version": "3.9.4"
  }
 },
 "nbformat": 4,
 "nbformat_minor": 5
}
