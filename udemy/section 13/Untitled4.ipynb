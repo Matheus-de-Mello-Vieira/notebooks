{
 "cells": [
  {
   "cell_type": "code",
   "execution_count": 26,
   "id": "425f9301",
   "metadata": {},
   "outputs": [],
   "source": [
    "import warnings\n",
    "warnings.simplefilter(action='ignore', category=FutureWarning)\n",
    "import pandas as pd\n",
    "import seaborn as srn\n",
    "import statistics  as sts\n",
    "import matplotlib.pyplot as plt"
   ]
  },
  {
   "cell_type": "code",
   "execution_count": 57,
   "id": "1b8e4e8b",
   "metadata": {},
   "outputs": [
    {
     "data": {
      "text/html": [
       "<div>\n",
       "<style scoped>\n",
       "    .dataframe tbody tr th:only-of-type {\n",
       "        vertical-align: middle;\n",
       "    }\n",
       "\n",
       "    .dataframe tbody tr th {\n",
       "        vertical-align: top;\n",
       "    }\n",
       "\n",
       "    .dataframe thead th {\n",
       "        text-align: right;\n",
       "    }\n",
       "</style>\n",
       "<table border=\"1\" class=\"dataframe\">\n",
       "  <thead>\n",
       "    <tr style=\"text-align: right;\">\n",
       "      <th></th>\n",
       "      <th>CODIGO</th>\n",
       "      <th>MUNICIPIO</th>\n",
       "      <th>PIB</th>\n",
       "      <th>VALOREMPENHO</th>\n",
       "    </tr>\n",
       "  </thead>\n",
       "  <tbody>\n",
       "    <tr>\n",
       "      <th>0</th>\n",
       "      <td>106</td>\n",
       "      <td>SANTANA DO LIVRAMENTO</td>\n",
       "      <td>12240.76</td>\n",
       "      <td>1088666.10</td>\n",
       "    </tr>\n",
       "    <tr>\n",
       "      <th>1</th>\n",
       "      <td>113</td>\n",
       "      <td>SANTO ANGELO</td>\n",
       "      <td>16575.82</td>\n",
       "      <td>800669.92</td>\n",
       "    </tr>\n",
       "    <tr>\n",
       "      <th>2</th>\n",
       "      <td>118</td>\n",
       "      <td>SAO FRANCISCO DE ASSIS</td>\n",
       "      <td>12037.61</td>\n",
       "      <td>466122.80</td>\n",
       "    </tr>\n",
       "    <tr>\n",
       "      <th>3</th>\n",
       "      <td>13</td>\n",
       "      <td>CACAPAVA DO SUL</td>\n",
       "      <td>13674.54</td>\n",
       "      <td>485535.86</td>\n",
       "    </tr>\n",
       "    <tr>\n",
       "      <th>4</th>\n",
       "      <td>120</td>\n",
       "      <td>SAO GABRIEL</td>\n",
       "      <td>19912.38</td>\n",
       "      <td>533719.86</td>\n",
       "    </tr>\n",
       "    <tr>\n",
       "      <th>...</th>\n",
       "      <td>...</td>\n",
       "      <td>...</td>\n",
       "      <td>...</td>\n",
       "      <td>...</td>\n",
       "    </tr>\n",
       "    <tr>\n",
       "      <th>182</th>\n",
       "      <td>372</td>\n",
       "      <td>SANTA VITORIA DO PALMAR</td>\n",
       "      <td>27170.89</td>\n",
       "      <td>760.00</td>\n",
       "    </tr>\n",
       "    <tr>\n",
       "      <th>183</th>\n",
       "      <td>107</td>\n",
       "      <td>SANTA BARBARA DO SUL</td>\n",
       "      <td>29654.02</td>\n",
       "      <td>365.00</td>\n",
       "    </tr>\n",
       "    <tr>\n",
       "      <th>184</th>\n",
       "      <td>54</td>\n",
       "      <td>GETULIO VARGAS</td>\n",
       "      <td>16876.33</td>\n",
       "      <td>233.01</td>\n",
       "    </tr>\n",
       "    <tr>\n",
       "      <th>185</th>\n",
       "      <td>382</td>\n",
       "      <td>NOVA SANTA RITA</td>\n",
       "      <td>25938.38</td>\n",
       "      <td>310.58</td>\n",
       "    </tr>\n",
       "    <tr>\n",
       "      <th>186</th>\n",
       "      <td>60</td>\n",
       "      <td>GUARANI DAS MISSOES</td>\n",
       "      <td>24363.31</td>\n",
       "      <td>172.13</td>\n",
       "    </tr>\n",
       "  </tbody>\n",
       "</table>\n",
       "<p>187 rows × 4 columns</p>\n",
       "</div>"
      ],
      "text/plain": [
       "     CODIGO                MUNICIPIO       PIB  VALOREMPENHO\n",
       "0       106    SANTANA DO LIVRAMENTO  12240.76    1088666.10\n",
       "1       113             SANTO ANGELO  16575.82     800669.92\n",
       "2       118   SAO FRANCISCO DE ASSIS  12037.61     466122.80\n",
       "3        13          CACAPAVA DO SUL  13674.54     485535.86\n",
       "4       120              SAO GABRIEL  19912.38     533719.86\n",
       "..      ...                      ...       ...           ...\n",
       "182     372  SANTA VITORIA DO PALMAR  27170.89        760.00\n",
       "183     107     SANTA BARBARA DO SUL  29654.02        365.00\n",
       "184      54           GETULIO VARGAS  16876.33        233.01\n",
       "185     382          NOVA SANTA RITA  25938.38        310.58\n",
       "186      60      GUARANI DAS MISSOES  24363.31        172.13\n",
       "\n",
       "[187 rows x 4 columns]"
      ]
     },
     "execution_count": 57,
     "metadata": {},
     "output_type": "execute_result"
    }
   ],
   "source": [
    "base = pd.read_csv('dados.csv',sep=';')\n",
    "base"
   ]
  },
  {
   "cell_type": "code",
   "execution_count": 48,
   "id": "650f704d",
   "metadata": {},
   "outputs": [
    {
     "data": {
      "text/plain": [
       "<matplotlib.collections.PathCollection at 0x20d8618dac0>"
      ]
     },
     "execution_count": 48,
     "metadata": {},
     "output_type": "execute_result"
    },
    {
     "data": {
      "image/png": "[encoded data removed]",
      "text/plain": [
       "<Figure size 432x288 with 1 Axes>"
      ]
     },
     "metadata": {
      "needs_background": "light"
     },
     "output_type": "display_data"
    }
   ],
   "source": [
    "plt.scatter(base.PIB, base.VALOREMPENHO)"
   ]
  },
  {
   "cell_type": "code",
   "execution_count": 8,
   "id": "e90a18df",
   "metadata": {},
   "outputs": [
    {
     "data": {
      "text/plain": [
       "count       187.000000\n",
       "mean      19808.741337\n",
       "std       16984.223244\n",
       "min        8236.630000\n",
       "25%       13621.455000\n",
       "50%       17206.190000\n",
       "75%       21429.165000\n",
       "max      223848.220000\n",
       "Name: PIB, dtype: float64"
      ]
     },
     "execution_count": 8,
     "metadata": {},
     "output_type": "execute_result"
    }
   ],
   "source": [
    "base['PIB'].describe()"
   ]
  },
  {
   "cell_type": "code",
   "execution_count": 38,
   "id": "a4ec5def",
   "metadata": {},
   "outputs": [
    {
     "data": {
      "text/plain": [
       "{'whiskers': [<matplotlib.lines.Line2D at 0x20d8673de50>,\n",
       "  <matplotlib.lines.Line2D at 0x20d8674b220>],\n",
       " 'caps': [<matplotlib.lines.Line2D at 0x20d8674b5b0>,\n",
       "  <matplotlib.lines.Line2D at 0x20d8674b940>],\n",
       " 'boxes': [<matplotlib.patches.PathPatch at 0x20d8673da90>],\n",
       " 'medians': [<matplotlib.lines.Line2D at 0x20d8674bcd0>],\n",
       " 'fliers': [],\n",
       " 'means': []}"
      ]
     },
     "execution_count": 38,
     "metadata": {},
     "output_type": "execute_result"
    },
    {
     "data": {
      "image/png": "[encoded data removed]",
      "text/plain": [
       "<Figure size 432x288 with 1 Axes>"
      ]
     },
     "metadata": {
      "needs_background": "light"
     },
     "output_type": "display_data"
    }
   ],
   "source": [
    "plt.boxplot(base.PIB, vert=False, showfliers=False, notch=True, patch_artist=True)"
   ]
  },
  {
   "cell_type": "code",
   "execution_count": 19,
   "id": "3f794697",
   "metadata": {},
   "outputs": [
    {
     "data": {
      "text/plain": [
       "<AxesSubplot:xlabel='PIB', ylabel='Density'>"
      ]
     },
     "execution_count": 19,
     "metadata": {},
     "output_type": "execute_result"
    },
    {
     "data": {
      "image/png": "[encoded data removed]",
      "text/plain": [
       "<Figure size 432x288 with 1 Axes>"
      ]
     },
     "metadata": {
      "needs_background": "light"
     },
     "output_type": "display_data"
    }
   ],
   "source": [
    "srn.distplot(base.PIB, hist=True, kde=True,bins=6)"
   ]
  },
  {
   "cell_type": "code",
   "execution_count": 17,
   "id": "0dddc569",
   "metadata": {},
   "outputs": [
    {
     "data": {
      "text/plain": [
       "{'whiskers': [<matplotlib.lines.Line2D at 0x20d85f57280>,\n",
       "  <matplotlib.lines.Line2D at 0x20d85f57610>],\n",
       " 'caps': [<matplotlib.lines.Line2D at 0x20d85f579a0>,\n",
       "  <matplotlib.lines.Line2D at 0x20d85f57d30>],\n",
       " 'boxes': [<matplotlib.patches.PathPatch at 0x20d85f47e80>],\n",
       " 'medians': [<matplotlib.lines.Line2D at 0x20d85f62100>],\n",
       " 'fliers': [],\n",
       " 'means': []}"
      ]
     },
     "execution_count": 17,
     "metadata": {},
     "output_type": "execute_result"
    },
    {
     "data": {
      "image/png": "[encoded data removed]",
      "text/plain": [
       "<Figure size 432x288 with 1 Axes>"
      ]
     },
     "metadata": {
      "needs_background": "light"
     },
     "output_type": "display_data"
    }
   ],
   "source": [
    "plt.boxplot(base.VALOREMPENHO, vert=False, showfliers=False, notch=True, patch_artist=True)"
   ]
  },
  {
   "cell_type": "code",
   "execution_count": 20,
   "id": "b868b7e6",
   "metadata": {},
   "outputs": [
    {
     "data": {
      "text/plain": [
       "<AxesSubplot:xlabel='VALOREMPENHO', ylabel='Density'>"
      ]
     },
     "execution_count": 20,
     "metadata": {},
     "output_type": "execute_result"
    },
    {
     "data": {
      "image/png": "[encoded data removed]",
      "text/plain": [
       "<Figure size 432x288 with 1 Axes>"
      ]
     },
     "metadata": {
      "needs_background": "light"
     },
     "output_type": "display_data"
    }
   ],
   "source": [
    "srn.distplot(base.VALOREMPENHO, hist=True, kde=True,bins=6)"
   ]
  },
  {
   "cell_type": "code",
   "execution_count": 59,
   "id": "1231e839",
   "metadata": {},
   "outputs": [
    {
     "data": {
      "image/png": "[encoded data removed]",
      "text/plain": [
       "<Figure size 432x288 with 5 Axes>"
      ]
     },
     "metadata": {
      "needs_background": "light"
     },
     "output_type": "display_data"
    }
   ],
   "source": [
    "plt.figure()\n",
    "plt.subplot(3,2,1)\n",
    "plt.scatter(base.PIB, base.VALOREMPENHO)\n",
    "plt.ylabel('empenho')\n",
    "plt.xlabel('PIB')\n",
    "\n",
    "plt.subplot(3,2,3)\n",
    "plt.boxplot(base.PIB, vert=False, showfliers=False, notch=True, patch_artist=True)\n",
    "plt.title(\"PIB\")\n",
    "\n",
    "plt.subplot(3,2,4)\n",
    "srn.distplot(base.PIB, hist=True, kde=True,bins=6)\n",
    "plt.title(\"PIB\")\n",
    "\n",
    "plt.subplot(3,2,5)\n",
    "plt.boxplot(base.VALOREMPENHO, vert=False, showfliers=False, notch=True, patch_artist=True)\n",
    "plt.title(\"empenho\")\n",
    "\n",
    "plt.subplot(3,2,6)\n",
    "srn.distplot(base.VALOREMPENHO, hist=True, kde=True,bins=6)\n",
    "plt.title(\"empenho\")\n",
    "plt.tight_layout()"
   ]
  },
  {
   "cell_type": "code",
   "execution_count": 58,
   "id": "a577f771",
   "metadata": {},
   "outputs": [],
   "source": [
    "mediana = sts.median(base.PIB)\n",
    "desv = sts.stdev(base.PIB)\n",
    "base.loc[base.PIB >= 3 * desv, 'PIB'] = mediana\n",
    "\n",
    "mediana = sts.median(base.VALOREMPENHO)\n",
    "desv = sts.stdev(base.VALOREMPENHO)\n",
    "base.loc[base.PIB >= 3 * desv, 'VALOREMPENHO'] = mediana"
   ]
  },
  {
   "cell_type": "code",
   "execution_count": null,
   "id": "67a640c0",
   "metadata": {},
   "outputs": [],
   "source": []
  }
 ],
 "metadata": {
  "kernelspec": {
   "display_name": "Python 3",
   "language": "python",
   "name": "python3"
  },
  "language_info": {
   "codemirror_mode": {
    "name": "ipython",
    "version": 3
   },
   "file_extension": ".py",
   "mimetype": "text/x-python",
   "name": "python",
   "nbconvert_exporter": "python",
   "pygments_lexer": "ipython3",
   "version": "3.9.4"
  }
 },
 "nbformat": 4,
 "nbformat_minor": 5
}
