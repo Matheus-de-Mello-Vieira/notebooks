{
 "cells": [
  {
   "cell_type": "code",
   "execution_count": 2,
   "id": "66a280d3",
   "metadata": {},
   "outputs": [],
   "source": [
    "import numpy as np"
   ]
  },
  {
   "cell_type": "code",
   "execution_count": 15,
   "id": "88facb49",
   "metadata": {},
   "outputs": [],
   "source": [
    "valores = np.array([[15,18,20,25,30,44], [240,255,270,283,300,310]])"
   ]
  },
  {
   "cell_type": "code",
   "execution_count": 42,
   "id": "d8275d1f",
   "metadata": {},
   "outputs": [
    {
     "data": {
      "text/plain": [
       "array([[ 15,  18,  20,  25,  30,  44],\n",
       "       [240, 255, 270, 283, 300, 310]])"
      ]
     },
     "execution_count": 42,
     "metadata": {},
     "output_type": "execute_result"
    }
   ],
   "source": [
    "valores"
   ]
  },
  {
   "cell_type": "code",
   "execution_count": 80,
   "id": "7c9a1c1f",
   "metadata": {},
   "outputs": [],
   "source": [
    "medias = np.mean(variacoes, axis=1).reshape(-1,1)"
   ]
  },
  {
   "cell_type": "code",
   "execution_count": 81,
   "id": "ef6c7733",
   "metadata": {},
   "outputs": [],
   "source": [
    "variacoes = np.around(np.subtract(valores,medias),2)"
   ]
  },
  {
   "cell_type": "code",
   "execution_count": 85,
   "id": "b9b31211",
   "metadata": {},
   "outputs": [
    {
     "data": {
      "text/plain": [
       "0.9237805688859327"
      ]
     },
     "execution_count": 85,
     "metadata": {},
     "output_type": "execute_result"
    }
   ],
   "source": [
    "denominador = np.sqrt(np.prod(np.sum(np.power(variacoes,2), axis=1)))\n",
    "numerador = np.sum(np.prod(variacoes, axis=0))\n",
    "\n",
    "numerador/denominador"
   ]
  },
  {
   "cell_type": "code",
   "execution_count": 82,
   "id": "d4e1819b",
   "metadata": {},
   "outputs": [
    {
     "data": {
      "text/plain": [
       "array([[-10.33,  -7.33,  -5.33,  -0.33,   4.67,  18.67],\n",
       "       [-36.33, -21.33,  -6.33,   6.67,  23.67,  33.67]])"
      ]
     },
     "execution_count": 82,
     "metadata": {},
     "output_type": "execute_result"
    }
   ],
   "source": [
    "variacoes"
   ]
  },
  {
   "cell_type": "code",
   "execution_count": null,
   "id": "f5dc5677",
   "metadata": {},
   "outputs": [],
   "source": []
  }
 ],
 "metadata": {
  "kernelspec": {
   "display_name": "Python 3",
   "language": "python",
   "name": "python3"
  },
  "language_info": {
   "codemirror_mode": {
    "name": "ipython",
    "version": 3
   },
   "file_extension": ".py",
   "mimetype": "text/x-python",
   "name": "python",
   "nbconvert_exporter": "python",
   "pygments_lexer": "ipython3",
   "version": "3.9.4"
  }
 },
 "nbformat": 4,
 "nbformat_minor": 5
}
