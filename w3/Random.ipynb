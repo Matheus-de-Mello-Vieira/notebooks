{
 "cells": [
  {
   "cell_type": "markdown",
   "id": "64890ed1",
   "metadata": {},
   "source": [
    "# Pacote random\n",
    "Pacote responsável para gerar números aleatórios\n",
    "\n",
    "O primeiro passo é importar:"
   ]
  },
  {
   "cell_type": "code",
   "execution_count": 3,
   "id": "bc00e92e",
   "metadata": {},
   "outputs": [],
   "source": [
    "import random\n",
    "import matplotlib.pyplot as plt\n",
    "import seaborn as sns\n",
    "\n",
    "import warnings\n",
    "warnings.simplefilter(action='ignore', category=FutureWarning)"
   ]
  },
  {
   "cell_type": "markdown",
   "id": "ed3cc7fa",
   "metadata": {},
   "source": [
    "Aqui podemos definir a semente dos números aleatórios:\n",
    "    1) Se não for especificado, será usado o horário do sistema como padrão\n",
    "    2) Na versão 1, a conversão de string e bytes são mais restritos do que a versão 2\n",
    "    3) Na versão 2, converte os strings, bytes e bytearray em número e usa todos os bits"
   ]
  },
  {
   "cell_type": "code",
   "execution_count": 2,
   "id": "591105b9",
   "metadata": {},
   "outputs": [],
   "source": [
    "random.seed(a=\"Teste\", version=2)"
   ]
  },
  {
   "cell_type": "markdown",
   "id": "ecbd53d9",
   "metadata": {},
   "source": [
    "Muda o estado da geração dos números aleatórios:"
   ]
  },
  {
   "cell_type": "code",
   "execution_count": 3,
   "id": "cb6cf0d0",
   "metadata": {},
   "outputs": [],
   "source": [
    "state = random.getstate()"
   ]
  },
  {
   "cell_type": "code",
   "execution_count": 4,
   "id": "1abab184",
   "metadata": {
    "scrolled": true
   },
   "outputs": [
    {
     "name": "stdout",
     "output_type": "stream",
     "text": [
      "9\n",
      "7\n",
      "5\n",
      "3\n",
      "4\n",
      "7\n",
      "8\n",
      "0\n",
      "5\n",
      "6\n"
     ]
    }
   ],
   "source": [
    "for i in range(10):\n",
    "    print(random.randint(0, 10))"
   ]
  },
  {
   "cell_type": "code",
   "execution_count": 5,
   "id": "43803be2",
   "metadata": {},
   "outputs": [],
   "source": [
    "random.setstate(state)"
   ]
  },
  {
   "cell_type": "markdown",
   "id": "f8957efe",
   "metadata": {},
   "source": [
    "### Vamos gerar números aleatórios\n",
    "#### Para bytes\n",
    "randbytes(n): Gera n bytes aleatórios"
   ]
  },
  {
   "cell_type": "code",
   "execution_count": 6,
   "id": "2bbec792",
   "metadata": {},
   "outputs": [
    {
     "data": {
      "text/plain": [
       "b'\\xfdW~\\x96\\xf6\\x03\\x10p\\x02P'"
      ]
     },
     "execution_count": 6,
     "metadata": {},
     "output_type": "execute_result"
    }
   ],
   "source": [
    "random.randbytes(10)"
   ]
  },
  {
   "cell_type": "markdown",
   "id": "3860f3a7",
   "metadata": {},
   "source": [
    "#### Para inteiros\n",
    "randrange(stop)\n",
    "randrange(start, stop[,step])\n",
    "\n",
    "retorna um elmento aleatorio em range(start, stop, step)"
   ]
  },
  {
   "cell_type": "code",
   "execution_count": 7,
   "id": "574d20df",
   "metadata": {},
   "outputs": [
    {
     "data": {
      "text/plain": [
       "2"
      ]
     },
     "execution_count": 7,
     "metadata": {},
     "output_type": "execute_result"
    }
   ],
   "source": [
    "random.randrange(0, 10, 2)"
   ]
  },
  {
   "cell_type": "markdown",
   "id": "83797bad",
   "metadata": {},
   "source": [
    "randint(a, b): a mesma coisa que randrange(a, b+1)"
   ]
  },
  {
   "cell_type": "code",
   "execution_count": 8,
   "id": "2d785005",
   "metadata": {},
   "outputs": [
    {
     "data": {
      "text/plain": [
       "4"
      ]
     },
     "execution_count": 8,
     "metadata": {},
     "output_type": "execute_result"
    }
   ],
   "source": [
    "random.randint(0, 10)"
   ]
  },
  {
   "cell_type": "markdown",
   "id": "fb9a01bc",
   "metadata": {},
   "source": [
    "getrandbits(k): retorna retorna um inteiro não negativo com k bits aleatórios\n",
    "\n",
    "Ele é usado como subrotina do randrange, e também define a quantidade máxima de bits que será usada dele"
   ]
  },
  {
   "cell_type": "code",
   "execution_count": 9,
   "id": "47706329",
   "metadata": {},
   "outputs": [
    {
     "data": {
      "text/plain": [
       "2028678918"
      ]
     },
     "execution_count": 9,
     "metadata": {},
     "output_type": "execute_result"
    }
   ],
   "source": [
    "random.getrandbits(32)"
   ]
  },
  {
   "cell_type": "markdown",
   "id": "d806fe9e",
   "metadata": {},
   "source": [
    "#### Para sequências\n",
    "choice(seq): obtem um elemento aleatório de seq"
   ]
  },
  {
   "cell_type": "code",
   "execution_count": 10,
   "id": "32a2c3d8",
   "metadata": {},
   "outputs": [
    {
     "data": {
      "text/plain": [
       "'e'"
      ]
     },
     "execution_count": 10,
     "metadata": {},
     "output_type": "execute_result"
    }
   ],
   "source": [
    "random.choice(['a', 'b', 'c', 'd', 'e'])"
   ]
  },
  {
   "cell_type": "markdown",
   "id": "060d6073",
   "metadata": {},
   "source": [
    "choices(populacao, weight=None, *, cum_weight=None, k=1)\n",
    "\n",
    "retorna k elementos de população\n",
    "\n",
    "weight, quando especificado, as escolhas são baseados dele\n",
    "\n",
    "Altertivamente, se cum_wight são especificado, eles são usados, por exemplo, usar os pesos [10, 5, 30, 5] são equivalentes a [10, 15, 45, 50]. Se os dois forem especificados, o cum_weight é usado. Se nenhum for especificado, há uma distribuição homogenia."
   ]
  },
  {
   "cell_type": "code",
   "execution_count": 11,
   "id": "938b51fd",
   "metadata": {},
   "outputs": [
    {
     "data": {
      "text/plain": [
       "['a', 'e', 'c', 'd', 'e']"
      ]
     },
     "execution_count": 11,
     "metadata": {},
     "output_type": "execute_result"
    }
   ],
   "source": [
    "random.choices(['a', 'b', 'c', 'd', 'e'], k = 5)"
   ]
  },
  {
   "cell_type": "markdown",
   "id": "3bfb2740",
   "metadata": {},
   "source": [
    "shuffle(x\\[, random\\])\n",
    "\n",
    "embaralha a sequência x \"inplace\"\n",
    "\n",
    "O argumento opcional random é uma função com 0 argumentos que retorna um float em \\[0, 1). Por padrão, é random()\n",
    "\n",
    "Para embaralhar uma tupla, use sample(x, k=len(x))."
   ]
  },
  {
   "cell_type": "code",
   "execution_count": 12,
   "id": "752932da",
   "metadata": {},
   "outputs": [
    {
     "data": {
      "text/plain": [
       "[3, 5, 1, 4, 0, 2]"
      ]
     },
     "execution_count": 12,
     "metadata": {},
     "output_type": "execute_result"
    }
   ],
   "source": [
    "data = [0, 1, 2, 3, 4, 5]\n",
    "random.shuffle(data)\n",
    "data"
   ]
  },
  {
   "cell_type": "markdown",
   "id": "b3242722",
   "metadata": {},
   "source": [
    "random.sample(population, k, *, counts=None)\n",
    "returna uma lista de k elementos únicos escolhidos da população. É uma amostra aleatória simples sem reposição.\n",
    "\n",
    "Os elementos não precisam ser hashable ou únicos, pois se conter repetição, cada ocorrencia será tratada como coisas diferentes.\n",
    "\n",
    "counts serve para gerar repetição, as seguintes linhas são equivalentes:"
   ]
  },
  {
   "cell_type": "code",
   "execution_count": 4,
   "id": "00439188",
   "metadata": {},
   "outputs": [
    {
     "data": {
      "text/plain": [
       "['blue', 'red', 'red', 'red', 'blue']"
      ]
     },
     "execution_count": 4,
     "metadata": {},
     "output_type": "execute_result"
    }
   ],
   "source": [
    "random.sample(['red', 'blue'], counts=[4, 2], k=5)\n",
    "random.sample(['red', 'red', 'red', 'red', 'blue', 'blue'], k=5)"
   ]
  },
  {
   "cell_type": "markdown",
   "id": "38294765",
   "metadata": {},
   "source": [
    "#### Distribuições de valores reais\n",
    "random()\n",
    "\n",
    "retorna um número aleatório entre \\[0, 1)"
   ]
  },
  {
   "cell_type": "code",
   "execution_count": 13,
   "id": "89da06d3",
   "metadata": {},
   "outputs": [
    {
     "data": {
      "text/plain": [
       "0.29748893984123614"
      ]
     },
     "execution_count": 13,
     "metadata": {},
     "output_type": "execute_result"
    }
   ],
   "source": [
    "random.random()"
   ]
  },
  {
   "cell_type": "markdown",
   "id": "f372d9e2",
   "metadata": {},
   "source": [
    "uniform(a, b)\n",
    "retorna um número real\n",
    "se a <= b, em \\[a, b\\]\n",
    "se a > b, em \\[b, a\\]\n",
    "\n",
    "uniform(a, b) = a + (b-a) * random()"
   ]
  },
  {
   "cell_type": "code",
   "execution_count": 14,
   "id": "6515e7ce",
   "metadata": {},
   "outputs": [
    {
     "data": {
      "text/plain": [
       "1.0726532367835073"
      ]
     },
     "execution_count": 14,
     "metadata": {},
     "output_type": "execute_result"
    }
   ],
   "source": [
    "random.uniform(0, 10)"
   ]
  },
  {
   "cell_type": "markdown",
   "id": "1a406992",
   "metadata": {},
   "source": [
    "random.triangular(low, high, mode)\n",
    "\n",
    "retorna um número real em \\[low, high\\] e especifica um mode entre esses limites. Os limites low e high por padrão é 0 e 1. O modo padrão é entre low e high, dando uma distribuição normal"
   ]
  },
  {
   "cell_type": "code",
   "execution_count": 22,
   "id": "84a97f5b",
   "metadata": {},
   "outputs": [
    {
     "data": {
      "text/plain": [
       "<AxesSubplot:title={'center':'aleatório'}, ylabel='Density'>"
      ]
     },
     "execution_count": 22,
     "metadata": {},
     "output_type": "execute_result"
    },
    {
     "data": {
      "image/png": "[encoded data removed]",
      "text/plain": [
       "<Figure size 432x288 with 2 Axes>"
      ]
     },
     "metadata": {
      "needs_background": "light"
     },
     "output_type": "display_data"
    },
    {
     "data": {
      "image/png": "[encoded data removed]",
      "text/plain": [
       "<Figure size 432x288 with 2 Axes>"
      ]
     },
     "metadata": {
      "needs_background": "light"
     },
     "output_type": "display_data"
    }
   ],
   "source": [
    "data = []\n",
    "for _ in range(10000):\n",
    "    data.append(random.triangular())\n",
    "\n",
    "plt.figure()\n",
    "plt.subplot(2,2,1)\n",
    "plt.title(\"Padrão\")\n",
    "sns.distplot(data, hist=False)\n",
    "\n",
    "data = []\n",
    "for _ in range(10000):\n",
    "    data.append(random.triangular(mode=0.7))\n",
    "\n",
    "plt.subplot(2,2,2)\n",
    "plt.title(\"Com .7\")\n",
    "sns.distplot(data, hist=False)\n",
    "\n",
    "data = []\n",
    "for _ in range(10000):\n",
    "    data.append(random.triangular(mode=0.2))\n",
    "\n",
    "plt.figure()\n",
    "plt.subplot(2,2,3)\n",
    "plt.title(\"Com .2\")\n",
    "sns.distplot(data, hist=False)\n",
    "\n",
    "data = []\n",
    "for _ in range(10000):\n",
    "    data.append(random.triangular(random.random()))\n",
    "\n",
    "plt.subplot(2,2,4)\n",
    "plt.title(\"aleatório\")\n",
    "sns.distplot(data, hist=False)"
   ]
  },
  {
   "cell_type": "markdown",
   "id": "0286208f",
   "metadata": {},
   "source": [
    "betavariate(alpha, beta)\n",
    "Retorna um valor na distribuição beta\n",
    "\n",
    "expovariate(lambd)\n",
    "Retorna um valor na distribuição exponencial\n",
    "\n",
    "gammavariate(alpha, beta)\n",
    "Retorna um valor na distruição gamma\n",
    "\n",
    "random.gauss(mu, sigma)\n",
    "Retorna um valor na distruição gaussiana, é um pouco mais rápido que \n",
    "normalvariate\n",
    "\n",
    "random.lognormvariate(mu, sigma)\n",
    "Retorna um valor na distrição logaritmica normal\n",
    "\n",
    "random.normalvariate(mu, sigma)\n",
    "Uma versão menos rápida de gauss\n",
    "\n",
    "paretovariate(alpha)\n",
    "Distribuiçaõ de pareto\n",
    "\n",
    "weibullvariate(alpha, beta)\n",
    "Distribuição de wibull"
   ]
  },
  {
   "cell_type": "code",
   "execution_count": 23,
   "id": "16cc8470",
   "metadata": {},
   "outputs": [
    {
     "data": {
      "text/plain": [
       "<AxesSubplot:title={'center':'4'}, ylabel='Density'>"
      ]
     },
     "execution_count": 23,
     "metadata": {},
     "output_type": "execute_result"
    },
    {
     "data": {
      "image/png": "[encoded data removed]",
      "text/plain": [
       "<Figure size 432x288 with 2 Axes>"
      ]
     },
     "metadata": {
      "needs_background": "light"
     },
     "output_type": "display_data"
    },
    {
     "data": {
      "image/png": "[encoded data removed]",
      "text/plain": [
       "<Figure size 432x288 with 2 Axes>"
      ]
     },
     "metadata": {
      "needs_background": "light"
     },
     "output_type": "display_data"
    }
   ],
   "source": [
    "data = []\n",
    "for _ in range(10000):\n",
    "    data.append(random.gauss(mu=20, sigma=10))\n",
    "\n",
    "plt.figure()\n",
    "plt.subplot(2,2,1)\n",
    "plt.title(\"1\")\n",
    "sns.distplot(data, hist=False)\n",
    "\n",
    "data = []\n",
    "for _ in range(10000):\n",
    "    data.append(random.gauss(mu=0, sigma=1))\n",
    "\n",
    "plt.subplot(2,2,2)\n",
    "plt.title(\"2\")\n",
    "sns.distplot(data, hist=False)\n",
    "\n",
    "data = []\n",
    "for _ in range(10000):\n",
    "    data.append(random.gauss(mu=0, sigma=2))\n",
    "\n",
    "plt.figure()\n",
    "plt.subplot(2,2,3)\n",
    "plt.title(\"3\")\n",
    "sns.distplot(data, hist=False)\n",
    "\n",
    "data = []\n",
    "for _ in range(10000):\n",
    "    data.append(random.gauss(mu=2, sigma=1))\n",
    "\n",
    "plt.subplot(2,2,4)\n",
    "plt.title(\"4\")\n",
    "sns.distplot(data, hist=False)"
   ]
  },
  {
   "cell_type": "code",
   "execution_count": null,
   "id": "8fdcec67",
   "metadata": {},
   "outputs": [],
   "source": []
  }
 ],
 "metadata": {
  "kernelspec": {
   "display_name": "Python 3",
   "language": "python",
   "name": "python3"
  },
  "language_info": {
   "codemirror_mode": {
    "name": "ipython",
    "version": 3
   },
   "file_extension": ".py",
   "mimetype": "text/x-python",
   "name": "python",
   "nbconvert_exporter": "python",
   "pygments_lexer": "ipython3",
   "version": "3.9.4"
  }
 },
 "nbformat": 4,
 "nbformat_minor": 5
}
