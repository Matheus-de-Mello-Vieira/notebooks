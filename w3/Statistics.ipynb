{
 "cells": [
  {
   "cell_type": "markdown",
   "id": "a03c4b4c",
   "metadata": {},
   "source": [
    "# Statistics\n",
    "Funções para dados estatísticos para dados de ponto flututante\n",
    "\n",
    "Esse modulo não subsitui bibliotecas como NumPy ou SciPy"
   ]
  },
  {
   "cell_type": "code",
   "execution_count": 1,
   "id": "113bea7b",
   "metadata": {},
   "outputs": [],
   "source": [
    "import statistics as stat"
   ]
  },
  {
   "cell_type": "code",
   "execution_count": 2,
   "id": "1cc071d3",
   "metadata": {},
   "outputs": [],
   "source": [
    "# Gerar dados para testes\n",
    "import random\n",
    "data = [random.randint(0, 100) for _ in range(1000)]"
   ]
  },
  {
   "cell_type": "markdown",
   "id": "348f3e07",
   "metadata": {},
   "source": [
    "## Medidas de centralidade\n",
    "#### mean(data)\n",
    "\n",
    "Retorna a média dos dados"
   ]
  },
  {
   "cell_type": "code",
   "execution_count": 3,
   "id": "aaeba800",
   "metadata": {},
   "outputs": [
    {
     "data": {
      "text/plain": [
       "50.43"
      ]
     },
     "execution_count": 3,
     "metadata": {},
     "output_type": "execute_result"
    }
   ],
   "source": [
    "stat.mean(data)"
   ]
  },
  {
   "cell_type": "markdown",
   "id": "75622965",
   "metadata": {},
   "source": [
    "#### fmean(data)\n",
    "Convete data em float e calcula a média, é mais rápido que mean() e sempre retorna um foat"
   ]
  },
  {
   "cell_type": "code",
   "execution_count": 4,
   "id": "9c41b2a8",
   "metadata": {},
   "outputs": [
    {
     "data": {
      "text/plain": [
       "50.43"
      ]
     },
     "execution_count": 4,
     "metadata": {},
     "output_type": "execute_result"
    }
   ],
   "source": [
    "stat.fmean(data)"
   ]
  },
  {
   "cell_type": "markdown",
   "id": "169f0cfd",
   "metadata": {},
   "source": [
    "#### geometric_mean(data)\n",
    "Convete data em float e calcula a média geometrica, não pode zeros ou negativos"
   ]
  },
  {
   "cell_type": "code",
   "execution_count": 5,
   "id": "8e32c514",
   "metadata": {},
   "outputs": [
    {
     "data": {
      "text/plain": [
       "38.63855805508001"
      ]
     },
     "execution_count": 5,
     "metadata": {},
     "output_type": "execute_result"
    }
   ],
   "source": [
    "tempdata = filter(lambda x: x > 0, data)\n",
    "stat.geometric_mean(tempdata)"
   ]
  },
  {
   "cell_type": "markdown",
   "id": "4157fdb3",
   "metadata": {},
   "source": [
    "#### harmonic_mean(data)\n",
    "retorna a média harmonia de data"
   ]
  },
  {
   "cell_type": "code",
   "execution_count": 6,
   "id": "96868441",
   "metadata": {},
   "outputs": [
    {
     "data": {
      "text/plain": [
       "19.670073589889352"
      ]
     },
     "execution_count": 6,
     "metadata": {},
     "output_type": "execute_result"
    }
   ],
   "source": [
    "tempdata = filter(lambda x: x != 0, data)\n",
    "stat.harmonic_mean(tempdata)"
   ]
  },
  {
   "cell_type": "markdown",
   "id": "6e7bec53",
   "metadata": {},
   "source": [
    "#### median(data)\n",
    "retorna a mediana\n",
    "\n",
    "#### median_low(data)\n",
    "retorna a mediana inferior\n",
    "\n",
    "#### median_high(data)\n",
    "retorna a mediana superior"
   ]
  },
  {
   "cell_type": "code",
   "execution_count": 7,
   "id": "bb12c976",
   "metadata": {},
   "outputs": [
    {
     "data": {
      "text/plain": [
       "51.0"
      ]
     },
     "execution_count": 7,
     "metadata": {},
     "output_type": "execute_result"
    }
   ],
   "source": [
    "stat.median(data)"
   ]
  },
  {
   "cell_type": "markdown",
   "id": "88d463d5",
   "metadata": {},
   "source": [
    "#### median_grouped(data, interval=1)\n",
    "retorna a mediana de dados agrupados\n",
    "\n",
    "Em data, deve mostrar as frequências de cada grupo\n",
    "\n",
    "Em interval a amplitude das classes"
   ]
  },
  {
   "cell_type": "code",
   "execution_count": 8,
   "id": "38dab4ac",
   "metadata": {},
   "outputs": [
    {
     "data": {
      "text/plain": [
       "12.0"
      ]
     },
     "execution_count": 8,
     "metadata": {},
     "output_type": "execute_result"
    }
   ],
   "source": [
    "stat.median_grouped([9, 12,12,17,16,14,11,9],interval=3)"
   ]
  },
  {
   "cell_type": "markdown",
   "id": "1868cae1",
   "metadata": {},
   "source": [
    "#### mode(data)\n",
    "Retorna a moda de data, porem se tiver multiplas modas, irá obter a primeira encontrada."
   ]
  },
  {
   "cell_type": "code",
   "execution_count": 9,
   "id": "0c32686b",
   "metadata": {},
   "outputs": [
    {
     "data": {
      "text/plain": [
       "65"
      ]
     },
     "execution_count": 9,
     "metadata": {},
     "output_type": "execute_result"
    }
   ],
   "source": [
    "stat.mode(data)"
   ]
  },
  {
   "cell_type": "markdown",
   "id": "8759ebe7",
   "metadata": {},
   "source": [
    "#### multimode(data)\n",
    "Retorna retorna as modas de data"
   ]
  },
  {
   "cell_type": "code",
   "execution_count": 10,
   "id": "1f6ccfe9",
   "metadata": {},
   "outputs": [
    {
     "data": {
      "text/plain": [
       "[65]"
      ]
     },
     "execution_count": 10,
     "metadata": {},
     "output_type": "execute_result"
    }
   ],
   "source": [
    "stat.multimode(data)"
   ]
  },
  {
   "cell_type": "markdown",
   "id": "271a5d0c",
   "metadata": {},
   "source": [
    "#### quantiles(data, *, n=4, method='exclusive')\n",
    "Divide data em 4 intevalos com igual probabilidade. Retorna uma lista com n-1 cortes\n",
    "\n",
    "Por padrão, n é 4, ou seja, retorna os quartil de data\n",
    "\n",
    "O metodo padrão é exclusive, que contém cada parte contem os valores extremos, enquanto o modo \"inclusive\" é usado para incluir os valores extremos."
   ]
  },
  {
   "cell_type": "code",
   "execution_count": 11,
   "id": "997a09be",
   "metadata": {},
   "outputs": [
    {
     "data": {
      "text/plain": [
       "[27.0, 51.0, 74.0]"
      ]
     },
     "execution_count": 11,
     "metadata": {},
     "output_type": "execute_result"
    }
   ],
   "source": [
    "stat.quantiles(data)"
   ]
  },
  {
   "cell_type": "markdown",
   "id": "08c1adda",
   "metadata": {},
   "source": [
    "#### pvariance(data, mu=None)\n",
    "retorna a variação de data (para população), o segundo opcional parâmero serve para dar a media a ser usada na formula do cálulo, dessa forma, pode-se evitar ao python calcular 2 vezes a media ou usar um valor diferente da média"
   ]
  },
  {
   "cell_type": "code",
   "execution_count": 12,
   "id": "6091021a",
   "metadata": {},
   "outputs": [
    {
     "data": {
      "text/plain": [
       "811.4371"
      ]
     },
     "execution_count": 12,
     "metadata": {},
     "output_type": "execute_result"
    }
   ],
   "source": [
    "stat.pvariance(data)"
   ]
  },
  {
   "cell_type": "markdown",
   "id": "5110a4c2",
   "metadata": {},
   "source": [
    "#### pstdev(data, mu=None)\n",
    "retorna o desvio padrão de data (para população)"
   ]
  },
  {
   "cell_type": "code",
   "execution_count": 13,
   "id": "ce910d8b",
   "metadata": {},
   "outputs": [
    {
     "data": {
      "text/plain": [
       "28.485735026500546"
      ]
     },
     "execution_count": 13,
     "metadata": {},
     "output_type": "execute_result"
    }
   ],
   "source": [
    "stat.pstdev(data)"
   ]
  },
  {
   "cell_type": "markdown",
   "id": "f6073b56",
   "metadata": {},
   "source": [
    "As formas das ultimas duas funções para a amostras são respectivamente  stdev e variance. O segundo parâmetro é chamado xbar, que naturalmente é a média da amostra"
   ]
  }
 ],
 "metadata": {
  "kernelspec": {
   "display_name": "Python 3",
   "language": "python",
   "name": "python3"
  },
  "language_info": {
   "codemirror_mode": {
    "name": "ipython",
    "version": 3
   },
   "file_extension": ".py",
   "mimetype": "text/x-python",
   "name": "python",
   "nbconvert_exporter": "python",
   "pygments_lexer": "ipython3",
   "version": "3.9.4"
  }
 },
 "nbformat": 4,
 "nbformat_minor": 5
}
