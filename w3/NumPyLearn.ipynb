{
 "cells": [
  {
   "cell_type": "markdown",
   "id": "ae437c58",
   "metadata": {},
   "source": [
    "# Numpy\n",
    "Numby é uma biblioteca para arrays\n",
    "\n",
    "No python comum temos arrays, mas são lentos. O objeto de array do NumPy é 50x mais rápido.\n",
    "\n",
    "O objeto de array do numpy é chamado ndarray\n",
    "\n",
    "Os arrays do Numpy são armazenados em um local contínuo na memória, ao contrário da lista normais do python. Também são otimizado para a última arquitetura de CPU.\n",
    "\n",
    "Ele é parcialmente escrito em Python, mas a maioria é em C ou C++\n",
    "\n",
    "## Instalação\n",
    "pip install numpy\n",
    "\n",
    "## importação:"
   ]
  },
  {
   "cell_type": "code",
   "execution_count": 2,
   "id": "2ae94b87",
   "metadata": {},
   "outputs": [],
   "source": [
    "import numpy as np"
   ]
  },
  {
   "cell_type": "markdown",
   "id": "a7082751",
   "metadata": {},
   "source": [
    "## versão\n",
    "Para ver a versão, use o atributo \\_\\_version\\_\\_"
   ]
  },
  {
   "cell_type": "code",
   "execution_count": 3,
   "id": "ba626258",
   "metadata": {},
   "outputs": [
    {
     "name": "stdout",
     "output_type": "stream",
     "text": [
      "1.20.2\n"
     ]
    }
   ],
   "source": [
    "print(np.__version__)"
   ]
  },
  {
   "cell_type": "markdown",
   "id": "1cb0be39",
   "metadata": {},
   "source": [
    "## Criando um objeto ndarray\n",
    "\n",
    "Podemos criar usando a função array()\n",
    "O parâmetro é uma lista, tupla ou objeto tipo array"
   ]
  },
  {
   "cell_type": "code",
   "execution_count": 4,
   "id": "9c54bfb8",
   "metadata": {},
   "outputs": [
    {
     "name": "stdout",
     "output_type": "stream",
     "text": [
      "[1 2 3 4 5]\n",
      "<class 'numpy.ndarray'>\n"
     ]
    }
   ],
   "source": [
    "arr = np.array([1, 2, 3, 4, 5])\n",
    "\n",
    "print(arr)\n",
    "\n",
    "print(type(arr))"
   ]
  },
  {
   "cell_type": "markdown",
   "id": "48aa218c",
   "metadata": {},
   "source": [
    "## Dimensões\n",
    "\n",
    "A dimensão em arrays é um nivel de profundidade dos array (array dentro de array)\n",
    "\n",
    "### 0-D arrays\n",
    "Escalares, são elementos em um array, cada valor do array é um 0-D array"
   ]
  },
  {
   "cell_type": "code",
   "execution_count": 5,
   "id": "2c42160a",
   "metadata": {},
   "outputs": [
    {
     "name": "stdout",
     "output_type": "stream",
     "text": [
      "42\n"
     ]
    }
   ],
   "source": [
    "arr = np.array(42)\n",
    "\n",
    "print(arr)"
   ]
  },
  {
   "cell_type": "markdown",
   "id": "7558c142",
   "metadata": {},
   "source": [
    "### 1-D arrays\n",
    "é um array de 0-D arrays, é chamado uni-dimensional ou 1-D array"
   ]
  },
  {
   "cell_type": "code",
   "execution_count": 6,
   "id": "519c7dca",
   "metadata": {},
   "outputs": [
    {
     "name": "stdout",
     "output_type": "stream",
     "text": [
      "[1 2 3 4 5]\n"
     ]
    }
   ],
   "source": [
    "arr = np.array([1, 2, 3, 4, 5])\n",
    "\n",
    "print(arr)"
   ]
  },
  {
   "cell_type": "markdown",
   "id": "d98fe9d1",
   "metadata": {},
   "source": [
    "### 2-D arrays\n",
    "um array que contém 1-D arrays, que normalmente são usados para representar matrizes\n",
    "\n",
    "O numnpy tem um sub-modulo para calculos com matrizes, **numpy.mat**"
   ]
  },
  {
   "cell_type": "code",
   "execution_count": 7,
   "id": "cbf1a5af",
   "metadata": {},
   "outputs": [
    {
     "name": "stdout",
     "output_type": "stream",
     "text": [
      "[[1 2 3]\n",
      " [4 5 6]]\n"
     ]
    }
   ],
   "source": [
    "arr = np.array([[1, 2, 3], [4, 5, 6]])\n",
    "\n",
    "print(arr)"
   ]
  },
  {
   "cell_type": "markdown",
   "id": "b0be4d32",
   "metadata": {},
   "source": [
    "### 3-D arrays\n",
    "Você já sabe oque significa"
   ]
  },
  {
   "cell_type": "code",
   "execution_count": 8,
   "id": "b2793393",
   "metadata": {},
   "outputs": [
    {
     "name": "stdout",
     "output_type": "stream",
     "text": [
      "[[[1 2 3]\n",
      "  [4 5 6]]\n",
      "\n",
      " [[1 2 3]\n",
      "  [4 5 6]]]\n"
     ]
    }
   ],
   "source": [
    "import numpy as np\n",
    "\n",
    "arr = np.array([[[1, 2, 3], [4, 5, 6]], [[1, 2, 3], [4, 5, 6]]])\n",
    "\n",
    "print(arr)"
   ]
  },
  {
   "cell_type": "markdown",
   "id": "6d9f7995",
   "metadata": {},
   "source": [
    "## olhando a dimensão\n",
    "O atributo **ndim** retorna a dimensão"
   ]
  },
  {
   "cell_type": "code",
   "execution_count": 9,
   "id": "3c15bfd4",
   "metadata": {},
   "outputs": [
    {
     "name": "stdout",
     "output_type": "stream",
     "text": [
      "0\n",
      "1\n",
      "2\n",
      "3\n"
     ]
    }
   ],
   "source": [
    "a = np.array(42)\n",
    "b = np.array([1, 2, 3, 4, 5])\n",
    "c = np.array([[1, 2, 3], [4, 5, 6]])\n",
    "d = np.array([[[1, 2, 3], [4, 5, 6]], [[1, 2, 3], [4, 5, 6]]])\n",
    "\n",
    "print(a.ndim)\n",
    "print(b.ndim)\n",
    "print(c.ndim)\n",
    "print(d.ndim)"
   ]
  },
  {
   "cell_type": "markdown",
   "id": "51675a2f",
   "metadata": {},
   "source": [
    "## Arrays de ordem superiores\n",
    "\n",
    "Podemos criar um array de ordem 5"
   ]
  },
  {
   "cell_type": "code",
   "execution_count": 12,
   "id": "fe82e3dc",
   "metadata": {},
   "outputs": [
    {
     "name": "stdout",
     "output_type": "stream",
     "text": [
      "[[[[[1 2 3 4]]]]]\n",
      "number of dimensions : 5\n"
     ]
    }
   ],
   "source": [
    "arr = np.array([1, 2, 3, 4], ndmin=5)\n",
    "\n",
    "print(arr)\n",
    "print('number of dimensions :', arr.ndim)"
   ]
  },
  {
   "cell_type": "markdown",
   "id": "703b47ea",
   "metadata": {},
   "source": [
    "# Acessando elementos do array\n",
    "é igual ao array normal do python"
   ]
  },
  {
   "cell_type": "code",
   "execution_count": 24,
   "id": "8e5c3f85",
   "metadata": {},
   "outputs": [
    {
     "name": "stdout",
     "output_type": "stream",
     "text": [
      "1\n",
      "7\n"
     ]
    }
   ],
   "source": [
    "arr = np.array([1, 2, 3, 4])\n",
    "\n",
    "print(arr[0])\n",
    "print(arr[2] + arr[3])"
   ]
  },
  {
   "cell_type": "markdown",
   "id": "c1ffed41",
   "metadata": {},
   "source": [
    "## Acessando elementos de um 2-D array"
   ]
  },
  {
   "cell_type": "code",
   "execution_count": 16,
   "id": "aa7ecf8c",
   "metadata": {},
   "outputs": [
    {
     "name": "stdout",
     "output_type": "stream",
     "text": [
      "2\n"
     ]
    }
   ],
   "source": [
    "arr = np.array([[1,2,3,4,5], [6,7,8,9,10]])\n",
    "\n",
    "print(arr[0, 1])"
   ]
  },
  {
   "cell_type": "markdown",
   "id": "9d35b200",
   "metadata": {},
   "source": [
    "## Acessando elementos de um 3-D array"
   ]
  },
  {
   "cell_type": "code",
   "execution_count": 17,
   "id": "9c7c01a8",
   "metadata": {},
   "outputs": [
    {
     "name": "stdout",
     "output_type": "stream",
     "text": [
      "6\n"
     ]
    }
   ],
   "source": [
    "arr = np.array([[[1, 2, 3], [4, 5, 6]], [[7, 8, 9], [10, 11, 12]]])\n",
    "\n",
    "print(arr[0, 1, 2])"
   ]
  },
  {
   "cell_type": "markdown",
   "id": "508cce25",
   "metadata": {},
   "source": [
    "## Indice negativo"
   ]
  },
  {
   "cell_type": "markdown",
   "id": "038af076",
   "metadata": {},
   "source": [
    "Podemos colocar indices negativos, igual python normal, acessa o fim"
   ]
  },
  {
   "cell_type": "code",
   "execution_count": 18,
   "id": "9a6e9942",
   "metadata": {},
   "outputs": [
    {
     "name": "stdout",
     "output_type": "stream",
     "text": [
      "Last element from 2nd dim:  10\n"
     ]
    }
   ],
   "source": [
    "arr = np.array([[1,2,3,4,5], [6,7,8,9,10]])\n",
    "\n",
    "print('Last element from 2nd dim: ', arr[1, -1])"
   ]
  },
  {
   "cell_type": "markdown",
   "id": "b24d0d16",
   "metadata": {},
   "source": [
    "## Fatiamento de arrays\n",
    "\n",
    "\\[start:end:step\\]\n",
    "\n",
    "O valor padrão de start é 0\n",
    "\n",
    "O valor padrão de end é o tamanho do array\n",
    "\n",
    "O valor padrão do step é 1\n",
    "\n",
    "O resultado inclui o indice de start e excluir o de end"
   ]
  },
  {
   "cell_type": "code",
   "execution_count": 27,
   "id": "b2817920",
   "metadata": {},
   "outputs": [
    {
     "name": "stdout",
     "output_type": "stream",
     "text": [
      "[2 3 4 5]\n"
     ]
    }
   ],
   "source": [
    "arr = np.array([1, 2, 3, 4, 5, 6, 7])\n",
    "\n",
    "print(arr[1:5])"
   ]
  },
  {
   "cell_type": "code",
   "execution_count": 28,
   "id": "31bd269b",
   "metadata": {},
   "outputs": [
    {
     "name": "stdout",
     "output_type": "stream",
     "text": [
      "[5 6 7]\n"
     ]
    }
   ],
   "source": [
    "print(arr[4:])"
   ]
  },
  {
   "cell_type": "code",
   "execution_count": 29,
   "id": "f901e1c6",
   "metadata": {},
   "outputs": [
    {
     "name": "stdout",
     "output_type": "stream",
     "text": [
      "[1 2 3 4]\n"
     ]
    }
   ],
   "source": [
    "print(arr[:4])"
   ]
  },
  {
   "cell_type": "code",
   "execution_count": 30,
   "id": "98fa2525",
   "metadata": {},
   "outputs": [
    {
     "name": "stdout",
     "output_type": "stream",
     "text": [
      "[5 6]\n"
     ]
    }
   ],
   "source": [
    "print(arr[-3:-1])"
   ]
  },
  {
   "cell_type": "code",
   "execution_count": 31,
   "id": "2e92db52",
   "metadata": {},
   "outputs": [
    {
     "name": "stdout",
     "output_type": "stream",
     "text": [
      "[2 4]\n"
     ]
    }
   ],
   "source": [
    "print(arr[1:5:2])"
   ]
  },
  {
   "cell_type": "code",
   "execution_count": 32,
   "id": "95094a91",
   "metadata": {},
   "outputs": [
    {
     "name": "stdout",
     "output_type": "stream",
     "text": [
      "[1 3 5 7]\n"
     ]
    }
   ],
   "source": [
    "print(arr[::2])"
   ]
  },
  {
   "cell_type": "markdown",
   "id": "d3392c63",
   "metadata": {},
   "source": [
    "Podemos aplicar o slice em 2D arrays"
   ]
  },
  {
   "cell_type": "code",
   "execution_count": 33,
   "id": "aa379607",
   "metadata": {},
   "outputs": [
    {
     "name": "stdout",
     "output_type": "stream",
     "text": [
      "[7 8 9]\n"
     ]
    }
   ],
   "source": [
    "arr = np.array([[1, 2, 3, 4, 5], [6, 7, 8, 9, 10]])\n",
    "\n",
    "print(arr[1, 1:4])"
   ]
  },
  {
   "cell_type": "code",
   "execution_count": 35,
   "id": "2da502c6",
   "metadata": {},
   "outputs": [
    {
     "name": "stdout",
     "output_type": "stream",
     "text": [
      "[2 7]\n"
     ]
    }
   ],
   "source": [
    "print(arr[:, 1])"
   ]
  },
  {
   "cell_type": "code",
   "execution_count": 36,
   "id": "8a9c84f9",
   "metadata": {},
   "outputs": [
    {
     "name": "stdout",
     "output_type": "stream",
     "text": [
      "[[2 3 4]\n",
      " [7 8 9]]\n"
     ]
    }
   ],
   "source": [
    "print(arr[0:2, 1:4])"
   ]
  },
  {
   "cell_type": "markdown",
   "id": "1ef59a9b",
   "metadata": {},
   "source": [
    "# Tipos de dado em NumPy\n",
    "\n",
    "i - integer\n",
    "\n",
    "b - boolean\n",
    "\n",
    "u - unsigned integer\n",
    "\n",
    "f - float\n",
    "\n",
    "c - complex float\n",
    "\n",
    "m - timedelta\n",
    "\n",
    "M - datatime\n",
    "\n",
    "O - object\n",
    "\n",
    "S - String\n",
    "\n",
    "U - unicode stirng\n",
    "\n",
    "V - alocação para memória para outro tipo (void)"
   ]
  },
  {
   "cell_type": "markdown",
   "id": "bd25393c",
   "metadata": {},
   "source": [
    "## Olhando o tipo de um array"
   ]
  },
  {
   "cell_type": "code",
   "execution_count": 38,
   "id": "2b16a94e",
   "metadata": {},
   "outputs": [
    {
     "name": "stdout",
     "output_type": "stream",
     "text": [
      "int32\n",
      "<U6\n"
     ]
    }
   ],
   "source": [
    "arr = np.array([1, 2, 3, 4])\n",
    "\n",
    "print(arr.dtype)\n",
    "\n",
    "arr = np.array(['apple', 'banana', 'cherry'])\n",
    "\n",
    "print(arr.dtype)"
   ]
  },
  {
   "cell_type": "markdown",
   "id": "352e19ce",
   "metadata": {},
   "source": [
    "## Criando arrays com um tipo definido"
   ]
  },
  {
   "cell_type": "code",
   "execution_count": 39,
   "id": "28919a66",
   "metadata": {},
   "outputs": [
    {
     "name": "stdout",
     "output_type": "stream",
     "text": [
      "[b'1' b'2' b'3' b'4']\n",
      "|S1\n"
     ]
    }
   ],
   "source": [
    "arr = np.array([1, 2, 3, 4], dtype='S')\n",
    "\n",
    "print(arr)\n",
    "print(arr.dtype)"
   ]
  },
  {
   "cell_type": "markdown",
   "id": "2e563322",
   "metadata": {},
   "source": [
    "## Definindo tamanho\n",
    "Podemos definir tamanhos de i, u, f, S e U\n",
    "\n",
    "Para criar um integer de 1 bytes:"
   ]
  },
  {
   "cell_type": "code",
   "execution_count": 41,
   "id": "44588389",
   "metadata": {},
   "outputs": [
    {
     "name": "stdout",
     "output_type": "stream",
     "text": [
      "[1 2 3 4]\n",
      "int8\n"
     ]
    }
   ],
   "source": [
    "arr = np.array([1, 2, 3, 4], dtype='i1')\n",
    "\n",
    "print(arr)\n",
    "print(arr.dtype)"
   ]
  },
  {
   "cell_type": "markdown",
   "id": "0b0494b9",
   "metadata": {},
   "source": [
    "## Convertendo o tipo de array\n",
    "Podemos fazer uma cópia convetendo usando o método **astype()**.\n",
    "\n",
    "o parâmetro é o novo tipo"
   ]
  },
  {
   "cell_type": "code",
   "execution_count": 42,
   "id": "332bb0c8",
   "metadata": {},
   "outputs": [
    {
     "name": "stdout",
     "output_type": "stream",
     "text": [
      "[1 2 3]\n",
      "int32\n"
     ]
    }
   ],
   "source": [
    "arr = np.array([1.1, 2.1, 3.1])\n",
    "\n",
    "newarr = arr.astype('i')\n",
    "\n",
    "print(newarr)\n",
    "print(newarr.dtype)"
   ]
  },
  {
   "cell_type": "code",
   "execution_count": 43,
   "id": "f52335f6",
   "metadata": {},
   "outputs": [
    {
     "name": "stdout",
     "output_type": "stream",
     "text": [
      "[1 2 3]\n",
      "int32\n"
     ]
    }
   ],
   "source": [
    "arr = np.array([1.1, 2.1, 3.1])\n",
    "\n",
    "newarr = arr.astype(int)\n",
    "\n",
    "print(newarr)\n",
    "print(newarr.dtype)"
   ]
  },
  {
   "cell_type": "code",
   "execution_count": 44,
   "id": "7eac6dbb",
   "metadata": {},
   "outputs": [
    {
     "name": "stdout",
     "output_type": "stream",
     "text": [
      "[ True False  True]\n",
      "bool\n"
     ]
    }
   ],
   "source": [
    "arr = np.array([1, 0, 3])\n",
    "\n",
    "newarr = arr.astype(bool)\n",
    "\n",
    "print(newarr)\n",
    "print(newarr.dtype)"
   ]
  },
  {
   "cell_type": "markdown",
   "id": "20f8c3b5",
   "metadata": {},
   "source": [
    "## Diferença entre Copy e View\n",
    "Copy é um novo array, enquanto view é uma visão do original.\n",
    "\n",
    "Qualquer alteração na copia, não afeta o original. Enquanto o view, se mudar o a view, muda o original.\n",
    "\n",
    "### Copy"
   ]
  },
  {
   "cell_type": "code",
   "execution_count": 45,
   "id": "9c090f04",
   "metadata": {},
   "outputs": [
    {
     "name": "stdout",
     "output_type": "stream",
     "text": [
      "[42  2  3  4  5]\n",
      "[1 2 3 4 5]\n"
     ]
    }
   ],
   "source": [
    "arr = np.array([1, 2, 3, 4, 5])\n",
    "x = arr.copy()\n",
    "arr[0] = 42\n",
    "\n",
    "print(arr)\n",
    "print(x)"
   ]
  },
  {
   "cell_type": "code",
   "execution_count": 46,
   "id": "01bb32e9",
   "metadata": {},
   "outputs": [
    {
     "name": "stdout",
     "output_type": "stream",
     "text": [
      "[42  2  3  4  5]\n",
      "[42  2  3  4  5]\n"
     ]
    }
   ],
   "source": [
    "arr = np.array([1, 2, 3, 4, 5])\n",
    "x = arr.view()\n",
    "arr[0] = 42\n",
    "\n",
    "print(arr)\n",
    "print(x)"
   ]
  },
  {
   "cell_type": "markdown",
   "id": "916f542d",
   "metadata": {},
   "source": [
    "## Verificando a origem do dado\n",
    "O atributo base retorna None se o array tem seus dados, e a origem se não tem"
   ]
  },
  {
   "cell_type": "code",
   "execution_count": 47,
   "id": "74330a6f",
   "metadata": {},
   "outputs": [
    {
     "name": "stdout",
     "output_type": "stream",
     "text": [
      "None\n",
      "[1 2 3 4 5]\n"
     ]
    }
   ],
   "source": [
    "arr = np.array([1, 2, 3, 4, 5])\n",
    "\n",
    "x = arr.copy()\n",
    "y = arr.view()\n",
    "\n",
    "print(x.base)\n",
    "print(y.base)"
   ]
  },
  {
   "cell_type": "markdown",
   "id": "fb2e0027",
   "metadata": {},
   "source": [
    "## Forma de um array\n",
    "Forma de um array é o número de elementos em cada dimensões\n",
    "\n",
    "Para obter a forma de um array, use o atributo **shape**"
   ]
  },
  {
   "cell_type": "code",
   "execution_count": 48,
   "id": "2c7435db",
   "metadata": {},
   "outputs": [
    {
     "name": "stdout",
     "output_type": "stream",
     "text": [
      "(2, 4)\n"
     ]
    }
   ],
   "source": [
    "arr = np.array([[1, 2, 3, 4], [5, 6, 7, 8]])\n",
    "\n",
    "print(arr.shape)"
   ]
  },
  {
   "cell_type": "code",
   "execution_count": 49,
   "id": "4bb30845",
   "metadata": {},
   "outputs": [
    {
     "name": "stdout",
     "output_type": "stream",
     "text": [
      "[[[[[1 2 3 4]]]]]\n",
      "shape of array : (1, 1, 1, 1, 4)\n"
     ]
    }
   ],
   "source": [
    "arr = np.array([1, 2, 3, 4], ndmin=5)\n",
    "\n",
    "print(arr)\n",
    "print('shape of array :', arr.shape)"
   ]
  },
  {
   "cell_type": "markdown",
   "id": "a83552e7",
   "metadata": {},
   "source": [
    "## Reformando arrays\n",
    "Adcionar ou remove dimensões ou mudar o número de elementos em cada dimensão\n",
    "\n",
    "### De 1-D para 2-D"
   ]
  },
  {
   "cell_type": "code",
   "execution_count": 51,
   "id": "777ed0e6",
   "metadata": {},
   "outputs": [
    {
     "name": "stdout",
     "output_type": "stream",
     "text": [
      "[[ 1  2  3]\n",
      " [ 4  5  6]\n",
      " [ 7  8  9]\n",
      " [10 11 12]]\n"
     ]
    }
   ],
   "source": [
    "arr = np.array([1, 2, 3, 4, 5, 6, 7, 8, 9, 10, 11, 12])\n",
    "\n",
    "newarr = arr.reshape(4, 3)\n",
    "\n",
    "print(newarr)"
   ]
  },
  {
   "cell_type": "markdown",
   "id": "52b4a137",
   "metadata": {},
   "source": [
    "## De 1-D para 3-D"
   ]
  },
  {
   "cell_type": "code",
   "execution_count": 52,
   "id": "5be60b06",
   "metadata": {},
   "outputs": [
    {
     "name": "stdout",
     "output_type": "stream",
     "text": [
      "[[[ 1  2]\n",
      "  [ 3  4]\n",
      "  [ 5  6]]\n",
      "\n",
      " [[ 7  8]\n",
      "  [ 9 10]\n",
      "  [11 12]]]\n"
     ]
    }
   ],
   "source": [
    "arr = np.array([1, 2, 3, 4, 5, 6, 7, 8, 9, 10, 11, 12])\n",
    "\n",
    "newarr = arr.reshape(2, 3, 2)\n",
    "\n",
    "print(newarr)"
   ]
  },
  {
   "cell_type": "markdown",
   "id": "179be53d",
   "metadata": {},
   "source": [
    "Podemos reformar para qualquer forma, mas tem o limite da quantidade. um 1D para 8 elementos, podemos reformar para um 2D de 2 linhas, enquanto não pode para um 3x3 2D, pois 3x3 = 9.\n",
    "\n",
    "**reshape** cria um view:"
   ]
  },
  {
   "cell_type": "code",
   "execution_count": 53,
   "id": "194ca416",
   "metadata": {},
   "outputs": [
    {
     "name": "stdout",
     "output_type": "stream",
     "text": [
      "[1 2 3 4 5 6 7 8]\n"
     ]
    }
   ],
   "source": [
    "arr = np.array([1, 2, 3, 4, 5, 6, 7, 8])\n",
    "\n",
    "print(arr.reshape(2, 4).base)"
   ]
  },
  {
   "cell_type": "markdown",
   "id": "c97070fc",
   "metadata": {},
   "source": [
    "Podemos ter uma dimensão desconhecido. Você pode não especificar um número exato. Passando -1 como valor, ele vai automaticamente calcular para você"
   ]
  },
  {
   "cell_type": "code",
   "execution_count": 54,
   "id": "6d70a2f5",
   "metadata": {},
   "outputs": [
    {
     "name": "stdout",
     "output_type": "stream",
     "text": [
      "[[[1 2]\n",
      "  [3 4]]\n",
      "\n",
      " [[5 6]\n",
      "  [7 8]]]\n"
     ]
    }
   ],
   "source": [
    "arr = np.array([1, 2, 3, 4, 5, 6, 7, 8])\n",
    "\n",
    "newarr = arr.reshape(2, 2, -1)\n",
    "\n",
    "print(newarr)"
   ]
  },
  {
   "cell_type": "markdown",
   "id": "45f4275d",
   "metadata": {},
   "source": [
    "Podemos planar um array, transformando todos os elementos em um 1d. Só passar o -1 como único parametro"
   ]
  },
  {
   "cell_type": "code",
   "execution_count": 55,
   "id": "b650665d",
   "metadata": {},
   "outputs": [
    {
     "name": "stdout",
     "output_type": "stream",
     "text": [
      "[1 2 3 4 5 6]\n"
     ]
    }
   ],
   "source": [
    "arr = np.array([[1, 2, 3], [4, 5, 6]])\n",
    "\n",
    "newarr = arr.reshape(-1)\n",
    "\n",
    "print(newarr)"
   ]
  },
  {
   "cell_type": "markdown",
   "id": "67e4c36a",
   "metadata": {},
   "source": [
    "## iterando arrays\n",
    "Iteração vai percorrer cada elementos um por um. Como podemos lidar com um array com multiplas dimensões, podemos usar um loop básico for do python\n",
    "\n",
    "Se iteramos 1D, ele vai pelos elementos um por um"
   ]
  },
  {
   "cell_type": "code",
   "execution_count": 57,
   "id": "50739f26",
   "metadata": {},
   "outputs": [
    {
     "name": "stdout",
     "output_type": "stream",
     "text": [
      "1\n",
      "2\n",
      "3\n"
     ]
    }
   ],
   "source": [
    "arr = np.array([1, 2, 3])\n",
    "\n",
    "for x in arr:\n",
    "  print(x)"
   ]
  },
  {
   "cell_type": "code",
   "execution_count": 58,
   "id": "a0af7fa3",
   "metadata": {},
   "outputs": [
    {
     "name": "stdout",
     "output_type": "stream",
     "text": [
      "[1 2 3]\n",
      "[4 5 6]\n"
     ]
    }
   ],
   "source": [
    "arr = np.array([[1, 2, 3], [4, 5, 6]])\n",
    "\n",
    "for x in arr:\n",
    "  print(x)"
   ]
  },
  {
   "cell_type": "code",
   "execution_count": 59,
   "id": "3a412b6a",
   "metadata": {},
   "outputs": [
    {
     "name": "stdout",
     "output_type": "stream",
     "text": [
      "1\n",
      "2\n",
      "3\n",
      "4\n",
      "5\n",
      "6\n"
     ]
    }
   ],
   "source": [
    "arr = np.array([[1, 2, 3], [4, 5, 6]])\n",
    "\n",
    "for x in arr:\n",
    "  for y in x:\n",
    "    print(y)"
   ]
  },
  {
   "cell_type": "markdown",
   "id": "fae1004c",
   "metadata": {},
   "source": [
    "## Iterando usando nditer()\n",
    "nditer() ajuda da mais básica até o mais avançada iteração. \n",
    "\n",
    "### Iterando cada elemento escalar\n",
    "Com nditer() podemos evitar usar vários for"
   ]
  },
  {
   "cell_type": "code",
   "execution_count": 60,
   "id": "4bcecca9",
   "metadata": {},
   "outputs": [
    {
     "name": "stdout",
     "output_type": "stream",
     "text": [
      "1\n",
      "2\n",
      "3\n",
      "4\n",
      "5\n",
      "6\n",
      "7\n",
      "8\n"
     ]
    }
   ],
   "source": [
    "arr = np.array([[[1, 2], [3, 4]], [[5, 6], [7, 8]]])\n",
    "\n",
    "for x in np.nditer(arr):\n",
    "  print(x)"
   ]
  },
  {
   "cell_type": "markdown",
   "id": "37c40ff9",
   "metadata": {},
   "source": [
    "## Iterando array com outro tipo de dados \n",
    "Podemos usar o argumento op_dtypes, que seria o tipo de dado esperado para mudar enquanto itera\n",
    "\n",
    "Ele não muda in-place, então precisamos de espaço extra, chamado buffer. Para isso, colocamos **flags=\\['buffered'\\]**"
   ]
  },
  {
   "cell_type": "code",
   "execution_count": 61,
   "id": "21135658",
   "metadata": {},
   "outputs": [
    {
     "name": "stdout",
     "output_type": "stream",
     "text": [
      "b'1'\n",
      "b'2'\n",
      "b'3'\n"
     ]
    }
   ],
   "source": [
    "arr = np.array([1, 2, 3])\n",
    "\n",
    "for x in np.nditer(arr, flags=['buffered'], op_dtypes=['S']):\n",
    "  print(x)"
   ]
  },
  {
   "cell_type": "markdown",
   "id": "31d633ee",
   "metadata": {},
   "source": [
    "## iterando com slice\n",
    "Podemos aplicar o slice para iterar"
   ]
  },
  {
   "cell_type": "code",
   "execution_count": 64,
   "id": "7a0582a0",
   "metadata": {
    "scrolled": true
   },
   "outputs": [
    {
     "name": "stdout",
     "output_type": "stream",
     "text": [
      "1\n",
      "3\n",
      "5\n",
      "7\n"
     ]
    }
   ],
   "source": [
    "arr = np.array([[1, 2, 3, 4], [5, 6, 7, 8]])\n",
    "\n",
    "for x in np.nditer(arr[:, ::2]):\n",
    "  print(x)"
   ]
  },
  {
   "cell_type": "markdown",
   "id": "7b93a37b",
   "metadata": {},
   "source": [
    "## iteração enumerada\n",
    "Podemos enumerar usando **ndenumerate()**"
   ]
  },
  {
   "cell_type": "code",
   "execution_count": 68,
   "id": "f570ca2a",
   "metadata": {},
   "outputs": [
    {
     "name": "stdout",
     "output_type": "stream",
     "text": [
      "(0,) 1\n",
      "(1,) 6\n",
      "(2,) 3\n"
     ]
    }
   ],
   "source": [
    "arr = np.array([1, 6, 3])\n",
    "\n",
    "for idx, x in np.ndenumerate(arr):\n",
    "  print(idx, x)"
   ]
  },
  {
   "cell_type": "code",
   "execution_count": 69,
   "id": "c4a4c55d",
   "metadata": {},
   "outputs": [
    {
     "name": "stdout",
     "output_type": "stream",
     "text": [
      "(0, 0) 1\n",
      "(0, 1) 2\n",
      "(0, 2) 3\n",
      "(0, 3) 4\n",
      "(1, 0) 5\n",
      "(1, 1) 6\n",
      "(1, 2) 7\n",
      "(1, 3) 8\n"
     ]
    }
   ],
   "source": [
    "arr = np.array([[1, 2, 3, 4], [5, 6, 7, 8]])\n",
    "\n",
    "for idx, x in np.ndenumerate(arr):\n",
    "  print(idx, x)"
   ]
  },
  {
   "cell_type": "markdown",
   "id": "eaffbf7c",
   "metadata": {},
   "source": [
    "## Juntando array\n",
    "Juntar significa colocar o elemento de 2 ou mais arrays em um único array.\n",
    "\n",
    "Para isso, usamos a função concatenate, com o primeiro parâmetro a lista de arrays e depois o argumento axis, que espefica onde você quer juntar, por padrão é 0"
   ]
  },
  {
   "cell_type": "code",
   "execution_count": 70,
   "id": "e5c18db5",
   "metadata": {},
   "outputs": [
    {
     "name": "stdout",
     "output_type": "stream",
     "text": [
      "[1 2 3 4 5 6]\n"
     ]
    }
   ],
   "source": [
    "arr1 = np.array([1, 2, 3])\n",
    "\n",
    "arr2 = np.array([4, 5, 6])\n",
    "\n",
    "arr = np.concatenate((arr1, arr2))\n",
    "\n",
    "print(arr)"
   ]
  },
  {
   "cell_type": "code",
   "execution_count": 71,
   "id": "f0c65f6e",
   "metadata": {},
   "outputs": [
    {
     "name": "stdout",
     "output_type": "stream",
     "text": [
      "[[1 2 5 6]\n",
      " [3 4 7 8]]\n"
     ]
    }
   ],
   "source": [
    "arr1 = np.array([[1, 2], [3, 4]])\n",
    "\n",
    "arr2 = np.array([[5, 6], [7, 8]])\n",
    "\n",
    "arr = np.concatenate((arr1, arr2), axis=1)\n",
    "\n",
    "print(arr)"
   ]
  },
  {
   "cell_type": "code",
   "execution_count": 72,
   "id": "6d9cd32b",
   "metadata": {},
   "outputs": [
    {
     "name": "stdout",
     "output_type": "stream",
     "text": [
      "[[1 2]\n",
      " [3 4]\n",
      " [5 6]\n",
      " [7 8]]\n"
     ]
    }
   ],
   "source": [
    "arr = np.concatenate((arr1, arr2), axis=0)\n",
    "\n",
    "print(arr)"
   ]
  },
  {
   "cell_type": "markdown",
   "id": "6261c884",
   "metadata": {},
   "source": [
    "## Empilhando array\n",
    "A função stack() faz a memsa coisa que a concatenação, a diferença é que cria uma nova dimensão"
   ]
  },
  {
   "cell_type": "code",
   "execution_count": 73,
   "id": "de5034a7",
   "metadata": {},
   "outputs": [
    {
     "name": "stdout",
     "output_type": "stream",
     "text": [
      "[[1 4]\n",
      " [2 5]\n",
      " [3 6]]\n"
     ]
    }
   ],
   "source": [
    "arr1 = np.array([1, 2, 3])\n",
    "\n",
    "arr2 = np.array([4, 5, 6])\n",
    "\n",
    "arr = np.stack((arr1, arr2), axis=1)\n",
    "\n",
    "print(arr)"
   ]
  },
  {
   "cell_type": "code",
   "execution_count": 74,
   "id": "dee85661",
   "metadata": {},
   "outputs": [
    {
     "name": "stdout",
     "output_type": "stream",
     "text": [
      "[[1 2 3]\n",
      " [4 5 6]]\n"
     ]
    }
   ],
   "source": [
    "arr = np.stack((arr1, arr2))\n",
    "\n",
    "print(arr)"
   ]
  },
  {
   "cell_type": "markdown",
   "id": "30ccecad",
   "metadata": {},
   "source": [
    "**hstack()** empilha ao longo de linhas"
   ]
  },
  {
   "cell_type": "code",
   "execution_count": 79,
   "id": "b74d7d4f",
   "metadata": {},
   "outputs": [
    {
     "name": "stdout",
     "output_type": "stream",
     "text": [
      "[1 2 3 4 5 6]\n"
     ]
    }
   ],
   "source": [
    "arr = np.hstack((arr1, arr2))\n",
    "\n",
    "print(arr)"
   ]
  },
  {
   "cell_type": "markdown",
   "id": "2b03b4ca",
   "metadata": {},
   "source": [
    "**vstack()** empilha ao longo de linhas"
   ]
  },
  {
   "cell_type": "code",
   "execution_count": 78,
   "id": "f78441af",
   "metadata": {},
   "outputs": [
    {
     "name": "stdout",
     "output_type": "stream",
     "text": [
      "[[1 2 3]\n",
      " [4 5 6]]\n"
     ]
    }
   ],
   "source": [
    "arr = np.vstack((arr1, arr2))\n",
    "\n",
    "print(arr)"
   ]
  },
  {
   "cell_type": "markdown",
   "id": "e8d0ce66",
   "metadata": {},
   "source": [
    "**dstack()** empilha ao longo da profundidade"
   ]
  },
  {
   "cell_type": "code",
   "execution_count": 81,
   "id": "9f7c9826",
   "metadata": {},
   "outputs": [
    {
     "name": "stdout",
     "output_type": "stream",
     "text": [
      "[[[1 4]\n",
      "  [2 5]\n",
      "  [3 6]]]\n"
     ]
    }
   ],
   "source": [
    "arr = np.dstack((arr1, arr2))\n",
    "\n",
    "print(arr)"
   ]
  },
  {
   "cell_type": "markdown",
   "id": "71cfd499",
   "metadata": {},
   "source": [
    "## Dividindo arrays\n",
    "Dividir é o contrário da junção, quebrando um array em vários.\n",
    "\n",
    "Usamos **array_split()** para dividir arrays, passamos o array que queremos dividir e o número de divisões"
   ]
  },
  {
   "cell_type": "code",
   "execution_count": 84,
   "id": "c75db772",
   "metadata": {},
   "outputs": [
    {
     "name": "stdout",
     "output_type": "stream",
     "text": [
      "[array([1, 2]), array([3, 4]), array([5, 6])]\n"
     ]
    }
   ],
   "source": [
    "arr = np.array([1, 2, 3, 4, 5, 6])\n",
    "\n",
    "newarr = np.array_split(arr, 3)\n",
    "\n",
    "print(newarr)"
   ]
  },
  {
   "cell_type": "code",
   "execution_count": 85,
   "id": "192d2cdc",
   "metadata": {},
   "outputs": [
    {
     "name": "stdout",
     "output_type": "stream",
     "text": [
      "[array([1, 2]), array([3, 4]), array([5]), array([6])]\n"
     ]
    }
   ],
   "source": [
    "newarr1 = np.array_split(arr, 4)\n",
    "\n",
    "print(newarr1)"
   ]
  },
  {
   "cell_type": "code",
   "execution_count": 86,
   "id": "dc3ac326",
   "metadata": {},
   "outputs": [
    {
     "name": "stdout",
     "output_type": "stream",
     "text": [
      "[1 2]\n",
      "[3 4]\n",
      "[5 6]\n"
     ]
    }
   ],
   "source": [
    "print(newarr[0])\n",
    "print(newarr[1])\n",
    "print(newarr[2])"
   ]
  },
  {
   "cell_type": "markdown",
   "id": "3de90afe",
   "metadata": {},
   "source": [
    "### Dividindo 2-D arrays"
   ]
  },
  {
   "cell_type": "code",
   "execution_count": 87,
   "id": "b55130a0",
   "metadata": {},
   "outputs": [
    {
     "name": "stdout",
     "output_type": "stream",
     "text": [
      "[array([[1, 2],\n",
      "       [3, 4]]), array([[5, 6],\n",
      "       [7, 8]]), array([[ 9, 10],\n",
      "       [11, 12]])]\n"
     ]
    }
   ],
   "source": [
    "arr = np.array([[1, 2], [3, 4], [5, 6], [7, 8], [9, 10], [11, 12]])\n",
    "\n",
    "newarr = np.array_split(arr, 3)\n",
    "\n",
    "print(newarr)"
   ]
  },
  {
   "cell_type": "markdown",
   "id": "c3253ad9",
   "metadata": {},
   "source": [
    "Dividir um 2-D em 2-D array ao longo da linha"
   ]
  },
  {
   "cell_type": "code",
   "execution_count": 88,
   "id": "c0137b06",
   "metadata": {},
   "outputs": [
    {
     "name": "stdout",
     "output_type": "stream",
     "text": [
      "[array([[ 1],\n",
      "       [ 4],\n",
      "       [ 7],\n",
      "       [10],\n",
      "       [13],\n",
      "       [16]]), array([[ 2],\n",
      "       [ 5],\n",
      "       [ 8],\n",
      "       [11],\n",
      "       [14],\n",
      "       [17]]), array([[ 3],\n",
      "       [ 6],\n",
      "       [ 9],\n",
      "       [12],\n",
      "       [15],\n",
      "       [18]])]\n"
     ]
    }
   ],
   "source": [
    "arr = np.array([[1, 2, 3], [4, 5, 6], [7, 8, 9], [10, 11, 12], [13, 14, 15], [16, 17, 18]])\n",
    "\n",
    "newarr = np.array_split(arr, 3, axis=1)\n",
    "\n",
    "print(newarr)"
   ]
  },
  {
   "cell_type": "markdown",
   "id": "92b2249d",
   "metadata": {},
   "source": [
    "Existe o **hsplit()**, **vstack()** e **dstack()**"
   ]
  },
  {
   "cell_type": "markdown",
   "id": "6a686949",
   "metadata": {},
   "source": [
    "## Pesquisando em array\n",
    "Podemos pesquisar um array por um certo valor, e retorna os indices que retornam true. Usamos a função where para isso"
   ]
  },
  {
   "cell_type": "code",
   "execution_count": 89,
   "id": "79a5d2a6",
   "metadata": {},
   "outputs": [
    {
     "name": "stdout",
     "output_type": "stream",
     "text": [
      "(array([3, 5, 6], dtype=int64),)\n"
     ]
    }
   ],
   "source": [
    "arr = np.array([1, 2, 3, 4, 5, 4, 4])\n",
    "\n",
    "x = np.where(arr == 4)\n",
    "\n",
    "print(x)"
   ]
  },
  {
   "cell_type": "code",
   "execution_count": 90,
   "id": "0c7b834a",
   "metadata": {},
   "outputs": [
    {
     "name": "stdout",
     "output_type": "stream",
     "text": [
      "(array([1, 3, 5, 7], dtype=int64),)\n"
     ]
    }
   ],
   "source": [
    "arr = np.array([1, 2, 3, 4, 5, 6, 7, 8])\n",
    "\n",
    "x = np.where(arr%2 == 0)\n",
    "\n",
    "print(x)"
   ]
  },
  {
   "cell_type": "markdown",
   "id": "7bdd7a6f",
   "metadata": {},
   "source": [
    "## Busca binária\n",
    "Podemos usar a função **searchsorted()** para fazer a busca binária em um array, o valor retornar é a posição que você precisa colocar o elemento para manter o array ordenado, que se pressume como ordenada."
   ]
  },
  {
   "cell_type": "code",
   "execution_count": 91,
   "id": "f3e2afde",
   "metadata": {},
   "outputs": [
    {
     "name": "stdout",
     "output_type": "stream",
     "text": [
      "1\n"
     ]
    }
   ],
   "source": [
    "arr = np.array([6, 7, 8, 9])\n",
    "\n",
    "x = np.searchsorted(arr, 7)\n",
    "\n",
    "print(x)"
   ]
  },
  {
   "cell_type": "markdown",
   "id": "eceb2e74",
   "metadata": {},
   "source": [
    "Podemos buscar o elemento mais a direita igual ao valor"
   ]
  },
  {
   "cell_type": "code",
   "execution_count": 92,
   "id": "240792f3",
   "metadata": {},
   "outputs": [
    {
     "name": "stdout",
     "output_type": "stream",
     "text": [
      "2\n"
     ]
    }
   ],
   "source": [
    "arr = np.array([6, 7, 8, 9])\n",
    "\n",
    "x = np.searchsorted(arr, 7, side='right')\n",
    "\n",
    "print(x)"
   ]
  },
  {
   "cell_type": "markdown",
   "id": "e9f13abe",
   "metadata": {},
   "source": [
    "### Múltiplos valores"
   ]
  },
  {
   "cell_type": "code",
   "execution_count": 93,
   "id": "a7eb15b5",
   "metadata": {},
   "outputs": [
    {
     "name": "stdout",
     "output_type": "stream",
     "text": [
      "[1 2 3]\n"
     ]
    }
   ],
   "source": [
    "arr = np.array([1, 3, 5, 7])\n",
    "\n",
    "x = np.searchsorted(arr, [2, 4, 6])\n",
    "\n",
    "print(x)"
   ]
  },
  {
   "cell_type": "markdown",
   "id": "046d2550",
   "metadata": {},
   "source": [
    "## Ordenar\n",
    "A função sort()"
   ]
  },
  {
   "cell_type": "code",
   "execution_count": 95,
   "id": "f2c4cbdb",
   "metadata": {},
   "outputs": [
    {
     "data": {
      "text/plain": [
       "array([0, 1, 2, 3])"
      ]
     },
     "execution_count": 95,
     "metadata": {},
     "output_type": "execute_result"
    }
   ],
   "source": [
    "arr = np.array([3, 2, 0, 1])\n",
    "\n",
    "x = np.sort(arr)\n",
    "\n",
    "x"
   ]
  },
  {
   "cell_type": "markdown",
   "id": "cb03281a",
   "metadata": {},
   "source": [
    "Podemos ordenar um array 2-d, que ambos os arrays são ordenados"
   ]
  },
  {
   "cell_type": "code",
   "execution_count": 96,
   "id": "f35f03ff",
   "metadata": {},
   "outputs": [
    {
     "name": "stdout",
     "output_type": "stream",
     "text": [
      "[[2 3 4]\n",
      " [0 1 5]]\n"
     ]
    }
   ],
   "source": [
    "arr = np.array([[3, 2, 4], [5, 0, 1]])\n",
    "\n",
    "print(np.sort(arr))"
   ]
  },
  {
   "cell_type": "markdown",
   "id": "850141bf",
   "metadata": {},
   "source": [
    "## Filtrando arrays\n",
    "Um indice booleano é uma lista de booleano correspodente a indices no array. Se o valor é True, esse elemento está no array filtrado, se for Falso, é filtrado"
   ]
  },
  {
   "cell_type": "code",
   "execution_count": 97,
   "id": "27ac87c9",
   "metadata": {},
   "outputs": [
    {
     "name": "stdout",
     "output_type": "stream",
     "text": [
      "[41 43]\n"
     ]
    }
   ],
   "source": [
    "arr = np.array([41, 42, 43, 44])\n",
    "\n",
    "x = [True, False, True, False]\n",
    "\n",
    "newarr = arr[x]\n",
    "\n",
    "print(newarr)"
   ]
  },
  {
   "cell_type": "code",
   "execution_count": 98,
   "id": "e2731de9",
   "metadata": {},
   "outputs": [
    {
     "name": "stdout",
     "output_type": "stream",
     "text": [
      "[False False  True  True]\n",
      "[43 44]\n"
     ]
    }
   ],
   "source": [
    "arr = np.array([41, 42, 43, 44])\n",
    "\n",
    "filter_arr = arr > 42\n",
    "\n",
    "newarr = arr[filter_arr]\n",
    "\n",
    "print(filter_arr)\n",
    "print(newarr)"
   ]
  },
  {
   "cell_type": "code",
   "execution_count": 99,
   "id": "cadad9c7",
   "metadata": {},
   "outputs": [
    {
     "name": "stdout",
     "output_type": "stream",
     "text": [
      "[False  True False  True False  True False]\n",
      "[2 4 6]\n"
     ]
    }
   ],
   "source": [
    "arr = np.array([1, 2, 3, 4, 5, 6, 7])\n",
    "\n",
    "filter_arr = arr % 2 == 0\n",
    "\n",
    "newarr = arr[filter_arr]\n",
    "\n",
    "print(filter_arr)\n",
    "print(newarr)"
   ]
  },
  {
   "cell_type": "markdown",
   "id": "fc434b23",
   "metadata": {},
   "source": [
    "## números aleatórios\n",
    "Esta biblioteca possui uma série de funções para gerar números aleatórios, porem pseudo-aleatórios, logo não use em aplicativos relacionados a segurança ou sites de apostas"
   ]
  },
  {
   "cell_type": "code",
   "execution_count": 104,
   "id": "3bd39364",
   "metadata": {},
   "outputs": [],
   "source": [
    "# Podemos importar com #from numpy import random\n",
    "# Porem como já importei, vou só colocar em uma outra variavel\n",
    "\n",
    "random = np.random"
   ]
  },
  {
   "cell_type": "markdown",
   "id": "cf9cd17f",
   "metadata": {},
   "source": [
    "#### randint(x)\n",
    "Gera um número inteiro entre 0 até x"
   ]
  },
  {
   "cell_type": "code",
   "execution_count": 103,
   "id": "0696257f",
   "metadata": {},
   "outputs": [
    {
     "name": "stdout",
     "output_type": "stream",
     "text": [
      "79\n"
     ]
    }
   ],
   "source": [
    "x = random.randint(100)\n",
    "\n",
    "print(x)"
   ]
  },
  {
   "cell_type": "markdown",
   "id": "09749147",
   "metadata": {},
   "source": [
    "#### rand()\n",
    "Gera um float entre 0 até 1"
   ]
  },
  {
   "cell_type": "code",
   "execution_count": 105,
   "id": "60510eeb",
   "metadata": {},
   "outputs": [
    {
     "name": "stdout",
     "output_type": "stream",
     "text": [
      "0.1825429650496867\n"
     ]
    }
   ],
   "source": [
    "x = random.rand()\n",
    "\n",
    "print(x)"
   ]
  },
  {
   "cell_type": "markdown",
   "id": "8c18fae3",
   "metadata": {},
   "source": [
    "#### array de inteiros\n",
    "Podemos passar o parametro size do randint() para especificar a forma de um array"
   ]
  },
  {
   "cell_type": "code",
   "execution_count": 106,
   "id": "572a566c",
   "metadata": {},
   "outputs": [
    {
     "name": "stdout",
     "output_type": "stream",
     "text": [
      "[90  9 55 55 92]\n"
     ]
    }
   ],
   "source": [
    "x=random.randint(100, size=(5))\n",
    "\n",
    "print(x)"
   ]
  },
  {
   "cell_type": "code",
   "execution_count": 107,
   "id": "4b804c85",
   "metadata": {},
   "outputs": [
    {
     "name": "stdout",
     "output_type": "stream",
     "text": [
      "[[30 69 53 94  1]\n",
      " [15 79 36 61 95]\n",
      " [95  0 99 88 18]]\n"
     ]
    }
   ],
   "source": [
    "x = random.randint(100, size=(3, 5))\n",
    "\n",
    "print(x)"
   ]
  },
  {
   "cell_type": "markdown",
   "id": "7daaef42",
   "metadata": {},
   "source": [
    "#### array de floats"
   ]
  },
  {
   "cell_type": "code",
   "execution_count": 1,
   "id": "e68a529f",
   "metadata": {},
   "outputs": [
    {
     "ename": "NameError",
     "evalue": "name 'random' is not defined",
     "output_type": "error",
     "traceback": [
      "\u001b[1;31m---------------------------------------------------------------------------\u001b[0m",
      "\u001b[1;31mNameError\u001b[0m                                 Traceback (most recent call last)",
      "\u001b[1;32m<ipython-input-1-517b1c63315e>\u001b[0m in \u001b[0;36m<module>\u001b[1;34m\u001b[0m\n\u001b[1;32m----> 1\u001b[1;33m \u001b[0mx\u001b[0m \u001b[1;33m=\u001b[0m \u001b[0mrandom\u001b[0m\u001b[1;33m.\u001b[0m\u001b[0mrand\u001b[0m\u001b[1;33m(\u001b[0m\u001b[1;36m5\u001b[0m\u001b[1;33m)\u001b[0m\u001b[1;33m\u001b[0m\u001b[1;33m\u001b[0m\u001b[0m\n\u001b[0m\u001b[0;32m      2\u001b[0m \u001b[1;33m\u001b[0m\u001b[0m\n\u001b[0;32m      3\u001b[0m \u001b[0mprint\u001b[0m\u001b[1;33m(\u001b[0m\u001b[0mx\u001b[0m\u001b[1;33m)\u001b[0m\u001b[1;33m\u001b[0m\u001b[1;33m\u001b[0m\u001b[0m\n",
      "\u001b[1;31mNameError\u001b[0m: name 'random' is not defined"
     ]
    }
   ],
   "source": [
    "x = random.rand(5)\n",
    "\n",
    "print(x)"
   ]
  },
  {
   "cell_type": "code",
   "execution_count": 111,
   "id": "0664c5ff",
   "metadata": {},
   "outputs": [
    {
     "name": "stdout",
     "output_type": "stream",
     "text": [
      "[[0.10755153 0.31564487 0.08117241 0.93645541 0.22786619]\n",
      " [0.77599684 0.09918037 0.26353263 0.37327693 0.00940281]\n",
      " [0.60188377 0.41256062 0.93095477 0.52807902 0.45449963]]\n"
     ]
    }
   ],
   "source": [
    "x = random.rand(3, 5)\n",
    "\n",
    "print(x)"
   ]
  },
  {
   "cell_type": "markdown",
   "id": "5ddb685b",
   "metadata": {},
   "source": [
    "### Gerar um número de um array\n",
    "#### choice()\n",
    "Gerar um valor aleatório baseado dos valores de um array, retornando um dos seus valores"
   ]
  },
  {
   "cell_type": "code",
   "execution_count": 112,
   "id": "49bcafae",
   "metadata": {},
   "outputs": [
    {
     "name": "stdout",
     "output_type": "stream",
     "text": [
      "5\n"
     ]
    }
   ],
   "source": [
    "x = random.choice([3, 5, 7, 9])\n",
    "\n",
    "print(x)"
   ]
  },
  {
   "cell_type": "markdown",
   "id": "753d2fcc",
   "metadata": {},
   "source": [
    "que podemos usar o **size** para dar a forma"
   ]
  },
  {
   "cell_type": "code",
   "execution_count": 113,
   "id": "b8f889fc",
   "metadata": {},
   "outputs": [
    {
     "name": "stdout",
     "output_type": "stream",
     "text": [
      "[[3 5 5 5 3]\n",
      " [3 9 3 7 3]\n",
      " [7 3 5 3 7]]\n"
     ]
    }
   ],
   "source": [
    "x = random.choice([3, 5, 7, 9], size=(3, 5))\n",
    "\n",
    "print(x)"
   ]
  },
  {
   "cell_type": "markdown",
   "id": "25178209",
   "metadata": {},
   "source": [
    "## Distribuição aleatória\n",
    "\n",
    "Podemos criar uma distribuição aleatória \"discreta\" especificando os valores possiveis e as probabilidades de cada elemento, também pode passar size para especificar a forma.\n",
    "\n",
    "A soma de todas as probabilidades devem dar 1"
   ]
  },
  {
   "cell_type": "code",
   "execution_count": 117,
   "id": "1f6b3b56",
   "metadata": {},
   "outputs": [
    {
     "name": "stdout",
     "output_type": "stream",
     "text": [
      "[[5 5 7 5 5 7 7 7 7 7]\n",
      " [7 3 7 7 7 5 7 5 7 3]\n",
      " [7 7 5 5 7 7 7 5 7 5]\n",
      " [5 3 7 3 7 3 7 7 3 5]\n",
      " [7 7 7 7 7 7 7 5 7 5]\n",
      " [7 7 5 3 3 7 5 7 7 5]\n",
      " [7 7 7 7 7 3 7 5 7 5]\n",
      " [7 3 3 7 3 5 7 3 7 7]\n",
      " [7 7 7 7 7 7 3 7 7 7]\n",
      " [3 7 7 5 7 5 7 7 7 7]]\n"
     ]
    }
   ],
   "source": [
    "x = random.choice([3, 5, 7, 9], p=[0.1, 0.3, 0.6, 0.0], size=(10, 10))\n",
    "\n",
    "print(x)"
   ]
  },
  {
   "cell_type": "markdown",
   "id": "259836f9",
   "metadata": {},
   "source": [
    "## Permutação de aleatória\n",
    "Para permutar um array, existem 2 métodos para isso: **shuffle()** e **permutation()**. A diferença entre ambos é que o primeiro faz a alteração no próprio array, enquanto o segundo retorna a permutação e deixa o array original inalterada"
   ]
  },
  {
   "cell_type": "code",
   "execution_count": 118,
   "id": "19855f8a",
   "metadata": {},
   "outputs": [
    {
     "name": "stdout",
     "output_type": "stream",
     "text": [
      "[2 1 3 4 5]\n"
     ]
    }
   ],
   "source": [
    "arr = np.array([1, 2, 3, 4, 5])\n",
    "\n",
    "random.shuffle(arr)\n",
    "\n",
    "print(arr)"
   ]
  },
  {
   "cell_type": "code",
   "execution_count": 121,
   "id": "b0d7c044",
   "metadata": {},
   "outputs": [
    {
     "name": "stdout",
     "output_type": "stream",
     "text": [
      "[1 2 3 4 5]\n",
      "[3 4 5 1 2]\n"
     ]
    }
   ],
   "source": [
    "arr = np.array([1, 2, 3, 4, 5])\n",
    "\n",
    "newarr = random.permutation(arr)\n",
    "\n",
    "print(arr)\n",
    "print(newarr)"
   ]
  },
  {
   "cell_type": "code",
   "execution_count": 124,
   "id": "b02eea6d",
   "metadata": {},
   "outputs": [
    {
     "name": "stdout",
     "output_type": "stream",
     "text": [
      "[[ 0 90 58 26 70]\n",
      " [99 57 75 82 32]\n",
      " [60 15 59 50 90]] \n",
      "\n",
      "[[60 15 59 50 90]\n",
      " [99 57 75 82 32]\n",
      " [ 0 90 58 26 70]]\n"
     ]
    }
   ],
   "source": [
    "x = random.randint(100, size=(3, 5))\n",
    "\n",
    "print(x, \"\\n\")\n",
    "\n",
    "random.shuffle(x)\n",
    "\n",
    "print(x)"
   ]
  },
  {
   "cell_type": "markdown",
   "id": "50bf8151",
   "metadata": {},
   "source": [
    "## Visualizando distribuições com Seaborn\n",
    "A biblioteca Seaborn usa Matplotlib internamente para plotar os gráficos. Isso será usado para visualizar as distribuições aleatórias\n",
    "\n",
    "### Instalando SeaBorn\n",
    "pip install seaborn\n",
    "\n",
    "### Importando"
   ]
  },
  {
   "cell_type": "code",
   "execution_count": 129,
   "id": "bdf6a4ff",
   "metadata": {},
   "outputs": [],
   "source": [
    "import matplotlib.pyplot as plt\n",
    "import seaborn as sns"
   ]
  },
  {
   "cell_type": "markdown",
   "id": "57ba793e",
   "metadata": {},
   "source": [
    "## Distplots\n",
    "Distplots serve para mostrar uma distruição, tem como entrda um array e plota uma curva correspodente a distribuição dos pontos do array"
   ]
  },
  {
   "cell_type": "code",
   "execution_count": 130,
   "id": "a098c32e",
   "metadata": {},
   "outputs": [
    {
     "name": "stderr",
     "output_type": "stream",
     "text": [
      "c:\\users\\mello\\appdata\\local\\programs\\python\\python39\\lib\\site-packages\\seaborn\\distributions.py:2557: FutureWarning: `distplot` is a deprecated function and will be removed in a future version. Please adapt your code to use either `displot` (a figure-level function with similar flexibility) or `histplot` (an axes-level function for histograms).\n",
      "  warnings.warn(msg, FutureWarning)\n"
     ]
    },
    {
     "data": {
      "image/png": "[encoded data removed]",
      "text/plain": [
       "<Figure size 432x288 with 1 Axes>"
      ]
     },
     "metadata": {
      "needs_background": "light"
     },
     "output_type": "display_data"
    }
   ],
   "source": [
    "sns.distplot([0, 1, 2, 3, 4, 5])\n",
    "\n",
    "plt.show()"
   ]
  },
  {
   "cell_type": "markdown",
   "id": "63e8ac50",
   "metadata": {},
   "source": [
    "### Displot sem histograma\n",
    "Podemos passar o parâmetro hist com um booleano para ativar ou desativar um histograma"
   ]
  },
  {
   "cell_type": "code",
   "execution_count": 131,
   "id": "209055d1",
   "metadata": {},
   "outputs": [
    {
     "name": "stderr",
     "output_type": "stream",
     "text": [
      "c:\\users\\mello\\appdata\\local\\programs\\python\\python39\\lib\\site-packages\\seaborn\\distributions.py:2557: FutureWarning: `distplot` is a deprecated function and will be removed in a future version. Please adapt your code to use either `displot` (a figure-level function with similar flexibility) or `kdeplot` (an axes-level function for kernel density plots).\n",
      "  warnings.warn(msg, FutureWarning)\n"
     ]
    },
    {
     "data": {
      "image/png": "[encoded data removed]",
      "text/plain": [
       "<Figure size 432x288 with 1 Axes>"
      ]
     },
     "metadata": {
      "needs_background": "light"
     },
     "output_type": "display_data"
    }
   ],
   "source": [
    "sns.distplot([0, 1, 2, 3, 4, 5], hist=False)\n",
    "\n",
    "plt.show()"
   ]
  },
  {
   "cell_type": "markdown",
   "id": "9e089330",
   "metadata": {},
   "source": [
    "## distribuição normal\n",
    "usamos **random.normal()** para obter a distruibuição normal, com 3 parâmetros:\n",
    "loc = média\n",
    "scale = desvio padrão\n",
    "size = a forma do array retornado"
   ]
  },
  {
   "cell_type": "code",
   "execution_count": 132,
   "id": "263cdf8b",
   "metadata": {},
   "outputs": [
    {
     "name": "stdout",
     "output_type": "stream",
     "text": [
      "[[-1.38902012 -0.43047759 -1.52504124]\n",
      " [-0.23970174  0.13694856  1.61727306]]\n"
     ]
    }
   ],
   "source": [
    "x = random.normal(size=(2, 3))\n",
    "\n",
    "print(x)"
   ]
  },
  {
   "cell_type": "code",
   "execution_count": 133,
   "id": "59058165",
   "metadata": {},
   "outputs": [
    {
     "name": "stdout",
     "output_type": "stream",
     "text": [
      "[[-1.5607664  -1.03057727  5.90963575]\n",
      " [ 3.65876495 -2.55013177  1.69929078]]\n"
     ]
    }
   ],
   "source": [
    "x = random.normal(loc=1, scale=2, size=(2, 3))\n",
    "\n",
    "print(x)"
   ]
  },
  {
   "cell_type": "code",
   "execution_count": 134,
   "id": "1784643d",
   "metadata": {},
   "outputs": [
    {
     "name": "stderr",
     "output_type": "stream",
     "text": [
      "c:\\users\\mello\\appdata\\local\\programs\\python\\python39\\lib\\site-packages\\seaborn\\distributions.py:2557: FutureWarning: `distplot` is a deprecated function and will be removed in a future version. Please adapt your code to use either `displot` (a figure-level function with similar flexibility) or `kdeplot` (an axes-level function for kernel density plots).\n",
      "  warnings.warn(msg, FutureWarning)\n"
     ]
    },
    {
     "data": {
      "image/png": "[encoded data removed]",
      "text/plain": [
       "<Figure size 432x288 with 1 Axes>"
      ]
     },
     "metadata": {
      "needs_background": "light"
     },
     "output_type": "display_data"
    }
   ],
   "source": [
    "sns.distplot(random.normal(size=1000), hist=False)\n",
    "\n",
    "plt.show()"
   ]
  },
  {
   "cell_type": "markdown",
   "id": "4e2c1ea0",
   "metadata": {},
   "source": [
    "### Distribuição binomal\n",
    "**random.binomial()**\n",
    "\n",
    "que tem 3 parâmetros:\n",
    "\n",
    "n - número de tentativas\n",
    "\n",
    "p - prababilidade de sucesso em cada tentativa\n",
    "\n",
    "size - a forma do array retornado"
   ]
  },
  {
   "cell_type": "code",
   "execution_count": 135,
   "id": "4e85b98c",
   "metadata": {},
   "outputs": [
    {
     "name": "stdout",
     "output_type": "stream",
     "text": [
      "[5 9 9 6 7 4 4 6 8 3]\n"
     ]
    }
   ],
   "source": [
    "x = random.binomial(n=10, p=0.5, size=10)\n",
    "\n",
    "print(x)"
   ]
  },
  {
   "cell_type": "code",
   "execution_count": 136,
   "id": "aff234c7",
   "metadata": {},
   "outputs": [
    {
     "name": "stderr",
     "output_type": "stream",
     "text": [
      "c:\\users\\mello\\appdata\\local\\programs\\python\\python39\\lib\\site-packages\\seaborn\\distributions.py:2557: FutureWarning: `distplot` is a deprecated function and will be removed in a future version. Please adapt your code to use either `displot` (a figure-level function with similar flexibility) or `histplot` (an axes-level function for histograms).\n",
      "  warnings.warn(msg, FutureWarning)\n"
     ]
    },
    {
     "data": {
      "image/png": "[encoded data removed]",
      "text/plain": [
       "<Figure size 432x288 with 1 Axes>"
      ]
     },
     "metadata": {
      "needs_background": "light"
     },
     "output_type": "display_data"
    }
   ],
   "source": [
    "sns.distplot(random.binomial(n=10, p=0.5, size=1000), hist=True, kde=False)\n",
    "\n",
    "plt.show()"
   ]
  },
  {
   "cell_type": "markdown",
   "id": "9c7a3be5",
   "metadata": {},
   "source": [
    "### Distribuição de poisson\n",
    "\n",
    "**random.poisson()**\n",
    "\n",
    "lam - media de ocorrências\n",
    "\n",
    "size - a forma do array retornado"
   ]
  },
  {
   "cell_type": "code",
   "execution_count": 137,
   "id": "b05a3d28",
   "metadata": {},
   "outputs": [
    {
     "name": "stdout",
     "output_type": "stream",
     "text": [
      "[3 3 2 4 1 2 2 3 2 2]\n"
     ]
    }
   ],
   "source": [
    "x = random.poisson(lam=2, size=10)\n",
    "\n",
    "print(x)"
   ]
  },
  {
   "cell_type": "code",
   "execution_count": 138,
   "id": "f4ebdd48",
   "metadata": {},
   "outputs": [
    {
     "data": {
      "image/png": "[encoded data removed]",
      "text/plain": [
       "<Figure size 432x288 with 1 Axes>"
      ]
     },
     "metadata": {
      "needs_background": "light"
     },
     "output_type": "display_data"
    }
   ],
   "source": [
    "sns.distplot(random.poisson(lam=2, size=1000), kde=False)\n",
    "\n",
    "plt.show()"
   ]
  },
  {
   "cell_type": "markdown",
   "id": "3d853a29",
   "metadata": {},
   "source": [
    "### Distribuição uniforme\n",
    "Usado para descrever um evento que cada evento tem igual chanche de ocorrer\n",
    "\n",
    "**random.uniform()**\n",
    "\n",
    "três parâmetros:\n",
    "\n",
    "low - limite inferior - padrão 0.0\n",
    "\n",
    "high - limite superior - padrão 1.0\n",
    "\n",
    "size - você sabe"
   ]
  },
  {
   "cell_type": "code",
   "execution_count": 139,
   "id": "6bd8ddb9",
   "metadata": {},
   "outputs": [
    {
     "name": "stdout",
     "output_type": "stream",
     "text": [
      "[[0.48634729 0.601617   0.40866948]\n",
      " [0.83449783 0.13549127 0.5814932 ]]\n"
     ]
    }
   ],
   "source": [
    "x = random.uniform(size=(2, 3))\n",
    "\n",
    "print(x)"
   ]
  },
  {
   "cell_type": "code",
   "execution_count": 141,
   "id": "bf6ef13a",
   "metadata": {},
   "outputs": [
    {
     "name": "stderr",
     "output_type": "stream",
     "text": [
      "c:\\users\\mello\\appdata\\local\\programs\\python\\python39\\lib\\site-packages\\seaborn\\distributions.py:2557: FutureWarning: `distplot` is a deprecated function and will be removed in a future version. Please adapt your code to use either `displot` (a figure-level function with similar flexibility) or `kdeplot` (an axes-level function for kernel density plots).\n",
      "  warnings.warn(msg, FutureWarning)\n"
     ]
    },
    {
     "data": {
      "image/png": "[encoded data removed]",
      "text/plain": [
       "<Figure size 432x288 with 1 Axes>"
      ]
     },
     "metadata": {
      "needs_background": "light"
     },
     "output_type": "display_data"
    }
   ],
   "source": [
    "sns.distplot(random.uniform(size=1000), hist=False)\n",
    "\n",
    "plt.show()"
   ]
  },
  {
   "cell_type": "markdown",
   "id": "c173c4cf",
   "metadata": {},
   "source": [
    "### Distribuição logistica\n",
    "\n",
    "Serve para descrever crescimento\n",
    "\n",
    "**random.logistic()**\n",
    "\n",
    "loc - média\n",
    "scale - desvio padrão\n",
    "size - você sabe"
   ]
  },
  {
   "cell_type": "code",
   "execution_count": 142,
   "id": "5248e6e0",
   "metadata": {},
   "outputs": [
    {
     "name": "stdout",
     "output_type": "stream",
     "text": [
      "[[-0.59642235  4.90398753  2.33052307]\n",
      " [ 4.7987679   1.25203883  0.40427102]]\n"
     ]
    }
   ],
   "source": [
    "x = random.logistic(loc=1, scale=2, size=(2, 3))\n",
    "\n",
    "print(x)"
   ]
  },
  {
   "cell_type": "code",
   "execution_count": 143,
   "id": "a15c3aff",
   "metadata": {},
   "outputs": [
    {
     "name": "stderr",
     "output_type": "stream",
     "text": [
      "c:\\users\\mello\\appdata\\local\\programs\\python\\python39\\lib\\site-packages\\seaborn\\distributions.py:2557: FutureWarning: `distplot` is a deprecated function and will be removed in a future version. Please adapt your code to use either `displot` (a figure-level function with similar flexibility) or `kdeplot` (an axes-level function for kernel density plots).\n",
      "  warnings.warn(msg, FutureWarning)\n"
     ]
    },
    {
     "data": {
      "image/png": "[encoded data removed]",
      "text/plain": [
       "<Figure size 432x288 with 1 Axes>"
      ]
     },
     "metadata": {
      "needs_background": "light"
     },
     "output_type": "display_data"
    }
   ],
   "source": [
    "sns.distplot(random.logistic(size=1000), hist=False)\n",
    "\n",
    "plt.show()"
   ]
  },
  {
   "cell_type": "markdown",
   "id": "f2931461",
   "metadata": {},
   "source": [
    "### distribuição multinomial\n",
    "\n",
    "é uma generalização da distribuição binomial. Serve para vários cenários além dos binários, por exemplo, o tipo de sangue da população ou resultados de um dado.\n",
    "\n",
    "**random.multinomial()**\n",
    "\n",
    "n - número de possíveis resultados\n",
    "\n",
    "pvals - list de probabilidades para os resultados\n",
    "\n",
    "size - você sabe\n",
    "\n",
    "Ele vai retornar um valor para cada pval"
   ]
  },
  {
   "cell_type": "code",
   "execution_count": 161,
   "id": "38e64024",
   "metadata": {},
   "outputs": [
    {
     "name": "stdout",
     "output_type": "stream",
     "text": [
      "[3 1 1 1 0 0]\n"
     ]
    }
   ],
   "source": [
    "x = random.multinomial(n=6, pvals=[1/6, 1/6, 1/6, 1/6, 1/6, 1/6])\n",
    "\n",
    "print(x)"
   ]
  },
  {
   "cell_type": "markdown",
   "id": "bbacf81b",
   "metadata": {},
   "source": [
    "### Distribuição exponencial\n",
    "\n",
    "random.exponential()\n",
    "\n",
    "scale  - inverso da taxa (rate)\n",
    "\n",
    "size - você sabe"
   ]
  },
  {
   "cell_type": "code",
   "execution_count": 162,
   "id": "241d8ac5",
   "metadata": {},
   "outputs": [
    {
     "name": "stdout",
     "output_type": "stream",
     "text": [
      "[[1.41774364 3.56887248 0.4303832 ]\n",
      " [1.27799803 0.40298245 4.69824448]]\n"
     ]
    }
   ],
   "source": [
    "x = random.exponential(scale=2, size=(2, 3))\n",
    "\n",
    "print(x)"
   ]
  },
  {
   "cell_type": "code",
   "execution_count": 163,
   "id": "5a28a36b",
   "metadata": {},
   "outputs": [
    {
     "name": "stderr",
     "output_type": "stream",
     "text": [
      "c:\\users\\mello\\appdata\\local\\programs\\python\\python39\\lib\\site-packages\\seaborn\\distributions.py:2557: FutureWarning: `distplot` is a deprecated function and will be removed in a future version. Please adapt your code to use either `displot` (a figure-level function with similar flexibility) or `kdeplot` (an axes-level function for kernel density plots).\n",
      "  warnings.warn(msg, FutureWarning)\n"
     ]
    },
    {
     "data": {
      "image/png": "[encoded data removed]",
      "text/plain": [
       "<Figure size 432x288 with 1 Axes>"
      ]
     },
     "metadata": {
      "needs_background": "light"
     },
     "output_type": "display_data"
    }
   ],
   "source": [
    "sns.distplot(random.exponential(size=1000), hist=False)\n",
    "\n",
    "plt.show()"
   ]
  },
  {
   "cell_type": "markdown",
   "id": "083baa21",
   "metadata": {},
   "source": [
    "## Distribuição Qui-quadrado\n",
    "\n",
    "**random.chisquare()**\n",
    "\n",
    "df - grau de liberdade\n",
    "\n",
    "size - você sabe"
   ]
  },
  {
   "cell_type": "code",
   "execution_count": 164,
   "id": "3068f787",
   "metadata": {},
   "outputs": [
    {
     "name": "stdout",
     "output_type": "stream",
     "text": [
      "[[3.07144768 0.97891274 7.05206043]\n",
      " [1.25762799 3.02351804 1.89843669]]\n"
     ]
    }
   ],
   "source": [
    "x = random.chisquare(df=2, size=(2, 3))\n",
    "\n",
    "print(x)"
   ]
  },
  {
   "cell_type": "code",
   "execution_count": 165,
   "id": "f7ccc05a",
   "metadata": {},
   "outputs": [
    {
     "name": "stderr",
     "output_type": "stream",
     "text": [
      "c:\\users\\mello\\appdata\\local\\programs\\python\\python39\\lib\\site-packages\\seaborn\\distributions.py:2557: FutureWarning: `distplot` is a deprecated function and will be removed in a future version. Please adapt your code to use either `displot` (a figure-level function with similar flexibility) or `kdeplot` (an axes-level function for kernel density plots).\n",
      "  warnings.warn(msg, FutureWarning)\n"
     ]
    },
    {
     "data": {
      "image/png": "[encoded data removed]",
      "text/plain": [
       "<Figure size 432x288 with 1 Axes>"
      ]
     },
     "metadata": {
      "needs_background": "light"
     },
     "output_type": "display_data"
    }
   ],
   "source": [
    "sns.distplot(random.chisquare(df=1, size=1000), hist=False)\n",
    "\n",
    "plt.show()"
   ]
  },
  {
   "cell_type": "markdown",
   "id": "3f0e7c9c",
   "metadata": {},
   "source": [
    "## Distribuição de Rayleigh\n",
    "\n",
    "**random.rayleigh()**\n",
    "\n",
    "scale - desvio padrão\n",
    "\n",
    "size - você sabe"
   ]
  },
  {
   "cell_type": "code",
   "execution_count": 166,
   "id": "0af9e555",
   "metadata": {},
   "outputs": [
    {
     "name": "stdout",
     "output_type": "stream",
     "text": [
      "[[3.28467141 0.32052291 3.92138077]\n",
      " [2.74913097 3.39866824 3.00176346]]\n"
     ]
    }
   ],
   "source": [
    "x = random.rayleigh(scale=2, size=(2, 3))\n",
    "\n",
    "print(x)"
   ]
  },
  {
   "cell_type": "code",
   "execution_count": 167,
   "id": "7255408a",
   "metadata": {},
   "outputs": [
    {
     "name": "stderr",
     "output_type": "stream",
     "text": [
      "c:\\users\\mello\\appdata\\local\\programs\\python\\python39\\lib\\site-packages\\seaborn\\distributions.py:2557: FutureWarning: `distplot` is a deprecated function and will be removed in a future version. Please adapt your code to use either `displot` (a figure-level function with similar flexibility) or `kdeplot` (an axes-level function for kernel density plots).\n",
      "  warnings.warn(msg, FutureWarning)\n"
     ]
    },
    {
     "data": {
      "image/png": "[encoded data removed]",
      "text/plain": [
       "<Figure size 432x288 with 1 Axes>"
      ]
     },
     "metadata": {
      "needs_background": "light"
     },
     "output_type": "display_data"
    }
   ],
   "source": [
    "sns.distplot(random.rayleigh(size=1000), hist=False)\n",
    "\n",
    "plt.show()"
   ]
  },
  {
   "cell_type": "markdown",
   "id": "ccb32274",
   "metadata": {},
   "source": [
    "### Distribuição de Pareto\n",
    "\n",
    "a - forma\n",
    "\n",
    "size - você sabe"
   ]
  },
  {
   "cell_type": "code",
   "execution_count": 168,
   "id": "92a5261d",
   "metadata": {},
   "outputs": [
    {
     "name": "stderr",
     "output_type": "stream",
     "text": [
      "c:\\users\\mello\\appdata\\local\\programs\\python\\python39\\lib\\site-packages\\seaborn\\distributions.py:2557: FutureWarning: `distplot` is a deprecated function and will be removed in a future version. Please adapt your code to use either `displot` (a figure-level function with similar flexibility) or `histplot` (an axes-level function for histograms).\n",
      "  warnings.warn(msg, FutureWarning)\n"
     ]
    },
    {
     "data": {
      "image/png": "[encoded data removed]",
      "text/plain": [
       "<Figure size 432x288 with 1 Axes>"
      ]
     },
     "metadata": {
      "needs_background": "light"
     },
     "output_type": "display_data"
    }
   ],
   "source": [
    "from numpy import random\n",
    "import matplotlib.pyplot as plt\n",
    "import seaborn as sns\n",
    "\n",
    "sns.distplot(random.pareto(a=2, size=1000), kde=False)\n",
    "\n",
    "plt.show()"
   ]
  },
  {
   "cell_type": "markdown",
   "id": "09f57e29",
   "metadata": {},
   "source": [
    "### Distribuição de Zipf's\n",
    "\n",
    "**random.zipf()**\n",
    "\n",
    "a - distribuição\n",
    "\n",
    "size - você sabe"
   ]
  },
  {
   "cell_type": "code",
   "execution_count": 169,
   "id": "ec0ac79f",
   "metadata": {},
   "outputs": [
    {
     "name": "stdout",
     "output_type": "stream",
     "text": [
      "[[1 4 1]\n",
      " [6 3 2]]\n"
     ]
    }
   ],
   "source": [
    "x = random.zipf(a=2, size=(2, 3))\n",
    "\n",
    "print(x)"
   ]
  },
  {
   "cell_type": "code",
   "execution_count": 170,
   "id": "95b30d99",
   "metadata": {},
   "outputs": [
    {
     "data": {
      "image/png": "[encoded data removed]",
      "text/plain": [
       "<Figure size 432x288 with 1 Axes>"
      ]
     },
     "metadata": {
      "needs_background": "light"
     },
     "output_type": "display_data"
    }
   ],
   "source": [
    "x = random.zipf(a=2, size=1000)\n",
    "sns.distplot(x[x<10], kde=False)\n",
    "\n",
    "plt.show()"
   ]
  },
  {
   "cell_type": "markdown",
   "id": "7aed3d92",
   "metadata": {},
   "source": [
    "## ufuncs\n",
    "ufuncs é uma abreviação para \"funções universais\" e opera sobre ndarray\n",
    "\n",
    "ele usa o vetorização, que é muito mais rápido que iteração\n",
    "\n",
    "Eles podem fazer coisas como reduce, acumulador, etc\n",
    "\n",
    "Existem os seguintes parâmetros:\n",
    "\n",
    "where - array de booleano (para filtrar)\n",
    "dtype - define o tipo de elementos ao array a ser retornado\n",
    "out - o array onde o valor retornado deve ser copiado"
   ]
  },
  {
   "cell_type": "markdown",
   "id": "f4a6c1cb",
   "metadata": {},
   "source": [
    "### Criando suas próprias ufunc\n",
    "Podemos criar ele usando a função frompyfunc(), com 3 parâmetros\n",
    "\n",
    "function - o nome da função\n",
    "inputs - número de argumentos\n",
    "output - número de arrays de saída"
   ]
  },
  {
   "cell_type": "code",
   "execution_count": 174,
   "id": "c40bef2b",
   "metadata": {},
   "outputs": [
    {
     "name": "stdout",
     "output_type": "stream",
     "text": [
      "[6 8 10 12]\n"
     ]
    }
   ],
   "source": [
    "myadd = np.frompyfunc(lambda x, y: x+y, 2, 1)\n",
    "\n",
    "print(myadd([1, 2, 3, 4], [5, 6, 7, 8]))"
   ]
  },
  {
   "cell_type": "markdown",
   "id": "0901b531",
   "metadata": {},
   "source": [
    "#### Checar se uma função é ufunc"
   ]
  },
  {
   "cell_type": "code",
   "execution_count": 175,
   "id": "a8dd1530",
   "metadata": {},
   "outputs": [
    {
     "name": "stdout",
     "output_type": "stream",
     "text": [
      "<class 'numpy.ufunc'>\n"
     ]
    }
   ],
   "source": [
    "print(type(np.add))"
   ]
  },
  {
   "cell_type": "markdown",
   "id": "0be2c4a9",
   "metadata": {},
   "source": [
    "Se não é um ufunc, ele retorna um outro tipo"
   ]
  },
  {
   "cell_type": "code",
   "execution_count": 176,
   "id": "6b6936da",
   "metadata": {},
   "outputs": [
    {
     "name": "stdout",
     "output_type": "stream",
     "text": [
      "<class 'function'>\n"
     ]
    }
   ],
   "source": [
    "print(type(np.concatenate))"
   ]
  },
  {
   "cell_type": "markdown",
   "id": "39936ecc",
   "metadata": {},
   "source": [
    "## Aritmética simples\n",
    "Podemos calcular + - * / diferemente em arrays do Numpy, mas podemos fazer com qualquer objeto do tipo array (lista, tuplas, etc) e ainda colocar uma condição"
   ]
  },
  {
   "cell_type": "markdown",
   "id": "16985503",
   "metadata": {},
   "source": [
    "### Soma\n",
    "**add()**\n",
    "Para fazer a soma de 2 arrays"
   ]
  },
  {
   "cell_type": "code",
   "execution_count": 171,
   "id": "4b2abbb2",
   "metadata": {},
   "outputs": [
    {
     "name": "stdout",
     "output_type": "stream",
     "text": [
      "[ 5  7  9 11]\n"
     ]
    }
   ],
   "source": [
    "x = [1, 2, 3, 4]\n",
    "y = [4, 5, 6, 7]\n",
    "z = np.add(x, y)\n",
    "\n",
    "print(z)"
   ]
  },
  {
   "cell_type": "markdown",
   "id": "6678ebd9",
   "metadata": {},
   "source": [
    "### Subtração\n",
    "**subtract()**\n",
    "Para fazer a subtração de 2 arrays"
   ]
  },
  {
   "cell_type": "code",
   "execution_count": 3,
   "id": "1b64f6c9",
   "metadata": {},
   "outputs": [
    {
     "name": "stdout",
     "output_type": "stream",
     "text": [
      "[-10  -1   8  17  26  35]\n"
     ]
    }
   ],
   "source": [
    "arr1 = np.array([10, 20, 30, 40, 50, 60])\n",
    "arr2 = np.array([20, 21, 22, 23, 24, 25])\n",
    "\n",
    "newarr = np.subtract(arr1, arr2)\n",
    "\n",
    "print(newarr)"
   ]
  },
  {
   "cell_type": "markdown",
   "id": "422487cf",
   "metadata": {},
   "source": [
    "### Multiplicação\n",
    "**multiply()**\n",
    "\n",
    "Para multiplicar entre 2 arrays"
   ]
  },
  {
   "cell_type": "code",
   "execution_count": 4,
   "id": "37cbb7a5",
   "metadata": {},
   "outputs": [
    {
     "name": "stdout",
     "output_type": "stream",
     "text": [
      "[ 200  420  660  920 1200 1500]\n"
     ]
    }
   ],
   "source": [
    "arr1 = np.array([10, 20, 30, 40, 50, 60])\n",
    "arr2 = np.array([20, 21, 22, 23, 24, 25])\n",
    "\n",
    "newarr = np.multiply(arr1, arr2)\n",
    "\n",
    "print(newarr)"
   ]
  },
  {
   "cell_type": "markdown",
   "id": "8851d47c",
   "metadata": {},
   "source": [
    "### Divisão\n",
    "**divide()**\n",
    "\n",
    "Para dividir entre 2 arrays"
   ]
  },
  {
   "cell_type": "code",
   "execution_count": 6,
   "id": "dde916e1",
   "metadata": {},
   "outputs": [
    {
     "name": "stdout",
     "output_type": "stream",
     "text": [
      "[ 3.33333333  4.          3.          5.         25.          1.81818182]\n"
     ]
    }
   ],
   "source": [
    "arr1 = np.array([10, 20, 30, 40, 50, 60])\n",
    "arr2 = np.array([3, 5, 10, 8, 2, 33])\n",
    "\n",
    "newarr = np.divide(arr1, arr2)\n",
    "\n",
    "print(newarr)"
   ]
  },
  {
   "cell_type": "markdown",
   "id": "658dcd55",
   "metadata": {},
   "source": [
    "### Potência\n",
    "**power()**\n",
    "\n",
    "Para fazer a potência entre 2 arrays"
   ]
  },
  {
   "cell_type": "code",
   "execution_count": 7,
   "id": "fe5f046b",
   "metadata": {},
   "outputs": [
    {
     "name": "stdout",
     "output_type": "stream",
     "text": [
      "[      1000    3200000  729000000 -520093696       2500          0]\n"
     ]
    }
   ],
   "source": [
    "arr1 = np.array([10, 20, 30, 40, 50, 60])\n",
    "arr2 = np.array([3, 5, 6, 8, 2, 33])\n",
    "\n",
    "newarr = np.power(arr1, arr2)\n",
    "\n",
    "print(newarr)"
   ]
  },
  {
   "cell_type": "markdown",
   "id": "f4511689",
   "metadata": {},
   "source": [
    "### Resto\n",
    "**mod()**\n",
    "\n",
    "**remainder()**\n",
    "\n",
    "que retorna o vlor das divisões entre o primeiro array e o segundo"
   ]
  },
  {
   "cell_type": "code",
   "execution_count": 8,
   "id": "ba3338cf",
   "metadata": {},
   "outputs": [
    {
     "name": "stdout",
     "output_type": "stream",
     "text": [
      "[ 1  6  3  0  0 27]\n"
     ]
    }
   ],
   "source": [
    "arr1 = np.array([10, 20, 30, 40, 50, 60])\n",
    "arr2 = np.array([3, 7, 9, 8, 2, 33])\n",
    "\n",
    "newarr = np.mod(arr1, arr2)\n",
    "\n",
    "print(newarr)"
   ]
  },
  {
   "cell_type": "markdown",
   "id": "9984fd9f",
   "metadata": {},
   "source": [
    "### Divisão e resto\n",
    "Podemos obter tanto o quociente, quanto o resto das divisões usando **divmod()**"
   ]
  },
  {
   "cell_type": "code",
   "execution_count": 9,
   "id": "31ac447d",
   "metadata": {},
   "outputs": [
    {
     "name": "stdout",
     "output_type": "stream",
     "text": [
      "(array([ 3,  2,  3,  5, 25,  1], dtype=int32), array([ 1,  6,  3,  0,  0, 27], dtype=int32))\n"
     ]
    }
   ],
   "source": [
    "arr1 = np.array([10, 20, 30, 40, 50, 60])\n",
    "arr2 = np.array([3, 7, 9, 8, 2, 33])\n",
    "\n",
    "newarr = np.divmod(arr1, arr2)\n",
    "\n",
    "print(newarr)"
   ]
  },
  {
   "cell_type": "markdown",
   "id": "31404a5f",
   "metadata": {},
   "source": [
    "### Valores absolutas\n",
    "\n",
    "**absolute()**\n",
    "\n",
    "**abs()**\n",
    "\n",
    "São funções que obtem os valores absolutos do array, porém o ideal é sempre usar o absolute(), pois abs() podemos confudir com math.abs()."
   ]
  },
  {
   "cell_type": "code",
   "execution_count": 10,
   "id": "1781b8e1",
   "metadata": {},
   "outputs": [
    {
     "name": "stdout",
     "output_type": "stream",
     "text": [
      "[1 2 1 2 3 4]\n"
     ]
    }
   ],
   "source": [
    "arr = np.array([-1, -2, 1, 2, 3, -4])\n",
    "\n",
    "newarr = np.absolute(arr)\n",
    "\n",
    "print(newarr)"
   ]
  },
  {
   "cell_type": "markdown",
   "id": "e5501ac3",
   "metadata": {},
   "source": [
    "## Arredondando valores\n",
    "Podemos arrendondar os valores com 5 funções:\n",
    "\n",
    "truncate, fix, rouding, floor, ceil"
   ]
  },
  {
   "cell_type": "markdown",
   "id": "eb58c520",
   "metadata": {},
   "source": [
    "### Truncar\n",
    "\n",
    "**truc()**\n",
    "\n",
    "\n",
    "**fix()**\n",
    "\n",
    "para remover o decimais e retornar o número float mais próximo de float"
   ]
  },
  {
   "cell_type": "code",
   "execution_count": 11,
   "id": "a55f309b",
   "metadata": {},
   "outputs": [
    {
     "name": "stdout",
     "output_type": "stream",
     "text": [
      "[-3.  3.]\n"
     ]
    }
   ],
   "source": [
    "arr = np.trunc([-3.1666, 3.6667])\n",
    "\n",
    "print(arr)"
   ]
  },
  {
   "cell_type": "code",
   "execution_count": 12,
   "id": "ab269eca",
   "metadata": {},
   "outputs": [
    {
     "name": "stdout",
     "output_type": "stream",
     "text": [
      "[-3.  3.]\n"
     ]
    }
   ],
   "source": [
    "arr = np.fix([-3.1666, 3.6667])\n",
    "\n",
    "print(arr)"
   ]
  },
  {
   "cell_type": "markdown",
   "id": "41a3dfb1",
   "metadata": {},
   "source": [
    "### Arrendondar\n",
    "Podemos usar o **around()** para retornar o teto se a parte fracionária é maior que 0.5, ou caso contrário, retorna o chão"
   ]
  },
  {
   "cell_type": "code",
   "execution_count": 13,
   "id": "1f73d6e0",
   "metadata": {},
   "outputs": [
    {
     "name": "stdout",
     "output_type": "stream",
     "text": [
      "3.17\n"
     ]
    }
   ],
   "source": [
    "import numpy as np\n",
    "\n",
    "arr = np.around(3.1666, 2)\n",
    "\n",
    "print(arr)"
   ]
  },
  {
   "cell_type": "markdown",
   "id": "8886bec9",
   "metadata": {},
   "source": [
    "### Piso\n",
    "Podemos arrendondar para baixo para inteiro"
   ]
  },
  {
   "cell_type": "code",
   "execution_count": 14,
   "id": "dedfa274",
   "metadata": {},
   "outputs": [
    {
     "name": "stdout",
     "output_type": "stream",
     "text": [
      "[-4.  3.]\n"
     ]
    }
   ],
   "source": [
    "arr = np.floor([-3.1666, 3.6667])\n",
    "\n",
    "print(arr)"
   ]
  },
  {
   "cell_type": "markdown",
   "id": "4e2d80a5",
   "metadata": {},
   "source": [
    "### Teto\n",
    "Podemos usar a função **ceil()**"
   ]
  },
  {
   "cell_type": "code",
   "execution_count": 15,
   "id": "4b48d1d5",
   "metadata": {},
   "outputs": [
    {
     "name": "stdout",
     "output_type": "stream",
     "text": [
      "[-3.  4.]\n"
     ]
    }
   ],
   "source": [
    "arr = np.ceil([-3.1666, 3.6667])\n",
    "\n",
    "print(arr)"
   ]
  },
  {
   "cell_type": "markdown",
   "id": "61ab7414",
   "metadata": {},
   "source": [
    "## Logs\n",
    "Podemos aplicar o log em todos os elementos do array, as funções são:\n",
    "\n",
    "**log2()**\n",
    "\n",
    "Log de base 2\n",
    "\n",
    "**log10()**\n",
    "\n",
    "Log de base 10\n",
    "\n",
    "**log()**\n",
    "\n",
    "Logo de base e"
   ]
  },
  {
   "cell_type": "code",
   "execution_count": 16,
   "id": "e9e79579",
   "metadata": {},
   "outputs": [
    {
     "name": "stdout",
     "output_type": "stream",
     "text": [
      "[0.         1.         1.5849625  2.         2.32192809 2.5849625\n",
      " 2.80735492 3.         3.169925  ]\n",
      "[0.         0.30103    0.47712125 0.60205999 0.69897    0.77815125\n",
      " 0.84509804 0.90308999 0.95424251]\n",
      "[0.         0.69314718 1.09861229 1.38629436 1.60943791 1.79175947\n",
      " 1.94591015 2.07944154 2.19722458]\n"
     ]
    }
   ],
   "source": [
    "arr = np.arange(1, 10)\n",
    "\n",
    "print(np.log2(arr))\n",
    "print(np.log10(arr))\n",
    "print(np.log(arr))"
   ]
  },
  {
   "cell_type": "markdown",
   "id": "6a02aa29",
   "metadata": {},
   "source": [
    "### Log de qualquer base\n",
    "Podemos usar uma função de qualquer base usando a função **frompyfunc()**, que é tipo um map.\n",
    "\n",
    "O primeiro parâmetro é uma função (no caso, math.log()), o segundo paâmetro é o número de argumentos e o terceiro o número de saida"
   ]
  },
  {
   "cell_type": "code",
   "execution_count": 18,
   "id": "b9fcaf1a",
   "metadata": {},
   "outputs": [
    {
     "name": "stdout",
     "output_type": "stream",
     "text": [
      "1.7005483074552052\n"
     ]
    }
   ],
   "source": [
    "from math import log\n",
    "\n",
    "nplog = np.frompyfunc(log, 2, 1)\n",
    "\n",
    "print(nplog(100, 15))"
   ]
  },
  {
   "cell_type": "markdown",
   "id": "323d807f",
   "metadata": {},
   "source": [
    "## Somatório\n",
    "Podemos fazer o somatório de todos os elementos usando **sum()**"
   ]
  },
  {
   "cell_type": "code",
   "execution_count": 19,
   "id": "46a41957",
   "metadata": {},
   "outputs": [
    {
     "name": "stdout",
     "output_type": "stream",
     "text": [
      "12\n"
     ]
    }
   ],
   "source": [
    "arr1 = np.array([1, 2, 3])\n",
    "arr2 = np.array([1, 2, 3])\n",
    "\n",
    "newarr = np.sum([arr1, arr2])\n",
    "\n",
    "print(newarr)"
   ]
  },
  {
   "cell_type": "markdown",
   "id": "8a89438e",
   "metadata": {},
   "source": [
    "### Soma ao longo de eixos\n",
    "Podemos especificar o eixo usando o parâmetro axis para somar o número de cada array"
   ]
  },
  {
   "cell_type": "code",
   "execution_count": 20,
   "id": "4e2057cc",
   "metadata": {},
   "outputs": [
    {
     "name": "stdout",
     "output_type": "stream",
     "text": [
      "[6 6]\n"
     ]
    }
   ],
   "source": [
    "arr1 = np.array([1, 2, 3])\n",
    "arr2 = np.array([1, 2, 3])\n",
    "\n",
    "newarr = np.sum([arr1, arr2], axis=1)\n",
    "\n",
    "print(newarr)"
   ]
  },
  {
   "cell_type": "markdown",
   "id": "ac1a7f36",
   "metadata": {},
   "source": [
    "### Somar cumulativos\n",
    "Tipo\n",
    "\n",
    "\\[a, b, c, d\\]\n",
    "\n",
    "podemos fazer\n",
    "\n",
    "\\[a, a + b, a + b + c, a + b + c + d\\]\n",
    "\n",
    "usando a função cumsum()"
   ]
  },
  {
   "cell_type": "code",
   "execution_count": 21,
   "id": "8c40e943",
   "metadata": {},
   "outputs": [
    {
     "name": "stdout",
     "output_type": "stream",
     "text": [
      "[1 3 6]\n"
     ]
    }
   ],
   "source": [
    "arr = np.array([1, 2, 3])\n",
    "\n",
    "newarr = np.cumsum(arr)\n",
    "\n",
    "print(newarr)"
   ]
  },
  {
   "cell_type": "markdown",
   "id": "76c5c0cd",
   "metadata": {},
   "source": [
    "### Produtório\n",
    "Podemos fazer o produtório do array"
   ]
  },
  {
   "cell_type": "code",
   "execution_count": 22,
   "id": "34ec5319",
   "metadata": {},
   "outputs": [
    {
     "name": "stdout",
     "output_type": "stream",
     "text": [
      "24\n"
     ]
    }
   ],
   "source": [
    "arr = np.array([1, 2, 3, 4])\n",
    "\n",
    "x = np.prod(arr)\n",
    "\n",
    "print(x)"
   ]
  },
  {
   "cell_type": "code",
   "execution_count": 23,
   "id": "0dc6ecf1",
   "metadata": {},
   "outputs": [
    {
     "name": "stdout",
     "output_type": "stream",
     "text": [
      "40320\n"
     ]
    }
   ],
   "source": [
    "arr1 = np.array([1, 2, 3, 4])\n",
    "arr2 = np.array([5, 6, 7, 8])\n",
    "\n",
    "x = np.prod([arr1, arr2])\n",
    "\n",
    "print(x)"
   ]
  },
  {
   "cell_type": "markdown",
   "id": "051fdd37",
   "metadata": {},
   "source": [
    "Assim como o somatório, podemos fazer ao longo de um eixo"
   ]
  },
  {
   "cell_type": "code",
   "execution_count": 24,
   "id": "02c72e95",
   "metadata": {},
   "outputs": [
    {
     "name": "stdout",
     "output_type": "stream",
     "text": [
      "[  24 1680]\n"
     ]
    }
   ],
   "source": [
    "arr1 = np.array([1, 2, 3, 4])\n",
    "arr2 = np.array([5, 6, 7, 8])\n",
    "\n",
    "newarr = np.prod([arr1, arr2], axis=1)\n",
    "\n",
    "print(newarr)"
   ]
  },
  {
   "cell_type": "markdown",
   "id": "e711f74b",
   "metadata": {},
   "source": [
    "### Produto acumultivo\n",
    "tipo\n",
    "\n",
    "\\[a, b, c, d\\]\n",
    "fica\n",
    "\n",
    "\\[a, a * b, a * b * c, a * b * c * d\\]\n",
    "\n",
    "usando **cumprod()**"
   ]
  },
  {
   "cell_type": "code",
   "execution_count": 25,
   "id": "269e361b",
   "metadata": {},
   "outputs": [
    {
     "name": "stdout",
     "output_type": "stream",
     "text": [
      "[   5   30  210 1680]\n"
     ]
    }
   ],
   "source": [
    "arr = np.array([5, 6, 7, 8])\n",
    "\n",
    "newarr = np.cumprod(arr)\n",
    "\n",
    "print(newarr)"
   ]
  },
  {
   "cell_type": "markdown",
   "id": "db82cf86",
   "metadata": {},
   "source": [
    "## Diferenças\n",
    "Isso seria subtrair 2 elementos sucessivos\n",
    "\n",
    "por exemplo\n",
    "\n",
    "\\[a, b, c, d\\]\n",
    "\n",
    "ficaria\n",
    "\n",
    "\\[b - a, c - b, d - c\\]\n",
    "\n",
    "usando a função **diff()**"
   ]
  },
  {
   "cell_type": "code",
   "execution_count": 26,
   "id": "374f1f0a",
   "metadata": {},
   "outputs": [
    {
     "name": "stdout",
     "output_type": "stream",
     "text": [
      "[  5  10 -20]\n"
     ]
    }
   ],
   "source": [
    "arr = np.array([10, 15, 25, 5])\n",
    "\n",
    "newarr = np.diff(arr)\n",
    "\n",
    "print(newarr)"
   ]
  },
  {
   "cell_type": "markdown",
   "id": "3ef3a006",
   "metadata": {},
   "source": [
    "Podemos passar o parâmetro n para fazer isso repetidademente n vezes\n",
    "\n",
    "por exemplo, para n = 2\n",
    "\n",
    "\\[a, b, c, d\\]\n",
    "\n",
    "\\[b - a, c - b, d - c\\] (foi 1)\n",
    "\n",
    "\\[c - b - b + a, d - c - c + b\\]\n",
    "\n",
    "\\[a - 2b + c, b - 2c + d\\]"
   ]
  },
  {
   "cell_type": "code",
   "execution_count": 27,
   "id": "78c3874e",
   "metadata": {},
   "outputs": [
    {
     "name": "stdout",
     "output_type": "stream",
     "text": [
      "[  5 -30]\n"
     ]
    }
   ],
   "source": [
    "arr = np.array([10, 15, 25, 5])\n",
    "\n",
    "newarr = np.diff(arr, n=2)\n",
    "\n",
    "print(newarr)"
   ]
  },
  {
   "cell_type": "markdown",
   "id": "9931dac4",
   "metadata": {},
   "source": [
    "## Encontrar o MMC\n",
    "Podemos encontrar o MMC entre 2 números usando **lcm()**"
   ]
  },
  {
   "cell_type": "code",
   "execution_count": 28,
   "id": "97f3b699",
   "metadata": {},
   "outputs": [
    {
     "name": "stdout",
     "output_type": "stream",
     "text": [
      "12\n"
     ]
    }
   ],
   "source": [
    "print(np.lcm(4,6))"
   ]
  },
  {
   "cell_type": "markdown",
   "id": "0bfc865f",
   "metadata": {},
   "source": [
    "### MMC de um array\n",
    "Podemos encontrar o MMC de um array usando a função reduce, que vai usar uma ufunc, no caso, lcm para fazer isso"
   ]
  },
  {
   "cell_type": "code",
   "execution_count": 29,
   "id": "a71d6569",
   "metadata": {},
   "outputs": [
    {
     "name": "stdout",
     "output_type": "stream",
     "text": [
      "18\n"
     ]
    }
   ],
   "source": [
    "arr = np.array([3, 6, 9])\n",
    "\n",
    "x = np.lcm.reduce(arr)\n",
    "\n",
    "print(x)"
   ]
  },
  {
   "cell_type": "code",
   "execution_count": 30,
   "id": "6aae950d",
   "metadata": {},
   "outputs": [
    {
     "name": "stdout",
     "output_type": "stream",
     "text": [
      "2520\n"
     ]
    }
   ],
   "source": [
    "arr = np.arange(1, 11)\n",
    "\n",
    "x = np.lcm.reduce(arr)\n",
    "\n",
    "print(x)"
   ]
  },
  {
   "cell_type": "markdown",
   "id": "ccbdfd4c",
   "metadata": {},
   "source": [
    "### MDC\n",
    "\n",
    "É a mesma coisa, só que com HCF()"
   ]
  },
  {
   "cell_type": "code",
   "execution_count": 31,
   "id": "d5ea41c3",
   "metadata": {},
   "outputs": [
    {
     "name": "stdout",
     "output_type": "stream",
     "text": [
      "3\n"
     ]
    }
   ],
   "source": [
    "num1 = 6\n",
    "num2 = 9\n",
    "\n",
    "x = np.gcd(num1, num2)\n",
    "\n",
    "print(x)"
   ]
  },
  {
   "cell_type": "code",
   "execution_count": 32,
   "id": "ca1fbf55",
   "metadata": {},
   "outputs": [
    {
     "name": "stdout",
     "output_type": "stream",
     "text": [
      "4\n"
     ]
    }
   ],
   "source": [
    "arr = np.array([20, 8, 32, 36, 16])\n",
    "\n",
    "x = np.gcd.reduce(arr)\n",
    "\n",
    "print(x)"
   ]
  },
  {
   "cell_type": "markdown",
   "id": "6ef99945",
   "metadata": {},
   "source": [
    "### Funções trigonométricas\n",
    "Podemos usar as funções **sin()**, **cos()**, **tan()** que aceita os valores em radianos"
   ]
  },
  {
   "cell_type": "code",
   "execution_count": 33,
   "id": "db809331",
   "metadata": {},
   "outputs": [
    {
     "name": "stdout",
     "output_type": "stream",
     "text": [
      "1.0\n"
     ]
    }
   ],
   "source": [
    "x = np.sin(np.pi/2)\n",
    "\n",
    "print(x)"
   ]
  },
  {
   "cell_type": "code",
   "execution_count": 34,
   "id": "c7b07146",
   "metadata": {},
   "outputs": [
    {
     "name": "stdout",
     "output_type": "stream",
     "text": [
      "[1.         0.8660254  0.70710678 0.58778525]\n"
     ]
    }
   ],
   "source": [
    "arr = np.array([np.pi/2, np.pi/3, np.pi/4, np.pi/5])\n",
    "\n",
    "x = np.sin(arr)\n",
    "\n",
    "print(x)"
   ]
  },
  {
   "cell_type": "markdown",
   "id": "0831c9b3",
   "metadata": {},
   "source": [
    "### Converter graus para radianos\n",
    "Podemos usar a função deg2rad() para converter os graus para radiano. Enquanto rad2deg para converter radianos para graus"
   ]
  },
  {
   "cell_type": "code",
   "execution_count": 36,
   "id": "0440a578",
   "metadata": {},
   "outputs": [
    {
     "name": "stdout",
     "output_type": "stream",
     "text": [
      "[1.57079633 3.14159265 4.71238898 6.28318531]\n",
      "[ 90. 180. 270. 360.]\n"
     ]
    }
   ],
   "source": [
    "arr = np.array([90, 180, 270, 360])\n",
    "\n",
    "x = np.deg2rad(arr)\n",
    "\n",
    "print(x)\n",
    "\n",
    "x = np.rad2deg(x)\n",
    "\n",
    "print(x)"
   ]
  },
  {
   "cell_type": "markdown",
   "id": "25aa26a2",
   "metadata": {},
   "source": [
    "### Funções inversas\n",
    "\n",
    "**arcsin()**, **arcos()**, **arctan()**, que aceita radianos e você "
   ]
  },
  {
   "cell_type": "code",
   "execution_count": 37,
   "id": "548c8ee9",
   "metadata": {},
   "outputs": [
    {
     "name": "stdout",
     "output_type": "stream",
     "text": [
      "1.5707963267948966\n"
     ]
    }
   ],
   "source": [
    "import numpy as np\n",
    "\n",
    "x = np.arcsin(1.0)\n",
    "\n",
    "print(x)"
   ]
  },
  {
   "cell_type": "code",
   "execution_count": 38,
   "id": "17d22031",
   "metadata": {},
   "outputs": [
    {
     "name": "stdout",
     "output_type": "stream",
     "text": [
      "[ 1.57079633 -1.57079633  0.10016742]\n"
     ]
    }
   ],
   "source": [
    "arr = np.array([1, -1, 0.1])\n",
    "\n",
    "x = np.arcsin(arr)\n",
    "\n",
    "print(x)"
   ]
  },
  {
   "cell_type": "markdown",
   "id": "14c46785",
   "metadata": {},
   "source": [
    "### Hipotenusa\n",
    "Para calcular a hipotenusa, podemos usar a função **hypot()**, que é recebe os catetos"
   ]
  },
  {
   "cell_type": "code",
   "execution_count": 39,
   "id": "04439e63",
   "metadata": {},
   "outputs": [
    {
     "name": "stdout",
     "output_type": "stream",
     "text": [
      "5.0\n"
     ]
    }
   ],
   "source": [
    "base = 3\n",
    "perp = 4\n",
    "\n",
    "x = np.hypot(base, perp)\n",
    "\n",
    "print(x)"
   ]
  },
  {
   "cell_type": "markdown",
   "id": "a198e7fc",
   "metadata": {},
   "source": [
    "### Funções hiperbolicas\n",
    "Podemos usar esses infernos na forma de função com os seguintes comandos:\n",
    "\n",
    "**sinh()**\n",
    "\n",
    "**cosh()**\n",
    "\n",
    "**tanh()**\n",
    "\n",
    "**arcsinh()**\n",
    "\n",
    "**arcconsh()**\n",
    "\n",
    "**arctanh()**"
   ]
  },
  {
   "cell_type": "code",
   "execution_count": 40,
   "id": "d71f13da",
   "metadata": {},
   "outputs": [
    {
     "name": "stdout",
     "output_type": "stream",
     "text": [
      "[0.10033535 0.20273255 0.54930614]\n"
     ]
    }
   ],
   "source": [
    "arr = np.array([0.1, 0.2, 0.5])\n",
    "\n",
    "x = np.arctanh(arr)\n",
    "\n",
    "print(x)"
   ]
  },
  {
   "cell_type": "markdown",
   "id": "0d843792",
   "metadata": {},
   "source": [
    "## Operações de conjunto\n",
    "\n",
    "Numpy tem suporte a conjuntos da matemática, usa o método **unique()**:"
   ]
  },
  {
   "cell_type": "code",
   "execution_count": 41,
   "id": "7374d3ff",
   "metadata": {},
   "outputs": [
    {
     "name": "stdout",
     "output_type": "stream",
     "text": [
      "[1 2 3 4 5 6 7]\n"
     ]
    }
   ],
   "source": [
    "arr = np.array([1, 1, 1, 2, 3, 4, 5, 5, 6, 7])\n",
    "\n",
    "x = np.unique(arr)\n",
    "\n",
    "print(x)"
   ]
  },
  {
   "cell_type": "markdown",
   "id": "0c4a68b8",
   "metadata": {},
   "source": [
    "### união\n",
    "Podemos fazer a união entre 2 conjuntos usando\n",
    "**union1d()**"
   ]
  },
  {
   "cell_type": "code",
   "execution_count": 42,
   "id": "6ac048eb",
   "metadata": {},
   "outputs": [
    {
     "name": "stdout",
     "output_type": "stream",
     "text": [
      "[1 2 3 4 5 6]\n"
     ]
    }
   ],
   "source": [
    "arr1 = np.array([1, 2, 3, 4])\n",
    "arr2 = np.array([3, 4, 5, 6])\n",
    "\n",
    "newarr = np.union1d(arr1, arr2)\n",
    "\n",
    "print(newarr)"
   ]
  },
  {
   "cell_type": "markdown",
   "id": "f5329ca6",
   "metadata": {},
   "source": [
    "### Interseção\n",
    "Podemos fazer a interseção entre 2 conjuntos entre 2 arrays usando **intersect1d()**\n",
    "\n",
    "O argumentos para assume_unique é um booleno para verificar se vai ou não transformar as entradas em conjuntos. True aumenta a velocidade da computação, você deve sempre colocar true quando está trabalhando com conjuntos"
   ]
  },
  {
   "cell_type": "code",
   "execution_count": 43,
   "id": "36a08aca",
   "metadata": {},
   "outputs": [
    {
     "name": "stdout",
     "output_type": "stream",
     "text": [
      "[3 4]\n"
     ]
    }
   ],
   "source": [
    "newarr = np.intersect1d(arr1, arr2, assume_unique=True)\n",
    "\n",
    "print(newarr)"
   ]
  },
  {
   "cell_type": "markdown",
   "id": "34491044",
   "metadata": {},
   "source": [
    "### Diferença\n",
    "Podemos obter todos os elementos que estão no primeiro e a não no segundo"
   ]
  },
  {
   "cell_type": "code",
   "execution_count": 44,
   "id": "85f56cb0",
   "metadata": {},
   "outputs": [
    {
     "name": "stdout",
     "output_type": "stream",
     "text": [
      "[1 2]\n"
     ]
    }
   ],
   "source": [
    "set1 = np.array([1, 2, 3, 4])\n",
    "set2 = np.array([3, 4, 5, 6])\n",
    "\n",
    "newarr = np.setdiff1d(set1, set2, assume_unique=True)\n",
    "\n",
    "print(newarr)"
   ]
  },
  {
   "cell_type": "markdown",
   "id": "31ae6e6f",
   "metadata": {},
   "source": [
    "## Diferença simétrica\n",
    "Seria mostrar todos os elementos que não estão em ambos os conjuntos"
   ]
  },
  {
   "cell_type": "code",
   "execution_count": 45,
   "id": "57f1fcbe",
   "metadata": {},
   "outputs": [
    {
     "name": "stdout",
     "output_type": "stream",
     "text": [
      "[1 2 5 6]\n"
     ]
    }
   ],
   "source": [
    "set1 = np.array([1, 2, 3, 4])\n",
    "set2 = np.array([3, 4, 5, 6])\n",
    "\n",
    "newarr = np.setxor1d(set1, set2, assume_unique=True)\n",
    "\n",
    "print(newarr)"
   ]
  },
  {
   "cell_type": "code",
   "execution_count": null,
   "id": "c68428a6",
   "metadata": {},
   "outputs": [],
   "source": []
  }
 ],
 "metadata": {
  "kernelspec": {
   "display_name": "Python 3",
   "language": "python",
   "name": "python3"
  },
  "language_info": {
   "codemirror_mode": {
    "name": "ipython",
    "version": 3
   },
   "file_extension": ".py",
   "mimetype": "text/x-python",
   "name": "python",
   "nbconvert_exporter": "python",
   "pygments_lexer": "ipython3",
   "version": "3.9.4"
  }
 },
 "nbformat": 4,
 "nbformat_minor": 5
}
