{
 "cells": [
  {
   "cell_type": "code",
   "execution_count": 1,
   "id": "11dbc6aa",
   "metadata": {},
   "outputs": [],
   "source": [
    "import tensorflow.keras as keras\n",
    "import numpy as np\n",
    "\n",
    "import pathlib\n",
    "import os"
   ]
  },
  {
   "cell_type": "markdown",
   "id": "b8a975d8",
   "metadata": {},
   "source": [
    "# Carregamento dos dados:"
   ]
  },
  {
   "cell_type": "code",
   "execution_count": 2,
   "id": "487dda54",
   "metadata": {},
   "outputs": [],
   "source": [
    "dataset_dir = pathlib.Path(os.getcwd())/\"emails\""
   ]
  },
  {
   "cell_type": "code",
   "execution_count": 3,
   "id": "9980ea37",
   "metadata": {},
   "outputs": [],
   "source": [
    "data = []\n",
    "for fn in (dataset_dir/\"spam\").iterdir():\n",
    "    with open(fn,'r', errors=\"ignore\") as file:\n",
    "        for line in file:\n",
    "            if line.startswith(\"Subject:\"):\n",
    "                subject = line[9:].strip()\n",
    "                data.append((subject, True))\n",
    "\n",
    "for fn in (dataset_dir/\"ham\").iterdir():\n",
    "    with open(fn,'r', errors=\"ignore\") as file:\n",
    "        for line in file:\n",
    "            if line.startswith(\"Subject:\"):\n",
    "                subject = line[9:].strip()\n",
    "                data.append((subject, False))    "
   ]
  },
  {
   "cell_type": "code",
   "execution_count": 4,
   "id": "b3cea7d0",
   "metadata": {},
   "outputs": [],
   "source": [
    "np.random.shuffle(data)"
   ]
  },
  {
   "cell_type": "code",
   "execution_count": 5,
   "id": "68efd61a",
   "metadata": {},
   "outputs": [],
   "source": [
    "subjects, is_spam = list(zip(*data))\n",
    "subjects = np.array(subjects)\n",
    "is_spam = np.array(is_spam)"
   ]
  },
  {
   "cell_type": "markdown",
   "id": "06b79e75",
   "metadata": {},
   "source": [
    "## Treinamento começa a partir de aqui:"
   ]
  },
  {
   "cell_type": "code",
   "execution_count": 6,
   "id": "2fd8eb40",
   "metadata": {},
   "outputs": [],
   "source": [
    "subjects_train = subjects[:3033]\n",
    "is_spam_train = is_spam[:3033]\n",
    "subjects_test = subjects[3033:]\n",
    "is_spam_test = is_spam[3033:]"
   ]
  },
  {
   "cell_type": "code",
   "execution_count": 7,
   "id": "fde4977a",
   "metadata": {},
   "outputs": [],
   "source": [
    "camada = keras.layers.TextVectorization(max_tokens=10000, output_mode='binary')\n",
    "camada.adapt(subjects)"
   ]
  },
  {
   "cell_type": "code",
   "execution_count": 8,
   "id": "925a4368",
   "metadata": {},
   "outputs": [],
   "source": [
    "model = keras.Sequential([\n",
    "        camada,\n",
    "        keras.layers.Dense(8),\n",
    "        keras.layers.Dense(8),\n",
    "        keras.layers.Dense(1)\n",
    "    ])"
   ]
  },
  {
   "cell_type": "code",
   "execution_count": 9,
   "id": "39fc47b5",
   "metadata": {},
   "outputs": [],
   "source": [
    "model.compile(\n",
    "    loss='binary_crossentropy',\n",
    "    optimizer='adam',\n",
    "    metrics=['binary_accuracy'])"
   ]
  },
  {
   "cell_type": "code",
   "execution_count": 10,
   "id": "55759fcb",
   "metadata": {},
   "outputs": [
    {
     "name": "stdout",
     "output_type": "stream",
     "text": [
      "Epoch 1/5\n",
      "76/76 [==============================] - 2s 11ms/step - loss: 0.5312 - binary_accuracy: 0.8524 - val_loss: 0.3026 - val_binary_accuracy: 0.8468\n",
      "Epoch 2/5\n",
      "76/76 [==============================] - 1s 7ms/step - loss: 0.2176 - binary_accuracy: 0.8792 - val_loss: 0.2949 - val_binary_accuracy: 0.8616\n",
      "Epoch 3/5\n",
      "76/76 [==============================] - 1s 7ms/step - loss: 0.1502 - binary_accuracy: 0.9184 - val_loss: 0.2491 - val_binary_accuracy: 0.8863\n",
      "Epoch 4/5\n",
      "76/76 [==============================] - 0s 6ms/step - loss: 0.1042 - binary_accuracy: 0.9571 - val_loss: 0.2300 - val_binary_accuracy: 0.8995\n",
      "Epoch 5/5\n",
      "76/76 [==============================] - 1s 7ms/step - loss: 0.0721 - binary_accuracy: 0.9815 - val_loss: 0.2221 - val_binary_accuracy: 0.9160\n"
     ]
    }
   ],
   "source": [
    "history = model.fit(subjects_train,is_spam_train, validation_split=.2, epochs=5)"
   ]
  },
  {
   "cell_type": "code",
   "execution_count": 11,
   "id": "b9010030",
   "metadata": {},
   "outputs": [
    {
     "name": "stdout",
     "output_type": "stream",
     "text": [
      "11/11 [==============================] - 0s 3ms/step - loss: 0.1705 - binary_accuracy: 0.9320\n",
      "loss: 0.17048262059688568\n",
      "accuracy: 0.9319526553153992\n"
     ]
    }
   ],
   "source": [
    "binary_loss, binary_accuracy = model.evaluate(subjects_test,is_spam_test)\n",
    "print(\"loss: %s\\naccuracy: %s\" % (binary_loss, binary_accuracy))"
   ]
  },
  {
   "cell_type": "code",
   "execution_count": 12,
   "id": "6bff7093",
   "metadata": {},
   "outputs": [
    {
     "data": {
      "text/plain": [
       "(False, False)"
      ]
     },
     "execution_count": 12,
     "metadata": {},
     "output_type": "execute_result"
    }
   ],
   "source": [
    "probs = model.predict(subjects_test[0:1])\n",
    "probs[0,0] > .5, is_spam_test[0]"
   ]
  },
  {
   "cell_type": "code",
   "execution_count": 13,
   "id": "d2a295a8",
   "metadata": {},
   "outputs": [
    {
     "name": "stdout",
     "output_type": "stream",
     "text": [
      "INFO:tensorflow:Assets written to: C:\\Users\\mello\\OneDrive\\Documentos\\faculdade\\ciencia de dados\\notebooks\\brincadeiras\\spam\\assets\n"
     ]
    }
   ],
   "source": [
    "model.save(dataset_dir.parent)"
   ]
  },
  {
   "cell_type": "code",
   "execution_count": 44,
   "id": "96063940",
   "metadata": {},
   "outputs": [
    {
     "data": {
      "text/plain": [
       "('[ILUG-Social] re: Guaranteed to lose 10-12 lbs in 30 days 10.148', True)"
      ]
     },
     "execution_count": 44,
     "metadata": {},
     "output_type": "execute_result"
    }
   ],
   "source": [
    "i+=1\n",
    "subjects_test[i], is_spam_test[i]"
   ]
  },
  {
   "cell_type": "code",
   "execution_count": 49,
   "id": "719d0d57",
   "metadata": {},
   "outputs": [
    {
     "data": {
      "text/plain": [
       "'[ILUG-Social] re: Guaranteed to lose 10-12 lbs in 30 days 10.148'"
      ]
     },
     "execution_count": 49,
     "metadata": {},
     "output_type": "execute_result"
    }
   ],
   "source": [
    "subjects_test[i]"
   ]
  },
  {
   "cell_type": "code",
   "execution_count": 48,
   "id": "3440c647",
   "metadata": {},
   "outputs": [
    {
     "data": {
      "text/plain": [
       "(True, True)"
      ]
     },
     "execution_count": 48,
     "metadata": {},
     "output_type": "execute_result"
    }
   ],
   "source": [
    "probs = model.predict([str(subjects_test[i])])\n",
    "probs[0,0] > .5, is_spam_test[i]"
   ]
  },
  {
   "cell_type": "code",
   "execution_count": null,
   "id": "1d405e98",
   "metadata": {},
   "outputs": [],
   "source": []
  }
 ],
 "metadata": {
  "kernelspec": {
   "display_name": "Python 3",
   "language": "python",
   "name": "python3"
  },
  "language_info": {
   "codemirror_mode": {
    "name": "ipython",
    "version": 3
   },
   "file_extension": ".py",
   "mimetype": "text/x-python",
   "name": "python",
   "nbconvert_exporter": "python",
   "pygments_lexer": "ipython3",
   "version": "3.9.4"
  }
 },
 "nbformat": 4,
 "nbformat_minor": 5
}
