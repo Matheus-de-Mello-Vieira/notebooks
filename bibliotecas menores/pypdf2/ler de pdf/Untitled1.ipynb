{
 "cells": [
  {
   "cell_type": "code",
   "execution_count": 16,
   "id": "2237c8d2",
   "metadata": {},
   "outputs": [],
   "source": [
    "import io\n",
    "import csv"
   ]
  },
  {
   "cell_type": "code",
   "execution_count": 14,
   "id": "73a505e8",
   "metadata": {},
   "outputs": [],
   "source": [
    "palavras\n",
    "with open(\"stopwords_old.txt\", \"r\", encoding=\"UTF-8\") as file:\n",
    "    palavras = [line.strip() for line in file]"
   ]
  },
  {
   "cell_type": "code",
   "execution_count": 18,
   "id": "28b883e0",
   "metadata": {},
   "outputs": [],
   "source": [
    "with open('stopwords.txt', 'w', newline='') as file:\n",
    "    file.write(\" \".join(palavras))"
   ]
  },
  {
   "cell_type": "code",
   "execution_count": null,
   "id": "17822df1",
   "metadata": {},
   "outputs": [],
   "source": []
  }
 ],
 "metadata": {
  "kernelspec": {
   "display_name": "Python 3",
   "language": "python",
   "name": "python3"
  },
  "language_info": {
   "codemirror_mode": {
    "name": "ipython",
    "version": 3
   },
   "file_extension": ".py",
   "mimetype": "text/x-python",
   "name": "python",
   "nbconvert_exporter": "python",
   "pygments_lexer": "ipython3",
   "version": "3.9.4"
  }
 },
 "nbformat": 4,
 "nbformat_minor": 5
}
